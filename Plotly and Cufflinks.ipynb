{
 "cells": [
  {
   "cell_type": "code",
   "execution_count": 1,
   "id": "42eaf024",
   "metadata": {},
   "outputs": [
    {
     "name": "stdout",
     "output_type": "stream",
     "text": [
      "Requirement already satisfied: plotly in c:\\users\\hi\\anaconda3\\lib\\site-packages (5.9.0)\n",
      "Requirement already satisfied: tenacity>=6.2.0 in c:\\users\\hi\\anaconda3\\lib\\site-packages (from plotly) (8.2.2)\n"
     ]
    }
   ],
   "source": [
    "!pip install plotly"
   ]
  },
  {
   "cell_type": "code",
   "execution_count": 23,
   "id": "5d492db0",
   "metadata": {},
   "outputs": [],
   "source": [
    "import pandas as pd\n",
    "import numpy as np\n",
    "%matplotlib inline"
   ]
  },
  {
   "cell_type": "code",
   "execution_count": 3,
   "id": "86e78452",
   "metadata": {},
   "outputs": [],
   "source": [
    "from plotly import __version__"
   ]
  },
  {
   "cell_type": "code",
   "execution_count": 4,
   "id": "8c7b7954",
   "metadata": {},
   "outputs": [
    {
     "name": "stdout",
     "output_type": "stream",
     "text": [
      "5.9.0\n"
     ]
    }
   ],
   "source": [
    "print(__version__)"
   ]
  },
  {
   "cell_type": "code",
   "execution_count": null,
   "id": "a0541e0d",
   "metadata": {},
   "outputs": [],
   "source": [
    "!pip install cufflinks"
   ]
  },
  {
   "cell_type": "code",
   "execution_count": 15,
   "id": "ad6e0008",
   "metadata": {},
   "outputs": [],
   "source": [
    "import cufflinks as cf"
   ]
  },
  {
   "cell_type": "code",
   "execution_count": 16,
   "id": "fe8c896c",
   "metadata": {},
   "outputs": [],
   "source": [
    "from plotly.offline import download_plotlyjs,init_notebook_mode,plot,iplot"
   ]
  },
  {
   "cell_type": "code",
   "execution_count": 17,
   "id": "acf6d81d",
   "metadata": {},
   "outputs": [
    {
     "data": {
      "text/html": [
       "        <script type=\"text/javascript\">\n",
       "        window.PlotlyConfig = {MathJaxConfig: 'local'};\n",
       "        if (window.MathJax && window.MathJax.Hub && window.MathJax.Hub.Config) {window.MathJax.Hub.Config({SVG: {font: \"STIX-Web\"}});}\n",
       "        if (typeof require !== 'undefined') {\n",
       "        require.undef(\"plotly\");\n",
       "        requirejs.config({\n",
       "            paths: {\n",
       "                'plotly': ['https://cdn.plot.ly/plotly-2.12.1.min']\n",
       "            }\n",
       "        });\n",
       "        require(['plotly'], function(Plotly) {\n",
       "            window._Plotly = Plotly;\n",
       "        });\n",
       "        }\n",
       "        </script>\n",
       "        "
      ]
     },
     "metadata": {},
     "output_type": "display_data"
    }
   ],
   "source": [
    "init_notebook_mode(connected=True)"
   ]
  },
  {
   "cell_type": "code",
   "execution_count": 18,
   "id": "25571cdd",
   "metadata": {},
   "outputs": [
    {
     "data": {
      "text/html": [
       "        <script type=\"text/javascript\">\n",
       "        window.PlotlyConfig = {MathJaxConfig: 'local'};\n",
       "        if (window.MathJax && window.MathJax.Hub && window.MathJax.Hub.Config) {window.MathJax.Hub.Config({SVG: {font: \"STIX-Web\"}});}\n",
       "        if (typeof require !== 'undefined') {\n",
       "        require.undef(\"plotly\");\n",
       "        requirejs.config({\n",
       "            paths: {\n",
       "                'plotly': ['https://cdn.plot.ly/plotly-2.12.1.min']\n",
       "            }\n",
       "        });\n",
       "        require(['plotly'], function(Plotly) {\n",
       "            window._Plotly = Plotly;\n",
       "        });\n",
       "        }\n",
       "        </script>\n",
       "        "
      ]
     },
     "metadata": {},
     "output_type": "display_data"
    }
   ],
   "source": [
    "cf.go_offline()"
   ]
  },
  {
   "cell_type": "code",
   "execution_count": 19,
   "id": "042eaa5e",
   "metadata": {},
   "outputs": [],
   "source": [
    "df = pd.DataFrame(np.random.randn(100,4),columns='A B C D'.split())"
   ]
  },
  {
   "cell_type": "code",
   "execution_count": 20,
   "id": "36ece99e",
   "metadata": {},
   "outputs": [
    {
     "data": {
      "text/html": [
       "<div>\n",
       "<style scoped>\n",
       "    .dataframe tbody tr th:only-of-type {\n",
       "        vertical-align: middle;\n",
       "    }\n",
       "\n",
       "    .dataframe tbody tr th {\n",
       "        vertical-align: top;\n",
       "    }\n",
       "\n",
       "    .dataframe thead th {\n",
       "        text-align: right;\n",
       "    }\n",
       "</style>\n",
       "<table border=\"1\" class=\"dataframe\">\n",
       "  <thead>\n",
       "    <tr style=\"text-align: right;\">\n",
       "      <th></th>\n",
       "      <th>A</th>\n",
       "      <th>B</th>\n",
       "      <th>C</th>\n",
       "      <th>D</th>\n",
       "    </tr>\n",
       "  </thead>\n",
       "  <tbody>\n",
       "    <tr>\n",
       "      <th>0</th>\n",
       "      <td>-0.574794</td>\n",
       "      <td>-0.419157</td>\n",
       "      <td>-0.480163</td>\n",
       "      <td>-1.133799</td>\n",
       "    </tr>\n",
       "    <tr>\n",
       "      <th>1</th>\n",
       "      <td>0.223529</td>\n",
       "      <td>0.219303</td>\n",
       "      <td>1.194161</td>\n",
       "      <td>-1.903788</td>\n",
       "    </tr>\n",
       "    <tr>\n",
       "      <th>2</th>\n",
       "      <td>-0.141602</td>\n",
       "      <td>-0.761079</td>\n",
       "      <td>-1.338069</td>\n",
       "      <td>0.302327</td>\n",
       "    </tr>\n",
       "    <tr>\n",
       "      <th>3</th>\n",
       "      <td>1.183000</td>\n",
       "      <td>-0.691886</td>\n",
       "      <td>0.849686</td>\n",
       "      <td>-0.407462</td>\n",
       "    </tr>\n",
       "    <tr>\n",
       "      <th>4</th>\n",
       "      <td>-0.804011</td>\n",
       "      <td>-0.235595</td>\n",
       "      <td>0.103340</td>\n",
       "      <td>-1.584315</td>\n",
       "    </tr>\n",
       "  </tbody>\n",
       "</table>\n",
       "</div>"
      ],
      "text/plain": [
       "          A         B         C         D\n",
       "0 -0.574794 -0.419157 -0.480163 -1.133799\n",
       "1  0.223529  0.219303  1.194161 -1.903788\n",
       "2 -0.141602 -0.761079 -1.338069  0.302327\n",
       "3  1.183000 -0.691886  0.849686 -0.407462\n",
       "4 -0.804011 -0.235595  0.103340 -1.584315"
      ]
     },
     "execution_count": 20,
     "metadata": {},
     "output_type": "execute_result"
    }
   ],
   "source": [
    "df.head()"
   ]
  },
  {
   "cell_type": "code",
   "execution_count": 21,
   "id": "7202ded9",
   "metadata": {},
   "outputs": [],
   "source": [
    "df2=pd.DataFrame({'Category':['A','B','C'],'Values':[23,55,24]})"
   ]
  },
  {
   "cell_type": "code",
   "execution_count": 22,
   "id": "da562476",
   "metadata": {},
   "outputs": [
    {
     "data": {
      "text/html": [
       "<div>\n",
       "<style scoped>\n",
       "    .dataframe tbody tr th:only-of-type {\n",
       "        vertical-align: middle;\n",
       "    }\n",
       "\n",
       "    .dataframe tbody tr th {\n",
       "        vertical-align: top;\n",
       "    }\n",
       "\n",
       "    .dataframe thead th {\n",
       "        text-align: right;\n",
       "    }\n",
       "</style>\n",
       "<table border=\"1\" class=\"dataframe\">\n",
       "  <thead>\n",
       "    <tr style=\"text-align: right;\">\n",
       "      <th></th>\n",
       "      <th>Category</th>\n",
       "      <th>Values</th>\n",
       "    </tr>\n",
       "  </thead>\n",
       "  <tbody>\n",
       "    <tr>\n",
       "      <th>0</th>\n",
       "      <td>A</td>\n",
       "      <td>23</td>\n",
       "    </tr>\n",
       "    <tr>\n",
       "      <th>1</th>\n",
       "      <td>B</td>\n",
       "      <td>55</td>\n",
       "    </tr>\n",
       "    <tr>\n",
       "      <th>2</th>\n",
       "      <td>C</td>\n",
       "      <td>24</td>\n",
       "    </tr>\n",
       "  </tbody>\n",
       "</table>\n",
       "</div>"
      ],
      "text/plain": [
       "  Category  Values\n",
       "0        A      23\n",
       "1        B      55\n",
       "2        C      24"
      ]
     },
     "execution_count": 22,
     "metadata": {},
     "output_type": "execute_result"
    }
   ],
   "source": [
    "df2"
   ]
  },
  {
   "cell_type": "code",
   "execution_count": 24,
   "id": "e18af5f6",
   "metadata": {},
   "outputs": [
    {
     "data": {
      "text/plain": [
       "<Axes: >"
      ]
     },
     "execution_count": 24,
     "metadata": {},
     "output_type": "execute_result"
    },
    {
     "data": {
      "image/png": "[encoded data removed]",
      "text/plain": [
       "<Figure size 640x480 with 1 Axes>"
      ]
     },
     "metadata": {},
     "output_type": "display_data"
    }
   ],
   "source": [
    "df.plot()"
   ]
  },
  {
   "cell_type": "code",
   "execution_count": 25,
   "id": "484e98d9",
   "metadata": {},
   "outputs": [
    {
     "data": {
      "application/vnd.plotly.v1+json": {
       "config": {
        "linkText": "Export to plot.ly",
        "plotlyServerURL": "https://plot.ly",
        "showLink": true
       },
       "data": [
        {
         "line": {
          "color": "rgba(255, 153, 51, 1.0)",
          "dash": "solid",
          "shape": "linear",
          "width": 1.3
         },
         "mode": "lines",
         "name": "A",
         "text": "",
         "type": "scatter",
         "x": [
          0,
          1,
          2,
          3,
          4,
          5,
          6,
          7,
          8,
          9,
          10,
          11,
          12,
          13,
          14,
          15,
          16,
          17,
          18,
          19,
          20,
          21,
          22,
          23,
          24,
          25,
          26,
          27,
          28,
          29,
          30,
          31,
          32,
          33,
          34,
          35,
          36,
          37,
          38,
          39,
          40,
          41,
          42,
          43,
          44,
          45,
          46,
          47,
          48,
          49,
          50,
          51,
          52,
          53,
          54,
          55,
          56,
          57,
          58,
          59,
          60,
          61,
          62,
          63,
          64,
          65,
          66,
          67,
          68,
          69,
          70,
          71,
          72,
          73,
          74,
          75,
          76,
          77,
          78,
          79,
          80,
          81,
          82,
          83,
          84,
          85,
          86,
          87,
          88,
          89,
          90,
          91,
          92,
          93,
          94,
          95,
          96,
          97,
          98,
          99
         ],
         "y": [
          -0.574793679676617,
          0.2235288385812236,
          -0.1416022574544621,
          1.1830002741236476,
          -0.8040111862595727,
          0.5603981980480017,
          1.0802000604334197,
          0.03958333136709857,
          -0.3365396825358062,
          0.2832793352592316,
          0.05165284183696506,
          -1.5912603445652507,
          -0.4027067517849839,
          -0.8441710552955158,
          -1.5018814837552625,
          1.0623705523783178,
          -0.6269685582361755,
          -1.0877374783470943,
          -0.04920277457916217,
          -0.49476631278334876,
          -1.102273038947587,
          -0.3613339588765766,
          0.3029725474183342,
          -0.09750304564376079,
          0.5675651772580712,
          -0.20703757151798488,
          -0.38179254271357244,
          -0.011627047618306317,
          -0.033123321889765134,
          -0.2184206692864132,
          1.1088956825411647,
          0.7847064418904279,
          1.154230440045405,
          -0.18556857223927084,
          -0.12891590454086874,
          0.18790915439432815,
          0.36290388657239836,
          -1.1000323979187554,
          -1.0644192730628328,
          -0.6689050042491553,
          -1.0017148503324511,
          -0.7147505434964523,
          0.5793842268683049,
          -1.4795338070213433,
          -0.03839282830179687,
          0.6997666972174688,
          -1.2835392333483941,
          0.16475761642484815,
          1.6889573202477632,
          -1.592941071461217,
          -0.7387106985235867,
          0.39701245028797894,
          1.1840215900235371,
          0.20939687790234918,
          -2.310159082515787,
          1.2943143805175952,
          -0.2945990330477354,
          2.015857216673764,
          -0.36968920526721943,
          -0.06482501623263177,
          0.4902842916770235,
          0.08187970865813975,
          0.3201306863347647,
          -1.6580600975761564,
          -1.2041955464842804,
          0.38152574274387535,
          -0.9331789825369936,
          0.2483112308845951,
          -0.3513764390898863,
          -0.8734172442961183,
          -0.3895631575428738,
          -0.2931594876428916,
          0.25127681287774367,
          1.987790683269706,
          0.18787640248927523,
          0.7319941857482984,
          0.996051203371639,
          0.8023664354900774,
          0.37326917205338095,
          0.8082704119906713,
          -0.5670128605070655,
          1.2604557560821879,
          0.9295006804240427,
          -0.07436204245143835,
          -0.4698506128050334,
          0.5747740770991207,
          -1.015928906236001,
          -0.5064827491974023,
          0.42557873681748015,
          -0.15760594251567855,
          0.4924666238139324,
          0.8094009000999365,
          -0.1978814224350476,
          -0.9850274970501465,
          -0.5429440339023727,
          -0.8677581004904326,
          -1.62694506157608,
          -0.8824812217412265,
          2.9646802953652753,
          -0.696782614544617
         ]
        },
        {
         "line": {
          "color": "rgba(55, 128, 191, 1.0)",
          "dash": "solid",
          "shape": "linear",
          "width": 1.3
         },
         "mode": "lines",
         "name": "B",
         "text": "",
         "type": "scatter",
         "x": [
          0,
          1,
          2,
          3,
          4,
          5,
          6,
          7,
          8,
          9,
          10,
          11,
          12,
          13,
          14,
          15,
          16,
          17,
          18,
          19,
          20,
          21,
          22,
          23,
          24,
          25,
          26,
          27,
          28,
          29,
          30,
          31,
          32,
          33,
          34,
          35,
          36,
          37,
          38,
          39,
          40,
          41,
          42,
          43,
          44,
          45,
          46,
          47,
          48,
          49,
          50,
          51,
          52,
          53,
          54,
          55,
          56,
          57,
          58,
          59,
          60,
          61,
          62,
          63,
          64,
          65,
          66,
          67,
          68,
          69,
          70,
          71,
          72,
          73,
          74,
          75,
          76,
          77,
          78,
          79,
          80,
          81,
          82,
          83,
          84,
          85,
          86,
          87,
          88,
          89,
          90,
          91,
          92,
          93,
          94,
          95,
          96,
          97,
          98,
          99
         ],
         "y": [
          -0.41915746807640575,
          0.21930284828863833,
          -0.7610786434798053,
          -0.6918857200279099,
          -0.23559520316772184,
          -1.2675224451030764,
          -0.22288244488492134,
          0.17429733433401837,
          0.0762757519961098,
          -0.3669689691943707,
          1.0792882971785136,
          0.316899074242141,
          -0.04825893187424639,
          -0.5031500680545504,
          0.5846281200331179,
          -1.4076111659646628,
          0.5581580114679637,
          1.2342661817807972,
          -0.5801147930644517,
          0.5143095543016232,
          -0.27470375167671157,
          -0.1249604554829138,
          2.3015801416719883,
          -0.535673037666255,
          -0.9488349123871038,
          0.1184136493800736,
          -2.244461938831052,
          0.9570427917571265,
          -0.18916260601522641,
          -1.0530967941715776,
          0.22265169983192862,
          -0.34870062182493944,
          0.6016738643875863,
          0.562336915782038,
          -1.100990900729741,
          -1.5283468920818604,
          -1.7668647881221484,
          2.8053527903280013,
          -0.1168796213679174,
          -0.7618809661819511,
          -0.9924293911398685,
          -1.7543917460481346,
          -1.048507764949999,
          -0.6041298392882526,
          0.3801558907719418,
          0.4987419230265229,
          0.49810135830298774,
          0.8992442763001017,
          -0.7948584682214112,
          -0.9693612383002331,
          -0.7683440322511006,
          -1.1567649588940925,
          -0.13581935921923502,
          -0.4927083253539496,
          2.149222707304997,
          0.6275181422432665,
          -1.6651445093832844,
          -1.3104279518077564,
          1.520364724213475,
          -0.12263253089711454,
          0.6572572845188864,
          0.299844523824874,
          -0.07969916291529638,
          -2.948310749926441,
          1.0787648942634418,
          1.7309641277355667,
          -1.5483492384865831,
          -0.499821151016283,
          -1.6012102957857004,
          2.5136712612056855,
          0.6952546373626506,
          0.08481218221600291,
          0.46490293792485105,
          0.3675165437441855,
          -0.28065282385165585,
          0.4154825216383825,
          -1.5945417410773326,
          0.5759472764756738,
          1.2635498556299758,
          1.0352587860163123,
          0.962991845155968,
          -1.707832481488226,
          0.17583501851322028,
          1.1730434958755838,
          -0.0678384623372376,
          -0.5034339124885754,
          -0.8815189873404996,
          0.8761013064586037,
          -1.084830865142056,
          -1.497082382471439,
          -0.3569731365498273,
          1.1628995081849474,
          -0.9601044911548299,
          0.012437650238996368,
          -0.4577740907173309,
          -1.662251490679833,
          -1.4490992602462307,
          -0.006264011864668245,
          0.5454332382613313,
          -0.17002321014787986
         ]
        },
        {
         "line": {
          "color": "rgba(50, 171, 96, 1.0)",
          "dash": "solid",
          "shape": "linear",
          "width": 1.3
         },
         "mode": "lines",
         "name": "C",
         "text": "",
         "type": "scatter",
         "x": [
          0,
          1,
          2,
          3,
          4,
          5,
          6,
          7,
          8,
          9,
          10,
          11,
          12,
          13,
          14,
          15,
          16,
          17,
          18,
          19,
          20,
          21,
          22,
          23,
          24,
          25,
          26,
          27,
          28,
          29,
          30,
          31,
          32,
          33,
          34,
          35,
          36,
          37,
          38,
          39,
          40,
          41,
          42,
          43,
          44,
          45,
          46,
          47,
          48,
          49,
          50,
          51,
          52,
          53,
          54,
          55,
          56,
          57,
          58,
          59,
          60,
          61,
          62,
          63,
          64,
          65,
          66,
          67,
          68,
          69,
          70,
          71,
          72,
          73,
          74,
          75,
          76,
          77,
          78,
          79,
          80,
          81,
          82,
          83,
          84,
          85,
          86,
          87,
          88,
          89,
          90,
          91,
          92,
          93,
          94,
          95,
          96,
          97,
          98,
          99
         ],
         "y": [
          -0.48016284539502374,
          1.1941605361276901,
          -1.3380686110014535,
          0.8496861440859929,
          0.10334025222810121,
          0.7790112926214989,
          -0.25519496667126196,
          0.7448633294729624,
          -0.9389275694022537,
          0.2764703818344103,
          1.5713410191540675,
          0.3587339287842905,
          1.8116652673425804,
          1.4610153237282706,
          -0.9234220929229902,
          -0.2795245320327592,
          0.7362839857792025,
          1.0845506658755941,
          -0.7906309801555522,
          0.4468688107353693,
          -0.8400481673749199,
          0.04730791167675447,
          1.0396829715764322,
          -0.38223015348999884,
          1.9329538808246907,
          0.027406820560686565,
          -0.9542493897915989,
          0.717558215382116,
          1.9341434756361537,
          0.43887850959477054,
          0.07574701766796874,
          0.9679467756373532,
          0.9689157316846471,
          0.09040407397946856,
          0.4045345471689706,
          0.044547063139071336,
          -0.33444597184645375,
          -0.4419718157832957,
          0.3312939420688317,
          -0.1524025207787877,
          -0.19648525315850116,
          -0.5071523525857391,
          0.8618592610172023,
          0.21474845376831098,
          2.935932373444087,
          1.1211018040818186,
          0.6675576999264661,
          0.830331411868125,
          0.240287564604421,
          0.5782227959390825,
          0.16610348327036337,
          -0.26067373918919545,
          0.6165706632965757,
          0.0493626176748902,
          -1.2454061538687209,
          -0.1806332881845276,
          -1.6521010995404608,
          -0.2896078963510364,
          -1.9432936991169414,
          -0.6329370516468182,
          1.0105085267150509,
          -0.881714693906353,
          -0.9127704462300918,
          0.9856352429468458,
          -1.3029147076374328,
          1.3936741696904487,
          0.3126403417594799,
          -0.7623593645280816,
          0.25128509196769805,
          1.9888169863810583,
          0.31160465621257316,
          0.8479283170183334,
          1.2577969625203822,
          -1.0065286821284707,
          -0.4114585098505856,
          2.038553967065002,
          -0.936034670530762,
          -0.9908496290461823,
          0.297913075307045,
          -0.37315866074811077,
          -0.01557169709267786,
          0.27526345665672447,
          0.6967772652465146,
          1.2695054487265522,
          -0.007433950506855492,
          0.5722235809228652,
          0.22726668691856367,
          -0.779330186388833,
          -0.8819788804909642,
          -0.5674558131847244,
          -0.24063577925786742,
          1.5682549612766834,
          -0.4805470717554532,
          -1.1617799681168157,
          1.0015601020611766,
          0.111234494442405,
          0.9165336920023927,
          0.2495057250384035,
          -0.7404737672600636,
          -0.5081339496921857
         ]
        },
        {
         "line": {
          "color": "rgba(128, 0, 128, 1.0)",
          "dash": "solid",
          "shape": "linear",
          "width": 1.3
         },
         "mode": "lines",
         "name": "D",
         "text": "",
         "type": "scatter",
         "x": [
          0,
          1,
          2,
          3,
          4,
          5,
          6,
          7,
          8,
          9,
          10,
          11,
          12,
          13,
          14,
          15,
          16,
          17,
          18,
          19,
          20,
          21,
          22,
          23,
          24,
          25,
          26,
          27,
          28,
          29,
          30,
          31,
          32,
          33,
          34,
          35,
          36,
          37,
          38,
          39,
          40,
          41,
          42,
          43,
          44,
          45,
          46,
          47,
          48,
          49,
          50,
          51,
          52,
          53,
          54,
          55,
          56,
          57,
          58,
          59,
          60,
          61,
          62,
          63,
          64,
          65,
          66,
          67,
          68,
          69,
          70,
          71,
          72,
          73,
          74,
          75,
          76,
          77,
          78,
          79,
          80,
          81,
          82,
          83,
          84,
          85,
          86,
          87,
          88,
          89,
          90,
          91,
          92,
          93,
          94,
          95,
          96,
          97,
          98,
          99
         ],
         "y": [
          -1.1337989406811757,
          -1.9037877897374023,
          0.30232715095296525,
          -0.40746226064004226,
          -1.5843154622723592,
          0.0800001859112766,
          -1.0829534344624214,
          0.008929249820520537,
          0.17634301380882428,
          0.445923832278604,
          -0.5823559308867564,
          1.6787505305326424,
          1.5340576963578176,
          -0.4491259385069614,
          1.307584154739609,
          0.2802398428430633,
          0.8474559671923972,
          0.7243209501100196,
          0.852764174731704,
          0.7226099468487862,
          0.5073516462575364,
          0.31106025362326667,
          -0.7129766442167984,
          -1.8069662076212525,
          0.3899853755554775,
          1.1660113027000951,
          0.45780343027982806,
          -0.3850328593614212,
          -0.0584470187637657,
          -0.13063147921756002,
          0.2664076117902947,
          0.20129707681783135,
          0.26737710495402645,
          -0.00959464933565873,
          0.12086419327473921,
          0.36881552072922735,
          0.10435898893488083,
          1.399413241303069,
          -0.22554807536656415,
          -0.8068825210323299,
          -0.9216778635808496,
          0.010503303933990954,
          0.6520392127941269,
          1.2512419640101824,
          -0.5478703373479984,
          -0.3698831497368436,
          -0.794536878636538,
          1.569258025214523,
          0.07069802261660471,
          -0.984745870976086,
          0.04351361870881149,
          -0.9704163251529452,
          -0.9526280363084101,
          -0.7655813354099952,
          -0.7997514856589535,
          1.3939297951590652,
          1.5047267482345097,
          -0.05164022122595844,
          0.06079243380350069,
          -0.47960299877331186,
          0.4697426372510259,
          0.9664432216423561,
          -0.046938559627280725,
          1.5112235714071913,
          0.122122238044967,
          0.20198921099504166,
          -0.934288188251349,
          1.3808375368889114,
          -1.1660744319754683,
          0.5115255528576121,
          -0.7520042291245231,
          0.9328845756711185,
          -0.8861392243088931,
          -0.9014566300826681,
          0.7114607304778792,
          -0.31588421404758654,
          0.25778259899410694,
          -0.5176775437125997,
          2.5696830566488185,
          -0.6449836664633718,
          1.125122036774418,
          0.7893768671719273,
          0.7981961199353671,
          -0.6820999132258828,
          -1.740245288265015,
          0.07782938388943877,
          0.5936274472034748,
          -0.38884924439066243,
          -1.6531802539316356,
          -2.2206605114972278,
          -0.7734133828296601,
          0.2314445578782591,
          -1.6288222633053324,
          -0.3711326459237821,
          0.20195348087364953,
          -0.5302803833887427,
          1.803247830270659,
          -0.3235850641740168,
          0.5483828304193087,
          -0.14187033097751506
         ]
        }
       ],
       "layout": {
        "legend": {
         "bgcolor": "#F5F6F9",
         "font": {
          "color": "#4D5663"
         }
        },
        "paper_bgcolor": "#F5F6F9",
        "plot_bgcolor": "#F5F6F9",
        "template": {
         "data": {
          "bar": [
           {
            "error_x": {
             "color": "#2a3f5f"
            },
            "error_y": {
             "color": "#2a3f5f"
            },
            "marker": {
             "line": {
              "color": "#E5ECF6",
              "width": 0.5
             },
             "pattern": {
              "fillmode": "overlay",
              "size": 10,
              "solidity": 0.2
             }
            },
            "type": "bar"
           }
          ],
          "barpolar": [
           {
            "marker": {
             "line": {
              "color": "#E5ECF6",
              "width": 0.5
             },
             "pattern": {
              "fillmode": "overlay",
              "size": 10,
              "solidity": 0.2
             }
            },
            "type": "barpolar"
           }
          ],
          "carpet": [
           {
            "aaxis": {
             "endlinecolor": "#2a3f5f",
             "gridcolor": "white",
             "linecolor": "white",
             "minorgridcolor": "white",
             "startlinecolor": "#2a3f5f"
            },
            "baxis": {
             "endlinecolor": "#2a3f5f",
             "gridcolor": "white",
             "linecolor": "white",
             "minorgridcolor": "white",
             "startlinecolor": "#2a3f5f"
            },
            "type": "carpet"
           }
          ],
          "choropleth": [
           {
            "colorbar": {
             "outlinewidth": 0,
             "ticks": ""
            },
            "type": "choropleth"
           }
          ],
          "contour": [
           {
            "colorbar": {
             "outlinewidth": 0,
             "ticks": ""
            },
            "colorscale": [
             [
              0,
              "#0d0887"
             ],
             [
              0.1111111111111111,
              "#46039f"
             ],
             [
              0.2222222222222222,
              "#7201a8"
             ],
             [
              0.3333333333333333,
              "#9c179e"
             ],
             [
              0.4444444444444444,
              "#bd3786"
             ],
             [
              0.5555555555555556,
              "#d8576b"
             ],
             [
              0.6666666666666666,
              "#ed7953"
             ],
             [
              0.7777777777777778,
              "#fb9f3a"
             ],
             [
              0.8888888888888888,
              "#fdca26"
             ],
             [
              1,
              "#f0f921"
             ]
            ],
            "type": "contour"
           }
          ],
          "contourcarpet": [
           {
            "colorbar": {
             "outlinewidth": 0,
             "ticks": ""
            },
            "type": "contourcarpet"
           }
          ],
          "heatmap": [
           {
            "colorbar": {
             "outlinewidth": 0,
             "ticks": ""
            },
            "colorscale": [
             [
              0,
              "#0d0887"
             ],
             [
              0.1111111111111111,
              "#46039f"
             ],
             [
              0.2222222222222222,
              "#7201a8"
             ],
             [
              0.3333333333333333,
              "#9c179e"
             ],
             [
              0.4444444444444444,
              "#bd3786"
             ],
             [
              0.5555555555555556,
              "#d8576b"
             ],
             [
              0.6666666666666666,
              "#ed7953"
             ],
             [
              0.7777777777777778,
              "#fb9f3a"
             ],
             [
              0.8888888888888888,
              "#fdca26"
             ],
             [
              1,
              "#f0f921"
             ]
            ],
            "type": "heatmap"
           }
          ],
          "heatmapgl": [
           {
            "colorbar": {
             "outlinewidth": 0,
             "ticks": ""
            },
            "colorscale": [
             [
              0,
              "#0d0887"
             ],
             [
              0.1111111111111111,
              "#46039f"
             ],
             [
              0.2222222222222222,
              "#7201a8"
             ],
             [
              0.3333333333333333,
              "#9c179e"
             ],
             [
              0.4444444444444444,
              "#bd3786"
             ],
             [
              0.5555555555555556,
              "#d8576b"
             ],
             [
              0.6666666666666666,
              "#ed7953"
             ],
             [
              0.7777777777777778,
              "#fb9f3a"
             ],
             [
              0.8888888888888888,
              "#fdca26"
             ],
             [
              1,
              "#f0f921"
             ]
            ],
            "type": "heatmapgl"
           }
          ],
          "histogram": [
           {
            "marker": {
             "pattern": {
              "fillmode": "overlay",
              "size": 10,
              "solidity": 0.2
             }
            },
            "type": "histogram"
           }
          ],
          "histogram2d": [
           {
            "colorbar": {
             "outlinewidth": 0,
             "ticks": ""
            },
            "colorscale": [
             [
              0,
              "#0d0887"
             ],
             [
              0.1111111111111111,
              "#46039f"
             ],
             [
              0.2222222222222222,
              "#7201a8"
             ],
             [
              0.3333333333333333,
              "#9c179e"
             ],
             [
              0.4444444444444444,
              "#bd3786"
             ],
             [
              0.5555555555555556,
              "#d8576b"
             ],
             [
              0.6666666666666666,
              "#ed7953"
             ],
             [
              0.7777777777777778,
              "#fb9f3a"
             ],
             [
              0.8888888888888888,
              "#fdca26"
             ],
             [
              1,
              "#f0f921"
             ]
            ],
            "type": "histogram2d"
           }
          ],
          "histogram2dcontour": [
           {
            "colorbar": {
             "outlinewidth": 0,
             "ticks": ""
            },
            "colorscale": [
             [
              0,
              "#0d0887"
             ],
             [
              0.1111111111111111,
              "#46039f"
             ],
             [
              0.2222222222222222,
              "#7201a8"
             ],
             [
              0.3333333333333333,
              "#9c179e"
             ],
             [
              0.4444444444444444,
              "#bd3786"
             ],
             [
              0.5555555555555556,
              "#d8576b"
             ],
             [
              0.6666666666666666,
              "#ed7953"
             ],
             [
              0.7777777777777778,
              "#fb9f3a"
             ],
             [
              0.8888888888888888,
              "#fdca26"
             ],
             [
              1,
              "#f0f921"
             ]
            ],
            "type": "histogram2dcontour"
           }
          ],
          "mesh3d": [
           {
            "colorbar": {
             "outlinewidth": 0,
             "ticks": ""
            },
            "type": "mesh3d"
           }
          ],
          "parcoords": [
           {
            "line": {
             "colorbar": {
              "outlinewidth": 0,
              "ticks": ""
             }
            },
            "type": "parcoords"
           }
          ],
          "pie": [
           {
            "automargin": true,
            "type": "pie"
           }
          ],
          "scatter": [
           {
            "fillpattern": {
             "fillmode": "overlay",
             "size": 10,
             "solidity": 0.2
            },
            "type": "scatter"
           }
          ],
          "scatter3d": [
           {
            "line": {
             "colorbar": {
              "outlinewidth": 0,
              "ticks": ""
             }
            },
            "marker": {
             "colorbar": {
              "outlinewidth": 0,
              "ticks": ""
             }
            },
            "type": "scatter3d"
           }
          ],
          "scattercarpet": [
           {
            "marker": {
             "colorbar": {
              "outlinewidth": 0,
              "ticks": ""
             }
            },
            "type": "scattercarpet"
           }
          ],
          "scattergeo": [
           {
            "marker": {
             "colorbar": {
              "outlinewidth": 0,
              "ticks": ""
             }
            },
            "type": "scattergeo"
           }
          ],
          "scattergl": [
           {
            "marker": {
             "colorbar": {
              "outlinewidth": 0,
              "ticks": ""
             }
            },
            "type": "scattergl"
           }
          ],
          "scattermapbox": [
           {
            "marker": {
             "colorbar": {
              "outlinewidth": 0,
              "ticks": ""
             }
            },
            "type": "scattermapbox"
           }
          ],
          "scatterpolar": [
           {
            "marker": {
             "colorbar": {
              "outlinewidth": 0,
              "ticks": ""
             }
            },
            "type": "scatterpolar"
           }
          ],
          "scatterpolargl": [
           {
            "marker": {
             "colorbar": {
              "outlinewidth": 0,
              "ticks": ""
             }
            },
            "type": "scatterpolargl"
           }
          ],
          "scatterternary": [
           {
            "marker": {
             "colorbar": {
              "outlinewidth": 0,
              "ticks": ""
             }
            },
            "type": "scatterternary"
           }
          ],
          "surface": [
           {
            "colorbar": {
             "outlinewidth": 0,
             "ticks": ""
            },
            "colorscale": [
             [
              0,
              "#0d0887"
             ],
             [
              0.1111111111111111,
              "#46039f"
             ],
             [
              0.2222222222222222,
              "#7201a8"
             ],
             [
              0.3333333333333333,
              "#9c179e"
             ],
             [
              0.4444444444444444,
              "#bd3786"
             ],
             [
              0.5555555555555556,
              "#d8576b"
             ],
             [
              0.6666666666666666,
              "#ed7953"
             ],
             [
              0.7777777777777778,
              "#fb9f3a"
             ],
             [
              0.8888888888888888,
              "#fdca26"
             ],
             [
              1,
              "#f0f921"
             ]
            ],
            "type": "surface"
           }
          ],
          "table": [
           {
            "cells": {
             "fill": {
              "color": "#EBF0F8"
             },
             "line": {
              "color": "white"
             }
            },
            "header": {
             "fill": {
              "color": "#C8D4E3"
             },
             "line": {
              "color": "white"
             }
            },
            "type": "table"
           }
          ]
         },
         "layout": {
          "annotationdefaults": {
           "arrowcolor": "#2a3f5f",
           "arrowhead": 0,
           "arrowwidth": 1
          },
          "autotypenumbers": "strict",
          "coloraxis": {
           "colorbar": {
            "outlinewidth": 0,
            "ticks": ""
           }
          },
          "colorscale": {
           "diverging": [
            [
             0,
             "#8e0152"
            ],
            [
             0.1,
             "#c51b7d"
            ],
            [
             0.2,
             "#de77ae"
            ],
            [
             0.3,
             "#f1b6da"
            ],
            [
             0.4,
             "#fde0ef"
            ],
            [
             0.5,
             "#f7f7f7"
            ],
            [
             0.6,
             "#e6f5d0"
            ],
            [
             0.7,
             "#b8e186"
            ],
            [
             0.8,
             "#7fbc41"
            ],
            [
             0.9,
             "#4d9221"
            ],
            [
             1,
             "#276419"
            ]
           ],
           "sequential": [
            [
             0,
             "#0d0887"
            ],
            [
             0.1111111111111111,
             "#46039f"
            ],
            [
             0.2222222222222222,
             "#7201a8"
            ],
            [
             0.3333333333333333,
             "#9c179e"
            ],
            [
             0.4444444444444444,
             "#bd3786"
            ],
            [
             0.5555555555555556,
             "#d8576b"
            ],
            [
             0.6666666666666666,
             "#ed7953"
            ],
            [
             0.7777777777777778,
             "#fb9f3a"
            ],
            [
             0.8888888888888888,
             "#fdca26"
            ],
            [
             1,
             "#f0f921"
            ]
           ],
           "sequentialminus": [
            [
             0,
             "#0d0887"
            ],
            [
             0.1111111111111111,
             "#46039f"
            ],
            [
             0.2222222222222222,
             "#7201a8"
            ],
            [
             0.3333333333333333,
             "#9c179e"
            ],
            [
             0.4444444444444444,
             "#bd3786"
            ],
            [
             0.5555555555555556,
             "#d8576b"
            ],
            [
             0.6666666666666666,
             "#ed7953"
            ],
            [
             0.7777777777777778,
             "#fb9f3a"
            ],
            [
             0.8888888888888888,
             "#fdca26"
            ],
            [
             1,
             "#f0f921"
            ]
           ]
          },
          "colorway": [
           "#636efa",
           "#EF553B",
           "#00cc96",
           "#ab63fa",
           "#FFA15A",
           "#19d3f3",
           "#FF6692",
           "#B6E880",
           "#FF97FF",
           "#FECB52"
          ],
          "font": {
           "color": "#2a3f5f"
          },
          "geo": {
           "bgcolor": "white",
           "lakecolor": "white",
           "landcolor": "#E5ECF6",
           "showlakes": true,
           "showland": true,
           "subunitcolor": "white"
          },
          "hoverlabel": {
           "align": "left"
          },
          "hovermode": "closest",
          "mapbox": {
           "style": "light"
          },
          "paper_bgcolor": "white",
          "plot_bgcolor": "#E5ECF6",
          "polar": {
           "angularaxis": {
            "gridcolor": "white",
            "linecolor": "white",
            "ticks": ""
           },
           "bgcolor": "#E5ECF6",
           "radialaxis": {
            "gridcolor": "white",
            "linecolor": "white",
            "ticks": ""
           }
          },
          "scene": {
           "xaxis": {
            "backgroundcolor": "#E5ECF6",
            "gridcolor": "white",
            "gridwidth": 2,
            "linecolor": "white",
            "showbackground": true,
            "ticks": "",
            "zerolinecolor": "white"
           },
           "yaxis": {
            "backgroundcolor": "#E5ECF6",
            "gridcolor": "white",
            "gridwidth": 2,
            "linecolor": "white",
            "showbackground": true,
            "ticks": "",
            "zerolinecolor": "white"
           },
           "zaxis": {
            "backgroundcolor": "#E5ECF6",
            "gridcolor": "white",
            "gridwidth": 2,
            "linecolor": "white",
            "showbackground": true,
            "ticks": "",
            "zerolinecolor": "white"
           }
          },
          "shapedefaults": {
           "line": {
            "color": "#2a3f5f"
           }
          },
          "ternary": {
           "aaxis": {
            "gridcolor": "white",
            "linecolor": "white",
            "ticks": ""
           },
           "baxis": {
            "gridcolor": "white",
            "linecolor": "white",
            "ticks": ""
           },
           "bgcolor": "#E5ECF6",
           "caxis": {
            "gridcolor": "white",
            "linecolor": "white",
            "ticks": ""
           }
          },
          "title": {
           "x": 0.05
          },
          "xaxis": {
           "automargin": true,
           "gridcolor": "white",
           "linecolor": "white",
           "ticks": "",
           "title": {
            "standoff": 15
           },
           "zerolinecolor": "white",
           "zerolinewidth": 2
          },
          "yaxis": {
           "automargin": true,
           "gridcolor": "white",
           "linecolor": "white",
           "ticks": "",
           "title": {
            "standoff": 15
           },
           "zerolinecolor": "white",
           "zerolinewidth": 2
          }
         }
        },
        "title": {
         "font": {
          "color": "#4D5663"
         }
        },
        "xaxis": {
         "gridcolor": "#E1E5ED",
         "showgrid": true,
         "tickfont": {
          "color": "#4D5663"
         },
         "title": {
          "font": {
           "color": "#4D5663"
          },
          "text": ""
         },
         "zerolinecolor": "#E1E5ED"
        },
        "yaxis": {
         "gridcolor": "#E1E5ED",
         "showgrid": true,
         "tickfont": {
          "color": "#4D5663"
         },
         "title": {
          "font": {
           "color": "#4D5663"
          },
          "text": ""
         },
         "zerolinecolor": "#E1E5ED"
        }
       }
      },
      "text/html": [
       "<div>                            <div id=\"81be89f3-5e60-426f-b622-d76395358e8a\" class=\"plotly-graph-div\" style=\"height:525px; width:100%;\"></div>            <script type=\"text/javascript\">                require([\"plotly\"], function(Plotly) {                    window.PLOTLYENV=window.PLOTLYENV || {};\n",
       "                    window.PLOTLYENV.BASE_URL='https://plot.ly';                                    if (document.getElementById(\"81be89f3-5e60-426f-b622-d76395358e8a\")) {                    Plotly.newPlot(                        \"81be89f3-5e60-426f-b622-d76395358e8a\",                        [{\"line\":{\"color\":\"rgba(255, 153, 51, 1.0)\",\"dash\":\"solid\",\"shape\":\"linear\",\"width\":1.3},\"mode\":\"lines\",\"name\":\"A\",\"text\":\"\",\"x\":[0,1,2,3,4,5,6,7,8,9,10,11,12,13,14,15,16,17,18,19,20,21,22,23,24,25,26,27,28,29,30,31,32,33,34,35,36,37,38,39,40,41,42,43,44,45,46,47,48,49,50,51,52,53,54,55,56,57,58,59,60,61,62,63,64,65,66,67,68,69,70,71,72,73,74,75,76,77,78,79,80,81,82,83,84,85,86,87,88,89,90,91,92,93,94,95,96,97,98,99],\"y\":[-0.574793679676617,0.2235288385812236,-0.1416022574544621,1.1830002741236476,-0.8040111862595727,0.5603981980480017,1.0802000604334197,0.03958333136709857,-0.3365396825358062,0.2832793352592316,0.05165284183696506,-1.5912603445652507,-0.4027067517849839,-0.8441710552955158,-1.5018814837552625,1.0623705523783178,-0.6269685582361755,-1.0877374783470943,-0.04920277457916217,-0.49476631278334876,-1.102273038947587,-0.3613339588765766,0.3029725474183342,-0.09750304564376079,0.5675651772580712,-0.20703757151798488,-0.38179254271357244,-0.011627047618306317,-0.033123321889765134,-0.2184206692864132,1.1088956825411647,0.7847064418904279,1.154230440045405,-0.18556857223927084,-0.12891590454086874,0.18790915439432815,0.36290388657239836,-1.1000323979187554,-1.0644192730628328,-0.6689050042491553,-1.0017148503324511,-0.7147505434964523,0.5793842268683049,-1.4795338070213433,-0.03839282830179687,0.6997666972174688,-1.2835392333483941,0.16475761642484815,1.6889573202477632,-1.592941071461217,-0.7387106985235867,0.39701245028797894,1.1840215900235371,0.20939687790234918,-2.310159082515787,1.2943143805175952,-0.2945990330477354,2.015857216673764,-0.36968920526721943,-0.06482501623263177,0.4902842916770235,0.08187970865813975,0.3201306863347647,-1.6580600975761564,-1.2041955464842804,0.38152574274387535,-0.9331789825369936,0.2483112308845951,-0.3513764390898863,-0.8734172442961183,-0.3895631575428738,-0.2931594876428916,0.25127681287774367,1.987790683269706,0.18787640248927523,0.7319941857482984,0.996051203371639,0.8023664354900774,0.37326917205338095,0.8082704119906713,-0.5670128605070655,1.2604557560821879,0.9295006804240427,-0.07436204245143835,-0.4698506128050334,0.5747740770991207,-1.015928906236001,-0.5064827491974023,0.42557873681748015,-0.15760594251567855,0.4924666238139324,0.8094009000999365,-0.1978814224350476,-0.9850274970501465,-0.5429440339023727,-0.8677581004904326,-1.62694506157608,-0.8824812217412265,2.9646802953652753,-0.696782614544617],\"type\":\"scatter\"},{\"line\":{\"color\":\"rgba(55, 128, 191, 1.0)\",\"dash\":\"solid\",\"shape\":\"linear\",\"width\":1.3},\"mode\":\"lines\",\"name\":\"B\",\"text\":\"\",\"x\":[0,1,2,3,4,5,6,7,8,9,10,11,12,13,14,15,16,17,18,19,20,21,22,23,24,25,26,27,28,29,30,31,32,33,34,35,36,37,38,39,40,41,42,43,44,45,46,47,48,49,50,51,52,53,54,55,56,57,58,59,60,61,62,63,64,65,66,67,68,69,70,71,72,73,74,75,76,77,78,79,80,81,82,83,84,85,86,87,88,89,90,91,92,93,94,95,96,97,98,99],\"y\":[-0.41915746807640575,0.21930284828863833,-0.7610786434798053,-0.6918857200279099,-0.23559520316772184,-1.2675224451030764,-0.22288244488492134,0.17429733433401837,0.0762757519961098,-0.3669689691943707,1.0792882971785136,0.316899074242141,-0.04825893187424639,-0.5031500680545504,0.5846281200331179,-1.4076111659646628,0.5581580114679637,1.2342661817807972,-0.5801147930644517,0.5143095543016232,-0.27470375167671157,-0.1249604554829138,2.3015801416719883,-0.535673037666255,-0.9488349123871038,0.1184136493800736,-2.244461938831052,0.9570427917571265,-0.18916260601522641,-1.0530967941715776,0.22265169983192862,-0.34870062182493944,0.6016738643875863,0.562336915782038,-1.100990900729741,-1.5283468920818604,-1.7668647881221484,2.8053527903280013,-0.1168796213679174,-0.7618809661819511,-0.9924293911398685,-1.7543917460481346,-1.048507764949999,-0.6041298392882526,0.3801558907719418,0.4987419230265229,0.49810135830298774,0.8992442763001017,-0.7948584682214112,-0.9693612383002331,-0.7683440322511006,-1.1567649588940925,-0.13581935921923502,-0.4927083253539496,2.149222707304997,0.6275181422432665,-1.6651445093832844,-1.3104279518077564,1.520364724213475,-0.12263253089711454,0.6572572845188864,0.299844523824874,-0.07969916291529638,-2.948310749926441,1.0787648942634418,1.7309641277355667,-1.5483492384865831,-0.499821151016283,-1.6012102957857004,2.5136712612056855,0.6952546373626506,0.08481218221600291,0.46490293792485105,0.3675165437441855,-0.28065282385165585,0.4154825216383825,-1.5945417410773326,0.5759472764756738,1.2635498556299758,1.0352587860163123,0.962991845155968,-1.707832481488226,0.17583501851322028,1.1730434958755838,-0.0678384623372376,-0.5034339124885754,-0.8815189873404996,0.8761013064586037,-1.084830865142056,-1.497082382471439,-0.3569731365498273,1.1628995081849474,-0.9601044911548299,0.012437650238996368,-0.4577740907173309,-1.662251490679833,-1.4490992602462307,-0.006264011864668245,0.5454332382613313,-0.17002321014787986],\"type\":\"scatter\"},{\"line\":{\"color\":\"rgba(50, 171, 96, 1.0)\",\"dash\":\"solid\",\"shape\":\"linear\",\"width\":1.3},\"mode\":\"lines\",\"name\":\"C\",\"text\":\"\",\"x\":[0,1,2,3,4,5,6,7,8,9,10,11,12,13,14,15,16,17,18,19,20,21,22,23,24,25,26,27,28,29,30,31,32,33,34,35,36,37,38,39,40,41,42,43,44,45,46,47,48,49,50,51,52,53,54,55,56,57,58,59,60,61,62,63,64,65,66,67,68,69,70,71,72,73,74,75,76,77,78,79,80,81,82,83,84,85,86,87,88,89,90,91,92,93,94,95,96,97,98,99],\"y\":[-0.48016284539502374,1.1941605361276901,-1.3380686110014535,0.8496861440859929,0.10334025222810121,0.7790112926214989,-0.25519496667126196,0.7448633294729624,-0.9389275694022537,0.2764703818344103,1.5713410191540675,0.3587339287842905,1.8116652673425804,1.4610153237282706,-0.9234220929229902,-0.2795245320327592,0.7362839857792025,1.0845506658755941,-0.7906309801555522,0.4468688107353693,-0.8400481673749199,0.04730791167675447,1.0396829715764322,-0.38223015348999884,1.9329538808246907,0.027406820560686565,-0.9542493897915989,0.717558215382116,1.9341434756361537,0.43887850959477054,0.07574701766796874,0.9679467756373532,0.9689157316846471,0.09040407397946856,0.4045345471689706,0.044547063139071336,-0.33444597184645375,-0.4419718157832957,0.3312939420688317,-0.1524025207787877,-0.19648525315850116,-0.5071523525857391,0.8618592610172023,0.21474845376831098,2.935932373444087,1.1211018040818186,0.6675576999264661,0.830331411868125,0.240287564604421,0.5782227959390825,0.16610348327036337,-0.26067373918919545,0.6165706632965757,0.0493626176748902,-1.2454061538687209,-0.1806332881845276,-1.6521010995404608,-0.2896078963510364,-1.9432936991169414,-0.6329370516468182,1.0105085267150509,-0.881714693906353,-0.9127704462300918,0.9856352429468458,-1.3029147076374328,1.3936741696904487,0.3126403417594799,-0.7623593645280816,0.25128509196769805,1.9888169863810583,0.31160465621257316,0.8479283170183334,1.2577969625203822,-1.0065286821284707,-0.4114585098505856,2.038553967065002,-0.936034670530762,-0.9908496290461823,0.297913075307045,-0.37315866074811077,-0.01557169709267786,0.27526345665672447,0.6967772652465146,1.2695054487265522,-0.007433950506855492,0.5722235809228652,0.22726668691856367,-0.779330186388833,-0.8819788804909642,-0.5674558131847244,-0.24063577925786742,1.5682549612766834,-0.4805470717554532,-1.1617799681168157,1.0015601020611766,0.111234494442405,0.9165336920023927,0.2495057250384035,-0.7404737672600636,-0.5081339496921857],\"type\":\"scatter\"},{\"line\":{\"color\":\"rgba(128, 0, 128, 1.0)\",\"dash\":\"solid\",\"shape\":\"linear\",\"width\":1.3},\"mode\":\"lines\",\"name\":\"D\",\"text\":\"\",\"x\":[0,1,2,3,4,5,6,7,8,9,10,11,12,13,14,15,16,17,18,19,20,21,22,23,24,25,26,27,28,29,30,31,32,33,34,35,36,37,38,39,40,41,42,43,44,45,46,47,48,49,50,51,52,53,54,55,56,57,58,59,60,61,62,63,64,65,66,67,68,69,70,71,72,73,74,75,76,77,78,79,80,81,82,83,84,85,86,87,88,89,90,91,92,93,94,95,96,97,98,99],\"y\":[-1.1337989406811757,-1.9037877897374023,0.30232715095296525,-0.40746226064004226,-1.5843154622723592,0.0800001859112766,-1.0829534344624214,0.008929249820520537,0.17634301380882428,0.445923832278604,-0.5823559308867564,1.6787505305326424,1.5340576963578176,-0.4491259385069614,1.307584154739609,0.2802398428430633,0.8474559671923972,0.7243209501100196,0.852764174731704,0.7226099468487862,0.5073516462575364,0.31106025362326667,-0.7129766442167984,-1.8069662076212525,0.3899853755554775,1.1660113027000951,0.45780343027982806,-0.3850328593614212,-0.0584470187637657,-0.13063147921756002,0.2664076117902947,0.20129707681783135,0.26737710495402645,-0.00959464933565873,0.12086419327473921,0.36881552072922735,0.10435898893488083,1.399413241303069,-0.22554807536656415,-0.8068825210323299,-0.9216778635808496,0.010503303933990954,0.6520392127941269,1.2512419640101824,-0.5478703373479984,-0.3698831497368436,-0.794536878636538,1.569258025214523,0.07069802261660471,-0.984745870976086,0.04351361870881149,-0.9704163251529452,-0.9526280363084101,-0.7655813354099952,-0.7997514856589535,1.3939297951590652,1.5047267482345097,-0.05164022122595844,0.06079243380350069,-0.47960299877331186,0.4697426372510259,0.9664432216423561,-0.046938559627280725,1.5112235714071913,0.122122238044967,0.20198921099504166,-0.934288188251349,1.3808375368889114,-1.1660744319754683,0.5115255528576121,-0.7520042291245231,0.9328845756711185,-0.8861392243088931,-0.9014566300826681,0.7114607304778792,-0.31588421404758654,0.25778259899410694,-0.5176775437125997,2.5696830566488185,-0.6449836664633718,1.125122036774418,0.7893768671719273,0.7981961199353671,-0.6820999132258828,-1.740245288265015,0.07782938388943877,0.5936274472034748,-0.38884924439066243,-1.6531802539316356,-2.2206605114972278,-0.7734133828296601,0.2314445578782591,-1.6288222633053324,-0.3711326459237821,0.20195348087364953,-0.5302803833887427,1.803247830270659,-0.3235850641740168,0.5483828304193087,-0.14187033097751506],\"type\":\"scatter\"}],                        {\"legend\":{\"bgcolor\":\"#F5F6F9\",\"font\":{\"color\":\"#4D5663\"}},\"paper_bgcolor\":\"#F5F6F9\",\"plot_bgcolor\":\"#F5F6F9\",\"template\":{\"data\":{\"barpolar\":[{\"marker\":{\"line\":{\"color\":\"#E5ECF6\",\"width\":0.5},\"pattern\":{\"fillmode\":\"overlay\",\"size\":10,\"solidity\":0.2}},\"type\":\"barpolar\"}],\"bar\":[{\"error_x\":{\"color\":\"#2a3f5f\"},\"error_y\":{\"color\":\"#2a3f5f\"},\"marker\":{\"line\":{\"color\":\"#E5ECF6\",\"width\":0.5},\"pattern\":{\"fillmode\":\"overlay\",\"size\":10,\"solidity\":0.2}},\"type\":\"bar\"}],\"carpet\":[{\"aaxis\":{\"endlinecolor\":\"#2a3f5f\",\"gridcolor\":\"white\",\"linecolor\":\"white\",\"minorgridcolor\":\"white\",\"startlinecolor\":\"#2a3f5f\"},\"baxis\":{\"endlinecolor\":\"#2a3f5f\",\"gridcolor\":\"white\",\"linecolor\":\"white\",\"minorgridcolor\":\"white\",\"startlinecolor\":\"#2a3f5f\"},\"type\":\"carpet\"}],\"choropleth\":[{\"colorbar\":{\"outlinewidth\":0,\"ticks\":\"\"},\"type\":\"choropleth\"}],\"contourcarpet\":[{\"colorbar\":{\"outlinewidth\":0,\"ticks\":\"\"},\"type\":\"contourcarpet\"}],\"contour\":[{\"colorbar\":{\"outlinewidth\":0,\"ticks\":\"\"},\"colorscale\":[[0.0,\"#0d0887\"],[0.1111111111111111,\"#46039f\"],[0.2222222222222222,\"#7201a8\"],[0.3333333333333333,\"#9c179e\"],[0.4444444444444444,\"#bd3786\"],[0.5555555555555556,\"#d8576b\"],[0.6666666666666666,\"#ed7953\"],[0.7777777777777778,\"#fb9f3a\"],[0.8888888888888888,\"#fdca26\"],[1.0,\"#f0f921\"]],\"type\":\"contour\"}],\"heatmapgl\":[{\"colorbar\":{\"outlinewidth\":0,\"ticks\":\"\"},\"colorscale\":[[0.0,\"#0d0887\"],[0.1111111111111111,\"#46039f\"],[0.2222222222222222,\"#7201a8\"],[0.3333333333333333,\"#9c179e\"],[0.4444444444444444,\"#bd3786\"],[0.5555555555555556,\"#d8576b\"],[0.6666666666666666,\"#ed7953\"],[0.7777777777777778,\"#fb9f3a\"],[0.8888888888888888,\"#fdca26\"],[1.0,\"#f0f921\"]],\"type\":\"heatmapgl\"}],\"heatmap\":[{\"colorbar\":{\"outlinewidth\":0,\"ticks\":\"\"},\"colorscale\":[[0.0,\"#0d0887\"],[0.1111111111111111,\"#46039f\"],[0.2222222222222222,\"#7201a8\"],[0.3333333333333333,\"#9c179e\"],[0.4444444444444444,\"#bd3786\"],[0.5555555555555556,\"#d8576b\"],[0.6666666666666666,\"#ed7953\"],[0.7777777777777778,\"#fb9f3a\"],[0.8888888888888888,\"#fdca26\"],[1.0,\"#f0f921\"]],\"type\":\"heatmap\"}],\"histogram2dcontour\":[{\"colorbar\":{\"outlinewidth\":0,\"ticks\":\"\"},\"colorscale\":[[0.0,\"#0d0887\"],[0.1111111111111111,\"#46039f\"],[0.2222222222222222,\"#7201a8\"],[0.3333333333333333,\"#9c179e\"],[0.4444444444444444,\"#bd3786\"],[0.5555555555555556,\"#d8576b\"],[0.6666666666666666,\"#ed7953\"],[0.7777777777777778,\"#fb9f3a\"],[0.8888888888888888,\"#fdca26\"],[1.0,\"#f0f921\"]],\"type\":\"histogram2dcontour\"}],\"histogram2d\":[{\"colorbar\":{\"outlinewidth\":0,\"ticks\":\"\"},\"colorscale\":[[0.0,\"#0d0887\"],[0.1111111111111111,\"#46039f\"],[0.2222222222222222,\"#7201a8\"],[0.3333333333333333,\"#9c179e\"],[0.4444444444444444,\"#bd3786\"],[0.5555555555555556,\"#d8576b\"],[0.6666666666666666,\"#ed7953\"],[0.7777777777777778,\"#fb9f3a\"],[0.8888888888888888,\"#fdca26\"],[1.0,\"#f0f921\"]],\"type\":\"histogram2d\"}],\"histogram\":[{\"marker\":{\"pattern\":{\"fillmode\":\"overlay\",\"size\":10,\"solidity\":0.2}},\"type\":\"histogram\"}],\"mesh3d\":[{\"colorbar\":{\"outlinewidth\":0,\"ticks\":\"\"},\"type\":\"mesh3d\"}],\"parcoords\":[{\"line\":{\"colorbar\":{\"outlinewidth\":0,\"ticks\":\"\"}},\"type\":\"parcoords\"}],\"pie\":[{\"automargin\":true,\"type\":\"pie\"}],\"scatter3d\":[{\"line\":{\"colorbar\":{\"outlinewidth\":0,\"ticks\":\"\"}},\"marker\":{\"colorbar\":{\"outlinewidth\":0,\"ticks\":\"\"}},\"type\":\"scatter3d\"}],\"scattercarpet\":[{\"marker\":{\"colorbar\":{\"outlinewidth\":0,\"ticks\":\"\"}},\"type\":\"scattercarpet\"}],\"scattergeo\":[{\"marker\":{\"colorbar\":{\"outlinewidth\":0,\"ticks\":\"\"}},\"type\":\"scattergeo\"}],\"scattergl\":[{\"marker\":{\"colorbar\":{\"outlinewidth\":0,\"ticks\":\"\"}},\"type\":\"scattergl\"}],\"scattermapbox\":[{\"marker\":{\"colorbar\":{\"outlinewidth\":0,\"ticks\":\"\"}},\"type\":\"scattermapbox\"}],\"scatterpolargl\":[{\"marker\":{\"colorbar\":{\"outlinewidth\":0,\"ticks\":\"\"}},\"type\":\"scatterpolargl\"}],\"scatterpolar\":[{\"marker\":{\"colorbar\":{\"outlinewidth\":0,\"ticks\":\"\"}},\"type\":\"scatterpolar\"}],\"scatter\":[{\"fillpattern\":{\"fillmode\":\"overlay\",\"size\":10,\"solidity\":0.2},\"type\":\"scatter\"}],\"scatterternary\":[{\"marker\":{\"colorbar\":{\"outlinewidth\":0,\"ticks\":\"\"}},\"type\":\"scatterternary\"}],\"surface\":[{\"colorbar\":{\"outlinewidth\":0,\"ticks\":\"\"},\"colorscale\":[[0.0,\"#0d0887\"],[0.1111111111111111,\"#46039f\"],[0.2222222222222222,\"#7201a8\"],[0.3333333333333333,\"#9c179e\"],[0.4444444444444444,\"#bd3786\"],[0.5555555555555556,\"#d8576b\"],[0.6666666666666666,\"#ed7953\"],[0.7777777777777778,\"#fb9f3a\"],[0.8888888888888888,\"#fdca26\"],[1.0,\"#f0f921\"]],\"type\":\"surface\"}],\"table\":[{\"cells\":{\"fill\":{\"color\":\"#EBF0F8\"},\"line\":{\"color\":\"white\"}},\"header\":{\"fill\":{\"color\":\"#C8D4E3\"},\"line\":{\"color\":\"white\"}},\"type\":\"table\"}]},\"layout\":{\"annotationdefaults\":{\"arrowcolor\":\"#2a3f5f\",\"arrowhead\":0,\"arrowwidth\":1},\"autotypenumbers\":\"strict\",\"coloraxis\":{\"colorbar\":{\"outlinewidth\":0,\"ticks\":\"\"}},\"colorscale\":{\"diverging\":[[0,\"#8e0152\"],[0.1,\"#c51b7d\"],[0.2,\"#de77ae\"],[0.3,\"#f1b6da\"],[0.4,\"#fde0ef\"],[0.5,\"#f7f7f7\"],[0.6,\"#e6f5d0\"],[0.7,\"#b8e186\"],[0.8,\"#7fbc41\"],[0.9,\"#4d9221\"],[1,\"#276419\"]],\"sequential\":[[0.0,\"#0d0887\"],[0.1111111111111111,\"#46039f\"],[0.2222222222222222,\"#7201a8\"],[0.3333333333333333,\"#9c179e\"],[0.4444444444444444,\"#bd3786\"],[0.5555555555555556,\"#d8576b\"],[0.6666666666666666,\"#ed7953\"],[0.7777777777777778,\"#fb9f3a\"],[0.8888888888888888,\"#fdca26\"],[1.0,\"#f0f921\"]],\"sequentialminus\":[[0.0,\"#0d0887\"],[0.1111111111111111,\"#46039f\"],[0.2222222222222222,\"#7201a8\"],[0.3333333333333333,\"#9c179e\"],[0.4444444444444444,\"#bd3786\"],[0.5555555555555556,\"#d8576b\"],[0.6666666666666666,\"#ed7953\"],[0.7777777777777778,\"#fb9f3a\"],[0.8888888888888888,\"#fdca26\"],[1.0,\"#f0f921\"]]},\"colorway\":[\"#636efa\",\"#EF553B\",\"#00cc96\",\"#ab63fa\",\"#FFA15A\",\"#19d3f3\",\"#FF6692\",\"#B6E880\",\"#FF97FF\",\"#FECB52\"],\"font\":{\"color\":\"#2a3f5f\"},\"geo\":{\"bgcolor\":\"white\",\"lakecolor\":\"white\",\"landcolor\":\"#E5ECF6\",\"showlakes\":true,\"showland\":true,\"subunitcolor\":\"white\"},\"hoverlabel\":{\"align\":\"left\"},\"hovermode\":\"closest\",\"mapbox\":{\"style\":\"light\"},\"paper_bgcolor\":\"white\",\"plot_bgcolor\":\"#E5ECF6\",\"polar\":{\"angularaxis\":{\"gridcolor\":\"white\",\"linecolor\":\"white\",\"ticks\":\"\"},\"bgcolor\":\"#E5ECF6\",\"radialaxis\":{\"gridcolor\":\"white\",\"linecolor\":\"white\",\"ticks\":\"\"}},\"scene\":{\"xaxis\":{\"backgroundcolor\":\"#E5ECF6\",\"gridcolor\":\"white\",\"gridwidth\":2,\"linecolor\":\"white\",\"showbackground\":true,\"ticks\":\"\",\"zerolinecolor\":\"white\"},\"yaxis\":{\"backgroundcolor\":\"#E5ECF6\",\"gridcolor\":\"white\",\"gridwidth\":2,\"linecolor\":\"white\",\"showbackground\":true,\"ticks\":\"\",\"zerolinecolor\":\"white\"},\"zaxis\":{\"backgroundcolor\":\"#E5ECF6\",\"gridcolor\":\"white\",\"gridwidth\":2,\"linecolor\":\"white\",\"showbackground\":true,\"ticks\":\"\",\"zerolinecolor\":\"white\"}},\"shapedefaults\":{\"line\":{\"color\":\"#2a3f5f\"}},\"ternary\":{\"aaxis\":{\"gridcolor\":\"white\",\"linecolor\":\"white\",\"ticks\":\"\"},\"baxis\":{\"gridcolor\":\"white\",\"linecolor\":\"white\",\"ticks\":\"\"},\"bgcolor\":\"#E5ECF6\",\"caxis\":{\"gridcolor\":\"white\",\"linecolor\":\"white\",\"ticks\":\"\"}},\"title\":{\"x\":0.05},\"xaxis\":{\"automargin\":true,\"gridcolor\":\"white\",\"linecolor\":\"white\",\"ticks\":\"\",\"title\":{\"standoff\":15},\"zerolinecolor\":\"white\",\"zerolinewidth\":2},\"yaxis\":{\"automargin\":true,\"gridcolor\":\"white\",\"linecolor\":\"white\",\"ticks\":\"\",\"title\":{\"standoff\":15},\"zerolinecolor\":\"white\",\"zerolinewidth\":2}}},\"title\":{\"font\":{\"color\":\"#4D5663\"}},\"xaxis\":{\"gridcolor\":\"#E1E5ED\",\"showgrid\":true,\"tickfont\":{\"color\":\"#4D5663\"},\"title\":{\"font\":{\"color\":\"#4D5663\"},\"text\":\"\"},\"zerolinecolor\":\"#E1E5ED\"},\"yaxis\":{\"gridcolor\":\"#E1E5ED\",\"showgrid\":true,\"tickfont\":{\"color\":\"#4D5663\"},\"title\":{\"font\":{\"color\":\"#4D5663\"},\"text\":\"\"},\"zerolinecolor\":\"#E1E5ED\"}},                        {\"showLink\": true, \"linkText\": \"Export to plot.ly\", \"plotlyServerURL\": \"https://plot.ly\", \"responsive\": true}                    ).then(function(){\n",
       "                            \n",
       "var gd = document.getElementById('81be89f3-5e60-426f-b622-d76395358e8a');\n",
       "var x = new MutationObserver(function (mutations, observer) {{\n",
       "        var display = window.getComputedStyle(gd).display;\n",
       "        if (!display || display === 'none') {{\n",
       "            console.log([gd, 'removed!']);\n",
       "            Plotly.purge(gd);\n",
       "            observer.disconnect();\n",
       "        }}\n",
       "}});\n",
       "\n",
       "// Listen for the removal of the full notebook cells\n",
       "var notebookContainer = gd.closest('#notebook-container');\n",
       "if (notebookContainer) {{\n",
       "    x.observe(notebookContainer, {childList: true});\n",
       "}}\n",
       "\n",
       "// Listen for the clearing of the current output cell\n",
       "var outputEl = gd.closest('.output');\n",
       "if (outputEl) {{\n",
       "    x.observe(outputEl, {childList: true});\n",
       "}}\n",
       "\n",
       "                        })                };                });            </script>        </div>"
      ]
     },
     "metadata": {},
     "output_type": "display_data"
    }
   ],
   "source": [
    "df.iplot()"
   ]
  },
  {
   "cell_type": "code",
   "execution_count": 28,
   "id": "ff5c3995",
   "metadata": {},
   "outputs": [
    {
     "data": {
      "application/vnd.plotly.v1+json": {
       "config": {
        "linkText": "Export to plot.ly",
        "plotlyServerURL": "https://plot.ly",
        "showLink": true
       },
       "data": [
        {
         "line": {
          "color": "rgba(255, 153, 51, 1.0)",
          "dash": "solid",
          "shape": "linear",
          "width": 1.3
         },
         "marker": {
          "size": 12,
          "symbol": "circle"
         },
         "mode": "markers",
         "name": "B",
         "text": "",
         "type": "scatter",
         "x": [
          -0.574793679676617,
          0.2235288385812236,
          -0.1416022574544621,
          1.1830002741236476,
          -0.8040111862595727,
          0.5603981980480017,
          1.0802000604334197,
          0.03958333136709857,
          -0.3365396825358062,
          0.2832793352592316,
          0.05165284183696506,
          -1.5912603445652507,
          -0.4027067517849839,
          -0.8441710552955158,
          -1.5018814837552625,
          1.0623705523783178,
          -0.6269685582361755,
          -1.0877374783470943,
          -0.04920277457916217,
          -0.49476631278334876,
          -1.102273038947587,
          -0.3613339588765766,
          0.3029725474183342,
          -0.09750304564376079,
          0.5675651772580712,
          -0.20703757151798488,
          -0.38179254271357244,
          -0.011627047618306317,
          -0.033123321889765134,
          -0.2184206692864132,
          1.1088956825411647,
          0.7847064418904279,
          1.154230440045405,
          -0.18556857223927084,
          -0.12891590454086874,
          0.18790915439432815,
          0.36290388657239836,
          -1.1000323979187554,
          -1.0644192730628328,
          -0.6689050042491553,
          -1.0017148503324511,
          -0.7147505434964523,
          0.5793842268683049,
          -1.4795338070213433,
          -0.03839282830179687,
          0.6997666972174688,
          -1.2835392333483941,
          0.16475761642484815,
          1.6889573202477632,
          -1.592941071461217,
          -0.7387106985235867,
          0.39701245028797894,
          1.1840215900235371,
          0.20939687790234918,
          -2.310159082515787,
          1.2943143805175952,
          -0.2945990330477354,
          2.015857216673764,
          -0.36968920526721943,
          -0.06482501623263177,
          0.4902842916770235,
          0.08187970865813975,
          0.3201306863347647,
          -1.6580600975761564,
          -1.2041955464842804,
          0.38152574274387535,
          -0.9331789825369936,
          0.2483112308845951,
          -0.3513764390898863,
          -0.8734172442961183,
          -0.3895631575428738,
          -0.2931594876428916,
          0.25127681287774367,
          1.987790683269706,
          0.18787640248927523,
          0.7319941857482984,
          0.996051203371639,
          0.8023664354900774,
          0.37326917205338095,
          0.8082704119906713,
          -0.5670128605070655,
          1.2604557560821879,
          0.9295006804240427,
          -0.07436204245143835,
          -0.4698506128050334,
          0.5747740770991207,
          -1.015928906236001,
          -0.5064827491974023,
          0.42557873681748015,
          -0.15760594251567855,
          0.4924666238139324,
          0.8094009000999365,
          -0.1978814224350476,
          -0.9850274970501465,
          -0.5429440339023727,
          -0.8677581004904326,
          -1.62694506157608,
          -0.8824812217412265,
          2.9646802953652753,
          -0.696782614544617
         ],
         "y": [
          -0.41915746807640575,
          0.21930284828863833,
          -0.7610786434798053,
          -0.6918857200279099,
          -0.23559520316772184,
          -1.2675224451030764,
          -0.22288244488492134,
          0.17429733433401837,
          0.0762757519961098,
          -0.3669689691943707,
          1.0792882971785136,
          0.316899074242141,
          -0.04825893187424639,
          -0.5031500680545504,
          0.5846281200331179,
          -1.4076111659646628,
          0.5581580114679637,
          1.2342661817807972,
          -0.5801147930644517,
          0.5143095543016232,
          -0.27470375167671157,
          -0.1249604554829138,
          2.3015801416719883,
          -0.535673037666255,
          -0.9488349123871038,
          0.1184136493800736,
          -2.244461938831052,
          0.9570427917571265,
          -0.18916260601522641,
          -1.0530967941715776,
          0.22265169983192862,
          -0.34870062182493944,
          0.6016738643875863,
          0.562336915782038,
          -1.100990900729741,
          -1.5283468920818604,
          -1.7668647881221484,
          2.8053527903280013,
          -0.1168796213679174,
          -0.7618809661819511,
          -0.9924293911398685,
          -1.7543917460481346,
          -1.048507764949999,
          -0.6041298392882526,
          0.3801558907719418,
          0.4987419230265229,
          0.49810135830298774,
          0.8992442763001017,
          -0.7948584682214112,
          -0.9693612383002331,
          -0.7683440322511006,
          -1.1567649588940925,
          -0.13581935921923502,
          -0.4927083253539496,
          2.149222707304997,
          0.6275181422432665,
          -1.6651445093832844,
          -1.3104279518077564,
          1.520364724213475,
          -0.12263253089711454,
          0.6572572845188864,
          0.299844523824874,
          -0.07969916291529638,
          -2.948310749926441,
          1.0787648942634418,
          1.7309641277355667,
          -1.5483492384865831,
          -0.499821151016283,
          -1.6012102957857004,
          2.5136712612056855,
          0.6952546373626506,
          0.08481218221600291,
          0.46490293792485105,
          0.3675165437441855,
          -0.28065282385165585,
          0.4154825216383825,
          -1.5945417410773326,
          0.5759472764756738,
          1.2635498556299758,
          1.0352587860163123,
          0.962991845155968,
          -1.707832481488226,
          0.17583501851322028,
          1.1730434958755838,
          -0.0678384623372376,
          -0.5034339124885754,
          -0.8815189873404996,
          0.8761013064586037,
          -1.084830865142056,
          -1.497082382471439,
          -0.3569731365498273,
          1.1628995081849474,
          -0.9601044911548299,
          0.012437650238996368,
          -0.4577740907173309,
          -1.662251490679833,
          -1.4490992602462307,
          -0.006264011864668245,
          0.5454332382613313,
          -0.17002321014787986
         ]
        }
       ],
       "layout": {
        "legend": {
         "bgcolor": "#F5F6F9",
         "font": {
          "color": "#4D5663"
         }
        },
        "paper_bgcolor": "#F5F6F9",
        "plot_bgcolor": "#F5F6F9",
        "template": {
         "data": {
          "bar": [
           {
            "error_x": {
             "color": "#2a3f5f"
            },
            "error_y": {
             "color": "#2a3f5f"
            },
            "marker": {
             "line": {
              "color": "#E5ECF6",
              "width": 0.5
             },
             "pattern": {
              "fillmode": "overlay",
              "size": 10,
              "solidity": 0.2
             }
            },
            "type": "bar"
           }
          ],
          "barpolar": [
           {
            "marker": {
             "line": {
              "color": "#E5ECF6",
              "width": 0.5
             },
             "pattern": {
              "fillmode": "overlay",
              "size": 10,
              "solidity": 0.2
             }
            },
            "type": "barpolar"
           }
          ],
          "carpet": [
           {
            "aaxis": {
             "endlinecolor": "#2a3f5f",
             "gridcolor": "white",
             "linecolor": "white",
             "minorgridcolor": "white",
             "startlinecolor": "#2a3f5f"
            },
            "baxis": {
             "endlinecolor": "#2a3f5f",
             "gridcolor": "white",
             "linecolor": "white",
             "minorgridcolor": "white",
             "startlinecolor": "#2a3f5f"
            },
            "type": "carpet"
           }
          ],
          "choropleth": [
           {
            "colorbar": {
             "outlinewidth": 0,
             "ticks": ""
            },
            "type": "choropleth"
           }
          ],
          "contour": [
           {
            "colorbar": {
             "outlinewidth": 0,
             "ticks": ""
            },
            "colorscale": [
             [
              0,
              "#0d0887"
             ],
             [
              0.1111111111111111,
              "#46039f"
             ],
             [
              0.2222222222222222,
              "#7201a8"
             ],
             [
              0.3333333333333333,
              "#9c179e"
             ],
             [
              0.4444444444444444,
              "#bd3786"
             ],
             [
              0.5555555555555556,
              "#d8576b"
             ],
             [
              0.6666666666666666,
              "#ed7953"
             ],
             [
              0.7777777777777778,
              "#fb9f3a"
             ],
             [
              0.8888888888888888,
              "#fdca26"
             ],
             [
              1,
              "#f0f921"
             ]
            ],
            "type": "contour"
           }
          ],
          "contourcarpet": [
           {
            "colorbar": {
             "outlinewidth": 0,
             "ticks": ""
            },
            "type": "contourcarpet"
           }
          ],
          "heatmap": [
           {
            "colorbar": {
             "outlinewidth": 0,
             "ticks": ""
            },
            "colorscale": [
             [
              0,
              "#0d0887"
             ],
             [
              0.1111111111111111,
              "#46039f"
             ],
             [
              0.2222222222222222,
              "#7201a8"
             ],
             [
              0.3333333333333333,
              "#9c179e"
             ],
             [
              0.4444444444444444,
              "#bd3786"
             ],
             [
              0.5555555555555556,
              "#d8576b"
             ],
             [
              0.6666666666666666,
              "#ed7953"
             ],
             [
              0.7777777777777778,
              "#fb9f3a"
             ],
             [
              0.8888888888888888,
              "#fdca26"
             ],
             [
              1,
              "#f0f921"
             ]
            ],
            "type": "heatmap"
           }
          ],
          "heatmapgl": [
           {
            "colorbar": {
             "outlinewidth": 0,
             "ticks": ""
            },
            "colorscale": [
             [
              0,
              "#0d0887"
             ],
             [
              0.1111111111111111,
              "#46039f"
             ],
             [
              0.2222222222222222,
              "#7201a8"
             ],
             [
              0.3333333333333333,
              "#9c179e"
             ],
             [
              0.4444444444444444,
              "#bd3786"
             ],
             [
              0.5555555555555556,
              "#d8576b"
             ],
             [
              0.6666666666666666,
              "#ed7953"
             ],
             [
              0.7777777777777778,
              "#fb9f3a"
             ],
             [
              0.8888888888888888,
              "#fdca26"
             ],
             [
              1,
              "#f0f921"
             ]
            ],
            "type": "heatmapgl"
           }
          ],
          "histogram": [
           {
            "marker": {
             "pattern": {
              "fillmode": "overlay",
              "size": 10,
              "solidity": 0.2
             }
            },
            "type": "histogram"
           }
          ],
          "histogram2d": [
           {
            "colorbar": {
             "outlinewidth": 0,
             "ticks": ""
            },
            "colorscale": [
             [
              0,
              "#0d0887"
             ],
             [
              0.1111111111111111,
              "#46039f"
             ],
             [
              0.2222222222222222,
              "#7201a8"
             ],
             [
              0.3333333333333333,
              "#9c179e"
             ],
             [
              0.4444444444444444,
              "#bd3786"
             ],
             [
              0.5555555555555556,
              "#d8576b"
             ],
             [
              0.6666666666666666,
              "#ed7953"
             ],
             [
              0.7777777777777778,
              "#fb9f3a"
             ],
             [
              0.8888888888888888,
              "#fdca26"
             ],
             [
              1,
              "#f0f921"
             ]
            ],
            "type": "histogram2d"
           }
          ],
          "histogram2dcontour": [
           {
            "colorbar": {
             "outlinewidth": 0,
             "ticks": ""
            },
            "colorscale": [
             [
              0,
              "#0d0887"
             ],
             [
              0.1111111111111111,
              "#46039f"
             ],
             [
              0.2222222222222222,
              "#7201a8"
             ],
             [
              0.3333333333333333,
              "#9c179e"
             ],
             [
              0.4444444444444444,
              "#bd3786"
             ],
             [
              0.5555555555555556,
              "#d8576b"
             ],
             [
              0.6666666666666666,
              "#ed7953"
             ],
             [
              0.7777777777777778,
              "#fb9f3a"
             ],
             [
              0.8888888888888888,
              "#fdca26"
             ],
             [
              1,
              "#f0f921"
             ]
            ],
            "type": "histogram2dcontour"
           }
          ],
          "mesh3d": [
           {
            "colorbar": {
             "outlinewidth": 0,
             "ticks": ""
            },
            "type": "mesh3d"
           }
          ],
          "parcoords": [
           {
            "line": {
             "colorbar": {
              "outlinewidth": 0,
              "ticks": ""
             }
            },
            "type": "parcoords"
           }
          ],
          "pie": [
           {
            "automargin": true,
            "type": "pie"
           }
          ],
          "scatter": [
           {
            "fillpattern": {
             "fillmode": "overlay",
             "size": 10,
             "solidity": 0.2
            },
            "type": "scatter"
           }
          ],
          "scatter3d": [
           {
            "line": {
             "colorbar": {
              "outlinewidth": 0,
              "ticks": ""
             }
            },
            "marker": {
             "colorbar": {
              "outlinewidth": 0,
              "ticks": ""
             }
            },
            "type": "scatter3d"
           }
          ],
          "scattercarpet": [
           {
            "marker": {
             "colorbar": {
              "outlinewidth": 0,
              "ticks": ""
             }
            },
            "type": "scattercarpet"
           }
          ],
          "scattergeo": [
           {
            "marker": {
             "colorbar": {
              "outlinewidth": 0,
              "ticks": ""
             }
            },
            "type": "scattergeo"
           }
          ],
          "scattergl": [
           {
            "marker": {
             "colorbar": {
              "outlinewidth": 0,
              "ticks": ""
             }
            },
            "type": "scattergl"
           }
          ],
          "scattermapbox": [
           {
            "marker": {
             "colorbar": {
              "outlinewidth": 0,
              "ticks": ""
             }
            },
            "type": "scattermapbox"
           }
          ],
          "scatterpolar": [
           {
            "marker": {
             "colorbar": {
              "outlinewidth": 0,
              "ticks": ""
             }
            },
            "type": "scatterpolar"
           }
          ],
          "scatterpolargl": [
           {
            "marker": {
             "colorbar": {
              "outlinewidth": 0,
              "ticks": ""
             }
            },
            "type": "scatterpolargl"
           }
          ],
          "scatterternary": [
           {
            "marker": {
             "colorbar": {
              "outlinewidth": 0,
              "ticks": ""
             }
            },
            "type": "scatterternary"
           }
          ],
          "surface": [
           {
            "colorbar": {
             "outlinewidth": 0,
             "ticks": ""
            },
            "colorscale": [
             [
              0,
              "#0d0887"
             ],
             [
              0.1111111111111111,
              "#46039f"
             ],
             [
              0.2222222222222222,
              "#7201a8"
             ],
             [
              0.3333333333333333,
              "#9c179e"
             ],
             [
              0.4444444444444444,
              "#bd3786"
             ],
             [
              0.5555555555555556,
              "#d8576b"
             ],
             [
              0.6666666666666666,
              "#ed7953"
             ],
             [
              0.7777777777777778,
              "#fb9f3a"
             ],
             [
              0.8888888888888888,
              "#fdca26"
             ],
             [
              1,
              "#f0f921"
             ]
            ],
            "type": "surface"
           }
          ],
          "table": [
           {
            "cells": {
             "fill": {
              "color": "#EBF0F8"
             },
             "line": {
              "color": "white"
             }
            },
            "header": {
             "fill": {
              "color": "#C8D4E3"
             },
             "line": {
              "color": "white"
             }
            },
            "type": "table"
           }
          ]
         },
         "layout": {
          "annotationdefaults": {
           "arrowcolor": "#2a3f5f",
           "arrowhead": 0,
           "arrowwidth": 1
          },
          "autotypenumbers": "strict",
          "coloraxis": {
           "colorbar": {
            "outlinewidth": 0,
            "ticks": ""
           }
          },
          "colorscale": {
           "diverging": [
            [
             0,
             "#8e0152"
            ],
            [
             0.1,
             "#c51b7d"
            ],
            [
             0.2,
             "#de77ae"
            ],
            [
             0.3,
             "#f1b6da"
            ],
            [
             0.4,
             "#fde0ef"
            ],
            [
             0.5,
             "#f7f7f7"
            ],
            [
             0.6,
             "#e6f5d0"
            ],
            [
             0.7,
             "#b8e186"
            ],
            [
             0.8,
             "#7fbc41"
            ],
            [
             0.9,
             "#4d9221"
            ],
            [
             1,
             "#276419"
            ]
           ],
           "sequential": [
            [
             0,
             "#0d0887"
            ],
            [
             0.1111111111111111,
             "#46039f"
            ],
            [
             0.2222222222222222,
             "#7201a8"
            ],
            [
             0.3333333333333333,
             "#9c179e"
            ],
            [
             0.4444444444444444,
             "#bd3786"
            ],
            [
             0.5555555555555556,
             "#d8576b"
            ],
            [
             0.6666666666666666,
             "#ed7953"
            ],
            [
             0.7777777777777778,
             "#fb9f3a"
            ],
            [
             0.8888888888888888,
             "#fdca26"
            ],
            [
             1,
             "#f0f921"
            ]
           ],
           "sequentialminus": [
            [
             0,
             "#0d0887"
            ],
            [
             0.1111111111111111,
             "#46039f"
            ],
            [
             0.2222222222222222,
             "#7201a8"
            ],
            [
             0.3333333333333333,
             "#9c179e"
            ],
            [
             0.4444444444444444,
             "#bd3786"
            ],
            [
             0.5555555555555556,
             "#d8576b"
            ],
            [
             0.6666666666666666,
             "#ed7953"
            ],
            [
             0.7777777777777778,
             "#fb9f3a"
            ],
            [
             0.8888888888888888,
             "#fdca26"
            ],
            [
             1,
             "#f0f921"
            ]
           ]
          },
          "colorway": [
           "#636efa",
           "#EF553B",
           "#00cc96",
           "#ab63fa",
           "#FFA15A",
           "#19d3f3",
           "#FF6692",
           "#B6E880",
           "#FF97FF",
           "#FECB52"
          ],
          "font": {
           "color": "#2a3f5f"
          },
          "geo": {
           "bgcolor": "white",
           "lakecolor": "white",
           "landcolor": "#E5ECF6",
           "showlakes": true,
           "showland": true,
           "subunitcolor": "white"
          },
          "hoverlabel": {
           "align": "left"
          },
          "hovermode": "closest",
          "mapbox": {
           "style": "light"
          },
          "paper_bgcolor": "white",
          "plot_bgcolor": "#E5ECF6",
          "polar": {
           "angularaxis": {
            "gridcolor": "white",
            "linecolor": "white",
            "ticks": ""
           },
           "bgcolor": "#E5ECF6",
           "radialaxis": {
            "gridcolor": "white",
            "linecolor": "white",
            "ticks": ""
           }
          },
          "scene": {
           "xaxis": {
            "backgroundcolor": "#E5ECF6",
            "gridcolor": "white",
            "gridwidth": 2,
            "linecolor": "white",
            "showbackground": true,
            "ticks": "",
            "zerolinecolor": "white"
           },
           "yaxis": {
            "backgroundcolor": "#E5ECF6",
            "gridcolor": "white",
            "gridwidth": 2,
            "linecolor": "white",
            "showbackground": true,
            "ticks": "",
            "zerolinecolor": "white"
           },
           "zaxis": {
            "backgroundcolor": "#E5ECF6",
            "gridcolor": "white",
            "gridwidth": 2,
            "linecolor": "white",
            "showbackground": true,
            "ticks": "",
            "zerolinecolor": "white"
           }
          },
          "shapedefaults": {
           "line": {
            "color": "#2a3f5f"
           }
          },
          "ternary": {
           "aaxis": {
            "gridcolor": "white",
            "linecolor": "white",
            "ticks": ""
           },
           "baxis": {
            "gridcolor": "white",
            "linecolor": "white",
            "ticks": ""
           },
           "bgcolor": "#E5ECF6",
           "caxis": {
            "gridcolor": "white",
            "linecolor": "white",
            "ticks": ""
           }
          },
          "title": {
           "x": 0.05
          },
          "xaxis": {
           "automargin": true,
           "gridcolor": "white",
           "linecolor": "white",
           "ticks": "",
           "title": {
            "standoff": 15
           },
           "zerolinecolor": "white",
           "zerolinewidth": 2
          },
          "yaxis": {
           "automargin": true,
           "gridcolor": "white",
           "linecolor": "white",
           "ticks": "",
           "title": {
            "standoff": 15
           },
           "zerolinecolor": "white",
           "zerolinewidth": 2
          }
         }
        },
        "title": {
         "font": {
          "color": "#4D5663"
         }
        },
        "xaxis": {
         "gridcolor": "#E1E5ED",
         "showgrid": true,
         "tickfont": {
          "color": "#4D5663"
         },
         "title": {
          "font": {
           "color": "#4D5663"
          },
          "text": ""
         },
         "zerolinecolor": "#E1E5ED"
        },
        "yaxis": {
         "gridcolor": "#E1E5ED",
         "showgrid": true,
         "tickfont": {
          "color": "#4D5663"
         },
         "title": {
          "font": {
           "color": "#4D5663"
          },
          "text": ""
         },
         "zerolinecolor": "#E1E5ED"
        }
       }
      },
      "text/html": [
       "<div>                            <div id=\"8ab2d973-7037-4bf0-b997-9363303391ee\" class=\"plotly-graph-div\" style=\"height:525px; width:100%;\"></div>            <script type=\"text/javascript\">                require([\"plotly\"], function(Plotly) {                    window.PLOTLYENV=window.PLOTLYENV || {};\n",
       "                    window.PLOTLYENV.BASE_URL='https://plot.ly';                                    if (document.getElementById(\"8ab2d973-7037-4bf0-b997-9363303391ee\")) {                    Plotly.newPlot(                        \"8ab2d973-7037-4bf0-b997-9363303391ee\",                        [{\"line\":{\"color\":\"rgba(255, 153, 51, 1.0)\",\"dash\":\"solid\",\"shape\":\"linear\",\"width\":1.3},\"marker\":{\"size\":12,\"symbol\":\"circle\"},\"mode\":\"markers\",\"name\":\"B\",\"text\":\"\",\"x\":[-0.574793679676617,0.2235288385812236,-0.1416022574544621,1.1830002741236476,-0.8040111862595727,0.5603981980480017,1.0802000604334197,0.03958333136709857,-0.3365396825358062,0.2832793352592316,0.05165284183696506,-1.5912603445652507,-0.4027067517849839,-0.8441710552955158,-1.5018814837552625,1.0623705523783178,-0.6269685582361755,-1.0877374783470943,-0.04920277457916217,-0.49476631278334876,-1.102273038947587,-0.3613339588765766,0.3029725474183342,-0.09750304564376079,0.5675651772580712,-0.20703757151798488,-0.38179254271357244,-0.011627047618306317,-0.033123321889765134,-0.2184206692864132,1.1088956825411647,0.7847064418904279,1.154230440045405,-0.18556857223927084,-0.12891590454086874,0.18790915439432815,0.36290388657239836,-1.1000323979187554,-1.0644192730628328,-0.6689050042491553,-1.0017148503324511,-0.7147505434964523,0.5793842268683049,-1.4795338070213433,-0.03839282830179687,0.6997666972174688,-1.2835392333483941,0.16475761642484815,1.6889573202477632,-1.592941071461217,-0.7387106985235867,0.39701245028797894,1.1840215900235371,0.20939687790234918,-2.310159082515787,1.2943143805175952,-0.2945990330477354,2.015857216673764,-0.36968920526721943,-0.06482501623263177,0.4902842916770235,0.08187970865813975,0.3201306863347647,-1.6580600975761564,-1.2041955464842804,0.38152574274387535,-0.9331789825369936,0.2483112308845951,-0.3513764390898863,-0.8734172442961183,-0.3895631575428738,-0.2931594876428916,0.25127681287774367,1.987790683269706,0.18787640248927523,0.7319941857482984,0.996051203371639,0.8023664354900774,0.37326917205338095,0.8082704119906713,-0.5670128605070655,1.2604557560821879,0.9295006804240427,-0.07436204245143835,-0.4698506128050334,0.5747740770991207,-1.015928906236001,-0.5064827491974023,0.42557873681748015,-0.15760594251567855,0.4924666238139324,0.8094009000999365,-0.1978814224350476,-0.9850274970501465,-0.5429440339023727,-0.8677581004904326,-1.62694506157608,-0.8824812217412265,2.9646802953652753,-0.696782614544617],\"y\":[-0.41915746807640575,0.21930284828863833,-0.7610786434798053,-0.6918857200279099,-0.23559520316772184,-1.2675224451030764,-0.22288244488492134,0.17429733433401837,0.0762757519961098,-0.3669689691943707,1.0792882971785136,0.316899074242141,-0.04825893187424639,-0.5031500680545504,0.5846281200331179,-1.4076111659646628,0.5581580114679637,1.2342661817807972,-0.5801147930644517,0.5143095543016232,-0.27470375167671157,-0.1249604554829138,2.3015801416719883,-0.535673037666255,-0.9488349123871038,0.1184136493800736,-2.244461938831052,0.9570427917571265,-0.18916260601522641,-1.0530967941715776,0.22265169983192862,-0.34870062182493944,0.6016738643875863,0.562336915782038,-1.100990900729741,-1.5283468920818604,-1.7668647881221484,2.8053527903280013,-0.1168796213679174,-0.7618809661819511,-0.9924293911398685,-1.7543917460481346,-1.048507764949999,-0.6041298392882526,0.3801558907719418,0.4987419230265229,0.49810135830298774,0.8992442763001017,-0.7948584682214112,-0.9693612383002331,-0.7683440322511006,-1.1567649588940925,-0.13581935921923502,-0.4927083253539496,2.149222707304997,0.6275181422432665,-1.6651445093832844,-1.3104279518077564,1.520364724213475,-0.12263253089711454,0.6572572845188864,0.299844523824874,-0.07969916291529638,-2.948310749926441,1.0787648942634418,1.7309641277355667,-1.5483492384865831,-0.499821151016283,-1.6012102957857004,2.5136712612056855,0.6952546373626506,0.08481218221600291,0.46490293792485105,0.3675165437441855,-0.28065282385165585,0.4154825216383825,-1.5945417410773326,0.5759472764756738,1.2635498556299758,1.0352587860163123,0.962991845155968,-1.707832481488226,0.17583501851322028,1.1730434958755838,-0.0678384623372376,-0.5034339124885754,-0.8815189873404996,0.8761013064586037,-1.084830865142056,-1.497082382471439,-0.3569731365498273,1.1628995081849474,-0.9601044911548299,0.012437650238996368,-0.4577740907173309,-1.662251490679833,-1.4490992602462307,-0.006264011864668245,0.5454332382613313,-0.17002321014787986],\"type\":\"scatter\"}],                        {\"legend\":{\"bgcolor\":\"#F5F6F9\",\"font\":{\"color\":\"#4D5663\"}},\"paper_bgcolor\":\"#F5F6F9\",\"plot_bgcolor\":\"#F5F6F9\",\"template\":{\"data\":{\"barpolar\":[{\"marker\":{\"line\":{\"color\":\"#E5ECF6\",\"width\":0.5},\"pattern\":{\"fillmode\":\"overlay\",\"size\":10,\"solidity\":0.2}},\"type\":\"barpolar\"}],\"bar\":[{\"error_x\":{\"color\":\"#2a3f5f\"},\"error_y\":{\"color\":\"#2a3f5f\"},\"marker\":{\"line\":{\"color\":\"#E5ECF6\",\"width\":0.5},\"pattern\":{\"fillmode\":\"overlay\",\"size\":10,\"solidity\":0.2}},\"type\":\"bar\"}],\"carpet\":[{\"aaxis\":{\"endlinecolor\":\"#2a3f5f\",\"gridcolor\":\"white\",\"linecolor\":\"white\",\"minorgridcolor\":\"white\",\"startlinecolor\":\"#2a3f5f\"},\"baxis\":{\"endlinecolor\":\"#2a3f5f\",\"gridcolor\":\"white\",\"linecolor\":\"white\",\"minorgridcolor\":\"white\",\"startlinecolor\":\"#2a3f5f\"},\"type\":\"carpet\"}],\"choropleth\":[{\"colorbar\":{\"outlinewidth\":0,\"ticks\":\"\"},\"type\":\"choropleth\"}],\"contourcarpet\":[{\"colorbar\":{\"outlinewidth\":0,\"ticks\":\"\"},\"type\":\"contourcarpet\"}],\"contour\":[{\"colorbar\":{\"outlinewidth\":0,\"ticks\":\"\"},\"colorscale\":[[0.0,\"#0d0887\"],[0.1111111111111111,\"#46039f\"],[0.2222222222222222,\"#7201a8\"],[0.3333333333333333,\"#9c179e\"],[0.4444444444444444,\"#bd3786\"],[0.5555555555555556,\"#d8576b\"],[0.6666666666666666,\"#ed7953\"],[0.7777777777777778,\"#fb9f3a\"],[0.8888888888888888,\"#fdca26\"],[1.0,\"#f0f921\"]],\"type\":\"contour\"}],\"heatmapgl\":[{\"colorbar\":{\"outlinewidth\":0,\"ticks\":\"\"},\"colorscale\":[[0.0,\"#0d0887\"],[0.1111111111111111,\"#46039f\"],[0.2222222222222222,\"#7201a8\"],[0.3333333333333333,\"#9c179e\"],[0.4444444444444444,\"#bd3786\"],[0.5555555555555556,\"#d8576b\"],[0.6666666666666666,\"#ed7953\"],[0.7777777777777778,\"#fb9f3a\"],[0.8888888888888888,\"#fdca26\"],[1.0,\"#f0f921\"]],\"type\":\"heatmapgl\"}],\"heatmap\":[{\"colorbar\":{\"outlinewidth\":0,\"ticks\":\"\"},\"colorscale\":[[0.0,\"#0d0887\"],[0.1111111111111111,\"#46039f\"],[0.2222222222222222,\"#7201a8\"],[0.3333333333333333,\"#9c179e\"],[0.4444444444444444,\"#bd3786\"],[0.5555555555555556,\"#d8576b\"],[0.6666666666666666,\"#ed7953\"],[0.7777777777777778,\"#fb9f3a\"],[0.8888888888888888,\"#fdca26\"],[1.0,\"#f0f921\"]],\"type\":\"heatmap\"}],\"histogram2dcontour\":[{\"colorbar\":{\"outlinewidth\":0,\"ticks\":\"\"},\"colorscale\":[[0.0,\"#0d0887\"],[0.1111111111111111,\"#46039f\"],[0.2222222222222222,\"#7201a8\"],[0.3333333333333333,\"#9c179e\"],[0.4444444444444444,\"#bd3786\"],[0.5555555555555556,\"#d8576b\"],[0.6666666666666666,\"#ed7953\"],[0.7777777777777778,\"#fb9f3a\"],[0.8888888888888888,\"#fdca26\"],[1.0,\"#f0f921\"]],\"type\":\"histogram2dcontour\"}],\"histogram2d\":[{\"colorbar\":{\"outlinewidth\":0,\"ticks\":\"\"},\"colorscale\":[[0.0,\"#0d0887\"],[0.1111111111111111,\"#46039f\"],[0.2222222222222222,\"#7201a8\"],[0.3333333333333333,\"#9c179e\"],[0.4444444444444444,\"#bd3786\"],[0.5555555555555556,\"#d8576b\"],[0.6666666666666666,\"#ed7953\"],[0.7777777777777778,\"#fb9f3a\"],[0.8888888888888888,\"#fdca26\"],[1.0,\"#f0f921\"]],\"type\":\"histogram2d\"}],\"histogram\":[{\"marker\":{\"pattern\":{\"fillmode\":\"overlay\",\"size\":10,\"solidity\":0.2}},\"type\":\"histogram\"}],\"mesh3d\":[{\"colorbar\":{\"outlinewidth\":0,\"ticks\":\"\"},\"type\":\"mesh3d\"}],\"parcoords\":[{\"line\":{\"colorbar\":{\"outlinewidth\":0,\"ticks\":\"\"}},\"type\":\"parcoords\"}],\"pie\":[{\"automargin\":true,\"type\":\"pie\"}],\"scatter3d\":[{\"line\":{\"colorbar\":{\"outlinewidth\":0,\"ticks\":\"\"}},\"marker\":{\"colorbar\":{\"outlinewidth\":0,\"ticks\":\"\"}},\"type\":\"scatter3d\"}],\"scattercarpet\":[{\"marker\":{\"colorbar\":{\"outlinewidth\":0,\"ticks\":\"\"}},\"type\":\"scattercarpet\"}],\"scattergeo\":[{\"marker\":{\"colorbar\":{\"outlinewidth\":0,\"ticks\":\"\"}},\"type\":\"scattergeo\"}],\"scattergl\":[{\"marker\":{\"colorbar\":{\"outlinewidth\":0,\"ticks\":\"\"}},\"type\":\"scattergl\"}],\"scattermapbox\":[{\"marker\":{\"colorbar\":{\"outlinewidth\":0,\"ticks\":\"\"}},\"type\":\"scattermapbox\"}],\"scatterpolargl\":[{\"marker\":{\"colorbar\":{\"outlinewidth\":0,\"ticks\":\"\"}},\"type\":\"scatterpolargl\"}],\"scatterpolar\":[{\"marker\":{\"colorbar\":{\"outlinewidth\":0,\"ticks\":\"\"}},\"type\":\"scatterpolar\"}],\"scatter\":[{\"fillpattern\":{\"fillmode\":\"overlay\",\"size\":10,\"solidity\":0.2},\"type\":\"scatter\"}],\"scatterternary\":[{\"marker\":{\"colorbar\":{\"outlinewidth\":0,\"ticks\":\"\"}},\"type\":\"scatterternary\"}],\"surface\":[{\"colorbar\":{\"outlinewidth\":0,\"ticks\":\"\"},\"colorscale\":[[0.0,\"#0d0887\"],[0.1111111111111111,\"#46039f\"],[0.2222222222222222,\"#7201a8\"],[0.3333333333333333,\"#9c179e\"],[0.4444444444444444,\"#bd3786\"],[0.5555555555555556,\"#d8576b\"],[0.6666666666666666,\"#ed7953\"],[0.7777777777777778,\"#fb9f3a\"],[0.8888888888888888,\"#fdca26\"],[1.0,\"#f0f921\"]],\"type\":\"surface\"}],\"table\":[{\"cells\":{\"fill\":{\"color\":\"#EBF0F8\"},\"line\":{\"color\":\"white\"}},\"header\":{\"fill\":{\"color\":\"#C8D4E3\"},\"line\":{\"color\":\"white\"}},\"type\":\"table\"}]},\"layout\":{\"annotationdefaults\":{\"arrowcolor\":\"#2a3f5f\",\"arrowhead\":0,\"arrowwidth\":1},\"autotypenumbers\":\"strict\",\"coloraxis\":{\"colorbar\":{\"outlinewidth\":0,\"ticks\":\"\"}},\"colorscale\":{\"diverging\":[[0,\"#8e0152\"],[0.1,\"#c51b7d\"],[0.2,\"#de77ae\"],[0.3,\"#f1b6da\"],[0.4,\"#fde0ef\"],[0.5,\"#f7f7f7\"],[0.6,\"#e6f5d0\"],[0.7,\"#b8e186\"],[0.8,\"#7fbc41\"],[0.9,\"#4d9221\"],[1,\"#276419\"]],\"sequential\":[[0.0,\"#0d0887\"],[0.1111111111111111,\"#46039f\"],[0.2222222222222222,\"#7201a8\"],[0.3333333333333333,\"#9c179e\"],[0.4444444444444444,\"#bd3786\"],[0.5555555555555556,\"#d8576b\"],[0.6666666666666666,\"#ed7953\"],[0.7777777777777778,\"#fb9f3a\"],[0.8888888888888888,\"#fdca26\"],[1.0,\"#f0f921\"]],\"sequentialminus\":[[0.0,\"#0d0887\"],[0.1111111111111111,\"#46039f\"],[0.2222222222222222,\"#7201a8\"],[0.3333333333333333,\"#9c179e\"],[0.4444444444444444,\"#bd3786\"],[0.5555555555555556,\"#d8576b\"],[0.6666666666666666,\"#ed7953\"],[0.7777777777777778,\"#fb9f3a\"],[0.8888888888888888,\"#fdca26\"],[1.0,\"#f0f921\"]]},\"colorway\":[\"#636efa\",\"#EF553B\",\"#00cc96\",\"#ab63fa\",\"#FFA15A\",\"#19d3f3\",\"#FF6692\",\"#B6E880\",\"#FF97FF\",\"#FECB52\"],\"font\":{\"color\":\"#2a3f5f\"},\"geo\":{\"bgcolor\":\"white\",\"lakecolor\":\"white\",\"landcolor\":\"#E5ECF6\",\"showlakes\":true,\"showland\":true,\"subunitcolor\":\"white\"},\"hoverlabel\":{\"align\":\"left\"},\"hovermode\":\"closest\",\"mapbox\":{\"style\":\"light\"},\"paper_bgcolor\":\"white\",\"plot_bgcolor\":\"#E5ECF6\",\"polar\":{\"angularaxis\":{\"gridcolor\":\"white\",\"linecolor\":\"white\",\"ticks\":\"\"},\"bgcolor\":\"#E5ECF6\",\"radialaxis\":{\"gridcolor\":\"white\",\"linecolor\":\"white\",\"ticks\":\"\"}},\"scene\":{\"xaxis\":{\"backgroundcolor\":\"#E5ECF6\",\"gridcolor\":\"white\",\"gridwidth\":2,\"linecolor\":\"white\",\"showbackground\":true,\"ticks\":\"\",\"zerolinecolor\":\"white\"},\"yaxis\":{\"backgroundcolor\":\"#E5ECF6\",\"gridcolor\":\"white\",\"gridwidth\":2,\"linecolor\":\"white\",\"showbackground\":true,\"ticks\":\"\",\"zerolinecolor\":\"white\"},\"zaxis\":{\"backgroundcolor\":\"#E5ECF6\",\"gridcolor\":\"white\",\"gridwidth\":2,\"linecolor\":\"white\",\"showbackground\":true,\"ticks\":\"\",\"zerolinecolor\":\"white\"}},\"shapedefaults\":{\"line\":{\"color\":\"#2a3f5f\"}},\"ternary\":{\"aaxis\":{\"gridcolor\":\"white\",\"linecolor\":\"white\",\"ticks\":\"\"},\"baxis\":{\"gridcolor\":\"white\",\"linecolor\":\"white\",\"ticks\":\"\"},\"bgcolor\":\"#E5ECF6\",\"caxis\":{\"gridcolor\":\"white\",\"linecolor\":\"white\",\"ticks\":\"\"}},\"title\":{\"x\":0.05},\"xaxis\":{\"automargin\":true,\"gridcolor\":\"white\",\"linecolor\":\"white\",\"ticks\":\"\",\"title\":{\"standoff\":15},\"zerolinecolor\":\"white\",\"zerolinewidth\":2},\"yaxis\":{\"automargin\":true,\"gridcolor\":\"white\",\"linecolor\":\"white\",\"ticks\":\"\",\"title\":{\"standoff\":15},\"zerolinecolor\":\"white\",\"zerolinewidth\":2}}},\"title\":{\"font\":{\"color\":\"#4D5663\"}},\"xaxis\":{\"gridcolor\":\"#E1E5ED\",\"showgrid\":true,\"tickfont\":{\"color\":\"#4D5663\"},\"title\":{\"font\":{\"color\":\"#4D5663\"},\"text\":\"\"},\"zerolinecolor\":\"#E1E5ED\"},\"yaxis\":{\"gridcolor\":\"#E1E5ED\",\"showgrid\":true,\"tickfont\":{\"color\":\"#4D5663\"},\"title\":{\"font\":{\"color\":\"#4D5663\"},\"text\":\"\"},\"zerolinecolor\":\"#E1E5ED\"}},                        {\"showLink\": true, \"linkText\": \"Export to plot.ly\", \"plotlyServerURL\": \"https://plot.ly\", \"responsive\": true}                    ).then(function(){\n",
       "                            \n",
       "var gd = document.getElementById('8ab2d973-7037-4bf0-b997-9363303391ee');\n",
       "var x = new MutationObserver(function (mutations, observer) {{\n",
       "        var display = window.getComputedStyle(gd).display;\n",
       "        if (!display || display === 'none') {{\n",
       "            console.log([gd, 'removed!']);\n",
       "            Plotly.purge(gd);\n",
       "            observer.disconnect();\n",
       "        }}\n",
       "}});\n",
       "\n",
       "// Listen for the removal of the full notebook cells\n",
       "var notebookContainer = gd.closest('#notebook-container');\n",
       "if (notebookContainer) {{\n",
       "    x.observe(notebookContainer, {childList: true});\n",
       "}}\n",
       "\n",
       "// Listen for the clearing of the current output cell\n",
       "var outputEl = gd.closest('.output');\n",
       "if (outputEl) {{\n",
       "    x.observe(outputEl, {childList: true});\n",
       "}}\n",
       "\n",
       "                        })                };                });            </script>        </div>"
      ]
     },
     "metadata": {},
     "output_type": "display_data"
    }
   ],
   "source": [
    "df.iplot(kind='scatter',x='A',y='B',mode='markers',size=12)"
   ]
  },
  {
   "cell_type": "code",
   "execution_count": 31,
   "id": "44ac7127",
   "metadata": {},
   "outputs": [
    {
     "data": {
      "application/vnd.plotly.v1+json": {
       "config": {
        "linkText": "Export to plot.ly",
        "plotlyServerURL": "https://plot.ly",
        "showLink": true
       },
       "data": [
        {
         "marker": {
          "color": "rgba(255, 153, 51, 0.6)",
          "line": {
           "color": "rgba(255, 153, 51, 1.0)",
           "width": 1
          }
         },
         "name": "Values",
         "orientation": "v",
         "text": "",
         "type": "bar",
         "x": [
          "A",
          "B",
          "C"
         ],
         "y": [
          23,
          55,
          24
         ]
        }
       ],
       "layout": {
        "legend": {
         "bgcolor": "#F5F6F9",
         "font": {
          "color": "#4D5663"
         }
        },
        "paper_bgcolor": "#F5F6F9",
        "plot_bgcolor": "#F5F6F9",
        "template": {
         "data": {
          "bar": [
           {
            "error_x": {
             "color": "#2a3f5f"
            },
            "error_y": {
             "color": "#2a3f5f"
            },
            "marker": {
             "line": {
              "color": "#E5ECF6",
              "width": 0.5
             },
             "pattern": {
              "fillmode": "overlay",
              "size": 10,
              "solidity": 0.2
             }
            },
            "type": "bar"
           }
          ],
          "barpolar": [
           {
            "marker": {
             "line": {
              "color": "#E5ECF6",
              "width": 0.5
             },
             "pattern": {
              "fillmode": "overlay",
              "size": 10,
              "solidity": 0.2
             }
            },
            "type": "barpolar"
           }
          ],
          "carpet": [
           {
            "aaxis": {
             "endlinecolor": "#2a3f5f",
             "gridcolor": "white",
             "linecolor": "white",
             "minorgridcolor": "white",
             "startlinecolor": "#2a3f5f"
            },
            "baxis": {
             "endlinecolor": "#2a3f5f",
             "gridcolor": "white",
             "linecolor": "white",
             "minorgridcolor": "white",
             "startlinecolor": "#2a3f5f"
            },
            "type": "carpet"
           }
          ],
          "choropleth": [
           {
            "colorbar": {
             "outlinewidth": 0,
             "ticks": ""
            },
            "type": "choropleth"
           }
          ],
          "contour": [
           {
            "colorbar": {
             "outlinewidth": 0,
             "ticks": ""
            },
            "colorscale": [
             [
              0,
              "#0d0887"
             ],
             [
              0.1111111111111111,
              "#46039f"
             ],
             [
              0.2222222222222222,
              "#7201a8"
             ],
             [
              0.3333333333333333,
              "#9c179e"
             ],
             [
              0.4444444444444444,
              "#bd3786"
             ],
             [
              0.5555555555555556,
              "#d8576b"
             ],
             [
              0.6666666666666666,
              "#ed7953"
             ],
             [
              0.7777777777777778,
              "#fb9f3a"
             ],
             [
              0.8888888888888888,
              "#fdca26"
             ],
             [
              1,
              "#f0f921"
             ]
            ],
            "type": "contour"
           }
          ],
          "contourcarpet": [
           {
            "colorbar": {
             "outlinewidth": 0,
             "ticks": ""
            },
            "type": "contourcarpet"
           }
          ],
          "heatmap": [
           {
            "colorbar": {
             "outlinewidth": 0,
             "ticks": ""
            },
            "colorscale": [
             [
              0,
              "#0d0887"
             ],
             [
              0.1111111111111111,
              "#46039f"
             ],
             [
              0.2222222222222222,
              "#7201a8"
             ],
             [
              0.3333333333333333,
              "#9c179e"
             ],
             [
              0.4444444444444444,
              "#bd3786"
             ],
             [
              0.5555555555555556,
              "#d8576b"
             ],
             [
              0.6666666666666666,
              "#ed7953"
             ],
             [
              0.7777777777777778,
              "#fb9f3a"
             ],
             [
              0.8888888888888888,
              "#fdca26"
             ],
             [
              1,
              "#f0f921"
             ]
            ],
            "type": "heatmap"
           }
          ],
          "heatmapgl": [
           {
            "colorbar": {
             "outlinewidth": 0,
             "ticks": ""
            },
            "colorscale": [
             [
              0,
              "#0d0887"
             ],
             [
              0.1111111111111111,
              "#46039f"
             ],
             [
              0.2222222222222222,
              "#7201a8"
             ],
             [
              0.3333333333333333,
              "#9c179e"
             ],
             [
              0.4444444444444444,
              "#bd3786"
             ],
             [
              0.5555555555555556,
              "#d8576b"
             ],
             [
              0.6666666666666666,
              "#ed7953"
             ],
             [
              0.7777777777777778,
              "#fb9f3a"
             ],
             [
              0.8888888888888888,
              "#fdca26"
             ],
             [
              1,
              "#f0f921"
             ]
            ],
            "type": "heatmapgl"
           }
          ],
          "histogram": [
           {
            "marker": {
             "pattern": {
              "fillmode": "overlay",
              "size": 10,
              "solidity": 0.2
             }
            },
            "type": "histogram"
           }
          ],
          "histogram2d": [
           {
            "colorbar": {
             "outlinewidth": 0,
             "ticks": ""
            },
            "colorscale": [
             [
              0,
              "#0d0887"
             ],
             [
              0.1111111111111111,
              "#46039f"
             ],
             [
              0.2222222222222222,
              "#7201a8"
             ],
             [
              0.3333333333333333,
              "#9c179e"
             ],
             [
              0.4444444444444444,
              "#bd3786"
             ],
             [
              0.5555555555555556,
              "#d8576b"
             ],
             [
              0.6666666666666666,
              "#ed7953"
             ],
             [
              0.7777777777777778,
              "#fb9f3a"
             ],
             [
              0.8888888888888888,
              "#fdca26"
             ],
             [
              1,
              "#f0f921"
             ]
            ],
            "type": "histogram2d"
           }
          ],
          "histogram2dcontour": [
           {
            "colorbar": {
             "outlinewidth": 0,
             "ticks": ""
            },
            "colorscale": [
             [
              0,
              "#0d0887"
             ],
             [
              0.1111111111111111,
              "#46039f"
             ],
             [
              0.2222222222222222,
              "#7201a8"
             ],
             [
              0.3333333333333333,
              "#9c179e"
             ],
             [
              0.4444444444444444,
              "#bd3786"
             ],
             [
              0.5555555555555556,
              "#d8576b"
             ],
             [
              0.6666666666666666,
              "#ed7953"
             ],
             [
              0.7777777777777778,
              "#fb9f3a"
             ],
             [
              0.8888888888888888,
              "#fdca26"
             ],
             [
              1,
              "#f0f921"
             ]
            ],
            "type": "histogram2dcontour"
           }
          ],
          "mesh3d": [
           {
            "colorbar": {
             "outlinewidth": 0,
             "ticks": ""
            },
            "type": "mesh3d"
           }
          ],
          "parcoords": [
           {
            "line": {
             "colorbar": {
              "outlinewidth": 0,
              "ticks": ""
             }
            },
            "type": "parcoords"
           }
          ],
          "pie": [
           {
            "automargin": true,
            "type": "pie"
           }
          ],
          "scatter": [
           {
            "fillpattern": {
             "fillmode": "overlay",
             "size": 10,
             "solidity": 0.2
            },
            "type": "scatter"
           }
          ],
          "scatter3d": [
           {
            "line": {
             "colorbar": {
              "outlinewidth": 0,
              "ticks": ""
             }
            },
            "marker": {
             "colorbar": {
              "outlinewidth": 0,
              "ticks": ""
             }
            },
            "type": "scatter3d"
           }
          ],
          "scattercarpet": [
           {
            "marker": {
             "colorbar": {
              "outlinewidth": 0,
              "ticks": ""
             }
            },
            "type": "scattercarpet"
           }
          ],
          "scattergeo": [
           {
            "marker": {
             "colorbar": {
              "outlinewidth": 0,
              "ticks": ""
             }
            },
            "type": "scattergeo"
           }
          ],
          "scattergl": [
           {
            "marker": {
             "colorbar": {
              "outlinewidth": 0,
              "ticks": ""
             }
            },
            "type": "scattergl"
           }
          ],
          "scattermapbox": [
           {
            "marker": {
             "colorbar": {
              "outlinewidth": 0,
              "ticks": ""
             }
            },
            "type": "scattermapbox"
           }
          ],
          "scatterpolar": [
           {
            "marker": {
             "colorbar": {
              "outlinewidth": 0,
              "ticks": ""
             }
            },
            "type": "scatterpolar"
           }
          ],
          "scatterpolargl": [
           {
            "marker": {
             "colorbar": {
              "outlinewidth": 0,
              "ticks": ""
             }
            },
            "type": "scatterpolargl"
           }
          ],
          "scatterternary": [
           {
            "marker": {
             "colorbar": {
              "outlinewidth": 0,
              "ticks": ""
             }
            },
            "type": "scatterternary"
           }
          ],
          "surface": [
           {
            "colorbar": {
             "outlinewidth": 0,
             "ticks": ""
            },
            "colorscale": [
             [
              0,
              "#0d0887"
             ],
             [
              0.1111111111111111,
              "#46039f"
             ],
             [
              0.2222222222222222,
              "#7201a8"
             ],
             [
              0.3333333333333333,
              "#9c179e"
             ],
             [
              0.4444444444444444,
              "#bd3786"
             ],
             [
              0.5555555555555556,
              "#d8576b"
             ],
             [
              0.6666666666666666,
              "#ed7953"
             ],
             [
              0.7777777777777778,
              "#fb9f3a"
             ],
             [
              0.8888888888888888,
              "#fdca26"
             ],
             [
              1,
              "#f0f921"
             ]
            ],
            "type": "surface"
           }
          ],
          "table": [
           {
            "cells": {
             "fill": {
              "color": "#EBF0F8"
             },
             "line": {
              "color": "white"
             }
            },
            "header": {
             "fill": {
              "color": "#C8D4E3"
             },
             "line": {
              "color": "white"
             }
            },
            "type": "table"
           }
          ]
         },
         "layout": {
          "annotationdefaults": {
           "arrowcolor": "#2a3f5f",
           "arrowhead": 0,
           "arrowwidth": 1
          },
          "autotypenumbers": "strict",
          "coloraxis": {
           "colorbar": {
            "outlinewidth": 0,
            "ticks": ""
           }
          },
          "colorscale": {
           "diverging": [
            [
             0,
             "#8e0152"
            ],
            [
             0.1,
             "#c51b7d"
            ],
            [
             0.2,
             "#de77ae"
            ],
            [
             0.3,
             "#f1b6da"
            ],
            [
             0.4,
             "#fde0ef"
            ],
            [
             0.5,
             "#f7f7f7"
            ],
            [
             0.6,
             "#e6f5d0"
            ],
            [
             0.7,
             "#b8e186"
            ],
            [
             0.8,
             "#7fbc41"
            ],
            [
             0.9,
             "#4d9221"
            ],
            [
             1,
             "#276419"
            ]
           ],
           "sequential": [
            [
             0,
             "#0d0887"
            ],
            [
             0.1111111111111111,
             "#46039f"
            ],
            [
             0.2222222222222222,
             "#7201a8"
            ],
            [
             0.3333333333333333,
             "#9c179e"
            ],
            [
             0.4444444444444444,
             "#bd3786"
            ],
            [
             0.5555555555555556,
             "#d8576b"
            ],
            [
             0.6666666666666666,
             "#ed7953"
            ],
            [
             0.7777777777777778,
             "#fb9f3a"
            ],
            [
             0.8888888888888888,
             "#fdca26"
            ],
            [
             1,
             "#f0f921"
            ]
           ],
           "sequentialminus": [
            [
             0,
             "#0d0887"
            ],
            [
             0.1111111111111111,
             "#46039f"
            ],
            [
             0.2222222222222222,
             "#7201a8"
            ],
            [
             0.3333333333333333,
             "#9c179e"
            ],
            [
             0.4444444444444444,
             "#bd3786"
            ],
            [
             0.5555555555555556,
             "#d8576b"
            ],
            [
             0.6666666666666666,
             "#ed7953"
            ],
            [
             0.7777777777777778,
             "#fb9f3a"
            ],
            [
             0.8888888888888888,
             "#fdca26"
            ],
            [
             1,
             "#f0f921"
            ]
           ]
          },
          "colorway": [
           "#636efa",
           "#EF553B",
           "#00cc96",
           "#ab63fa",
           "#FFA15A",
           "#19d3f3",
           "#FF6692",
           "#B6E880",
           "#FF97FF",
           "#FECB52"
          ],
          "font": {
           "color": "#2a3f5f"
          },
          "geo": {
           "bgcolor": "white",
           "lakecolor": "white",
           "landcolor": "#E5ECF6",
           "showlakes": true,
           "showland": true,
           "subunitcolor": "white"
          },
          "hoverlabel": {
           "align": "left"
          },
          "hovermode": "closest",
          "mapbox": {
           "style": "light"
          },
          "paper_bgcolor": "white",
          "plot_bgcolor": "#E5ECF6",
          "polar": {
           "angularaxis": {
            "gridcolor": "white",
            "linecolor": "white",
            "ticks": ""
           },
           "bgcolor": "#E5ECF6",
           "radialaxis": {
            "gridcolor": "white",
            "linecolor": "white",
            "ticks": ""
           }
          },
          "scene": {
           "xaxis": {
            "backgroundcolor": "#E5ECF6",
            "gridcolor": "white",
            "gridwidth": 2,
            "linecolor": "white",
            "showbackground": true,
            "ticks": "",
            "zerolinecolor": "white"
           },
           "yaxis": {
            "backgroundcolor": "#E5ECF6",
            "gridcolor": "white",
            "gridwidth": 2,
            "linecolor": "white",
            "showbackground": true,
            "ticks": "",
            "zerolinecolor": "white"
           },
           "zaxis": {
            "backgroundcolor": "#E5ECF6",
            "gridcolor": "white",
            "gridwidth": 2,
            "linecolor": "white",
            "showbackground": true,
            "ticks": "",
            "zerolinecolor": "white"
           }
          },
          "shapedefaults": {
           "line": {
            "color": "#2a3f5f"
           }
          },
          "ternary": {
           "aaxis": {
            "gridcolor": "white",
            "linecolor": "white",
            "ticks": ""
           },
           "baxis": {
            "gridcolor": "white",
            "linecolor": "white",
            "ticks": ""
           },
           "bgcolor": "#E5ECF6",
           "caxis": {
            "gridcolor": "white",
            "linecolor": "white",
            "ticks": ""
           }
          },
          "title": {
           "x": 0.05
          },
          "xaxis": {
           "automargin": true,
           "gridcolor": "white",
           "linecolor": "white",
           "ticks": "",
           "title": {
            "standoff": 15
           },
           "zerolinecolor": "white",
           "zerolinewidth": 2
          },
          "yaxis": {
           "automargin": true,
           "gridcolor": "white",
           "linecolor": "white",
           "ticks": "",
           "title": {
            "standoff": 15
           },
           "zerolinecolor": "white",
           "zerolinewidth": 2
          }
         }
        },
        "title": {
         "font": {
          "color": "#4D5663"
         }
        },
        "xaxis": {
         "gridcolor": "#E1E5ED",
         "showgrid": true,
         "tickfont": {
          "color": "#4D5663"
         },
         "title": {
          "font": {
           "color": "#4D5663"
          },
          "text": ""
         },
         "zerolinecolor": "#E1E5ED"
        },
        "yaxis": {
         "gridcolor": "#E1E5ED",
         "showgrid": true,
         "tickfont": {
          "color": "#4D5663"
         },
         "title": {
          "font": {
           "color": "#4D5663"
          },
          "text": ""
         },
         "zerolinecolor": "#E1E5ED"
        }
       }
      },
      "text/html": [
       "<div>                            <div id=\"7e0f011b-50ff-45bc-bde3-ca66088cf620\" class=\"plotly-graph-div\" style=\"height:525px; width:100%;\"></div>            <script type=\"text/javascript\">                require([\"plotly\"], function(Plotly) {                    window.PLOTLYENV=window.PLOTLYENV || {};\n",
       "                    window.PLOTLYENV.BASE_URL='https://plot.ly';                                    if (document.getElementById(\"7e0f011b-50ff-45bc-bde3-ca66088cf620\")) {                    Plotly.newPlot(                        \"7e0f011b-50ff-45bc-bde3-ca66088cf620\",                        [{\"marker\":{\"color\":\"rgba(255, 153, 51, 0.6)\",\"line\":{\"color\":\"rgba(255, 153, 51, 1.0)\",\"width\":1}},\"name\":\"Values\",\"orientation\":\"v\",\"text\":\"\",\"x\":[\"A\",\"B\",\"C\"],\"y\":[23,55,24],\"type\":\"bar\"}],                        {\"legend\":{\"bgcolor\":\"#F5F6F9\",\"font\":{\"color\":\"#4D5663\"}},\"paper_bgcolor\":\"#F5F6F9\",\"plot_bgcolor\":\"#F5F6F9\",\"template\":{\"data\":{\"barpolar\":[{\"marker\":{\"line\":{\"color\":\"#E5ECF6\",\"width\":0.5},\"pattern\":{\"fillmode\":\"overlay\",\"size\":10,\"solidity\":0.2}},\"type\":\"barpolar\"}],\"bar\":[{\"error_x\":{\"color\":\"#2a3f5f\"},\"error_y\":{\"color\":\"#2a3f5f\"},\"marker\":{\"line\":{\"color\":\"#E5ECF6\",\"width\":0.5},\"pattern\":{\"fillmode\":\"overlay\",\"size\":10,\"solidity\":0.2}},\"type\":\"bar\"}],\"carpet\":[{\"aaxis\":{\"endlinecolor\":\"#2a3f5f\",\"gridcolor\":\"white\",\"linecolor\":\"white\",\"minorgridcolor\":\"white\",\"startlinecolor\":\"#2a3f5f\"},\"baxis\":{\"endlinecolor\":\"#2a3f5f\",\"gridcolor\":\"white\",\"linecolor\":\"white\",\"minorgridcolor\":\"white\",\"startlinecolor\":\"#2a3f5f\"},\"type\":\"carpet\"}],\"choropleth\":[{\"colorbar\":{\"outlinewidth\":0,\"ticks\":\"\"},\"type\":\"choropleth\"}],\"contourcarpet\":[{\"colorbar\":{\"outlinewidth\":0,\"ticks\":\"\"},\"type\":\"contourcarpet\"}],\"contour\":[{\"colorbar\":{\"outlinewidth\":0,\"ticks\":\"\"},\"colorscale\":[[0.0,\"#0d0887\"],[0.1111111111111111,\"#46039f\"],[0.2222222222222222,\"#7201a8\"],[0.3333333333333333,\"#9c179e\"],[0.4444444444444444,\"#bd3786\"],[0.5555555555555556,\"#d8576b\"],[0.6666666666666666,\"#ed7953\"],[0.7777777777777778,\"#fb9f3a\"],[0.8888888888888888,\"#fdca26\"],[1.0,\"#f0f921\"]],\"type\":\"contour\"}],\"heatmapgl\":[{\"colorbar\":{\"outlinewidth\":0,\"ticks\":\"\"},\"colorscale\":[[0.0,\"#0d0887\"],[0.1111111111111111,\"#46039f\"],[0.2222222222222222,\"#7201a8\"],[0.3333333333333333,\"#9c179e\"],[0.4444444444444444,\"#bd3786\"],[0.5555555555555556,\"#d8576b\"],[0.6666666666666666,\"#ed7953\"],[0.7777777777777778,\"#fb9f3a\"],[0.8888888888888888,\"#fdca26\"],[1.0,\"#f0f921\"]],\"type\":\"heatmapgl\"}],\"heatmap\":[{\"colorbar\":{\"outlinewidth\":0,\"ticks\":\"\"},\"colorscale\":[[0.0,\"#0d0887\"],[0.1111111111111111,\"#46039f\"],[0.2222222222222222,\"#7201a8\"],[0.3333333333333333,\"#9c179e\"],[0.4444444444444444,\"#bd3786\"],[0.5555555555555556,\"#d8576b\"],[0.6666666666666666,\"#ed7953\"],[0.7777777777777778,\"#fb9f3a\"],[0.8888888888888888,\"#fdca26\"],[1.0,\"#f0f921\"]],\"type\":\"heatmap\"}],\"histogram2dcontour\":[{\"colorbar\":{\"outlinewidth\":0,\"ticks\":\"\"},\"colorscale\":[[0.0,\"#0d0887\"],[0.1111111111111111,\"#46039f\"],[0.2222222222222222,\"#7201a8\"],[0.3333333333333333,\"#9c179e\"],[0.4444444444444444,\"#bd3786\"],[0.5555555555555556,\"#d8576b\"],[0.6666666666666666,\"#ed7953\"],[0.7777777777777778,\"#fb9f3a\"],[0.8888888888888888,\"#fdca26\"],[1.0,\"#f0f921\"]],\"type\":\"histogram2dcontour\"}],\"histogram2d\":[{\"colorbar\":{\"outlinewidth\":0,\"ticks\":\"\"},\"colorscale\":[[0.0,\"#0d0887\"],[0.1111111111111111,\"#46039f\"],[0.2222222222222222,\"#7201a8\"],[0.3333333333333333,\"#9c179e\"],[0.4444444444444444,\"#bd3786\"],[0.5555555555555556,\"#d8576b\"],[0.6666666666666666,\"#ed7953\"],[0.7777777777777778,\"#fb9f3a\"],[0.8888888888888888,\"#fdca26\"],[1.0,\"#f0f921\"]],\"type\":\"histogram2d\"}],\"histogram\":[{\"marker\":{\"pattern\":{\"fillmode\":\"overlay\",\"size\":10,\"solidity\":0.2}},\"type\":\"histogram\"}],\"mesh3d\":[{\"colorbar\":{\"outlinewidth\":0,\"ticks\":\"\"},\"type\":\"mesh3d\"}],\"parcoords\":[{\"line\":{\"colorbar\":{\"outlinewidth\":0,\"ticks\":\"\"}},\"type\":\"parcoords\"}],\"pie\":[{\"automargin\":true,\"type\":\"pie\"}],\"scatter3d\":[{\"line\":{\"colorbar\":{\"outlinewidth\":0,\"ticks\":\"\"}},\"marker\":{\"colorbar\":{\"outlinewidth\":0,\"ticks\":\"\"}},\"type\":\"scatter3d\"}],\"scattercarpet\":[{\"marker\":{\"colorbar\":{\"outlinewidth\":0,\"ticks\":\"\"}},\"type\":\"scattercarpet\"}],\"scattergeo\":[{\"marker\":{\"colorbar\":{\"outlinewidth\":0,\"ticks\":\"\"}},\"type\":\"scattergeo\"}],\"scattergl\":[{\"marker\":{\"colorbar\":{\"outlinewidth\":0,\"ticks\":\"\"}},\"type\":\"scattergl\"}],\"scattermapbox\":[{\"marker\":{\"colorbar\":{\"outlinewidth\":0,\"ticks\":\"\"}},\"type\":\"scattermapbox\"}],\"scatterpolargl\":[{\"marker\":{\"colorbar\":{\"outlinewidth\":0,\"ticks\":\"\"}},\"type\":\"scatterpolargl\"}],\"scatterpolar\":[{\"marker\":{\"colorbar\":{\"outlinewidth\":0,\"ticks\":\"\"}},\"type\":\"scatterpolar\"}],\"scatter\":[{\"fillpattern\":{\"fillmode\":\"overlay\",\"size\":10,\"solidity\":0.2},\"type\":\"scatter\"}],\"scatterternary\":[{\"marker\":{\"colorbar\":{\"outlinewidth\":0,\"ticks\":\"\"}},\"type\":\"scatterternary\"}],\"surface\":[{\"colorbar\":{\"outlinewidth\":0,\"ticks\":\"\"},\"colorscale\":[[0.0,\"#0d0887\"],[0.1111111111111111,\"#46039f\"],[0.2222222222222222,\"#7201a8\"],[0.3333333333333333,\"#9c179e\"],[0.4444444444444444,\"#bd3786\"],[0.5555555555555556,\"#d8576b\"],[0.6666666666666666,\"#ed7953\"],[0.7777777777777778,\"#fb9f3a\"],[0.8888888888888888,\"#fdca26\"],[1.0,\"#f0f921\"]],\"type\":\"surface\"}],\"table\":[{\"cells\":{\"fill\":{\"color\":\"#EBF0F8\"},\"line\":{\"color\":\"white\"}},\"header\":{\"fill\":{\"color\":\"#C8D4E3\"},\"line\":{\"color\":\"white\"}},\"type\":\"table\"}]},\"layout\":{\"annotationdefaults\":{\"arrowcolor\":\"#2a3f5f\",\"arrowhead\":0,\"arrowwidth\":1},\"autotypenumbers\":\"strict\",\"coloraxis\":{\"colorbar\":{\"outlinewidth\":0,\"ticks\":\"\"}},\"colorscale\":{\"diverging\":[[0,\"#8e0152\"],[0.1,\"#c51b7d\"],[0.2,\"#de77ae\"],[0.3,\"#f1b6da\"],[0.4,\"#fde0ef\"],[0.5,\"#f7f7f7\"],[0.6,\"#e6f5d0\"],[0.7,\"#b8e186\"],[0.8,\"#7fbc41\"],[0.9,\"#4d9221\"],[1,\"#276419\"]],\"sequential\":[[0.0,\"#0d0887\"],[0.1111111111111111,\"#46039f\"],[0.2222222222222222,\"#7201a8\"],[0.3333333333333333,\"#9c179e\"],[0.4444444444444444,\"#bd3786\"],[0.5555555555555556,\"#d8576b\"],[0.6666666666666666,\"#ed7953\"],[0.7777777777777778,\"#fb9f3a\"],[0.8888888888888888,\"#fdca26\"],[1.0,\"#f0f921\"]],\"sequentialminus\":[[0.0,\"#0d0887\"],[0.1111111111111111,\"#46039f\"],[0.2222222222222222,\"#7201a8\"],[0.3333333333333333,\"#9c179e\"],[0.4444444444444444,\"#bd3786\"],[0.5555555555555556,\"#d8576b\"],[0.6666666666666666,\"#ed7953\"],[0.7777777777777778,\"#fb9f3a\"],[0.8888888888888888,\"#fdca26\"],[1.0,\"#f0f921\"]]},\"colorway\":[\"#636efa\",\"#EF553B\",\"#00cc96\",\"#ab63fa\",\"#FFA15A\",\"#19d3f3\",\"#FF6692\",\"#B6E880\",\"#FF97FF\",\"#FECB52\"],\"font\":{\"color\":\"#2a3f5f\"},\"geo\":{\"bgcolor\":\"white\",\"lakecolor\":\"white\",\"landcolor\":\"#E5ECF6\",\"showlakes\":true,\"showland\":true,\"subunitcolor\":\"white\"},\"hoverlabel\":{\"align\":\"left\"},\"hovermode\":\"closest\",\"mapbox\":{\"style\":\"light\"},\"paper_bgcolor\":\"white\",\"plot_bgcolor\":\"#E5ECF6\",\"polar\":{\"angularaxis\":{\"gridcolor\":\"white\",\"linecolor\":\"white\",\"ticks\":\"\"},\"bgcolor\":\"#E5ECF6\",\"radialaxis\":{\"gridcolor\":\"white\",\"linecolor\":\"white\",\"ticks\":\"\"}},\"scene\":{\"xaxis\":{\"backgroundcolor\":\"#E5ECF6\",\"gridcolor\":\"white\",\"gridwidth\":2,\"linecolor\":\"white\",\"showbackground\":true,\"ticks\":\"\",\"zerolinecolor\":\"white\"},\"yaxis\":{\"backgroundcolor\":\"#E5ECF6\",\"gridcolor\":\"white\",\"gridwidth\":2,\"linecolor\":\"white\",\"showbackground\":true,\"ticks\":\"\",\"zerolinecolor\":\"white\"},\"zaxis\":{\"backgroundcolor\":\"#E5ECF6\",\"gridcolor\":\"white\",\"gridwidth\":2,\"linecolor\":\"white\",\"showbackground\":true,\"ticks\":\"\",\"zerolinecolor\":\"white\"}},\"shapedefaults\":{\"line\":{\"color\":\"#2a3f5f\"}},\"ternary\":{\"aaxis\":{\"gridcolor\":\"white\",\"linecolor\":\"white\",\"ticks\":\"\"},\"baxis\":{\"gridcolor\":\"white\",\"linecolor\":\"white\",\"ticks\":\"\"},\"bgcolor\":\"#E5ECF6\",\"caxis\":{\"gridcolor\":\"white\",\"linecolor\":\"white\",\"ticks\":\"\"}},\"title\":{\"x\":0.05},\"xaxis\":{\"automargin\":true,\"gridcolor\":\"white\",\"linecolor\":\"white\",\"ticks\":\"\",\"title\":{\"standoff\":15},\"zerolinecolor\":\"white\",\"zerolinewidth\":2},\"yaxis\":{\"automargin\":true,\"gridcolor\":\"white\",\"linecolor\":\"white\",\"ticks\":\"\",\"title\":{\"standoff\":15},\"zerolinecolor\":\"white\",\"zerolinewidth\":2}}},\"title\":{\"font\":{\"color\":\"#4D5663\"}},\"xaxis\":{\"gridcolor\":\"#E1E5ED\",\"showgrid\":true,\"tickfont\":{\"color\":\"#4D5663\"},\"title\":{\"font\":{\"color\":\"#4D5663\"},\"text\":\"\"},\"zerolinecolor\":\"#E1E5ED\"},\"yaxis\":{\"gridcolor\":\"#E1E5ED\",\"showgrid\":true,\"tickfont\":{\"color\":\"#4D5663\"},\"title\":{\"font\":{\"color\":\"#4D5663\"},\"text\":\"\"},\"zerolinecolor\":\"#E1E5ED\"}},                        {\"showLink\": true, \"linkText\": \"Export to plot.ly\", \"plotlyServerURL\": \"https://plot.ly\", \"responsive\": true}                    ).then(function(){\n",
       "                            \n",
       "var gd = document.getElementById('7e0f011b-50ff-45bc-bde3-ca66088cf620');\n",
       "var x = new MutationObserver(function (mutations, observer) {{\n",
       "        var display = window.getComputedStyle(gd).display;\n",
       "        if (!display || display === 'none') {{\n",
       "            console.log([gd, 'removed!']);\n",
       "            Plotly.purge(gd);\n",
       "            observer.disconnect();\n",
       "        }}\n",
       "}});\n",
       "\n",
       "// Listen for the removal of the full notebook cells\n",
       "var notebookContainer = gd.closest('#notebook-container');\n",
       "if (notebookContainer) {{\n",
       "    x.observe(notebookContainer, {childList: true});\n",
       "}}\n",
       "\n",
       "// Listen for the clearing of the current output cell\n",
       "var outputEl = gd.closest('.output');\n",
       "if (outputEl) {{\n",
       "    x.observe(outputEl, {childList: true});\n",
       "}}\n",
       "\n",
       "                        })                };                });            </script>        </div>"
      ]
     },
     "metadata": {},
     "output_type": "display_data"
    }
   ],
   "source": [
    "df2.iplot(kind='bar',x='Category',y='Values')"
   ]
  },
  {
   "cell_type": "code",
   "execution_count": 32,
   "id": "ce8323eb",
   "metadata": {},
   "outputs": [
    {
     "data": {
      "application/vnd.plotly.v1+json": {
       "config": {
        "linkText": "Export to plot.ly",
        "plotlyServerURL": "https://plot.ly",
        "showLink": true
       },
       "data": [
        {
         "marker": {
          "color": "rgba(255, 153, 51, 0.6)",
          "line": {
           "color": "rgba(255, 153, 51, 1.0)",
           "width": 1
          }
         },
         "name": "None",
         "orientation": "v",
         "text": "",
         "type": "bar",
         "x": [
          "A",
          "B",
          "C",
          "D"
         ],
         "y": [
          -5.8949141283456505,
          -13.680120256703777,
          18.32517217549468,
          1.3458313677057738
         ]
        }
       ],
       "layout": {
        "legend": {
         "bgcolor": "#F5F6F9",
         "font": {
          "color": "#4D5663"
         }
        },
        "paper_bgcolor": "#F5F6F9",
        "plot_bgcolor": "#F5F6F9",
        "template": {
         "data": {
          "bar": [
           {
            "error_x": {
             "color": "#2a3f5f"
            },
            "error_y": {
             "color": "#2a3f5f"
            },
            "marker": {
             "line": {
              "color": "#E5ECF6",
              "width": 0.5
             },
             "pattern": {
              "fillmode": "overlay",
              "size": 10,
              "solidity": 0.2
             }
            },
            "type": "bar"
           }
          ],
          "barpolar": [
           {
            "marker": {
             "line": {
              "color": "#E5ECF6",
              "width": 0.5
             },
             "pattern": {
              "fillmode": "overlay",
              "size": 10,
              "solidity": 0.2
             }
            },
            "type": "barpolar"
           }
          ],
          "carpet": [
           {
            "aaxis": {
             "endlinecolor": "#2a3f5f",
             "gridcolor": "white",
             "linecolor": "white",
             "minorgridcolor": "white",
             "startlinecolor": "#2a3f5f"
            },
            "baxis": {
             "endlinecolor": "#2a3f5f",
             "gridcolor": "white",
             "linecolor": "white",
             "minorgridcolor": "white",
             "startlinecolor": "#2a3f5f"
            },
            "type": "carpet"
           }
          ],
          "choropleth": [
           {
            "colorbar": {
             "outlinewidth": 0,
             "ticks": ""
            },
            "type": "choropleth"
           }
          ],
          "contour": [
           {
            "colorbar": {
             "outlinewidth": 0,
             "ticks": ""
            },
            "colorscale": [
             [
              0,
              "#0d0887"
             ],
             [
              0.1111111111111111,
              "#46039f"
             ],
             [
              0.2222222222222222,
              "#7201a8"
             ],
             [
              0.3333333333333333,
              "#9c179e"
             ],
             [
              0.4444444444444444,
              "#bd3786"
             ],
             [
              0.5555555555555556,
              "#d8576b"
             ],
             [
              0.6666666666666666,
              "#ed7953"
             ],
             [
              0.7777777777777778,
              "#fb9f3a"
             ],
             [
              0.8888888888888888,
              "#fdca26"
             ],
             [
              1,
              "#f0f921"
             ]
            ],
            "type": "contour"
           }
          ],
          "contourcarpet": [
           {
            "colorbar": {
             "outlinewidth": 0,
             "ticks": ""
            },
            "type": "contourcarpet"
           }
          ],
          "heatmap": [
           {
            "colorbar": {
             "outlinewidth": 0,
             "ticks": ""
            },
            "colorscale": [
             [
              0,
              "#0d0887"
             ],
             [
              0.1111111111111111,
              "#46039f"
             ],
             [
              0.2222222222222222,
              "#7201a8"
             ],
             [
              0.3333333333333333,
              "#9c179e"
             ],
             [
              0.4444444444444444,
              "#bd3786"
             ],
             [
              0.5555555555555556,
              "#d8576b"
             ],
             [
              0.6666666666666666,
              "#ed7953"
             ],
             [
              0.7777777777777778,
              "#fb9f3a"
             ],
             [
              0.8888888888888888,
              "#fdca26"
             ],
             [
              1,
              "#f0f921"
             ]
            ],
            "type": "heatmap"
           }
          ],
          "heatmapgl": [
           {
            "colorbar": {
             "outlinewidth": 0,
             "ticks": ""
            },
            "colorscale": [
             [
              0,
              "#0d0887"
             ],
             [
              0.1111111111111111,
              "#46039f"
             ],
             [
              0.2222222222222222,
              "#7201a8"
             ],
             [
              0.3333333333333333,
              "#9c179e"
             ],
             [
              0.4444444444444444,
              "#bd3786"
             ],
             [
              0.5555555555555556,
              "#d8576b"
             ],
             [
              0.6666666666666666,
              "#ed7953"
             ],
             [
              0.7777777777777778,
              "#fb9f3a"
             ],
             [
              0.8888888888888888,
              "#fdca26"
             ],
             [
              1,
              "#f0f921"
             ]
            ],
            "type": "heatmapgl"
           }
          ],
          "histogram": [
           {
            "marker": {
             "pattern": {
              "fillmode": "overlay",
              "size": 10,
              "solidity": 0.2
             }
            },
            "type": "histogram"
           }
          ],
          "histogram2d": [
           {
            "colorbar": {
             "outlinewidth": 0,
             "ticks": ""
            },
            "colorscale": [
             [
              0,
              "#0d0887"
             ],
             [
              0.1111111111111111,
              "#46039f"
             ],
             [
              0.2222222222222222,
              "#7201a8"
             ],
             [
              0.3333333333333333,
              "#9c179e"
             ],
             [
              0.4444444444444444,
              "#bd3786"
             ],
             [
              0.5555555555555556,
              "#d8576b"
             ],
             [
              0.6666666666666666,
              "#ed7953"
             ],
             [
              0.7777777777777778,
              "#fb9f3a"
             ],
             [
              0.8888888888888888,
              "#fdca26"
             ],
             [
              1,
              "#f0f921"
             ]
            ],
            "type": "histogram2d"
           }
          ],
          "histogram2dcontour": [
           {
            "colorbar": {
             "outlinewidth": 0,
             "ticks": ""
            },
            "colorscale": [
             [
              0,
              "#0d0887"
             ],
             [
              0.1111111111111111,
              "#46039f"
             ],
             [
              0.2222222222222222,
              "#7201a8"
             ],
             [
              0.3333333333333333,
              "#9c179e"
             ],
             [
              0.4444444444444444,
              "#bd3786"
             ],
             [
              0.5555555555555556,
              "#d8576b"
             ],
             [
              0.6666666666666666,
              "#ed7953"
             ],
             [
              0.7777777777777778,
              "#fb9f3a"
             ],
             [
              0.8888888888888888,
              "#fdca26"
             ],
             [
              1,
              "#f0f921"
             ]
            ],
            "type": "histogram2dcontour"
           }
          ],
          "mesh3d": [
           {
            "colorbar": {
             "outlinewidth": 0,
             "ticks": ""
            },
            "type": "mesh3d"
           }
          ],
          "parcoords": [
           {
            "line": {
             "colorbar": {
              "outlinewidth": 0,
              "ticks": ""
             }
            },
            "type": "parcoords"
           }
          ],
          "pie": [
           {
            "automargin": true,
            "type": "pie"
           }
          ],
          "scatter": [
           {
            "fillpattern": {
             "fillmode": "overlay",
             "size": 10,
             "solidity": 0.2
            },
            "type": "scatter"
           }
          ],
          "scatter3d": [
           {
            "line": {
             "colorbar": {
              "outlinewidth": 0,
              "ticks": ""
             }
            },
            "marker": {
             "colorbar": {
              "outlinewidth": 0,
              "ticks": ""
             }
            },
            "type": "scatter3d"
           }
          ],
          "scattercarpet": [
           {
            "marker": {
             "colorbar": {
              "outlinewidth": 0,
              "ticks": ""
             }
            },
            "type": "scattercarpet"
           }
          ],
          "scattergeo": [
           {
            "marker": {
             "colorbar": {
              "outlinewidth": 0,
              "ticks": ""
             }
            },
            "type": "scattergeo"
           }
          ],
          "scattergl": [
           {
            "marker": {
             "colorbar": {
              "outlinewidth": 0,
              "ticks": ""
             }
            },
            "type": "scattergl"
           }
          ],
          "scattermapbox": [
           {
            "marker": {
             "colorbar": {
              "outlinewidth": 0,
              "ticks": ""
             }
            },
            "type": "scattermapbox"
           }
          ],
          "scatterpolar": [
           {
            "marker": {
             "colorbar": {
              "outlinewidth": 0,
              "ticks": ""
             }
            },
            "type": "scatterpolar"
           }
          ],
          "scatterpolargl": [
           {
            "marker": {
             "colorbar": {
              "outlinewidth": 0,
              "ticks": ""
             }
            },
            "type": "scatterpolargl"
           }
          ],
          "scatterternary": [
           {
            "marker": {
             "colorbar": {
              "outlinewidth": 0,
              "ticks": ""
             }
            },
            "type": "scatterternary"
           }
          ],
          "surface": [
           {
            "colorbar": {
             "outlinewidth": 0,
             "ticks": ""
            },
            "colorscale": [
             [
              0,
              "#0d0887"
             ],
             [
              0.1111111111111111,
              "#46039f"
             ],
             [
              0.2222222222222222,
              "#7201a8"
             ],
             [
              0.3333333333333333,
              "#9c179e"
             ],
             [
              0.4444444444444444,
              "#bd3786"
             ],
             [
              0.5555555555555556,
              "#d8576b"
             ],
             [
              0.6666666666666666,
              "#ed7953"
             ],
             [
              0.7777777777777778,
              "#fb9f3a"
             ],
             [
              0.8888888888888888,
              "#fdca26"
             ],
             [
              1,
              "#f0f921"
             ]
            ],
            "type": "surface"
           }
          ],
          "table": [
           {
            "cells": {
             "fill": {
              "color": "#EBF0F8"
             },
             "line": {
              "color": "white"
             }
            },
            "header": {
             "fill": {
              "color": "#C8D4E3"
             },
             "line": {
              "color": "white"
             }
            },
            "type": "table"
           }
          ]
         },
         "layout": {
          "annotationdefaults": {
           "arrowcolor": "#2a3f5f",
           "arrowhead": 0,
           "arrowwidth": 1
          },
          "autotypenumbers": "strict",
          "coloraxis": {
           "colorbar": {
            "outlinewidth": 0,
            "ticks": ""
           }
          },
          "colorscale": {
           "diverging": [
            [
             0,
             "#8e0152"
            ],
            [
             0.1,
             "#c51b7d"
            ],
            [
             0.2,
             "#de77ae"
            ],
            [
             0.3,
             "#f1b6da"
            ],
            [
             0.4,
             "#fde0ef"
            ],
            [
             0.5,
             "#f7f7f7"
            ],
            [
             0.6,
             "#e6f5d0"
            ],
            [
             0.7,
             "#b8e186"
            ],
            [
             0.8,
             "#7fbc41"
            ],
            [
             0.9,
             "#4d9221"
            ],
            [
             1,
             "#276419"
            ]
           ],
           "sequential": [
            [
             0,
             "#0d0887"
            ],
            [
             0.1111111111111111,
             "#46039f"
            ],
            [
             0.2222222222222222,
             "#7201a8"
            ],
            [
             0.3333333333333333,
             "#9c179e"
            ],
            [
             0.4444444444444444,
             "#bd3786"
            ],
            [
             0.5555555555555556,
             "#d8576b"
            ],
            [
             0.6666666666666666,
             "#ed7953"
            ],
            [
             0.7777777777777778,
             "#fb9f3a"
            ],
            [
             0.8888888888888888,
             "#fdca26"
            ],
            [
             1,
             "#f0f921"
            ]
           ],
           "sequentialminus": [
            [
             0,
             "#0d0887"
            ],
            [
             0.1111111111111111,
             "#46039f"
            ],
            [
             0.2222222222222222,
             "#7201a8"
            ],
            [
             0.3333333333333333,
             "#9c179e"
            ],
            [
             0.4444444444444444,
             "#bd3786"
            ],
            [
             0.5555555555555556,
             "#d8576b"
            ],
            [
             0.6666666666666666,
             "#ed7953"
            ],
            [
             0.7777777777777778,
             "#fb9f3a"
            ],
            [
             0.8888888888888888,
             "#fdca26"
            ],
            [
             1,
             "#f0f921"
            ]
           ]
          },
          "colorway": [
           "#636efa",
           "#EF553B",
           "#00cc96",
           "#ab63fa",
           "#FFA15A",
           "#19d3f3",
           "#FF6692",
           "#B6E880",
           "#FF97FF",
           "#FECB52"
          ],
          "font": {
           "color": "#2a3f5f"
          },
          "geo": {
           "bgcolor": "white",
           "lakecolor": "white",
           "landcolor": "#E5ECF6",
           "showlakes": true,
           "showland": true,
           "subunitcolor": "white"
          },
          "hoverlabel": {
           "align": "left"
          },
          "hovermode": "closest",
          "mapbox": {
           "style": "light"
          },
          "paper_bgcolor": "white",
          "plot_bgcolor": "#E5ECF6",
          "polar": {
           "angularaxis": {
            "gridcolor": "white",
            "linecolor": "white",
            "ticks": ""
           },
           "bgcolor": "#E5ECF6",
           "radialaxis": {
            "gridcolor": "white",
            "linecolor": "white",
            "ticks": ""
           }
          },
          "scene": {
           "xaxis": {
            "backgroundcolor": "#E5ECF6",
            "gridcolor": "white",
            "gridwidth": 2,
            "linecolor": "white",
            "showbackground": true,
            "ticks": "",
            "zerolinecolor": "white"
           },
           "yaxis": {
            "backgroundcolor": "#E5ECF6",
            "gridcolor": "white",
            "gridwidth": 2,
            "linecolor": "white",
            "showbackground": true,
            "ticks": "",
            "zerolinecolor": "white"
           },
           "zaxis": {
            "backgroundcolor": "#E5ECF6",
            "gridcolor": "white",
            "gridwidth": 2,
            "linecolor": "white",
            "showbackground": true,
            "ticks": "",
            "zerolinecolor": "white"
           }
          },
          "shapedefaults": {
           "line": {
            "color": "#2a3f5f"
           }
          },
          "ternary": {
           "aaxis": {
            "gridcolor": "white",
            "linecolor": "white",
            "ticks": ""
           },
           "baxis": {
            "gridcolor": "white",
            "linecolor": "white",
            "ticks": ""
           },
           "bgcolor": "#E5ECF6",
           "caxis": {
            "gridcolor": "white",
            "linecolor": "white",
            "ticks": ""
           }
          },
          "title": {
           "x": 0.05
          },
          "xaxis": {
           "automargin": true,
           "gridcolor": "white",
           "linecolor": "white",
           "ticks": "",
           "title": {
            "standoff": 15
           },
           "zerolinecolor": "white",
           "zerolinewidth": 2
          },
          "yaxis": {
           "automargin": true,
           "gridcolor": "white",
           "linecolor": "white",
           "ticks": "",
           "title": {
            "standoff": 15
           },
           "zerolinecolor": "white",
           "zerolinewidth": 2
          }
         }
        },
        "title": {
         "font": {
          "color": "#4D5663"
         }
        },
        "xaxis": {
         "gridcolor": "#E1E5ED",
         "showgrid": true,
         "tickfont": {
          "color": "#4D5663"
         },
         "title": {
          "font": {
           "color": "#4D5663"
          },
          "text": ""
         },
         "zerolinecolor": "#E1E5ED"
        },
        "yaxis": {
         "gridcolor": "#E1E5ED",
         "showgrid": true,
         "tickfont": {
          "color": "#4D5663"
         },
         "title": {
          "font": {
           "color": "#4D5663"
          },
          "text": ""
         },
         "zerolinecolor": "#E1E5ED"
        }
       }
      },
      "text/html": [
       "<div>                            <div id=\"1aeb91a1-17d8-45c3-b310-6e9d39eb7aad\" class=\"plotly-graph-div\" style=\"height:525px; width:100%;\"></div>            <script type=\"text/javascript\">                require([\"plotly\"], function(Plotly) {                    window.PLOTLYENV=window.PLOTLYENV || {};\n",
       "                    window.PLOTLYENV.BASE_URL='https://plot.ly';                                    if (document.getElementById(\"1aeb91a1-17d8-45c3-b310-6e9d39eb7aad\")) {                    Plotly.newPlot(                        \"1aeb91a1-17d8-45c3-b310-6e9d39eb7aad\",                        [{\"marker\":{\"color\":\"rgba(255, 153, 51, 0.6)\",\"line\":{\"color\":\"rgba(255, 153, 51, 1.0)\",\"width\":1}},\"name\":\"None\",\"orientation\":\"v\",\"text\":\"\",\"x\":[\"A\",\"B\",\"C\",\"D\"],\"y\":[-5.8949141283456505,-13.680120256703777,18.32517217549468,1.3458313677057738],\"type\":\"bar\"}],                        {\"legend\":{\"bgcolor\":\"#F5F6F9\",\"font\":{\"color\":\"#4D5663\"}},\"paper_bgcolor\":\"#F5F6F9\",\"plot_bgcolor\":\"#F5F6F9\",\"template\":{\"data\":{\"barpolar\":[{\"marker\":{\"line\":{\"color\":\"#E5ECF6\",\"width\":0.5},\"pattern\":{\"fillmode\":\"overlay\",\"size\":10,\"solidity\":0.2}},\"type\":\"barpolar\"}],\"bar\":[{\"error_x\":{\"color\":\"#2a3f5f\"},\"error_y\":{\"color\":\"#2a3f5f\"},\"marker\":{\"line\":{\"color\":\"#E5ECF6\",\"width\":0.5},\"pattern\":{\"fillmode\":\"overlay\",\"size\":10,\"solidity\":0.2}},\"type\":\"bar\"}],\"carpet\":[{\"aaxis\":{\"endlinecolor\":\"#2a3f5f\",\"gridcolor\":\"white\",\"linecolor\":\"white\",\"minorgridcolor\":\"white\",\"startlinecolor\":\"#2a3f5f\"},\"baxis\":{\"endlinecolor\":\"#2a3f5f\",\"gridcolor\":\"white\",\"linecolor\":\"white\",\"minorgridcolor\":\"white\",\"startlinecolor\":\"#2a3f5f\"},\"type\":\"carpet\"}],\"choropleth\":[{\"colorbar\":{\"outlinewidth\":0,\"ticks\":\"\"},\"type\":\"choropleth\"}],\"contourcarpet\":[{\"colorbar\":{\"outlinewidth\":0,\"ticks\":\"\"},\"type\":\"contourcarpet\"}],\"contour\":[{\"colorbar\":{\"outlinewidth\":0,\"ticks\":\"\"},\"colorscale\":[[0.0,\"#0d0887\"],[0.1111111111111111,\"#46039f\"],[0.2222222222222222,\"#7201a8\"],[0.3333333333333333,\"#9c179e\"],[0.4444444444444444,\"#bd3786\"],[0.5555555555555556,\"#d8576b\"],[0.6666666666666666,\"#ed7953\"],[0.7777777777777778,\"#fb9f3a\"],[0.8888888888888888,\"#fdca26\"],[1.0,\"#f0f921\"]],\"type\":\"contour\"}],\"heatmapgl\":[{\"colorbar\":{\"outlinewidth\":0,\"ticks\":\"\"},\"colorscale\":[[0.0,\"#0d0887\"],[0.1111111111111111,\"#46039f\"],[0.2222222222222222,\"#7201a8\"],[0.3333333333333333,\"#9c179e\"],[0.4444444444444444,\"#bd3786\"],[0.5555555555555556,\"#d8576b\"],[0.6666666666666666,\"#ed7953\"],[0.7777777777777778,\"#fb9f3a\"],[0.8888888888888888,\"#fdca26\"],[1.0,\"#f0f921\"]],\"type\":\"heatmapgl\"}],\"heatmap\":[{\"colorbar\":{\"outlinewidth\":0,\"ticks\":\"\"},\"colorscale\":[[0.0,\"#0d0887\"],[0.1111111111111111,\"#46039f\"],[0.2222222222222222,\"#7201a8\"],[0.3333333333333333,\"#9c179e\"],[0.4444444444444444,\"#bd3786\"],[0.5555555555555556,\"#d8576b\"],[0.6666666666666666,\"#ed7953\"],[0.7777777777777778,\"#fb9f3a\"],[0.8888888888888888,\"#fdca26\"],[1.0,\"#f0f921\"]],\"type\":\"heatmap\"}],\"histogram2dcontour\":[{\"colorbar\":{\"outlinewidth\":0,\"ticks\":\"\"},\"colorscale\":[[0.0,\"#0d0887\"],[0.1111111111111111,\"#46039f\"],[0.2222222222222222,\"#7201a8\"],[0.3333333333333333,\"#9c179e\"],[0.4444444444444444,\"#bd3786\"],[0.5555555555555556,\"#d8576b\"],[0.6666666666666666,\"#ed7953\"],[0.7777777777777778,\"#fb9f3a\"],[0.8888888888888888,\"#fdca26\"],[1.0,\"#f0f921\"]],\"type\":\"histogram2dcontour\"}],\"histogram2d\":[{\"colorbar\":{\"outlinewidth\":0,\"ticks\":\"\"},\"colorscale\":[[0.0,\"#0d0887\"],[0.1111111111111111,\"#46039f\"],[0.2222222222222222,\"#7201a8\"],[0.3333333333333333,\"#9c179e\"],[0.4444444444444444,\"#bd3786\"],[0.5555555555555556,\"#d8576b\"],[0.6666666666666666,\"#ed7953\"],[0.7777777777777778,\"#fb9f3a\"],[0.8888888888888888,\"#fdca26\"],[1.0,\"#f0f921\"]],\"type\":\"histogram2d\"}],\"histogram\":[{\"marker\":{\"pattern\":{\"fillmode\":\"overlay\",\"size\":10,\"solidity\":0.2}},\"type\":\"histogram\"}],\"mesh3d\":[{\"colorbar\":{\"outlinewidth\":0,\"ticks\":\"\"},\"type\":\"mesh3d\"}],\"parcoords\":[{\"line\":{\"colorbar\":{\"outlinewidth\":0,\"ticks\":\"\"}},\"type\":\"parcoords\"}],\"pie\":[{\"automargin\":true,\"type\":\"pie\"}],\"scatter3d\":[{\"line\":{\"colorbar\":{\"outlinewidth\":0,\"ticks\":\"\"}},\"marker\":{\"colorbar\":{\"outlinewidth\":0,\"ticks\":\"\"}},\"type\":\"scatter3d\"}],\"scattercarpet\":[{\"marker\":{\"colorbar\":{\"outlinewidth\":0,\"ticks\":\"\"}},\"type\":\"scattercarpet\"}],\"scattergeo\":[{\"marker\":{\"colorbar\":{\"outlinewidth\":0,\"ticks\":\"\"}},\"type\":\"scattergeo\"}],\"scattergl\":[{\"marker\":{\"colorbar\":{\"outlinewidth\":0,\"ticks\":\"\"}},\"type\":\"scattergl\"}],\"scattermapbox\":[{\"marker\":{\"colorbar\":{\"outlinewidth\":0,\"ticks\":\"\"}},\"type\":\"scattermapbox\"}],\"scatterpolargl\":[{\"marker\":{\"colorbar\":{\"outlinewidth\":0,\"ticks\":\"\"}},\"type\":\"scatterpolargl\"}],\"scatterpolar\":[{\"marker\":{\"colorbar\":{\"outlinewidth\":0,\"ticks\":\"\"}},\"type\":\"scatterpolar\"}],\"scatter\":[{\"fillpattern\":{\"fillmode\":\"overlay\",\"size\":10,\"solidity\":0.2},\"type\":\"scatter\"}],\"scatterternary\":[{\"marker\":{\"colorbar\":{\"outlinewidth\":0,\"ticks\":\"\"}},\"type\":\"scatterternary\"}],\"surface\":[{\"colorbar\":{\"outlinewidth\":0,\"ticks\":\"\"},\"colorscale\":[[0.0,\"#0d0887\"],[0.1111111111111111,\"#46039f\"],[0.2222222222222222,\"#7201a8\"],[0.3333333333333333,\"#9c179e\"],[0.4444444444444444,\"#bd3786\"],[0.5555555555555556,\"#d8576b\"],[0.6666666666666666,\"#ed7953\"],[0.7777777777777778,\"#fb9f3a\"],[0.8888888888888888,\"#fdca26\"],[1.0,\"#f0f921\"]],\"type\":\"surface\"}],\"table\":[{\"cells\":{\"fill\":{\"color\":\"#EBF0F8\"},\"line\":{\"color\":\"white\"}},\"header\":{\"fill\":{\"color\":\"#C8D4E3\"},\"line\":{\"color\":\"white\"}},\"type\":\"table\"}]},\"layout\":{\"annotationdefaults\":{\"arrowcolor\":\"#2a3f5f\",\"arrowhead\":0,\"arrowwidth\":1},\"autotypenumbers\":\"strict\",\"coloraxis\":{\"colorbar\":{\"outlinewidth\":0,\"ticks\":\"\"}},\"colorscale\":{\"diverging\":[[0,\"#8e0152\"],[0.1,\"#c51b7d\"],[0.2,\"#de77ae\"],[0.3,\"#f1b6da\"],[0.4,\"#fde0ef\"],[0.5,\"#f7f7f7\"],[0.6,\"#e6f5d0\"],[0.7,\"#b8e186\"],[0.8,\"#7fbc41\"],[0.9,\"#4d9221\"],[1,\"#276419\"]],\"sequential\":[[0.0,\"#0d0887\"],[0.1111111111111111,\"#46039f\"],[0.2222222222222222,\"#7201a8\"],[0.3333333333333333,\"#9c179e\"],[0.4444444444444444,\"#bd3786\"],[0.5555555555555556,\"#d8576b\"],[0.6666666666666666,\"#ed7953\"],[0.7777777777777778,\"#fb9f3a\"],[0.8888888888888888,\"#fdca26\"],[1.0,\"#f0f921\"]],\"sequentialminus\":[[0.0,\"#0d0887\"],[0.1111111111111111,\"#46039f\"],[0.2222222222222222,\"#7201a8\"],[0.3333333333333333,\"#9c179e\"],[0.4444444444444444,\"#bd3786\"],[0.5555555555555556,\"#d8576b\"],[0.6666666666666666,\"#ed7953\"],[0.7777777777777778,\"#fb9f3a\"],[0.8888888888888888,\"#fdca26\"],[1.0,\"#f0f921\"]]},\"colorway\":[\"#636efa\",\"#EF553B\",\"#00cc96\",\"#ab63fa\",\"#FFA15A\",\"#19d3f3\",\"#FF6692\",\"#B6E880\",\"#FF97FF\",\"#FECB52\"],\"font\":{\"color\":\"#2a3f5f\"},\"geo\":{\"bgcolor\":\"white\",\"lakecolor\":\"white\",\"landcolor\":\"#E5ECF6\",\"showlakes\":true,\"showland\":true,\"subunitcolor\":\"white\"},\"hoverlabel\":{\"align\":\"left\"},\"hovermode\":\"closest\",\"mapbox\":{\"style\":\"light\"},\"paper_bgcolor\":\"white\",\"plot_bgcolor\":\"#E5ECF6\",\"polar\":{\"angularaxis\":{\"gridcolor\":\"white\",\"linecolor\":\"white\",\"ticks\":\"\"},\"bgcolor\":\"#E5ECF6\",\"radialaxis\":{\"gridcolor\":\"white\",\"linecolor\":\"white\",\"ticks\":\"\"}},\"scene\":{\"xaxis\":{\"backgroundcolor\":\"#E5ECF6\",\"gridcolor\":\"white\",\"gridwidth\":2,\"linecolor\":\"white\",\"showbackground\":true,\"ticks\":\"\",\"zerolinecolor\":\"white\"},\"yaxis\":{\"backgroundcolor\":\"#E5ECF6\",\"gridcolor\":\"white\",\"gridwidth\":2,\"linecolor\":\"white\",\"showbackground\":true,\"ticks\":\"\",\"zerolinecolor\":\"white\"},\"zaxis\":{\"backgroundcolor\":\"#E5ECF6\",\"gridcolor\":\"white\",\"gridwidth\":2,\"linecolor\":\"white\",\"showbackground\":true,\"ticks\":\"\",\"zerolinecolor\":\"white\"}},\"shapedefaults\":{\"line\":{\"color\":\"#2a3f5f\"}},\"ternary\":{\"aaxis\":{\"gridcolor\":\"white\",\"linecolor\":\"white\",\"ticks\":\"\"},\"baxis\":{\"gridcolor\":\"white\",\"linecolor\":\"white\",\"ticks\":\"\"},\"bgcolor\":\"#E5ECF6\",\"caxis\":{\"gridcolor\":\"white\",\"linecolor\":\"white\",\"ticks\":\"\"}},\"title\":{\"x\":0.05},\"xaxis\":{\"automargin\":true,\"gridcolor\":\"white\",\"linecolor\":\"white\",\"ticks\":\"\",\"title\":{\"standoff\":15},\"zerolinecolor\":\"white\",\"zerolinewidth\":2},\"yaxis\":{\"automargin\":true,\"gridcolor\":\"white\",\"linecolor\":\"white\",\"ticks\":\"\",\"title\":{\"standoff\":15},\"zerolinecolor\":\"white\",\"zerolinewidth\":2}}},\"title\":{\"font\":{\"color\":\"#4D5663\"}},\"xaxis\":{\"gridcolor\":\"#E1E5ED\",\"showgrid\":true,\"tickfont\":{\"color\":\"#4D5663\"},\"title\":{\"font\":{\"color\":\"#4D5663\"},\"text\":\"\"},\"zerolinecolor\":\"#E1E5ED\"},\"yaxis\":{\"gridcolor\":\"#E1E5ED\",\"showgrid\":true,\"tickfont\":{\"color\":\"#4D5663\"},\"title\":{\"font\":{\"color\":\"#4D5663\"},\"text\":\"\"},\"zerolinecolor\":\"#E1E5ED\"}},                        {\"showLink\": true, \"linkText\": \"Export to plot.ly\", \"plotlyServerURL\": \"https://plot.ly\", \"responsive\": true}                    ).then(function(){\n",
       "                            \n",
       "var gd = document.getElementById('1aeb91a1-17d8-45c3-b310-6e9d39eb7aad');\n",
       "var x = new MutationObserver(function (mutations, observer) {{\n",
       "        var display = window.getComputedStyle(gd).display;\n",
       "        if (!display || display === 'none') {{\n",
       "            console.log([gd, 'removed!']);\n",
       "            Plotly.purge(gd);\n",
       "            observer.disconnect();\n",
       "        }}\n",
       "}});\n",
       "\n",
       "// Listen for the removal of the full notebook cells\n",
       "var notebookContainer = gd.closest('#notebook-container');\n",
       "if (notebookContainer) {{\n",
       "    x.observe(notebookContainer, {childList: true});\n",
       "}}\n",
       "\n",
       "// Listen for the clearing of the current output cell\n",
       "var outputEl = gd.closest('.output');\n",
       "if (outputEl) {{\n",
       "    x.observe(outputEl, {childList: true});\n",
       "}}\n",
       "\n",
       "                        })                };                });            </script>        </div>"
      ]
     },
     "metadata": {},
     "output_type": "display_data"
    }
   ],
   "source": [
    "df.sum().iplot(kind='bar')"
   ]
  },
  {
   "cell_type": "code",
   "execution_count": 33,
   "id": "9efff775",
   "metadata": {},
   "outputs": [
    {
     "data": {
      "application/vnd.plotly.v1+json": {
       "config": {
        "linkText": "Export to plot.ly",
        "plotlyServerURL": "https://plot.ly",
        "showLink": true
       },
       "data": [
        {
         "boxpoints": false,
         "line": {
          "width": 1.3
         },
         "marker": {
          "color": "rgba(255, 153, 51, 1.0)"
         },
         "name": "A",
         "orientation": "v",
         "type": "box",
         "y": [
          -0.574793679676617,
          0.2235288385812236,
          -0.1416022574544621,
          1.1830002741236476,
          -0.8040111862595727,
          0.5603981980480017,
          1.0802000604334197,
          0.03958333136709857,
          -0.3365396825358062,
          0.2832793352592316,
          0.05165284183696506,
          -1.5912603445652507,
          -0.4027067517849839,
          -0.8441710552955158,
          -1.5018814837552625,
          1.0623705523783178,
          -0.6269685582361755,
          -1.0877374783470943,
          -0.04920277457916217,
          -0.49476631278334876,
          -1.102273038947587,
          -0.3613339588765766,
          0.3029725474183342,
          -0.09750304564376079,
          0.5675651772580712,
          -0.20703757151798488,
          -0.38179254271357244,
          -0.011627047618306317,
          -0.033123321889765134,
          -0.2184206692864132,
          1.1088956825411647,
          0.7847064418904279,
          1.154230440045405,
          -0.18556857223927084,
          -0.12891590454086874,
          0.18790915439432815,
          0.36290388657239836,
          -1.1000323979187554,
          -1.0644192730628328,
          -0.6689050042491553,
          -1.0017148503324511,
          -0.7147505434964523,
          0.5793842268683049,
          -1.4795338070213433,
          -0.03839282830179687,
          0.6997666972174688,
          -1.2835392333483941,
          0.16475761642484815,
          1.6889573202477632,
          -1.592941071461217,
          -0.7387106985235867,
          0.39701245028797894,
          1.1840215900235371,
          0.20939687790234918,
          -2.310159082515787,
          1.2943143805175952,
          -0.2945990330477354,
          2.015857216673764,
          -0.36968920526721943,
          -0.06482501623263177,
          0.4902842916770235,
          0.08187970865813975,
          0.3201306863347647,
          -1.6580600975761564,
          -1.2041955464842804,
          0.38152574274387535,
          -0.9331789825369936,
          0.2483112308845951,
          -0.3513764390898863,
          -0.8734172442961183,
          -0.3895631575428738,
          -0.2931594876428916,
          0.25127681287774367,
          1.987790683269706,
          0.18787640248927523,
          0.7319941857482984,
          0.996051203371639,
          0.8023664354900774,
          0.37326917205338095,
          0.8082704119906713,
          -0.5670128605070655,
          1.2604557560821879,
          0.9295006804240427,
          -0.07436204245143835,
          -0.4698506128050334,
          0.5747740770991207,
          -1.015928906236001,
          -0.5064827491974023,
          0.42557873681748015,
          -0.15760594251567855,
          0.4924666238139324,
          0.8094009000999365,
          -0.1978814224350476,
          -0.9850274970501465,
          -0.5429440339023727,
          -0.8677581004904326,
          -1.62694506157608,
          -0.8824812217412265,
          2.9646802953652753,
          -0.696782614544617
         ]
        },
        {
         "boxpoints": false,
         "line": {
          "width": 1.3
         },
         "marker": {
          "color": "rgba(55, 128, 191, 1.0)"
         },
         "name": "B",
         "orientation": "v",
         "type": "box",
         "y": [
          -0.41915746807640575,
          0.21930284828863833,
          -0.7610786434798053,
          -0.6918857200279099,
          -0.23559520316772184,
          -1.2675224451030764,
          -0.22288244488492134,
          0.17429733433401837,
          0.0762757519961098,
          -0.3669689691943707,
          1.0792882971785136,
          0.316899074242141,
          -0.04825893187424639,
          -0.5031500680545504,
          0.5846281200331179,
          -1.4076111659646628,
          0.5581580114679637,
          1.2342661817807972,
          -0.5801147930644517,
          0.5143095543016232,
          -0.27470375167671157,
          -0.1249604554829138,
          2.3015801416719883,
          -0.535673037666255,
          -0.9488349123871038,
          0.1184136493800736,
          -2.244461938831052,
          0.9570427917571265,
          -0.18916260601522641,
          -1.0530967941715776,
          0.22265169983192862,
          -0.34870062182493944,
          0.6016738643875863,
          0.562336915782038,
          -1.100990900729741,
          -1.5283468920818604,
          -1.7668647881221484,
          2.8053527903280013,
          -0.1168796213679174,
          -0.7618809661819511,
          -0.9924293911398685,
          -1.7543917460481346,
          -1.048507764949999,
          -0.6041298392882526,
          0.3801558907719418,
          0.4987419230265229,
          0.49810135830298774,
          0.8992442763001017,
          -0.7948584682214112,
          -0.9693612383002331,
          -0.7683440322511006,
          -1.1567649588940925,
          -0.13581935921923502,
          -0.4927083253539496,
          2.149222707304997,
          0.6275181422432665,
          -1.6651445093832844,
          -1.3104279518077564,
          1.520364724213475,
          -0.12263253089711454,
          0.6572572845188864,
          0.299844523824874,
          -0.07969916291529638,
          -2.948310749926441,
          1.0787648942634418,
          1.7309641277355667,
          -1.5483492384865831,
          -0.499821151016283,
          -1.6012102957857004,
          2.5136712612056855,
          0.6952546373626506,
          0.08481218221600291,
          0.46490293792485105,
          0.3675165437441855,
          -0.28065282385165585,
          0.4154825216383825,
          -1.5945417410773326,
          0.5759472764756738,
          1.2635498556299758,
          1.0352587860163123,
          0.962991845155968,
          -1.707832481488226,
          0.17583501851322028,
          1.1730434958755838,
          -0.0678384623372376,
          -0.5034339124885754,
          -0.8815189873404996,
          0.8761013064586037,
          -1.084830865142056,
          -1.497082382471439,
          -0.3569731365498273,
          1.1628995081849474,
          -0.9601044911548299,
          0.012437650238996368,
          -0.4577740907173309,
          -1.662251490679833,
          -1.4490992602462307,
          -0.006264011864668245,
          0.5454332382613313,
          -0.17002321014787986
         ]
        },
        {
         "boxpoints": false,
         "line": {
          "width": 1.3
         },
         "marker": {
          "color": "rgba(50, 171, 96, 1.0)"
         },
         "name": "C",
         "orientation": "v",
         "type": "box",
         "y": [
          -0.48016284539502374,
          1.1941605361276901,
          -1.3380686110014535,
          0.8496861440859929,
          0.10334025222810121,
          0.7790112926214989,
          -0.25519496667126196,
          0.7448633294729624,
          -0.9389275694022537,
          0.2764703818344103,
          1.5713410191540675,
          0.3587339287842905,
          1.8116652673425804,
          1.4610153237282706,
          -0.9234220929229902,
          -0.2795245320327592,
          0.7362839857792025,
          1.0845506658755941,
          -0.7906309801555522,
          0.4468688107353693,
          -0.8400481673749199,
          0.04730791167675447,
          1.0396829715764322,
          -0.38223015348999884,
          1.9329538808246907,
          0.027406820560686565,
          -0.9542493897915989,
          0.717558215382116,
          1.9341434756361537,
          0.43887850959477054,
          0.07574701766796874,
          0.9679467756373532,
          0.9689157316846471,
          0.09040407397946856,
          0.4045345471689706,
          0.044547063139071336,
          -0.33444597184645375,
          -0.4419718157832957,
          0.3312939420688317,
          -0.1524025207787877,
          -0.19648525315850116,
          -0.5071523525857391,
          0.8618592610172023,
          0.21474845376831098,
          2.935932373444087,
          1.1211018040818186,
          0.6675576999264661,
          0.830331411868125,
          0.240287564604421,
          0.5782227959390825,
          0.16610348327036337,
          -0.26067373918919545,
          0.6165706632965757,
          0.0493626176748902,
          -1.2454061538687209,
          -0.1806332881845276,
          -1.6521010995404608,
          -0.2896078963510364,
          -1.9432936991169414,
          -0.6329370516468182,
          1.0105085267150509,
          -0.881714693906353,
          -0.9127704462300918,
          0.9856352429468458,
          -1.3029147076374328,
          1.3936741696904487,
          0.3126403417594799,
          -0.7623593645280816,
          0.25128509196769805,
          1.9888169863810583,
          0.31160465621257316,
          0.8479283170183334,
          1.2577969625203822,
          -1.0065286821284707,
          -0.4114585098505856,
          2.038553967065002,
          -0.936034670530762,
          -0.9908496290461823,
          0.297913075307045,
          -0.37315866074811077,
          -0.01557169709267786,
          0.27526345665672447,
          0.6967772652465146,
          1.2695054487265522,
          -0.007433950506855492,
          0.5722235809228652,
          0.22726668691856367,
          -0.779330186388833,
          -0.8819788804909642,
          -0.5674558131847244,
          -0.24063577925786742,
          1.5682549612766834,
          -0.4805470717554532,
          -1.1617799681168157,
          1.0015601020611766,
          0.111234494442405,
          0.9165336920023927,
          0.2495057250384035,
          -0.7404737672600636,
          -0.5081339496921857
         ]
        },
        {
         "boxpoints": false,
         "line": {
          "width": 1.3
         },
         "marker": {
          "color": "rgba(128, 0, 128, 1.0)"
         },
         "name": "D",
         "orientation": "v",
         "type": "box",
         "y": [
          -1.1337989406811757,
          -1.9037877897374023,
          0.30232715095296525,
          -0.40746226064004226,
          -1.5843154622723592,
          0.0800001859112766,
          -1.0829534344624214,
          0.008929249820520537,
          0.17634301380882428,
          0.445923832278604,
          -0.5823559308867564,
          1.6787505305326424,
          1.5340576963578176,
          -0.4491259385069614,
          1.307584154739609,
          0.2802398428430633,
          0.8474559671923972,
          0.7243209501100196,
          0.852764174731704,
          0.7226099468487862,
          0.5073516462575364,
          0.31106025362326667,
          -0.7129766442167984,
          -1.8069662076212525,
          0.3899853755554775,
          1.1660113027000951,
          0.45780343027982806,
          -0.3850328593614212,
          -0.0584470187637657,
          -0.13063147921756002,
          0.2664076117902947,
          0.20129707681783135,
          0.26737710495402645,
          -0.00959464933565873,
          0.12086419327473921,
          0.36881552072922735,
          0.10435898893488083,
          1.399413241303069,
          -0.22554807536656415,
          -0.8068825210323299,
          -0.9216778635808496,
          0.010503303933990954,
          0.6520392127941269,
          1.2512419640101824,
          -0.5478703373479984,
          -0.3698831497368436,
          -0.794536878636538,
          1.569258025214523,
          0.07069802261660471,
          -0.984745870976086,
          0.04351361870881149,
          -0.9704163251529452,
          -0.9526280363084101,
          -0.7655813354099952,
          -0.7997514856589535,
          1.3939297951590652,
          1.5047267482345097,
          -0.05164022122595844,
          0.06079243380350069,
          -0.47960299877331186,
          0.4697426372510259,
          0.9664432216423561,
          -0.046938559627280725,
          1.5112235714071913,
          0.122122238044967,
          0.20198921099504166,
          -0.934288188251349,
          1.3808375368889114,
          -1.1660744319754683,
          0.5115255528576121,
          -0.7520042291245231,
          0.9328845756711185,
          -0.8861392243088931,
          -0.9014566300826681,
          0.7114607304778792,
          -0.31588421404758654,
          0.25778259899410694,
          -0.5176775437125997,
          2.5696830566488185,
          -0.6449836664633718,
          1.125122036774418,
          0.7893768671719273,
          0.7981961199353671,
          -0.6820999132258828,
          -1.740245288265015,
          0.07782938388943877,
          0.5936274472034748,
          -0.38884924439066243,
          -1.6531802539316356,
          -2.2206605114972278,
          -0.7734133828296601,
          0.2314445578782591,
          -1.6288222633053324,
          -0.3711326459237821,
          0.20195348087364953,
          -0.5302803833887427,
          1.803247830270659,
          -0.3235850641740168,
          0.5483828304193087,
          -0.14187033097751506
         ]
        }
       ],
       "layout": {
        "legend": {
         "bgcolor": "#F5F6F9",
         "font": {
          "color": "#4D5663"
         }
        },
        "paper_bgcolor": "#F5F6F9",
        "plot_bgcolor": "#F5F6F9",
        "template": {
         "data": {
          "bar": [
           {
            "error_x": {
             "color": "#2a3f5f"
            },
            "error_y": {
             "color": "#2a3f5f"
            },
            "marker": {
             "line": {
              "color": "#E5ECF6",
              "width": 0.5
             },
             "pattern": {
              "fillmode": "overlay",
              "size": 10,
              "solidity": 0.2
             }
            },
            "type": "bar"
           }
          ],
          "barpolar": [
           {
            "marker": {
             "line": {
              "color": "#E5ECF6",
              "width": 0.5
             },
             "pattern": {
              "fillmode": "overlay",
              "size": 10,
              "solidity": 0.2
             }
            },
            "type": "barpolar"
           }
          ],
          "carpet": [
           {
            "aaxis": {
             "endlinecolor": "#2a3f5f",
             "gridcolor": "white",
             "linecolor": "white",
             "minorgridcolor": "white",
             "startlinecolor": "#2a3f5f"
            },
            "baxis": {
             "endlinecolor": "#2a3f5f",
             "gridcolor": "white",
             "linecolor": "white",
             "minorgridcolor": "white",
             "startlinecolor": "#2a3f5f"
            },
            "type": "carpet"
           }
          ],
          "choropleth": [
           {
            "colorbar": {
             "outlinewidth": 0,
             "ticks": ""
            },
            "type": "choropleth"
           }
          ],
          "contour": [
           {
            "colorbar": {
             "outlinewidth": 0,
             "ticks": ""
            },
            "colorscale": [
             [
              0,
              "#0d0887"
             ],
             [
              0.1111111111111111,
              "#46039f"
             ],
             [
              0.2222222222222222,
              "#7201a8"
             ],
             [
              0.3333333333333333,
              "#9c179e"
             ],
             [
              0.4444444444444444,
              "#bd3786"
             ],
             [
              0.5555555555555556,
              "#d8576b"
             ],
             [
              0.6666666666666666,
              "#ed7953"
             ],
             [
              0.7777777777777778,
              "#fb9f3a"
             ],
             [
              0.8888888888888888,
              "#fdca26"
             ],
             [
              1,
              "#f0f921"
             ]
            ],
            "type": "contour"
           }
          ],
          "contourcarpet": [
           {
            "colorbar": {
             "outlinewidth": 0,
             "ticks": ""
            },
            "type": "contourcarpet"
           }
          ],
          "heatmap": [
           {
            "colorbar": {
             "outlinewidth": 0,
             "ticks": ""
            },
            "colorscale": [
             [
              0,
              "#0d0887"
             ],
             [
              0.1111111111111111,
              "#46039f"
             ],
             [
              0.2222222222222222,
              "#7201a8"
             ],
             [
              0.3333333333333333,
              "#9c179e"
             ],
             [
              0.4444444444444444,
              "#bd3786"
             ],
             [
              0.5555555555555556,
              "#d8576b"
             ],
             [
              0.6666666666666666,
              "#ed7953"
             ],
             [
              0.7777777777777778,
              "#fb9f3a"
             ],
             [
              0.8888888888888888,
              "#fdca26"
             ],
             [
              1,
              "#f0f921"
             ]
            ],
            "type": "heatmap"
           }
          ],
          "heatmapgl": [
           {
            "colorbar": {
             "outlinewidth": 0,
             "ticks": ""
            },
            "colorscale": [
             [
              0,
              "#0d0887"
             ],
             [
              0.1111111111111111,
              "#46039f"
             ],
             [
              0.2222222222222222,
              "#7201a8"
             ],
             [
              0.3333333333333333,
              "#9c179e"
             ],
             [
              0.4444444444444444,
              "#bd3786"
             ],
             [
              0.5555555555555556,
              "#d8576b"
             ],
             [
              0.6666666666666666,
              "#ed7953"
             ],
             [
              0.7777777777777778,
              "#fb9f3a"
             ],
             [
              0.8888888888888888,
              "#fdca26"
             ],
             [
              1,
              "#f0f921"
             ]
            ],
            "type": "heatmapgl"
           }
          ],
          "histogram": [
           {
            "marker": {
             "pattern": {
              "fillmode": "overlay",
              "size": 10,
              "solidity": 0.2
             }
            },
            "type": "histogram"
           }
          ],
          "histogram2d": [
           {
            "colorbar": {
             "outlinewidth": 0,
             "ticks": ""
            },
            "colorscale": [
             [
              0,
              "#0d0887"
             ],
             [
              0.1111111111111111,
              "#46039f"
             ],
             [
              0.2222222222222222,
              "#7201a8"
             ],
             [
              0.3333333333333333,
              "#9c179e"
             ],
             [
              0.4444444444444444,
              "#bd3786"
             ],
             [
              0.5555555555555556,
              "#d8576b"
             ],
             [
              0.6666666666666666,
              "#ed7953"
             ],
             [
              0.7777777777777778,
              "#fb9f3a"
             ],
             [
              0.8888888888888888,
              "#fdca26"
             ],
             [
              1,
              "#f0f921"
             ]
            ],
            "type": "histogram2d"
           }
          ],
          "histogram2dcontour": [
           {
            "colorbar": {
             "outlinewidth": 0,
             "ticks": ""
            },
            "colorscale": [
             [
              0,
              "#0d0887"
             ],
             [
              0.1111111111111111,
              "#46039f"
             ],
             [
              0.2222222222222222,
              "#7201a8"
             ],
             [
              0.3333333333333333,
              "#9c179e"
             ],
             [
              0.4444444444444444,
              "#bd3786"
             ],
             [
              0.5555555555555556,
              "#d8576b"
             ],
             [
              0.6666666666666666,
              "#ed7953"
             ],
             [
              0.7777777777777778,
              "#fb9f3a"
             ],
             [
              0.8888888888888888,
              "#fdca26"
             ],
             [
              1,
              "#f0f921"
             ]
            ],
            "type": "histogram2dcontour"
           }
          ],
          "mesh3d": [
           {
            "colorbar": {
             "outlinewidth": 0,
             "ticks": ""
            },
            "type": "mesh3d"
           }
          ],
          "parcoords": [
           {
            "line": {
             "colorbar": {
              "outlinewidth": 0,
              "ticks": ""
             }
            },
            "type": "parcoords"
           }
          ],
          "pie": [
           {
            "automargin": true,
            "type": "pie"
           }
          ],
          "scatter": [
           {
            "fillpattern": {
             "fillmode": "overlay",
             "size": 10,
             "solidity": 0.2
            },
            "type": "scatter"
           }
          ],
          "scatter3d": [
           {
            "line": {
             "colorbar": {
              "outlinewidth": 0,
              "ticks": ""
             }
            },
            "marker": {
             "colorbar": {
              "outlinewidth": 0,
              "ticks": ""
             }
            },
            "type": "scatter3d"
           }
          ],
          "scattercarpet": [
           {
            "marker": {
             "colorbar": {
              "outlinewidth": 0,
              "ticks": ""
             }
            },
            "type": "scattercarpet"
           }
          ],
          "scattergeo": [
           {
            "marker": {
             "colorbar": {
              "outlinewidth": 0,
              "ticks": ""
             }
            },
            "type": "scattergeo"
           }
          ],
          "scattergl": [
           {
            "marker": {
             "colorbar": {
              "outlinewidth": 0,
              "ticks": ""
             }
            },
            "type": "scattergl"
           }
          ],
          "scattermapbox": [
           {
            "marker": {
             "colorbar": {
              "outlinewidth": 0,
              "ticks": ""
             }
            },
            "type": "scattermapbox"
           }
          ],
          "scatterpolar": [
           {
            "marker": {
             "colorbar": {
              "outlinewidth": 0,
              "ticks": ""
             }
            },
            "type": "scatterpolar"
           }
          ],
          "scatterpolargl": [
           {
            "marker": {
             "colorbar": {
              "outlinewidth": 0,
              "ticks": ""
             }
            },
            "type": "scatterpolargl"
           }
          ],
          "scatterternary": [
           {
            "marker": {
             "colorbar": {
              "outlinewidth": 0,
              "ticks": ""
             }
            },
            "type": "scatterternary"
           }
          ],
          "surface": [
           {
            "colorbar": {
             "outlinewidth": 0,
             "ticks": ""
            },
            "colorscale": [
             [
              0,
              "#0d0887"
             ],
             [
              0.1111111111111111,
              "#46039f"
             ],
             [
              0.2222222222222222,
              "#7201a8"
             ],
             [
              0.3333333333333333,
              "#9c179e"
             ],
             [
              0.4444444444444444,
              "#bd3786"
             ],
             [
              0.5555555555555556,
              "#d8576b"
             ],
             [
              0.6666666666666666,
              "#ed7953"
             ],
             [
              0.7777777777777778,
              "#fb9f3a"
             ],
             [
              0.8888888888888888,
              "#fdca26"
             ],
             [
              1,
              "#f0f921"
             ]
            ],
            "type": "surface"
           }
          ],
          "table": [
           {
            "cells": {
             "fill": {
              "color": "#EBF0F8"
             },
             "line": {
              "color": "white"
             }
            },
            "header": {
             "fill": {
              "color": "#C8D4E3"
             },
             "line": {
              "color": "white"
             }
            },
            "type": "table"
           }
          ]
         },
         "layout": {
          "annotationdefaults": {
           "arrowcolor": "#2a3f5f",
           "arrowhead": 0,
           "arrowwidth": 1
          },
          "autotypenumbers": "strict",
          "coloraxis": {
           "colorbar": {
            "outlinewidth": 0,
            "ticks": ""
           }
          },
          "colorscale": {
           "diverging": [
            [
             0,
             "#8e0152"
            ],
            [
             0.1,
             "#c51b7d"
            ],
            [
             0.2,
             "#de77ae"
            ],
            [
             0.3,
             "#f1b6da"
            ],
            [
             0.4,
             "#fde0ef"
            ],
            [
             0.5,
             "#f7f7f7"
            ],
            [
             0.6,
             "#e6f5d0"
            ],
            [
             0.7,
             "#b8e186"
            ],
            [
             0.8,
             "#7fbc41"
            ],
            [
             0.9,
             "#4d9221"
            ],
            [
             1,
             "#276419"
            ]
           ],
           "sequential": [
            [
             0,
             "#0d0887"
            ],
            [
             0.1111111111111111,
             "#46039f"
            ],
            [
             0.2222222222222222,
             "#7201a8"
            ],
            [
             0.3333333333333333,
             "#9c179e"
            ],
            [
             0.4444444444444444,
             "#bd3786"
            ],
            [
             0.5555555555555556,
             "#d8576b"
            ],
            [
             0.6666666666666666,
             "#ed7953"
            ],
            [
             0.7777777777777778,
             "#fb9f3a"
            ],
            [
             0.8888888888888888,
             "#fdca26"
            ],
            [
             1,
             "#f0f921"
            ]
           ],
           "sequentialminus": [
            [
             0,
             "#0d0887"
            ],
            [
             0.1111111111111111,
             "#46039f"
            ],
            [
             0.2222222222222222,
             "#7201a8"
            ],
            [
             0.3333333333333333,
             "#9c179e"
            ],
            [
             0.4444444444444444,
             "#bd3786"
            ],
            [
             0.5555555555555556,
             "#d8576b"
            ],
            [
             0.6666666666666666,
             "#ed7953"
            ],
            [
             0.7777777777777778,
             "#fb9f3a"
            ],
            [
             0.8888888888888888,
             "#fdca26"
            ],
            [
             1,
             "#f0f921"
            ]
           ]
          },
          "colorway": [
           "#636efa",
           "#EF553B",
           "#00cc96",
           "#ab63fa",
           "#FFA15A",
           "#19d3f3",
           "#FF6692",
           "#B6E880",
           "#FF97FF",
           "#FECB52"
          ],
          "font": {
           "color": "#2a3f5f"
          },
          "geo": {
           "bgcolor": "white",
           "lakecolor": "white",
           "landcolor": "#E5ECF6",
           "showlakes": true,
           "showland": true,
           "subunitcolor": "white"
          },
          "hoverlabel": {
           "align": "left"
          },
          "hovermode": "closest",
          "mapbox": {
           "style": "light"
          },
          "paper_bgcolor": "white",
          "plot_bgcolor": "#E5ECF6",
          "polar": {
           "angularaxis": {
            "gridcolor": "white",
            "linecolor": "white",
            "ticks": ""
           },
           "bgcolor": "#E5ECF6",
           "radialaxis": {
            "gridcolor": "white",
            "linecolor": "white",
            "ticks": ""
           }
          },
          "scene": {
           "xaxis": {
            "backgroundcolor": "#E5ECF6",
            "gridcolor": "white",
            "gridwidth": 2,
            "linecolor": "white",
            "showbackground": true,
            "ticks": "",
            "zerolinecolor": "white"
           },
           "yaxis": {
            "backgroundcolor": "#E5ECF6",
            "gridcolor": "white",
            "gridwidth": 2,
            "linecolor": "white",
            "showbackground": true,
            "ticks": "",
            "zerolinecolor": "white"
           },
           "zaxis": {
            "backgroundcolor": "#E5ECF6",
            "gridcolor": "white",
            "gridwidth": 2,
            "linecolor": "white",
            "showbackground": true,
            "ticks": "",
            "zerolinecolor": "white"
           }
          },
          "shapedefaults": {
           "line": {
            "color": "#2a3f5f"
           }
          },
          "ternary": {
           "aaxis": {
            "gridcolor": "white",
            "linecolor": "white",
            "ticks": ""
           },
           "baxis": {
            "gridcolor": "white",
            "linecolor": "white",
            "ticks": ""
           },
           "bgcolor": "#E5ECF6",
           "caxis": {
            "gridcolor": "white",
            "linecolor": "white",
            "ticks": ""
           }
          },
          "title": {
           "x": 0.05
          },
          "xaxis": {
           "automargin": true,
           "gridcolor": "white",
           "linecolor": "white",
           "ticks": "",
           "title": {
            "standoff": 15
           },
           "zerolinecolor": "white",
           "zerolinewidth": 2
          },
          "yaxis": {
           "automargin": true,
           "gridcolor": "white",
           "linecolor": "white",
           "ticks": "",
           "title": {
            "standoff": 15
           },
           "zerolinecolor": "white",
           "zerolinewidth": 2
          }
         }
        },
        "title": {
         "font": {
          "color": "#4D5663"
         }
        },
        "xaxis": {
         "gridcolor": "#E1E5ED",
         "showgrid": true,
         "tickfont": {
          "color": "#4D5663"
         },
         "title": {
          "font": {
           "color": "#4D5663"
          },
          "text": ""
         },
         "zerolinecolor": "#E1E5ED"
        },
        "yaxis": {
         "gridcolor": "#E1E5ED",
         "showgrid": true,
         "tickfont": {
          "color": "#4D5663"
         },
         "title": {
          "font": {
           "color": "#4D5663"
          },
          "text": ""
         },
         "zerolinecolor": "#E1E5ED"
        }
       }
      },
      "text/html": [
       "<div>                            <div id=\"212b2445-bd87-4b68-a311-b9e0b6cdfd1f\" class=\"plotly-graph-div\" style=\"height:525px; width:100%;\"></div>            <script type=\"text/javascript\">                require([\"plotly\"], function(Plotly) {                    window.PLOTLYENV=window.PLOTLYENV || {};\n",
       "                    window.PLOTLYENV.BASE_URL='https://plot.ly';                                    if (document.getElementById(\"212b2445-bd87-4b68-a311-b9e0b6cdfd1f\")) {                    Plotly.newPlot(                        \"212b2445-bd87-4b68-a311-b9e0b6cdfd1f\",                        [{\"boxpoints\":false,\"line\":{\"width\":1.3},\"marker\":{\"color\":\"rgba(255, 153, 51, 1.0)\"},\"name\":\"A\",\"orientation\":\"v\",\"y\":[-0.574793679676617,0.2235288385812236,-0.1416022574544621,1.1830002741236476,-0.8040111862595727,0.5603981980480017,1.0802000604334197,0.03958333136709857,-0.3365396825358062,0.2832793352592316,0.05165284183696506,-1.5912603445652507,-0.4027067517849839,-0.8441710552955158,-1.5018814837552625,1.0623705523783178,-0.6269685582361755,-1.0877374783470943,-0.04920277457916217,-0.49476631278334876,-1.102273038947587,-0.3613339588765766,0.3029725474183342,-0.09750304564376079,0.5675651772580712,-0.20703757151798488,-0.38179254271357244,-0.011627047618306317,-0.033123321889765134,-0.2184206692864132,1.1088956825411647,0.7847064418904279,1.154230440045405,-0.18556857223927084,-0.12891590454086874,0.18790915439432815,0.36290388657239836,-1.1000323979187554,-1.0644192730628328,-0.6689050042491553,-1.0017148503324511,-0.7147505434964523,0.5793842268683049,-1.4795338070213433,-0.03839282830179687,0.6997666972174688,-1.2835392333483941,0.16475761642484815,1.6889573202477632,-1.592941071461217,-0.7387106985235867,0.39701245028797894,1.1840215900235371,0.20939687790234918,-2.310159082515787,1.2943143805175952,-0.2945990330477354,2.015857216673764,-0.36968920526721943,-0.06482501623263177,0.4902842916770235,0.08187970865813975,0.3201306863347647,-1.6580600975761564,-1.2041955464842804,0.38152574274387535,-0.9331789825369936,0.2483112308845951,-0.3513764390898863,-0.8734172442961183,-0.3895631575428738,-0.2931594876428916,0.25127681287774367,1.987790683269706,0.18787640248927523,0.7319941857482984,0.996051203371639,0.8023664354900774,0.37326917205338095,0.8082704119906713,-0.5670128605070655,1.2604557560821879,0.9295006804240427,-0.07436204245143835,-0.4698506128050334,0.5747740770991207,-1.015928906236001,-0.5064827491974023,0.42557873681748015,-0.15760594251567855,0.4924666238139324,0.8094009000999365,-0.1978814224350476,-0.9850274970501465,-0.5429440339023727,-0.8677581004904326,-1.62694506157608,-0.8824812217412265,2.9646802953652753,-0.696782614544617],\"type\":\"box\"},{\"boxpoints\":false,\"line\":{\"width\":1.3},\"marker\":{\"color\":\"rgba(55, 128, 191, 1.0)\"},\"name\":\"B\",\"orientation\":\"v\",\"y\":[-0.41915746807640575,0.21930284828863833,-0.7610786434798053,-0.6918857200279099,-0.23559520316772184,-1.2675224451030764,-0.22288244488492134,0.17429733433401837,0.0762757519961098,-0.3669689691943707,1.0792882971785136,0.316899074242141,-0.04825893187424639,-0.5031500680545504,0.5846281200331179,-1.4076111659646628,0.5581580114679637,1.2342661817807972,-0.5801147930644517,0.5143095543016232,-0.27470375167671157,-0.1249604554829138,2.3015801416719883,-0.535673037666255,-0.9488349123871038,0.1184136493800736,-2.244461938831052,0.9570427917571265,-0.18916260601522641,-1.0530967941715776,0.22265169983192862,-0.34870062182493944,0.6016738643875863,0.562336915782038,-1.100990900729741,-1.5283468920818604,-1.7668647881221484,2.8053527903280013,-0.1168796213679174,-0.7618809661819511,-0.9924293911398685,-1.7543917460481346,-1.048507764949999,-0.6041298392882526,0.3801558907719418,0.4987419230265229,0.49810135830298774,0.8992442763001017,-0.7948584682214112,-0.9693612383002331,-0.7683440322511006,-1.1567649588940925,-0.13581935921923502,-0.4927083253539496,2.149222707304997,0.6275181422432665,-1.6651445093832844,-1.3104279518077564,1.520364724213475,-0.12263253089711454,0.6572572845188864,0.299844523824874,-0.07969916291529638,-2.948310749926441,1.0787648942634418,1.7309641277355667,-1.5483492384865831,-0.499821151016283,-1.6012102957857004,2.5136712612056855,0.6952546373626506,0.08481218221600291,0.46490293792485105,0.3675165437441855,-0.28065282385165585,0.4154825216383825,-1.5945417410773326,0.5759472764756738,1.2635498556299758,1.0352587860163123,0.962991845155968,-1.707832481488226,0.17583501851322028,1.1730434958755838,-0.0678384623372376,-0.5034339124885754,-0.8815189873404996,0.8761013064586037,-1.084830865142056,-1.497082382471439,-0.3569731365498273,1.1628995081849474,-0.9601044911548299,0.012437650238996368,-0.4577740907173309,-1.662251490679833,-1.4490992602462307,-0.006264011864668245,0.5454332382613313,-0.17002321014787986],\"type\":\"box\"},{\"boxpoints\":false,\"line\":{\"width\":1.3},\"marker\":{\"color\":\"rgba(50, 171, 96, 1.0)\"},\"name\":\"C\",\"orientation\":\"v\",\"y\":[-0.48016284539502374,1.1941605361276901,-1.3380686110014535,0.8496861440859929,0.10334025222810121,0.7790112926214989,-0.25519496667126196,0.7448633294729624,-0.9389275694022537,0.2764703818344103,1.5713410191540675,0.3587339287842905,1.8116652673425804,1.4610153237282706,-0.9234220929229902,-0.2795245320327592,0.7362839857792025,1.0845506658755941,-0.7906309801555522,0.4468688107353693,-0.8400481673749199,0.04730791167675447,1.0396829715764322,-0.38223015348999884,1.9329538808246907,0.027406820560686565,-0.9542493897915989,0.717558215382116,1.9341434756361537,0.43887850959477054,0.07574701766796874,0.9679467756373532,0.9689157316846471,0.09040407397946856,0.4045345471689706,0.044547063139071336,-0.33444597184645375,-0.4419718157832957,0.3312939420688317,-0.1524025207787877,-0.19648525315850116,-0.5071523525857391,0.8618592610172023,0.21474845376831098,2.935932373444087,1.1211018040818186,0.6675576999264661,0.830331411868125,0.240287564604421,0.5782227959390825,0.16610348327036337,-0.26067373918919545,0.6165706632965757,0.0493626176748902,-1.2454061538687209,-0.1806332881845276,-1.6521010995404608,-0.2896078963510364,-1.9432936991169414,-0.6329370516468182,1.0105085267150509,-0.881714693906353,-0.9127704462300918,0.9856352429468458,-1.3029147076374328,1.3936741696904487,0.3126403417594799,-0.7623593645280816,0.25128509196769805,1.9888169863810583,0.31160465621257316,0.8479283170183334,1.2577969625203822,-1.0065286821284707,-0.4114585098505856,2.038553967065002,-0.936034670530762,-0.9908496290461823,0.297913075307045,-0.37315866074811077,-0.01557169709267786,0.27526345665672447,0.6967772652465146,1.2695054487265522,-0.007433950506855492,0.5722235809228652,0.22726668691856367,-0.779330186388833,-0.8819788804909642,-0.5674558131847244,-0.24063577925786742,1.5682549612766834,-0.4805470717554532,-1.1617799681168157,1.0015601020611766,0.111234494442405,0.9165336920023927,0.2495057250384035,-0.7404737672600636,-0.5081339496921857],\"type\":\"box\"},{\"boxpoints\":false,\"line\":{\"width\":1.3},\"marker\":{\"color\":\"rgba(128, 0, 128, 1.0)\"},\"name\":\"D\",\"orientation\":\"v\",\"y\":[-1.1337989406811757,-1.9037877897374023,0.30232715095296525,-0.40746226064004226,-1.5843154622723592,0.0800001859112766,-1.0829534344624214,0.008929249820520537,0.17634301380882428,0.445923832278604,-0.5823559308867564,1.6787505305326424,1.5340576963578176,-0.4491259385069614,1.307584154739609,0.2802398428430633,0.8474559671923972,0.7243209501100196,0.852764174731704,0.7226099468487862,0.5073516462575364,0.31106025362326667,-0.7129766442167984,-1.8069662076212525,0.3899853755554775,1.1660113027000951,0.45780343027982806,-0.3850328593614212,-0.0584470187637657,-0.13063147921756002,0.2664076117902947,0.20129707681783135,0.26737710495402645,-0.00959464933565873,0.12086419327473921,0.36881552072922735,0.10435898893488083,1.399413241303069,-0.22554807536656415,-0.8068825210323299,-0.9216778635808496,0.010503303933990954,0.6520392127941269,1.2512419640101824,-0.5478703373479984,-0.3698831497368436,-0.794536878636538,1.569258025214523,0.07069802261660471,-0.984745870976086,0.04351361870881149,-0.9704163251529452,-0.9526280363084101,-0.7655813354099952,-0.7997514856589535,1.3939297951590652,1.5047267482345097,-0.05164022122595844,0.06079243380350069,-0.47960299877331186,0.4697426372510259,0.9664432216423561,-0.046938559627280725,1.5112235714071913,0.122122238044967,0.20198921099504166,-0.934288188251349,1.3808375368889114,-1.1660744319754683,0.5115255528576121,-0.7520042291245231,0.9328845756711185,-0.8861392243088931,-0.9014566300826681,0.7114607304778792,-0.31588421404758654,0.25778259899410694,-0.5176775437125997,2.5696830566488185,-0.6449836664633718,1.125122036774418,0.7893768671719273,0.7981961199353671,-0.6820999132258828,-1.740245288265015,0.07782938388943877,0.5936274472034748,-0.38884924439066243,-1.6531802539316356,-2.2206605114972278,-0.7734133828296601,0.2314445578782591,-1.6288222633053324,-0.3711326459237821,0.20195348087364953,-0.5302803833887427,1.803247830270659,-0.3235850641740168,0.5483828304193087,-0.14187033097751506],\"type\":\"box\"}],                        {\"legend\":{\"bgcolor\":\"#F5F6F9\",\"font\":{\"color\":\"#4D5663\"}},\"paper_bgcolor\":\"#F5F6F9\",\"plot_bgcolor\":\"#F5F6F9\",\"template\":{\"data\":{\"barpolar\":[{\"marker\":{\"line\":{\"color\":\"#E5ECF6\",\"width\":0.5},\"pattern\":{\"fillmode\":\"overlay\",\"size\":10,\"solidity\":0.2}},\"type\":\"barpolar\"}],\"bar\":[{\"error_x\":{\"color\":\"#2a3f5f\"},\"error_y\":{\"color\":\"#2a3f5f\"},\"marker\":{\"line\":{\"color\":\"#E5ECF6\",\"width\":0.5},\"pattern\":{\"fillmode\":\"overlay\",\"size\":10,\"solidity\":0.2}},\"type\":\"bar\"}],\"carpet\":[{\"aaxis\":{\"endlinecolor\":\"#2a3f5f\",\"gridcolor\":\"white\",\"linecolor\":\"white\",\"minorgridcolor\":\"white\",\"startlinecolor\":\"#2a3f5f\"},\"baxis\":{\"endlinecolor\":\"#2a3f5f\",\"gridcolor\":\"white\",\"linecolor\":\"white\",\"minorgridcolor\":\"white\",\"startlinecolor\":\"#2a3f5f\"},\"type\":\"carpet\"}],\"choropleth\":[{\"colorbar\":{\"outlinewidth\":0,\"ticks\":\"\"},\"type\":\"choropleth\"}],\"contourcarpet\":[{\"colorbar\":{\"outlinewidth\":0,\"ticks\":\"\"},\"type\":\"contourcarpet\"}],\"contour\":[{\"colorbar\":{\"outlinewidth\":0,\"ticks\":\"\"},\"colorscale\":[[0.0,\"#0d0887\"],[0.1111111111111111,\"#46039f\"],[0.2222222222222222,\"#7201a8\"],[0.3333333333333333,\"#9c179e\"],[0.4444444444444444,\"#bd3786\"],[0.5555555555555556,\"#d8576b\"],[0.6666666666666666,\"#ed7953\"],[0.7777777777777778,\"#fb9f3a\"],[0.8888888888888888,\"#fdca26\"],[1.0,\"#f0f921\"]],\"type\":\"contour\"}],\"heatmapgl\":[{\"colorbar\":{\"outlinewidth\":0,\"ticks\":\"\"},\"colorscale\":[[0.0,\"#0d0887\"],[0.1111111111111111,\"#46039f\"],[0.2222222222222222,\"#7201a8\"],[0.3333333333333333,\"#9c179e\"],[0.4444444444444444,\"#bd3786\"],[0.5555555555555556,\"#d8576b\"],[0.6666666666666666,\"#ed7953\"],[0.7777777777777778,\"#fb9f3a\"],[0.8888888888888888,\"#fdca26\"],[1.0,\"#f0f921\"]],\"type\":\"heatmapgl\"}],\"heatmap\":[{\"colorbar\":{\"outlinewidth\":0,\"ticks\":\"\"},\"colorscale\":[[0.0,\"#0d0887\"],[0.1111111111111111,\"#46039f\"],[0.2222222222222222,\"#7201a8\"],[0.3333333333333333,\"#9c179e\"],[0.4444444444444444,\"#bd3786\"],[0.5555555555555556,\"#d8576b\"],[0.6666666666666666,\"#ed7953\"],[0.7777777777777778,\"#fb9f3a\"],[0.8888888888888888,\"#fdca26\"],[1.0,\"#f0f921\"]],\"type\":\"heatmap\"}],\"histogram2dcontour\":[{\"colorbar\":{\"outlinewidth\":0,\"ticks\":\"\"},\"colorscale\":[[0.0,\"#0d0887\"],[0.1111111111111111,\"#46039f\"],[0.2222222222222222,\"#7201a8\"],[0.3333333333333333,\"#9c179e\"],[0.4444444444444444,\"#bd3786\"],[0.5555555555555556,\"#d8576b\"],[0.6666666666666666,\"#ed7953\"],[0.7777777777777778,\"#fb9f3a\"],[0.8888888888888888,\"#fdca26\"],[1.0,\"#f0f921\"]],\"type\":\"histogram2dcontour\"}],\"histogram2d\":[{\"colorbar\":{\"outlinewidth\":0,\"ticks\":\"\"},\"colorscale\":[[0.0,\"#0d0887\"],[0.1111111111111111,\"#46039f\"],[0.2222222222222222,\"#7201a8\"],[0.3333333333333333,\"#9c179e\"],[0.4444444444444444,\"#bd3786\"],[0.5555555555555556,\"#d8576b\"],[0.6666666666666666,\"#ed7953\"],[0.7777777777777778,\"#fb9f3a\"],[0.8888888888888888,\"#fdca26\"],[1.0,\"#f0f921\"]],\"type\":\"histogram2d\"}],\"histogram\":[{\"marker\":{\"pattern\":{\"fillmode\":\"overlay\",\"size\":10,\"solidity\":0.2}},\"type\":\"histogram\"}],\"mesh3d\":[{\"colorbar\":{\"outlinewidth\":0,\"ticks\":\"\"},\"type\":\"mesh3d\"}],\"parcoords\":[{\"line\":{\"colorbar\":{\"outlinewidth\":0,\"ticks\":\"\"}},\"type\":\"parcoords\"}],\"pie\":[{\"automargin\":true,\"type\":\"pie\"}],\"scatter3d\":[{\"line\":{\"colorbar\":{\"outlinewidth\":0,\"ticks\":\"\"}},\"marker\":{\"colorbar\":{\"outlinewidth\":0,\"ticks\":\"\"}},\"type\":\"scatter3d\"}],\"scattercarpet\":[{\"marker\":{\"colorbar\":{\"outlinewidth\":0,\"ticks\":\"\"}},\"type\":\"scattercarpet\"}],\"scattergeo\":[{\"marker\":{\"colorbar\":{\"outlinewidth\":0,\"ticks\":\"\"}},\"type\":\"scattergeo\"}],\"scattergl\":[{\"marker\":{\"colorbar\":{\"outlinewidth\":0,\"ticks\":\"\"}},\"type\":\"scattergl\"}],\"scattermapbox\":[{\"marker\":{\"colorbar\":{\"outlinewidth\":0,\"ticks\":\"\"}},\"type\":\"scattermapbox\"}],\"scatterpolargl\":[{\"marker\":{\"colorbar\":{\"outlinewidth\":0,\"ticks\":\"\"}},\"type\":\"scatterpolargl\"}],\"scatterpolar\":[{\"marker\":{\"colorbar\":{\"outlinewidth\":0,\"ticks\":\"\"}},\"type\":\"scatterpolar\"}],\"scatter\":[{\"fillpattern\":{\"fillmode\":\"overlay\",\"size\":10,\"solidity\":0.2},\"type\":\"scatter\"}],\"scatterternary\":[{\"marker\":{\"colorbar\":{\"outlinewidth\":0,\"ticks\":\"\"}},\"type\":\"scatterternary\"}],\"surface\":[{\"colorbar\":{\"outlinewidth\":0,\"ticks\":\"\"},\"colorscale\":[[0.0,\"#0d0887\"],[0.1111111111111111,\"#46039f\"],[0.2222222222222222,\"#7201a8\"],[0.3333333333333333,\"#9c179e\"],[0.4444444444444444,\"#bd3786\"],[0.5555555555555556,\"#d8576b\"],[0.6666666666666666,\"#ed7953\"],[0.7777777777777778,\"#fb9f3a\"],[0.8888888888888888,\"#fdca26\"],[1.0,\"#f0f921\"]],\"type\":\"surface\"}],\"table\":[{\"cells\":{\"fill\":{\"color\":\"#EBF0F8\"},\"line\":{\"color\":\"white\"}},\"header\":{\"fill\":{\"color\":\"#C8D4E3\"},\"line\":{\"color\":\"white\"}},\"type\":\"table\"}]},\"layout\":{\"annotationdefaults\":{\"arrowcolor\":\"#2a3f5f\",\"arrowhead\":0,\"arrowwidth\":1},\"autotypenumbers\":\"strict\",\"coloraxis\":{\"colorbar\":{\"outlinewidth\":0,\"ticks\":\"\"}},\"colorscale\":{\"diverging\":[[0,\"#8e0152\"],[0.1,\"#c51b7d\"],[0.2,\"#de77ae\"],[0.3,\"#f1b6da\"],[0.4,\"#fde0ef\"],[0.5,\"#f7f7f7\"],[0.6,\"#e6f5d0\"],[0.7,\"#b8e186\"],[0.8,\"#7fbc41\"],[0.9,\"#4d9221\"],[1,\"#276419\"]],\"sequential\":[[0.0,\"#0d0887\"],[0.1111111111111111,\"#46039f\"],[0.2222222222222222,\"#7201a8\"],[0.3333333333333333,\"#9c179e\"],[0.4444444444444444,\"#bd3786\"],[0.5555555555555556,\"#d8576b\"],[0.6666666666666666,\"#ed7953\"],[0.7777777777777778,\"#fb9f3a\"],[0.8888888888888888,\"#fdca26\"],[1.0,\"#f0f921\"]],\"sequentialminus\":[[0.0,\"#0d0887\"],[0.1111111111111111,\"#46039f\"],[0.2222222222222222,\"#7201a8\"],[0.3333333333333333,\"#9c179e\"],[0.4444444444444444,\"#bd3786\"],[0.5555555555555556,\"#d8576b\"],[0.6666666666666666,\"#ed7953\"],[0.7777777777777778,\"#fb9f3a\"],[0.8888888888888888,\"#fdca26\"],[1.0,\"#f0f921\"]]},\"colorway\":[\"#636efa\",\"#EF553B\",\"#00cc96\",\"#ab63fa\",\"#FFA15A\",\"#19d3f3\",\"#FF6692\",\"#B6E880\",\"#FF97FF\",\"#FECB52\"],\"font\":{\"color\":\"#2a3f5f\"},\"geo\":{\"bgcolor\":\"white\",\"lakecolor\":\"white\",\"landcolor\":\"#E5ECF6\",\"showlakes\":true,\"showland\":true,\"subunitcolor\":\"white\"},\"hoverlabel\":{\"align\":\"left\"},\"hovermode\":\"closest\",\"mapbox\":{\"style\":\"light\"},\"paper_bgcolor\":\"white\",\"plot_bgcolor\":\"#E5ECF6\",\"polar\":{\"angularaxis\":{\"gridcolor\":\"white\",\"linecolor\":\"white\",\"ticks\":\"\"},\"bgcolor\":\"#E5ECF6\",\"radialaxis\":{\"gridcolor\":\"white\",\"linecolor\":\"white\",\"ticks\":\"\"}},\"scene\":{\"xaxis\":{\"backgroundcolor\":\"#E5ECF6\",\"gridcolor\":\"white\",\"gridwidth\":2,\"linecolor\":\"white\",\"showbackground\":true,\"ticks\":\"\",\"zerolinecolor\":\"white\"},\"yaxis\":{\"backgroundcolor\":\"#E5ECF6\",\"gridcolor\":\"white\",\"gridwidth\":2,\"linecolor\":\"white\",\"showbackground\":true,\"ticks\":\"\",\"zerolinecolor\":\"white\"},\"zaxis\":{\"backgroundcolor\":\"#E5ECF6\",\"gridcolor\":\"white\",\"gridwidth\":2,\"linecolor\":\"white\",\"showbackground\":true,\"ticks\":\"\",\"zerolinecolor\":\"white\"}},\"shapedefaults\":{\"line\":{\"color\":\"#2a3f5f\"}},\"ternary\":{\"aaxis\":{\"gridcolor\":\"white\",\"linecolor\":\"white\",\"ticks\":\"\"},\"baxis\":{\"gridcolor\":\"white\",\"linecolor\":\"white\",\"ticks\":\"\"},\"bgcolor\":\"#E5ECF6\",\"caxis\":{\"gridcolor\":\"white\",\"linecolor\":\"white\",\"ticks\":\"\"}},\"title\":{\"x\":0.05},\"xaxis\":{\"automargin\":true,\"gridcolor\":\"white\",\"linecolor\":\"white\",\"ticks\":\"\",\"title\":{\"standoff\":15},\"zerolinecolor\":\"white\",\"zerolinewidth\":2},\"yaxis\":{\"automargin\":true,\"gridcolor\":\"white\",\"linecolor\":\"white\",\"ticks\":\"\",\"title\":{\"standoff\":15},\"zerolinecolor\":\"white\",\"zerolinewidth\":2}}},\"title\":{\"font\":{\"color\":\"#4D5663\"}},\"xaxis\":{\"gridcolor\":\"#E1E5ED\",\"showgrid\":true,\"tickfont\":{\"color\":\"#4D5663\"},\"title\":{\"font\":{\"color\":\"#4D5663\"},\"text\":\"\"},\"zerolinecolor\":\"#E1E5ED\"},\"yaxis\":{\"gridcolor\":\"#E1E5ED\",\"showgrid\":true,\"tickfont\":{\"color\":\"#4D5663\"},\"title\":{\"font\":{\"color\":\"#4D5663\"},\"text\":\"\"},\"zerolinecolor\":\"#E1E5ED\"}},                        {\"showLink\": true, \"linkText\": \"Export to plot.ly\", \"plotlyServerURL\": \"https://plot.ly\", \"responsive\": true}                    ).then(function(){\n",
       "                            \n",
       "var gd = document.getElementById('212b2445-bd87-4b68-a311-b9e0b6cdfd1f');\n",
       "var x = new MutationObserver(function (mutations, observer) {{\n",
       "        var display = window.getComputedStyle(gd).display;\n",
       "        if (!display || display === 'none') {{\n",
       "            console.log([gd, 'removed!']);\n",
       "            Plotly.purge(gd);\n",
       "            observer.disconnect();\n",
       "        }}\n",
       "}});\n",
       "\n",
       "// Listen for the removal of the full notebook cells\n",
       "var notebookContainer = gd.closest('#notebook-container');\n",
       "if (notebookContainer) {{\n",
       "    x.observe(notebookContainer, {childList: true});\n",
       "}}\n",
       "\n",
       "// Listen for the clearing of the current output cell\n",
       "var outputEl = gd.closest('.output');\n",
       "if (outputEl) {{\n",
       "    x.observe(outputEl, {childList: true});\n",
       "}}\n",
       "\n",
       "                        })                };                });            </script>        </div>"
      ]
     },
     "metadata": {},
     "output_type": "display_data"
    }
   ],
   "source": [
    "df.iplot(kind='box')"
   ]
  },
  {
   "cell_type": "code",
   "execution_count": 35,
   "id": "d810ef01",
   "metadata": {},
   "outputs": [],
   "source": [
    "df3=pd.DataFrame({'x':[1,2,3,4,5],'y':[10,20,40,10,20],'z':[500,400,300,200,500,] })"
   ]
  },
  {
   "cell_type": "code",
   "execution_count": 36,
   "id": "9a07621c",
   "metadata": {},
   "outputs": [
    {
     "data": {
      "text/html": [
       "<div>\n",
       "<style scoped>\n",
       "    .dataframe tbody tr th:only-of-type {\n",
       "        vertical-align: middle;\n",
       "    }\n",
       "\n",
       "    .dataframe tbody tr th {\n",
       "        vertical-align: top;\n",
       "    }\n",
       "\n",
       "    .dataframe thead th {\n",
       "        text-align: right;\n",
       "    }\n",
       "</style>\n",
       "<table border=\"1\" class=\"dataframe\">\n",
       "  <thead>\n",
       "    <tr style=\"text-align: right;\">\n",
       "      <th></th>\n",
       "      <th>x</th>\n",
       "      <th>y</th>\n",
       "      <th>z</th>\n",
       "    </tr>\n",
       "  </thead>\n",
       "  <tbody>\n",
       "    <tr>\n",
       "      <th>0</th>\n",
       "      <td>1</td>\n",
       "      <td>10</td>\n",
       "      <td>500</td>\n",
       "    </tr>\n",
       "    <tr>\n",
       "      <th>1</th>\n",
       "      <td>2</td>\n",
       "      <td>20</td>\n",
       "      <td>400</td>\n",
       "    </tr>\n",
       "    <tr>\n",
       "      <th>2</th>\n",
       "      <td>3</td>\n",
       "      <td>40</td>\n",
       "      <td>300</td>\n",
       "    </tr>\n",
       "    <tr>\n",
       "      <th>3</th>\n",
       "      <td>4</td>\n",
       "      <td>10</td>\n",
       "      <td>200</td>\n",
       "    </tr>\n",
       "    <tr>\n",
       "      <th>4</th>\n",
       "      <td>5</td>\n",
       "      <td>20</td>\n",
       "      <td>500</td>\n",
       "    </tr>\n",
       "  </tbody>\n",
       "</table>\n",
       "</div>"
      ],
      "text/plain": [
       "   x   y    z\n",
       "0  1  10  500\n",
       "1  2  20  400\n",
       "2  3  40  300\n",
       "3  4  10  200\n",
       "4  5  20  500"
      ]
     },
     "execution_count": 36,
     "metadata": {},
     "output_type": "execute_result"
    }
   ],
   "source": [
    "df3"
   ]
  },
  {
   "cell_type": "code",
   "execution_count": 39,
   "id": "36424c19",
   "metadata": {},
   "outputs": [
    {
     "data": {
      "application/vnd.plotly.v1+json": {
       "config": {
        "linkText": "Export to plot.ly",
        "plotlyServerURL": "https://plot.ly",
        "showLink": true
       },
       "data": [
        {
         "colorscale": [
          [
           0,
           "rgb(165,0,38)"
          ],
          [
           0.1,
           "rgb(215,48,39)"
          ],
          [
           0.2,
           "rgb(244,109,67)"
          ],
          [
           0.3,
           "rgb(253,174,97)"
          ],
          [
           0.4,
           "rgb(254,224,144)"
          ],
          [
           0.5,
           "rgb(255,255,191)"
          ],
          [
           0.6,
           "rgb(224,243,248)"
          ],
          [
           0.7,
           "rgb(171,217,233)"
          ],
          [
           0.8,
           "rgb(116,173,209)"
          ],
          [
           0.9,
           "rgb(69,117,180)"
          ],
          [
           1,
           "rgb(49,54,149)"
          ]
         ],
         "type": "surface",
         "x": [
          0,
          1,
          2,
          3,
          4
         ],
         "y": [
          "x",
          "y",
          "z"
         ],
         "z": [
          [
           1,
           2,
           3,
           4,
           5
          ],
          [
           10,
           20,
           40,
           10,
           20
          ],
          [
           500,
           400,
           300,
           200,
           500
          ]
         ]
        }
       ],
       "layout": {
        "legend": {
         "bgcolor": "#F5F6F9",
         "font": {
          "color": "#4D5663"
         }
        },
        "paper_bgcolor": "#F5F6F9",
        "plot_bgcolor": "#F5F6F9",
        "template": {
         "data": {
          "bar": [
           {
            "error_x": {
             "color": "#2a3f5f"
            },
            "error_y": {
             "color": "#2a3f5f"
            },
            "marker": {
             "line": {
              "color": "#E5ECF6",
              "width": 0.5
             },
             "pattern": {
              "fillmode": "overlay",
              "size": 10,
              "solidity": 0.2
             }
            },
            "type": "bar"
           }
          ],
          "barpolar": [
           {
            "marker": {
             "line": {
              "color": "#E5ECF6",
              "width": 0.5
             },
             "pattern": {
              "fillmode": "overlay",
              "size": 10,
              "solidity": 0.2
             }
            },
            "type": "barpolar"
           }
          ],
          "carpet": [
           {
            "aaxis": {
             "endlinecolor": "#2a3f5f",
             "gridcolor": "white",
             "linecolor": "white",
             "minorgridcolor": "white",
             "startlinecolor": "#2a3f5f"
            },
            "baxis": {
             "endlinecolor": "#2a3f5f",
             "gridcolor": "white",
             "linecolor": "white",
             "minorgridcolor": "white",
             "startlinecolor": "#2a3f5f"
            },
            "type": "carpet"
           }
          ],
          "choropleth": [
           {
            "colorbar": {
             "outlinewidth": 0,
             "ticks": ""
            },
            "type": "choropleth"
           }
          ],
          "contour": [
           {
            "colorbar": {
             "outlinewidth": 0,
             "ticks": ""
            },
            "colorscale": [
             [
              0,
              "#0d0887"
             ],
             [
              0.1111111111111111,
              "#46039f"
             ],
             [
              0.2222222222222222,
              "#7201a8"
             ],
             [
              0.3333333333333333,
              "#9c179e"
             ],
             [
              0.4444444444444444,
              "#bd3786"
             ],
             [
              0.5555555555555556,
              "#d8576b"
             ],
             [
              0.6666666666666666,
              "#ed7953"
             ],
             [
              0.7777777777777778,
              "#fb9f3a"
             ],
             [
              0.8888888888888888,
              "#fdca26"
             ],
             [
              1,
              "#f0f921"
             ]
            ],
            "type": "contour"
           }
          ],
          "contourcarpet": [
           {
            "colorbar": {
             "outlinewidth": 0,
             "ticks": ""
            },
            "type": "contourcarpet"
           }
          ],
          "heatmap": [
           {
            "colorbar": {
             "outlinewidth": 0,
             "ticks": ""
            },
            "colorscale": [
             [
              0,
              "#0d0887"
             ],
             [
              0.1111111111111111,
              "#46039f"
             ],
             [
              0.2222222222222222,
              "#7201a8"
             ],
             [
              0.3333333333333333,
              "#9c179e"
             ],
             [
              0.4444444444444444,
              "#bd3786"
             ],
             [
              0.5555555555555556,
              "#d8576b"
             ],
             [
              0.6666666666666666,
              "#ed7953"
             ],
             [
              0.7777777777777778,
              "#fb9f3a"
             ],
             [
              0.8888888888888888,
              "#fdca26"
             ],
             [
              1,
              "#f0f921"
             ]
            ],
            "type": "heatmap"
           }
          ],
          "heatmapgl": [
           {
            "colorbar": {
             "outlinewidth": 0,
             "ticks": ""
            },
            "colorscale": [
             [
              0,
              "#0d0887"
             ],
             [
              0.1111111111111111,
              "#46039f"
             ],
             [
              0.2222222222222222,
              "#7201a8"
             ],
             [
              0.3333333333333333,
              "#9c179e"
             ],
             [
              0.4444444444444444,
              "#bd3786"
             ],
             [
              0.5555555555555556,
              "#d8576b"
             ],
             [
              0.6666666666666666,
              "#ed7953"
             ],
             [
              0.7777777777777778,
              "#fb9f3a"
             ],
             [
              0.8888888888888888,
              "#fdca26"
             ],
             [
              1,
              "#f0f921"
             ]
            ],
            "type": "heatmapgl"
           }
          ],
          "histogram": [
           {
            "marker": {
             "pattern": {
              "fillmode": "overlay",
              "size": 10,
              "solidity": 0.2
             }
            },
            "type": "histogram"
           }
          ],
          "histogram2d": [
           {
            "colorbar": {
             "outlinewidth": 0,
             "ticks": ""
            },
            "colorscale": [
             [
              0,
              "#0d0887"
             ],
             [
              0.1111111111111111,
              "#46039f"
             ],
             [
              0.2222222222222222,
              "#7201a8"
             ],
             [
              0.3333333333333333,
              "#9c179e"
             ],
             [
              0.4444444444444444,
              "#bd3786"
             ],
             [
              0.5555555555555556,
              "#d8576b"
             ],
             [
              0.6666666666666666,
              "#ed7953"
             ],
             [
              0.7777777777777778,
              "#fb9f3a"
             ],
             [
              0.8888888888888888,
              "#fdca26"
             ],
             [
              1,
              "#f0f921"
             ]
            ],
            "type": "histogram2d"
           }
          ],
          "histogram2dcontour": [
           {
            "colorbar": {
             "outlinewidth": 0,
             "ticks": ""
            },
            "colorscale": [
             [
              0,
              "#0d0887"
             ],
             [
              0.1111111111111111,
              "#46039f"
             ],
             [
              0.2222222222222222,
              "#7201a8"
             ],
             [
              0.3333333333333333,
              "#9c179e"
             ],
             [
              0.4444444444444444,
              "#bd3786"
             ],
             [
              0.5555555555555556,
              "#d8576b"
             ],
             [
              0.6666666666666666,
              "#ed7953"
             ],
             [
              0.7777777777777778,
              "#fb9f3a"
             ],
             [
              0.8888888888888888,
              "#fdca26"
             ],
             [
              1,
              "#f0f921"
             ]
            ],
            "type": "histogram2dcontour"
           }
          ],
          "mesh3d": [
           {
            "colorbar": {
             "outlinewidth": 0,
             "ticks": ""
            },
            "type": "mesh3d"
           }
          ],
          "parcoords": [
           {
            "line": {
             "colorbar": {
              "outlinewidth": 0,
              "ticks": ""
             }
            },
            "type": "parcoords"
           }
          ],
          "pie": [
           {
            "automargin": true,
            "type": "pie"
           }
          ],
          "scatter": [
           {
            "fillpattern": {
             "fillmode": "overlay",
             "size": 10,
             "solidity": 0.2
            },
            "type": "scatter"
           }
          ],
          "scatter3d": [
           {
            "line": {
             "colorbar": {
              "outlinewidth": 0,
              "ticks": ""
             }
            },
            "marker": {
             "colorbar": {
              "outlinewidth": 0,
              "ticks": ""
             }
            },
            "type": "scatter3d"
           }
          ],
          "scattercarpet": [
           {
            "marker": {
             "colorbar": {
              "outlinewidth": 0,
              "ticks": ""
             }
            },
            "type": "scattercarpet"
           }
          ],
          "scattergeo": [
           {
            "marker": {
             "colorbar": {
              "outlinewidth": 0,
              "ticks": ""
             }
            },
            "type": "scattergeo"
           }
          ],
          "scattergl": [
           {
            "marker": {
             "colorbar": {
              "outlinewidth": 0,
              "ticks": ""
             }
            },
            "type": "scattergl"
           }
          ],
          "scattermapbox": [
           {
            "marker": {
             "colorbar": {
              "outlinewidth": 0,
              "ticks": ""
             }
            },
            "type": "scattermapbox"
           }
          ],
          "scatterpolar": [
           {
            "marker": {
             "colorbar": {
              "outlinewidth": 0,
              "ticks": ""
             }
            },
            "type": "scatterpolar"
           }
          ],
          "scatterpolargl": [
           {
            "marker": {
             "colorbar": {
              "outlinewidth": 0,
              "ticks": ""
             }
            },
            "type": "scatterpolargl"
           }
          ],
          "scatterternary": [
           {
            "marker": {
             "colorbar": {
              "outlinewidth": 0,
              "ticks": ""
             }
            },
            "type": "scatterternary"
           }
          ],
          "surface": [
           {
            "colorbar": {
             "outlinewidth": 0,
             "ticks": ""
            },
            "colorscale": [
             [
              0,
              "#0d0887"
             ],
             [
              0.1111111111111111,
              "#46039f"
             ],
             [
              0.2222222222222222,
              "#7201a8"
             ],
             [
              0.3333333333333333,
              "#9c179e"
             ],
             [
              0.4444444444444444,
              "#bd3786"
             ],
             [
              0.5555555555555556,
              "#d8576b"
             ],
             [
              0.6666666666666666,
              "#ed7953"
             ],
             [
              0.7777777777777778,
              "#fb9f3a"
             ],
             [
              0.8888888888888888,
              "#fdca26"
             ],
             [
              1,
              "#f0f921"
             ]
            ],
            "type": "surface"
           }
          ],
          "table": [
           {
            "cells": {
             "fill": {
              "color": "#EBF0F8"
             },
             "line": {
              "color": "white"
             }
            },
            "header": {
             "fill": {
              "color": "#C8D4E3"
             },
             "line": {
              "color": "white"
             }
            },
            "type": "table"
           }
          ]
         },
         "layout": {
          "annotationdefaults": {
           "arrowcolor": "#2a3f5f",
           "arrowhead": 0,
           "arrowwidth": 1
          },
          "autotypenumbers": "strict",
          "coloraxis": {
           "colorbar": {
            "outlinewidth": 0,
            "ticks": ""
           }
          },
          "colorscale": {
           "diverging": [
            [
             0,
             "#8e0152"
            ],
            [
             0.1,
             "#c51b7d"
            ],
            [
             0.2,
             "#de77ae"
            ],
            [
             0.3,
             "#f1b6da"
            ],
            [
             0.4,
             "#fde0ef"
            ],
            [
             0.5,
             "#f7f7f7"
            ],
            [
             0.6,
             "#e6f5d0"
            ],
            [
             0.7,
             "#b8e186"
            ],
            [
             0.8,
             "#7fbc41"
            ],
            [
             0.9,
             "#4d9221"
            ],
            [
             1,
             "#276419"
            ]
           ],
           "sequential": [
            [
             0,
             "#0d0887"
            ],
            [
             0.1111111111111111,
             "#46039f"
            ],
            [
             0.2222222222222222,
             "#7201a8"
            ],
            [
             0.3333333333333333,
             "#9c179e"
            ],
            [
             0.4444444444444444,
             "#bd3786"
            ],
            [
             0.5555555555555556,
             "#d8576b"
            ],
            [
             0.6666666666666666,
             "#ed7953"
            ],
            [
             0.7777777777777778,
             "#fb9f3a"
            ],
            [
             0.8888888888888888,
             "#fdca26"
            ],
            [
             1,
             "#f0f921"
            ]
           ],
           "sequentialminus": [
            [
             0,
             "#0d0887"
            ],
            [
             0.1111111111111111,
             "#46039f"
            ],
            [
             0.2222222222222222,
             "#7201a8"
            ],
            [
             0.3333333333333333,
             "#9c179e"
            ],
            [
             0.4444444444444444,
             "#bd3786"
            ],
            [
             0.5555555555555556,
             "#d8576b"
            ],
            [
             0.6666666666666666,
             "#ed7953"
            ],
            [
             0.7777777777777778,
             "#fb9f3a"
            ],
            [
             0.8888888888888888,
             "#fdca26"
            ],
            [
             1,
             "#f0f921"
            ]
           ]
          },
          "colorway": [
           "#636efa",
           "#EF553B",
           "#00cc96",
           "#ab63fa",
           "#FFA15A",
           "#19d3f3",
           "#FF6692",
           "#B6E880",
           "#FF97FF",
           "#FECB52"
          ],
          "font": {
           "color": "#2a3f5f"
          },
          "geo": {
           "bgcolor": "white",
           "lakecolor": "white",
           "landcolor": "#E5ECF6",
           "showlakes": true,
           "showland": true,
           "subunitcolor": "white"
          },
          "hoverlabel": {
           "align": "left"
          },
          "hovermode": "closest",
          "mapbox": {
           "style": "light"
          },
          "paper_bgcolor": "white",
          "plot_bgcolor": "#E5ECF6",
          "polar": {
           "angularaxis": {
            "gridcolor": "white",
            "linecolor": "white",
            "ticks": ""
           },
           "bgcolor": "#E5ECF6",
           "radialaxis": {
            "gridcolor": "white",
            "linecolor": "white",
            "ticks": ""
           }
          },
          "scene": {
           "xaxis": {
            "backgroundcolor": "#E5ECF6",
            "gridcolor": "white",
            "gridwidth": 2,
            "linecolor": "white",
            "showbackground": true,
            "ticks": "",
            "zerolinecolor": "white"
           },
           "yaxis": {
            "backgroundcolor": "#E5ECF6",
            "gridcolor": "white",
            "gridwidth": 2,
            "linecolor": "white",
            "showbackground": true,
            "ticks": "",
            "zerolinecolor": "white"
           },
           "zaxis": {
            "backgroundcolor": "#E5ECF6",
            "gridcolor": "white",
            "gridwidth": 2,
            "linecolor": "white",
            "showbackground": true,
            "ticks": "",
            "zerolinecolor": "white"
           }
          },
          "shapedefaults": {
           "line": {
            "color": "#2a3f5f"
           }
          },
          "ternary": {
           "aaxis": {
            "gridcolor": "white",
            "linecolor": "white",
            "ticks": ""
           },
           "baxis": {
            "gridcolor": "white",
            "linecolor": "white",
            "ticks": ""
           },
           "bgcolor": "#E5ECF6",
           "caxis": {
            "gridcolor": "white",
            "linecolor": "white",
            "ticks": ""
           }
          },
          "title": {
           "x": 0.05
          },
          "xaxis": {
           "automargin": true,
           "gridcolor": "white",
           "linecolor": "white",
           "ticks": "",
           "title": {
            "standoff": 15
           },
           "zerolinecolor": "white",
           "zerolinewidth": 2
          },
          "yaxis": {
           "automargin": true,
           "gridcolor": "white",
           "linecolor": "white",
           "ticks": "",
           "title": {
            "standoff": 15
           },
           "zerolinecolor": "white",
           "zerolinewidth": 2
          }
         }
        },
        "title": {
         "font": {
          "color": "#4D5663"
         }
        },
        "xaxis": {
         "gridcolor": "#E1E5ED",
         "showgrid": true,
         "tickfont": {
          "color": "#4D5663"
         },
         "title": {
          "font": {
           "color": "#4D5663"
          },
          "text": ""
         },
         "zerolinecolor": "#E1E5ED"
        },
        "yaxis": {
         "gridcolor": "#E1E5ED",
         "showgrid": true,
         "tickfont": {
          "color": "#4D5663"
         },
         "title": {
          "font": {
           "color": "#4D5663"
          },
          "text": ""
         },
         "zerolinecolor": "#E1E5ED"
        }
       }
      },
      "text/html": [
       "<div>                            <div id=\"a8cea613-fa01-44d4-b192-870a7d21a5c5\" class=\"plotly-graph-div\" style=\"height:525px; width:100%;\"></div>            <script type=\"text/javascript\">                require([\"plotly\"], function(Plotly) {                    window.PLOTLYENV=window.PLOTLYENV || {};\n",
       "                    window.PLOTLYENV.BASE_URL='https://plot.ly';                                    if (document.getElementById(\"a8cea613-fa01-44d4-b192-870a7d21a5c5\")) {                    Plotly.newPlot(                        \"a8cea613-fa01-44d4-b192-870a7d21a5c5\",                        [{\"colorscale\":[[0.0,\"rgb(165,0,38)\"],[0.1,\"rgb(215,48,39)\"],[0.2,\"rgb(244,109,67)\"],[0.3,\"rgb(253,174,97)\"],[0.4,\"rgb(254,224,144)\"],[0.5,\"rgb(255,255,191)\"],[0.6,\"rgb(224,243,248)\"],[0.7,\"rgb(171,217,233)\"],[0.8,\"rgb(116,173,209)\"],[0.9,\"rgb(69,117,180)\"],[1.0,\"rgb(49,54,149)\"]],\"x\":[0,1,2,3,4],\"y\":[\"x\",\"y\",\"z\"],\"z\":[[1,2,3,4,5],[10,20,40,10,20],[500,400,300,200,500]],\"type\":\"surface\"}],                        {\"legend\":{\"bgcolor\":\"#F5F6F9\",\"font\":{\"color\":\"#4D5663\"}},\"paper_bgcolor\":\"#F5F6F9\",\"plot_bgcolor\":\"#F5F6F9\",\"template\":{\"data\":{\"barpolar\":[{\"marker\":{\"line\":{\"color\":\"#E5ECF6\",\"width\":0.5},\"pattern\":{\"fillmode\":\"overlay\",\"size\":10,\"solidity\":0.2}},\"type\":\"barpolar\"}],\"bar\":[{\"error_x\":{\"color\":\"#2a3f5f\"},\"error_y\":{\"color\":\"#2a3f5f\"},\"marker\":{\"line\":{\"color\":\"#E5ECF6\",\"width\":0.5},\"pattern\":{\"fillmode\":\"overlay\",\"size\":10,\"solidity\":0.2}},\"type\":\"bar\"}],\"carpet\":[{\"aaxis\":{\"endlinecolor\":\"#2a3f5f\",\"gridcolor\":\"white\",\"linecolor\":\"white\",\"minorgridcolor\":\"white\",\"startlinecolor\":\"#2a3f5f\"},\"baxis\":{\"endlinecolor\":\"#2a3f5f\",\"gridcolor\":\"white\",\"linecolor\":\"white\",\"minorgridcolor\":\"white\",\"startlinecolor\":\"#2a3f5f\"},\"type\":\"carpet\"}],\"choropleth\":[{\"colorbar\":{\"outlinewidth\":0,\"ticks\":\"\"},\"type\":\"choropleth\"}],\"contourcarpet\":[{\"colorbar\":{\"outlinewidth\":0,\"ticks\":\"\"},\"type\":\"contourcarpet\"}],\"contour\":[{\"colorbar\":{\"outlinewidth\":0,\"ticks\":\"\"},\"colorscale\":[[0.0,\"#0d0887\"],[0.1111111111111111,\"#46039f\"],[0.2222222222222222,\"#7201a8\"],[0.3333333333333333,\"#9c179e\"],[0.4444444444444444,\"#bd3786\"],[0.5555555555555556,\"#d8576b\"],[0.6666666666666666,\"#ed7953\"],[0.7777777777777778,\"#fb9f3a\"],[0.8888888888888888,\"#fdca26\"],[1.0,\"#f0f921\"]],\"type\":\"contour\"}],\"heatmapgl\":[{\"colorbar\":{\"outlinewidth\":0,\"ticks\":\"\"},\"colorscale\":[[0.0,\"#0d0887\"],[0.1111111111111111,\"#46039f\"],[0.2222222222222222,\"#7201a8\"],[0.3333333333333333,\"#9c179e\"],[0.4444444444444444,\"#bd3786\"],[0.5555555555555556,\"#d8576b\"],[0.6666666666666666,\"#ed7953\"],[0.7777777777777778,\"#fb9f3a\"],[0.8888888888888888,\"#fdca26\"],[1.0,\"#f0f921\"]],\"type\":\"heatmapgl\"}],\"heatmap\":[{\"colorbar\":{\"outlinewidth\":0,\"ticks\":\"\"},\"colorscale\":[[0.0,\"#0d0887\"],[0.1111111111111111,\"#46039f\"],[0.2222222222222222,\"#7201a8\"],[0.3333333333333333,\"#9c179e\"],[0.4444444444444444,\"#bd3786\"],[0.5555555555555556,\"#d8576b\"],[0.6666666666666666,\"#ed7953\"],[0.7777777777777778,\"#fb9f3a\"],[0.8888888888888888,\"#fdca26\"],[1.0,\"#f0f921\"]],\"type\":\"heatmap\"}],\"histogram2dcontour\":[{\"colorbar\":{\"outlinewidth\":0,\"ticks\":\"\"},\"colorscale\":[[0.0,\"#0d0887\"],[0.1111111111111111,\"#46039f\"],[0.2222222222222222,\"#7201a8\"],[0.3333333333333333,\"#9c179e\"],[0.4444444444444444,\"#bd3786\"],[0.5555555555555556,\"#d8576b\"],[0.6666666666666666,\"#ed7953\"],[0.7777777777777778,\"#fb9f3a\"],[0.8888888888888888,\"#fdca26\"],[1.0,\"#f0f921\"]],\"type\":\"histogram2dcontour\"}],\"histogram2d\":[{\"colorbar\":{\"outlinewidth\":0,\"ticks\":\"\"},\"colorscale\":[[0.0,\"#0d0887\"],[0.1111111111111111,\"#46039f\"],[0.2222222222222222,\"#7201a8\"],[0.3333333333333333,\"#9c179e\"],[0.4444444444444444,\"#bd3786\"],[0.5555555555555556,\"#d8576b\"],[0.6666666666666666,\"#ed7953\"],[0.7777777777777778,\"#fb9f3a\"],[0.8888888888888888,\"#fdca26\"],[1.0,\"#f0f921\"]],\"type\":\"histogram2d\"}],\"histogram\":[{\"marker\":{\"pattern\":{\"fillmode\":\"overlay\",\"size\":10,\"solidity\":0.2}},\"type\":\"histogram\"}],\"mesh3d\":[{\"colorbar\":{\"outlinewidth\":0,\"ticks\":\"\"},\"type\":\"mesh3d\"}],\"parcoords\":[{\"line\":{\"colorbar\":{\"outlinewidth\":0,\"ticks\":\"\"}},\"type\":\"parcoords\"}],\"pie\":[{\"automargin\":true,\"type\":\"pie\"}],\"scatter3d\":[{\"line\":{\"colorbar\":{\"outlinewidth\":0,\"ticks\":\"\"}},\"marker\":{\"colorbar\":{\"outlinewidth\":0,\"ticks\":\"\"}},\"type\":\"scatter3d\"}],\"scattercarpet\":[{\"marker\":{\"colorbar\":{\"outlinewidth\":0,\"ticks\":\"\"}},\"type\":\"scattercarpet\"}],\"scattergeo\":[{\"marker\":{\"colorbar\":{\"outlinewidth\":0,\"ticks\":\"\"}},\"type\":\"scattergeo\"}],\"scattergl\":[{\"marker\":{\"colorbar\":{\"outlinewidth\":0,\"ticks\":\"\"}},\"type\":\"scattergl\"}],\"scattermapbox\":[{\"marker\":{\"colorbar\":{\"outlinewidth\":0,\"ticks\":\"\"}},\"type\":\"scattermapbox\"}],\"scatterpolargl\":[{\"marker\":{\"colorbar\":{\"outlinewidth\":0,\"ticks\":\"\"}},\"type\":\"scatterpolargl\"}],\"scatterpolar\":[{\"marker\":{\"colorbar\":{\"outlinewidth\":0,\"ticks\":\"\"}},\"type\":\"scatterpolar\"}],\"scatter\":[{\"fillpattern\":{\"fillmode\":\"overlay\",\"size\":10,\"solidity\":0.2},\"type\":\"scatter\"}],\"scatterternary\":[{\"marker\":{\"colorbar\":{\"outlinewidth\":0,\"ticks\":\"\"}},\"type\":\"scatterternary\"}],\"surface\":[{\"colorbar\":{\"outlinewidth\":0,\"ticks\":\"\"},\"colorscale\":[[0.0,\"#0d0887\"],[0.1111111111111111,\"#46039f\"],[0.2222222222222222,\"#7201a8\"],[0.3333333333333333,\"#9c179e\"],[0.4444444444444444,\"#bd3786\"],[0.5555555555555556,\"#d8576b\"],[0.6666666666666666,\"#ed7953\"],[0.7777777777777778,\"#fb9f3a\"],[0.8888888888888888,\"#fdca26\"],[1.0,\"#f0f921\"]],\"type\":\"surface\"}],\"table\":[{\"cells\":{\"fill\":{\"color\":\"#EBF0F8\"},\"line\":{\"color\":\"white\"}},\"header\":{\"fill\":{\"color\":\"#C8D4E3\"},\"line\":{\"color\":\"white\"}},\"type\":\"table\"}]},\"layout\":{\"annotationdefaults\":{\"arrowcolor\":\"#2a3f5f\",\"arrowhead\":0,\"arrowwidth\":1},\"autotypenumbers\":\"strict\",\"coloraxis\":{\"colorbar\":{\"outlinewidth\":0,\"ticks\":\"\"}},\"colorscale\":{\"diverging\":[[0,\"#8e0152\"],[0.1,\"#c51b7d\"],[0.2,\"#de77ae\"],[0.3,\"#f1b6da\"],[0.4,\"#fde0ef\"],[0.5,\"#f7f7f7\"],[0.6,\"#e6f5d0\"],[0.7,\"#b8e186\"],[0.8,\"#7fbc41\"],[0.9,\"#4d9221\"],[1,\"#276419\"]],\"sequential\":[[0.0,\"#0d0887\"],[0.1111111111111111,\"#46039f\"],[0.2222222222222222,\"#7201a8\"],[0.3333333333333333,\"#9c179e\"],[0.4444444444444444,\"#bd3786\"],[0.5555555555555556,\"#d8576b\"],[0.6666666666666666,\"#ed7953\"],[0.7777777777777778,\"#fb9f3a\"],[0.8888888888888888,\"#fdca26\"],[1.0,\"#f0f921\"]],\"sequentialminus\":[[0.0,\"#0d0887\"],[0.1111111111111111,\"#46039f\"],[0.2222222222222222,\"#7201a8\"],[0.3333333333333333,\"#9c179e\"],[0.4444444444444444,\"#bd3786\"],[0.5555555555555556,\"#d8576b\"],[0.6666666666666666,\"#ed7953\"],[0.7777777777777778,\"#fb9f3a\"],[0.8888888888888888,\"#fdca26\"],[1.0,\"#f0f921\"]]},\"colorway\":[\"#636efa\",\"#EF553B\",\"#00cc96\",\"#ab63fa\",\"#FFA15A\",\"#19d3f3\",\"#FF6692\",\"#B6E880\",\"#FF97FF\",\"#FECB52\"],\"font\":{\"color\":\"#2a3f5f\"},\"geo\":{\"bgcolor\":\"white\",\"lakecolor\":\"white\",\"landcolor\":\"#E5ECF6\",\"showlakes\":true,\"showland\":true,\"subunitcolor\":\"white\"},\"hoverlabel\":{\"align\":\"left\"},\"hovermode\":\"closest\",\"mapbox\":{\"style\":\"light\"},\"paper_bgcolor\":\"white\",\"plot_bgcolor\":\"#E5ECF6\",\"polar\":{\"angularaxis\":{\"gridcolor\":\"white\",\"linecolor\":\"white\",\"ticks\":\"\"},\"bgcolor\":\"#E5ECF6\",\"radialaxis\":{\"gridcolor\":\"white\",\"linecolor\":\"white\",\"ticks\":\"\"}},\"scene\":{\"xaxis\":{\"backgroundcolor\":\"#E5ECF6\",\"gridcolor\":\"white\",\"gridwidth\":2,\"linecolor\":\"white\",\"showbackground\":true,\"ticks\":\"\",\"zerolinecolor\":\"white\"},\"yaxis\":{\"backgroundcolor\":\"#E5ECF6\",\"gridcolor\":\"white\",\"gridwidth\":2,\"linecolor\":\"white\",\"showbackground\":true,\"ticks\":\"\",\"zerolinecolor\":\"white\"},\"zaxis\":{\"backgroundcolor\":\"#E5ECF6\",\"gridcolor\":\"white\",\"gridwidth\":2,\"linecolor\":\"white\",\"showbackground\":true,\"ticks\":\"\",\"zerolinecolor\":\"white\"}},\"shapedefaults\":{\"line\":{\"color\":\"#2a3f5f\"}},\"ternary\":{\"aaxis\":{\"gridcolor\":\"white\",\"linecolor\":\"white\",\"ticks\":\"\"},\"baxis\":{\"gridcolor\":\"white\",\"linecolor\":\"white\",\"ticks\":\"\"},\"bgcolor\":\"#E5ECF6\",\"caxis\":{\"gridcolor\":\"white\",\"linecolor\":\"white\",\"ticks\":\"\"}},\"title\":{\"x\":0.05},\"xaxis\":{\"automargin\":true,\"gridcolor\":\"white\",\"linecolor\":\"white\",\"ticks\":\"\",\"title\":{\"standoff\":15},\"zerolinecolor\":\"white\",\"zerolinewidth\":2},\"yaxis\":{\"automargin\":true,\"gridcolor\":\"white\",\"linecolor\":\"white\",\"ticks\":\"\",\"title\":{\"standoff\":15},\"zerolinecolor\":\"white\",\"zerolinewidth\":2}}},\"title\":{\"font\":{\"color\":\"#4D5663\"}},\"xaxis\":{\"gridcolor\":\"#E1E5ED\",\"showgrid\":true,\"tickfont\":{\"color\":\"#4D5663\"},\"title\":{\"font\":{\"color\":\"#4D5663\"},\"text\":\"\"},\"zerolinecolor\":\"#E1E5ED\"},\"yaxis\":{\"gridcolor\":\"#E1E5ED\",\"showgrid\":true,\"tickfont\":{\"color\":\"#4D5663\"},\"title\":{\"font\":{\"color\":\"#4D5663\"},\"text\":\"\"},\"zerolinecolor\":\"#E1E5ED\"}},                        {\"showLink\": true, \"linkText\": \"Export to plot.ly\", \"plotlyServerURL\": \"https://plot.ly\", \"responsive\": true}                    ).then(function(){\n",
       "                            \n",
       "var gd = document.getElementById('a8cea613-fa01-44d4-b192-870a7d21a5c5');\n",
       "var x = new MutationObserver(function (mutations, observer) {{\n",
       "        var display = window.getComputedStyle(gd).display;\n",
       "        if (!display || display === 'none') {{\n",
       "            console.log([gd, 'removed!']);\n",
       "            Plotly.purge(gd);\n",
       "            observer.disconnect();\n",
       "        }}\n",
       "}});\n",
       "\n",
       "// Listen for the removal of the full notebook cells\n",
       "var notebookContainer = gd.closest('#notebook-container');\n",
       "if (notebookContainer) {{\n",
       "    x.observe(notebookContainer, {childList: true});\n",
       "}}\n",
       "\n",
       "// Listen for the clearing of the current output cell\n",
       "var outputEl = gd.closest('.output');\n",
       "if (outputEl) {{\n",
       "    x.observe(outputEl, {childList: true});\n",
       "}}\n",
       "\n",
       "                        })                };                });            </script>        </div>"
      ]
     },
     "metadata": {},
     "output_type": "display_data"
    }
   ],
   "source": [
    "df3.iplot(kind='surface',colorscale='rdylbu')"
   ]
  },
  {
   "cell_type": "code",
   "execution_count": 41,
   "id": "8afe54cc",
   "metadata": {},
   "outputs": [
    {
     "data": {
      "application/vnd.plotly.v1+json": {
       "config": {
        "linkText": "Export to plot.ly",
        "plotlyServerURL": "https://plot.ly",
        "showLink": true
       },
       "data": [
        {
         "histfunc": "count",
         "histnorm": "",
         "marker": {
          "color": "rgba(255, 153, 51, 1.0)",
          "line": {
           "color": "#4D5663",
           "width": 1.3
          }
         },
         "name": "A",
         "nbinsx": 30,
         "opacity": 0.8,
         "orientation": "v",
         "type": "histogram",
         "x": [
          -0.574793679676617,
          0.2235288385812236,
          -0.1416022574544621,
          1.1830002741236476,
          -0.8040111862595727,
          0.5603981980480017,
          1.0802000604334197,
          0.03958333136709857,
          -0.3365396825358062,
          0.2832793352592316,
          0.05165284183696506,
          -1.5912603445652507,
          -0.4027067517849839,
          -0.8441710552955158,
          -1.5018814837552625,
          1.0623705523783178,
          -0.6269685582361755,
          -1.0877374783470943,
          -0.04920277457916217,
          -0.49476631278334876,
          -1.102273038947587,
          -0.3613339588765766,
          0.3029725474183342,
          -0.09750304564376079,
          0.5675651772580712,
          -0.20703757151798488,
          -0.38179254271357244,
          -0.011627047618306317,
          -0.033123321889765134,
          -0.2184206692864132,
          1.1088956825411647,
          0.7847064418904279,
          1.154230440045405,
          -0.18556857223927084,
          -0.12891590454086874,
          0.18790915439432815,
          0.36290388657239836,
          -1.1000323979187554,
          -1.0644192730628328,
          -0.6689050042491553,
          -1.0017148503324511,
          -0.7147505434964523,
          0.5793842268683049,
          -1.4795338070213433,
          -0.03839282830179687,
          0.6997666972174688,
          -1.2835392333483941,
          0.16475761642484815,
          1.6889573202477632,
          -1.592941071461217,
          -0.7387106985235867,
          0.39701245028797894,
          1.1840215900235371,
          0.20939687790234918,
          -2.310159082515787,
          1.2943143805175952,
          -0.2945990330477354,
          2.015857216673764,
          -0.36968920526721943,
          -0.06482501623263177,
          0.4902842916770235,
          0.08187970865813975,
          0.3201306863347647,
          -1.6580600975761564,
          -1.2041955464842804,
          0.38152574274387535,
          -0.9331789825369936,
          0.2483112308845951,
          -0.3513764390898863,
          -0.8734172442961183,
          -0.3895631575428738,
          -0.2931594876428916,
          0.25127681287774367,
          1.987790683269706,
          0.18787640248927523,
          0.7319941857482984,
          0.996051203371639,
          0.8023664354900774,
          0.37326917205338095,
          0.8082704119906713,
          -0.5670128605070655,
          1.2604557560821879,
          0.9295006804240427,
          -0.07436204245143835,
          -0.4698506128050334,
          0.5747740770991207,
          -1.015928906236001,
          -0.5064827491974023,
          0.42557873681748015,
          -0.15760594251567855,
          0.4924666238139324,
          0.8094009000999365,
          -0.1978814224350476,
          -0.9850274970501465,
          -0.5429440339023727,
          -0.8677581004904326,
          -1.62694506157608,
          -0.8824812217412265,
          2.9646802953652753,
          -0.696782614544617
         ]
        }
       ],
       "layout": {
        "barmode": "overlay",
        "legend": {
         "bgcolor": "#F5F6F9",
         "font": {
          "color": "#4D5663"
         }
        },
        "paper_bgcolor": "#F5F6F9",
        "plot_bgcolor": "#F5F6F9",
        "template": {
         "data": {
          "bar": [
           {
            "error_x": {
             "color": "#2a3f5f"
            },
            "error_y": {
             "color": "#2a3f5f"
            },
            "marker": {
             "line": {
              "color": "#E5ECF6",
              "width": 0.5
             },
             "pattern": {
              "fillmode": "overlay",
              "size": 10,
              "solidity": 0.2
             }
            },
            "type": "bar"
           }
          ],
          "barpolar": [
           {
            "marker": {
             "line": {
              "color": "#E5ECF6",
              "width": 0.5
             },
             "pattern": {
              "fillmode": "overlay",
              "size": 10,
              "solidity": 0.2
             }
            },
            "type": "barpolar"
           }
          ],
          "carpet": [
           {
            "aaxis": {
             "endlinecolor": "#2a3f5f",
             "gridcolor": "white",
             "linecolor": "white",
             "minorgridcolor": "white",
             "startlinecolor": "#2a3f5f"
            },
            "baxis": {
             "endlinecolor": "#2a3f5f",
             "gridcolor": "white",
             "linecolor": "white",
             "minorgridcolor": "white",
             "startlinecolor": "#2a3f5f"
            },
            "type": "carpet"
           }
          ],
          "choropleth": [
           {
            "colorbar": {
             "outlinewidth": 0,
             "ticks": ""
            },
            "type": "choropleth"
           }
          ],
          "contour": [
           {
            "colorbar": {
             "outlinewidth": 0,
             "ticks": ""
            },
            "colorscale": [
             [
              0,
              "#0d0887"
             ],
             [
              0.1111111111111111,
              "#46039f"
             ],
             [
              0.2222222222222222,
              "#7201a8"
             ],
             [
              0.3333333333333333,
              "#9c179e"
             ],
             [
              0.4444444444444444,
              "#bd3786"
             ],
             [
              0.5555555555555556,
              "#d8576b"
             ],
             [
              0.6666666666666666,
              "#ed7953"
             ],
             [
              0.7777777777777778,
              "#fb9f3a"
             ],
             [
              0.8888888888888888,
              "#fdca26"
             ],
             [
              1,
              "#f0f921"
             ]
            ],
            "type": "contour"
           }
          ],
          "contourcarpet": [
           {
            "colorbar": {
             "outlinewidth": 0,
             "ticks": ""
            },
            "type": "contourcarpet"
           }
          ],
          "heatmap": [
           {
            "colorbar": {
             "outlinewidth": 0,
             "ticks": ""
            },
            "colorscale": [
             [
              0,
              "#0d0887"
             ],
             [
              0.1111111111111111,
              "#46039f"
             ],
             [
              0.2222222222222222,
              "#7201a8"
             ],
             [
              0.3333333333333333,
              "#9c179e"
             ],
             [
              0.4444444444444444,
              "#bd3786"
             ],
             [
              0.5555555555555556,
              "#d8576b"
             ],
             [
              0.6666666666666666,
              "#ed7953"
             ],
             [
              0.7777777777777778,
              "#fb9f3a"
             ],
             [
              0.8888888888888888,
              "#fdca26"
             ],
             [
              1,
              "#f0f921"
             ]
            ],
            "type": "heatmap"
           }
          ],
          "heatmapgl": [
           {
            "colorbar": {
             "outlinewidth": 0,
             "ticks": ""
            },
            "colorscale": [
             [
              0,
              "#0d0887"
             ],
             [
              0.1111111111111111,
              "#46039f"
             ],
             [
              0.2222222222222222,
              "#7201a8"
             ],
             [
              0.3333333333333333,
              "#9c179e"
             ],
             [
              0.4444444444444444,
              "#bd3786"
             ],
             [
              0.5555555555555556,
              "#d8576b"
             ],
             [
              0.6666666666666666,
              "#ed7953"
             ],
             [
              0.7777777777777778,
              "#fb9f3a"
             ],
             [
              0.8888888888888888,
              "#fdca26"
             ],
             [
              1,
              "#f0f921"
             ]
            ],
            "type": "heatmapgl"
           }
          ],
          "histogram": [
           {
            "marker": {
             "pattern": {
              "fillmode": "overlay",
              "size": 10,
              "solidity": 0.2
             }
            },
            "type": "histogram"
           }
          ],
          "histogram2d": [
           {
            "colorbar": {
             "outlinewidth": 0,
             "ticks": ""
            },
            "colorscale": [
             [
              0,
              "#0d0887"
             ],
             [
              0.1111111111111111,
              "#46039f"
             ],
             [
              0.2222222222222222,
              "#7201a8"
             ],
             [
              0.3333333333333333,
              "#9c179e"
             ],
             [
              0.4444444444444444,
              "#bd3786"
             ],
             [
              0.5555555555555556,
              "#d8576b"
             ],
             [
              0.6666666666666666,
              "#ed7953"
             ],
             [
              0.7777777777777778,
              "#fb9f3a"
             ],
             [
              0.8888888888888888,
              "#fdca26"
             ],
             [
              1,
              "#f0f921"
             ]
            ],
            "type": "histogram2d"
           }
          ],
          "histogram2dcontour": [
           {
            "colorbar": {
             "outlinewidth": 0,
             "ticks": ""
            },
            "colorscale": [
             [
              0,
              "#0d0887"
             ],
             [
              0.1111111111111111,
              "#46039f"
             ],
             [
              0.2222222222222222,
              "#7201a8"
             ],
             [
              0.3333333333333333,
              "#9c179e"
             ],
             [
              0.4444444444444444,
              "#bd3786"
             ],
             [
              0.5555555555555556,
              "#d8576b"
             ],
             [
              0.6666666666666666,
              "#ed7953"
             ],
             [
              0.7777777777777778,
              "#fb9f3a"
             ],
             [
              0.8888888888888888,
              "#fdca26"
             ],
             [
              1,
              "#f0f921"
             ]
            ],
            "type": "histogram2dcontour"
           }
          ],
          "mesh3d": [
           {
            "colorbar": {
             "outlinewidth": 0,
             "ticks": ""
            },
            "type": "mesh3d"
           }
          ],
          "parcoords": [
           {
            "line": {
             "colorbar": {
              "outlinewidth": 0,
              "ticks": ""
             }
            },
            "type": "parcoords"
           }
          ],
          "pie": [
           {
            "automargin": true,
            "type": "pie"
           }
          ],
          "scatter": [
           {
            "fillpattern": {
             "fillmode": "overlay",
             "size": 10,
             "solidity": 0.2
            },
            "type": "scatter"
           }
          ],
          "scatter3d": [
           {
            "line": {
             "colorbar": {
              "outlinewidth": 0,
              "ticks": ""
             }
            },
            "marker": {
             "colorbar": {
              "outlinewidth": 0,
              "ticks": ""
             }
            },
            "type": "scatter3d"
           }
          ],
          "scattercarpet": [
           {
            "marker": {
             "colorbar": {
              "outlinewidth": 0,
              "ticks": ""
             }
            },
            "type": "scattercarpet"
           }
          ],
          "scattergeo": [
           {
            "marker": {
             "colorbar": {
              "outlinewidth": 0,
              "ticks": ""
             }
            },
            "type": "scattergeo"
           }
          ],
          "scattergl": [
           {
            "marker": {
             "colorbar": {
              "outlinewidth": 0,
              "ticks": ""
             }
            },
            "type": "scattergl"
           }
          ],
          "scattermapbox": [
           {
            "marker": {
             "colorbar": {
              "outlinewidth": 0,
              "ticks": ""
             }
            },
            "type": "scattermapbox"
           }
          ],
          "scatterpolar": [
           {
            "marker": {
             "colorbar": {
              "outlinewidth": 0,
              "ticks": ""
             }
            },
            "type": "scatterpolar"
           }
          ],
          "scatterpolargl": [
           {
            "marker": {
             "colorbar": {
              "outlinewidth": 0,
              "ticks": ""
             }
            },
            "type": "scatterpolargl"
           }
          ],
          "scatterternary": [
           {
            "marker": {
             "colorbar": {
              "outlinewidth": 0,
              "ticks": ""
             }
            },
            "type": "scatterternary"
           }
          ],
          "surface": [
           {
            "colorbar": {
             "outlinewidth": 0,
             "ticks": ""
            },
            "colorscale": [
             [
              0,
              "#0d0887"
             ],
             [
              0.1111111111111111,
              "#46039f"
             ],
             [
              0.2222222222222222,
              "#7201a8"
             ],
             [
              0.3333333333333333,
              "#9c179e"
             ],
             [
              0.4444444444444444,
              "#bd3786"
             ],
             [
              0.5555555555555556,
              "#d8576b"
             ],
             [
              0.6666666666666666,
              "#ed7953"
             ],
             [
              0.7777777777777778,
              "#fb9f3a"
             ],
             [
              0.8888888888888888,
              "#fdca26"
             ],
             [
              1,
              "#f0f921"
             ]
            ],
            "type": "surface"
           }
          ],
          "table": [
           {
            "cells": {
             "fill": {
              "color": "#EBF0F8"
             },
             "line": {
              "color": "white"
             }
            },
            "header": {
             "fill": {
              "color": "#C8D4E3"
             },
             "line": {
              "color": "white"
             }
            },
            "type": "table"
           }
          ]
         },
         "layout": {
          "annotationdefaults": {
           "arrowcolor": "#2a3f5f",
           "arrowhead": 0,
           "arrowwidth": 1
          },
          "autotypenumbers": "strict",
          "coloraxis": {
           "colorbar": {
            "outlinewidth": 0,
            "ticks": ""
           }
          },
          "colorscale": {
           "diverging": [
            [
             0,
             "#8e0152"
            ],
            [
             0.1,
             "#c51b7d"
            ],
            [
             0.2,
             "#de77ae"
            ],
            [
             0.3,
             "#f1b6da"
            ],
            [
             0.4,
             "#fde0ef"
            ],
            [
             0.5,
             "#f7f7f7"
            ],
            [
             0.6,
             "#e6f5d0"
            ],
            [
             0.7,
             "#b8e186"
            ],
            [
             0.8,
             "#7fbc41"
            ],
            [
             0.9,
             "#4d9221"
            ],
            [
             1,
             "#276419"
            ]
           ],
           "sequential": [
            [
             0,
             "#0d0887"
            ],
            [
             0.1111111111111111,
             "#46039f"
            ],
            [
             0.2222222222222222,
             "#7201a8"
            ],
            [
             0.3333333333333333,
             "#9c179e"
            ],
            [
             0.4444444444444444,
             "#bd3786"
            ],
            [
             0.5555555555555556,
             "#d8576b"
            ],
            [
             0.6666666666666666,
             "#ed7953"
            ],
            [
             0.7777777777777778,
             "#fb9f3a"
            ],
            [
             0.8888888888888888,
             "#fdca26"
            ],
            [
             1,
             "#f0f921"
            ]
           ],
           "sequentialminus": [
            [
             0,
             "#0d0887"
            ],
            [
             0.1111111111111111,
             "#46039f"
            ],
            [
             0.2222222222222222,
             "#7201a8"
            ],
            [
             0.3333333333333333,
             "#9c179e"
            ],
            [
             0.4444444444444444,
             "#bd3786"
            ],
            [
             0.5555555555555556,
             "#d8576b"
            ],
            [
             0.6666666666666666,
             "#ed7953"
            ],
            [
             0.7777777777777778,
             "#fb9f3a"
            ],
            [
             0.8888888888888888,
             "#fdca26"
            ],
            [
             1,
             "#f0f921"
            ]
           ]
          },
          "colorway": [
           "#636efa",
           "#EF553B",
           "#00cc96",
           "#ab63fa",
           "#FFA15A",
           "#19d3f3",
           "#FF6692",
           "#B6E880",
           "#FF97FF",
           "#FECB52"
          ],
          "font": {
           "color": "#2a3f5f"
          },
          "geo": {
           "bgcolor": "white",
           "lakecolor": "white",
           "landcolor": "#E5ECF6",
           "showlakes": true,
           "showland": true,
           "subunitcolor": "white"
          },
          "hoverlabel": {
           "align": "left"
          },
          "hovermode": "closest",
          "mapbox": {
           "style": "light"
          },
          "paper_bgcolor": "white",
          "plot_bgcolor": "#E5ECF6",
          "polar": {
           "angularaxis": {
            "gridcolor": "white",
            "linecolor": "white",
            "ticks": ""
           },
           "bgcolor": "#E5ECF6",
           "radialaxis": {
            "gridcolor": "white",
            "linecolor": "white",
            "ticks": ""
           }
          },
          "scene": {
           "xaxis": {
            "backgroundcolor": "#E5ECF6",
            "gridcolor": "white",
            "gridwidth": 2,
            "linecolor": "white",
            "showbackground": true,
            "ticks": "",
            "zerolinecolor": "white"
           },
           "yaxis": {
            "backgroundcolor": "#E5ECF6",
            "gridcolor": "white",
            "gridwidth": 2,
            "linecolor": "white",
            "showbackground": true,
            "ticks": "",
            "zerolinecolor": "white"
           },
           "zaxis": {
            "backgroundcolor": "#E5ECF6",
            "gridcolor": "white",
            "gridwidth": 2,
            "linecolor": "white",
            "showbackground": true,
            "ticks": "",
            "zerolinecolor": "white"
           }
          },
          "shapedefaults": {
           "line": {
            "color": "#2a3f5f"
           }
          },
          "ternary": {
           "aaxis": {
            "gridcolor": "white",
            "linecolor": "white",
            "ticks": ""
           },
           "baxis": {
            "gridcolor": "white",
            "linecolor": "white",
            "ticks": ""
           },
           "bgcolor": "#E5ECF6",
           "caxis": {
            "gridcolor": "white",
            "linecolor": "white",
            "ticks": ""
           }
          },
          "title": {
           "x": 0.05
          },
          "xaxis": {
           "automargin": true,
           "gridcolor": "white",
           "linecolor": "white",
           "ticks": "",
           "title": {
            "standoff": 15
           },
           "zerolinecolor": "white",
           "zerolinewidth": 2
          },
          "yaxis": {
           "automargin": true,
           "gridcolor": "white",
           "linecolor": "white",
           "ticks": "",
           "title": {
            "standoff": 15
           },
           "zerolinecolor": "white",
           "zerolinewidth": 2
          }
         }
        },
        "title": {
         "font": {
          "color": "#4D5663"
         }
        },
        "xaxis": {
         "gridcolor": "#E1E5ED",
         "showgrid": true,
         "tickfont": {
          "color": "#4D5663"
         },
         "title": {
          "font": {
           "color": "#4D5663"
          },
          "text": ""
         },
         "zerolinecolor": "#E1E5ED"
        },
        "yaxis": {
         "gridcolor": "#E1E5ED",
         "showgrid": true,
         "tickfont": {
          "color": "#4D5663"
         },
         "title": {
          "font": {
           "color": "#4D5663"
          },
          "text": ""
         },
         "zerolinecolor": "#E1E5ED"
        }
       }
      },
      "text/html": [
       "<div>                            <div id=\"7093bd05-5f9c-4364-a58d-8bb5d73719b6\" class=\"plotly-graph-div\" style=\"height:525px; width:100%;\"></div>            <script type=\"text/javascript\">                require([\"plotly\"], function(Plotly) {                    window.PLOTLYENV=window.PLOTLYENV || {};\n",
       "                    window.PLOTLYENV.BASE_URL='https://plot.ly';                                    if (document.getElementById(\"7093bd05-5f9c-4364-a58d-8bb5d73719b6\")) {                    Plotly.newPlot(                        \"7093bd05-5f9c-4364-a58d-8bb5d73719b6\",                        [{\"histfunc\":\"count\",\"histnorm\":\"\",\"marker\":{\"color\":\"rgba(255, 153, 51, 1.0)\",\"line\":{\"color\":\"#4D5663\",\"width\":1.3}},\"name\":\"A\",\"nbinsx\":30,\"opacity\":0.8,\"orientation\":\"v\",\"x\":[-0.574793679676617,0.2235288385812236,-0.1416022574544621,1.1830002741236476,-0.8040111862595727,0.5603981980480017,1.0802000604334197,0.03958333136709857,-0.3365396825358062,0.2832793352592316,0.05165284183696506,-1.5912603445652507,-0.4027067517849839,-0.8441710552955158,-1.5018814837552625,1.0623705523783178,-0.6269685582361755,-1.0877374783470943,-0.04920277457916217,-0.49476631278334876,-1.102273038947587,-0.3613339588765766,0.3029725474183342,-0.09750304564376079,0.5675651772580712,-0.20703757151798488,-0.38179254271357244,-0.011627047618306317,-0.033123321889765134,-0.2184206692864132,1.1088956825411647,0.7847064418904279,1.154230440045405,-0.18556857223927084,-0.12891590454086874,0.18790915439432815,0.36290388657239836,-1.1000323979187554,-1.0644192730628328,-0.6689050042491553,-1.0017148503324511,-0.7147505434964523,0.5793842268683049,-1.4795338070213433,-0.03839282830179687,0.6997666972174688,-1.2835392333483941,0.16475761642484815,1.6889573202477632,-1.592941071461217,-0.7387106985235867,0.39701245028797894,1.1840215900235371,0.20939687790234918,-2.310159082515787,1.2943143805175952,-0.2945990330477354,2.015857216673764,-0.36968920526721943,-0.06482501623263177,0.4902842916770235,0.08187970865813975,0.3201306863347647,-1.6580600975761564,-1.2041955464842804,0.38152574274387535,-0.9331789825369936,0.2483112308845951,-0.3513764390898863,-0.8734172442961183,-0.3895631575428738,-0.2931594876428916,0.25127681287774367,1.987790683269706,0.18787640248927523,0.7319941857482984,0.996051203371639,0.8023664354900774,0.37326917205338095,0.8082704119906713,-0.5670128605070655,1.2604557560821879,0.9295006804240427,-0.07436204245143835,-0.4698506128050334,0.5747740770991207,-1.015928906236001,-0.5064827491974023,0.42557873681748015,-0.15760594251567855,0.4924666238139324,0.8094009000999365,-0.1978814224350476,-0.9850274970501465,-0.5429440339023727,-0.8677581004904326,-1.62694506157608,-0.8824812217412265,2.9646802953652753,-0.696782614544617],\"type\":\"histogram\"}],                        {\"barmode\":\"overlay\",\"legend\":{\"bgcolor\":\"#F5F6F9\",\"font\":{\"color\":\"#4D5663\"}},\"paper_bgcolor\":\"#F5F6F9\",\"plot_bgcolor\":\"#F5F6F9\",\"template\":{\"data\":{\"barpolar\":[{\"marker\":{\"line\":{\"color\":\"#E5ECF6\",\"width\":0.5},\"pattern\":{\"fillmode\":\"overlay\",\"size\":10,\"solidity\":0.2}},\"type\":\"barpolar\"}],\"bar\":[{\"error_x\":{\"color\":\"#2a3f5f\"},\"error_y\":{\"color\":\"#2a3f5f\"},\"marker\":{\"line\":{\"color\":\"#E5ECF6\",\"width\":0.5},\"pattern\":{\"fillmode\":\"overlay\",\"size\":10,\"solidity\":0.2}},\"type\":\"bar\"}],\"carpet\":[{\"aaxis\":{\"endlinecolor\":\"#2a3f5f\",\"gridcolor\":\"white\",\"linecolor\":\"white\",\"minorgridcolor\":\"white\",\"startlinecolor\":\"#2a3f5f\"},\"baxis\":{\"endlinecolor\":\"#2a3f5f\",\"gridcolor\":\"white\",\"linecolor\":\"white\",\"minorgridcolor\":\"white\",\"startlinecolor\":\"#2a3f5f\"},\"type\":\"carpet\"}],\"choropleth\":[{\"colorbar\":{\"outlinewidth\":0,\"ticks\":\"\"},\"type\":\"choropleth\"}],\"contourcarpet\":[{\"colorbar\":{\"outlinewidth\":0,\"ticks\":\"\"},\"type\":\"contourcarpet\"}],\"contour\":[{\"colorbar\":{\"outlinewidth\":0,\"ticks\":\"\"},\"colorscale\":[[0.0,\"#0d0887\"],[0.1111111111111111,\"#46039f\"],[0.2222222222222222,\"#7201a8\"],[0.3333333333333333,\"#9c179e\"],[0.4444444444444444,\"#bd3786\"],[0.5555555555555556,\"#d8576b\"],[0.6666666666666666,\"#ed7953\"],[0.7777777777777778,\"#fb9f3a\"],[0.8888888888888888,\"#fdca26\"],[1.0,\"#f0f921\"]],\"type\":\"contour\"}],\"heatmapgl\":[{\"colorbar\":{\"outlinewidth\":0,\"ticks\":\"\"},\"colorscale\":[[0.0,\"#0d0887\"],[0.1111111111111111,\"#46039f\"],[0.2222222222222222,\"#7201a8\"],[0.3333333333333333,\"#9c179e\"],[0.4444444444444444,\"#bd3786\"],[0.5555555555555556,\"#d8576b\"],[0.6666666666666666,\"#ed7953\"],[0.7777777777777778,\"#fb9f3a\"],[0.8888888888888888,\"#fdca26\"],[1.0,\"#f0f921\"]],\"type\":\"heatmapgl\"}],\"heatmap\":[{\"colorbar\":{\"outlinewidth\":0,\"ticks\":\"\"},\"colorscale\":[[0.0,\"#0d0887\"],[0.1111111111111111,\"#46039f\"],[0.2222222222222222,\"#7201a8\"],[0.3333333333333333,\"#9c179e\"],[0.4444444444444444,\"#bd3786\"],[0.5555555555555556,\"#d8576b\"],[0.6666666666666666,\"#ed7953\"],[0.7777777777777778,\"#fb9f3a\"],[0.8888888888888888,\"#fdca26\"],[1.0,\"#f0f921\"]],\"type\":\"heatmap\"}],\"histogram2dcontour\":[{\"colorbar\":{\"outlinewidth\":0,\"ticks\":\"\"},\"colorscale\":[[0.0,\"#0d0887\"],[0.1111111111111111,\"#46039f\"],[0.2222222222222222,\"#7201a8\"],[0.3333333333333333,\"#9c179e\"],[0.4444444444444444,\"#bd3786\"],[0.5555555555555556,\"#d8576b\"],[0.6666666666666666,\"#ed7953\"],[0.7777777777777778,\"#fb9f3a\"],[0.8888888888888888,\"#fdca26\"],[1.0,\"#f0f921\"]],\"type\":\"histogram2dcontour\"}],\"histogram2d\":[{\"colorbar\":{\"outlinewidth\":0,\"ticks\":\"\"},\"colorscale\":[[0.0,\"#0d0887\"],[0.1111111111111111,\"#46039f\"],[0.2222222222222222,\"#7201a8\"],[0.3333333333333333,\"#9c179e\"],[0.4444444444444444,\"#bd3786\"],[0.5555555555555556,\"#d8576b\"],[0.6666666666666666,\"#ed7953\"],[0.7777777777777778,\"#fb9f3a\"],[0.8888888888888888,\"#fdca26\"],[1.0,\"#f0f921\"]],\"type\":\"histogram2d\"}],\"histogram\":[{\"marker\":{\"pattern\":{\"fillmode\":\"overlay\",\"size\":10,\"solidity\":0.2}},\"type\":\"histogram\"}],\"mesh3d\":[{\"colorbar\":{\"outlinewidth\":0,\"ticks\":\"\"},\"type\":\"mesh3d\"}],\"parcoords\":[{\"line\":{\"colorbar\":{\"outlinewidth\":0,\"ticks\":\"\"}},\"type\":\"parcoords\"}],\"pie\":[{\"automargin\":true,\"type\":\"pie\"}],\"scatter3d\":[{\"line\":{\"colorbar\":{\"outlinewidth\":0,\"ticks\":\"\"}},\"marker\":{\"colorbar\":{\"outlinewidth\":0,\"ticks\":\"\"}},\"type\":\"scatter3d\"}],\"scattercarpet\":[{\"marker\":{\"colorbar\":{\"outlinewidth\":0,\"ticks\":\"\"}},\"type\":\"scattercarpet\"}],\"scattergeo\":[{\"marker\":{\"colorbar\":{\"outlinewidth\":0,\"ticks\":\"\"}},\"type\":\"scattergeo\"}],\"scattergl\":[{\"marker\":{\"colorbar\":{\"outlinewidth\":0,\"ticks\":\"\"}},\"type\":\"scattergl\"}],\"scattermapbox\":[{\"marker\":{\"colorbar\":{\"outlinewidth\":0,\"ticks\":\"\"}},\"type\":\"scattermapbox\"}],\"scatterpolargl\":[{\"marker\":{\"colorbar\":{\"outlinewidth\":0,\"ticks\":\"\"}},\"type\":\"scatterpolargl\"}],\"scatterpolar\":[{\"marker\":{\"colorbar\":{\"outlinewidth\":0,\"ticks\":\"\"}},\"type\":\"scatterpolar\"}],\"scatter\":[{\"fillpattern\":{\"fillmode\":\"overlay\",\"size\":10,\"solidity\":0.2},\"type\":\"scatter\"}],\"scatterternary\":[{\"marker\":{\"colorbar\":{\"outlinewidth\":0,\"ticks\":\"\"}},\"type\":\"scatterternary\"}],\"surface\":[{\"colorbar\":{\"outlinewidth\":0,\"ticks\":\"\"},\"colorscale\":[[0.0,\"#0d0887\"],[0.1111111111111111,\"#46039f\"],[0.2222222222222222,\"#7201a8\"],[0.3333333333333333,\"#9c179e\"],[0.4444444444444444,\"#bd3786\"],[0.5555555555555556,\"#d8576b\"],[0.6666666666666666,\"#ed7953\"],[0.7777777777777778,\"#fb9f3a\"],[0.8888888888888888,\"#fdca26\"],[1.0,\"#f0f921\"]],\"type\":\"surface\"}],\"table\":[{\"cells\":{\"fill\":{\"color\":\"#EBF0F8\"},\"line\":{\"color\":\"white\"}},\"header\":{\"fill\":{\"color\":\"#C8D4E3\"},\"line\":{\"color\":\"white\"}},\"type\":\"table\"}]},\"layout\":{\"annotationdefaults\":{\"arrowcolor\":\"#2a3f5f\",\"arrowhead\":0,\"arrowwidth\":1},\"autotypenumbers\":\"strict\",\"coloraxis\":{\"colorbar\":{\"outlinewidth\":0,\"ticks\":\"\"}},\"colorscale\":{\"diverging\":[[0,\"#8e0152\"],[0.1,\"#c51b7d\"],[0.2,\"#de77ae\"],[0.3,\"#f1b6da\"],[0.4,\"#fde0ef\"],[0.5,\"#f7f7f7\"],[0.6,\"#e6f5d0\"],[0.7,\"#b8e186\"],[0.8,\"#7fbc41\"],[0.9,\"#4d9221\"],[1,\"#276419\"]],\"sequential\":[[0.0,\"#0d0887\"],[0.1111111111111111,\"#46039f\"],[0.2222222222222222,\"#7201a8\"],[0.3333333333333333,\"#9c179e\"],[0.4444444444444444,\"#bd3786\"],[0.5555555555555556,\"#d8576b\"],[0.6666666666666666,\"#ed7953\"],[0.7777777777777778,\"#fb9f3a\"],[0.8888888888888888,\"#fdca26\"],[1.0,\"#f0f921\"]],\"sequentialminus\":[[0.0,\"#0d0887\"],[0.1111111111111111,\"#46039f\"],[0.2222222222222222,\"#7201a8\"],[0.3333333333333333,\"#9c179e\"],[0.4444444444444444,\"#bd3786\"],[0.5555555555555556,\"#d8576b\"],[0.6666666666666666,\"#ed7953\"],[0.7777777777777778,\"#fb9f3a\"],[0.8888888888888888,\"#fdca26\"],[1.0,\"#f0f921\"]]},\"colorway\":[\"#636efa\",\"#EF553B\",\"#00cc96\",\"#ab63fa\",\"#FFA15A\",\"#19d3f3\",\"#FF6692\",\"#B6E880\",\"#FF97FF\",\"#FECB52\"],\"font\":{\"color\":\"#2a3f5f\"},\"geo\":{\"bgcolor\":\"white\",\"lakecolor\":\"white\",\"landcolor\":\"#E5ECF6\",\"showlakes\":true,\"showland\":true,\"subunitcolor\":\"white\"},\"hoverlabel\":{\"align\":\"left\"},\"hovermode\":\"closest\",\"mapbox\":{\"style\":\"light\"},\"paper_bgcolor\":\"white\",\"plot_bgcolor\":\"#E5ECF6\",\"polar\":{\"angularaxis\":{\"gridcolor\":\"white\",\"linecolor\":\"white\",\"ticks\":\"\"},\"bgcolor\":\"#E5ECF6\",\"radialaxis\":{\"gridcolor\":\"white\",\"linecolor\":\"white\",\"ticks\":\"\"}},\"scene\":{\"xaxis\":{\"backgroundcolor\":\"#E5ECF6\",\"gridcolor\":\"white\",\"gridwidth\":2,\"linecolor\":\"white\",\"showbackground\":true,\"ticks\":\"\",\"zerolinecolor\":\"white\"},\"yaxis\":{\"backgroundcolor\":\"#E5ECF6\",\"gridcolor\":\"white\",\"gridwidth\":2,\"linecolor\":\"white\",\"showbackground\":true,\"ticks\":\"\",\"zerolinecolor\":\"white\"},\"zaxis\":{\"backgroundcolor\":\"#E5ECF6\",\"gridcolor\":\"white\",\"gridwidth\":2,\"linecolor\":\"white\",\"showbackground\":true,\"ticks\":\"\",\"zerolinecolor\":\"white\"}},\"shapedefaults\":{\"line\":{\"color\":\"#2a3f5f\"}},\"ternary\":{\"aaxis\":{\"gridcolor\":\"white\",\"linecolor\":\"white\",\"ticks\":\"\"},\"baxis\":{\"gridcolor\":\"white\",\"linecolor\":\"white\",\"ticks\":\"\"},\"bgcolor\":\"#E5ECF6\",\"caxis\":{\"gridcolor\":\"white\",\"linecolor\":\"white\",\"ticks\":\"\"}},\"title\":{\"x\":0.05},\"xaxis\":{\"automargin\":true,\"gridcolor\":\"white\",\"linecolor\":\"white\",\"ticks\":\"\",\"title\":{\"standoff\":15},\"zerolinecolor\":\"white\",\"zerolinewidth\":2},\"yaxis\":{\"automargin\":true,\"gridcolor\":\"white\",\"linecolor\":\"white\",\"ticks\":\"\",\"title\":{\"standoff\":15},\"zerolinecolor\":\"white\",\"zerolinewidth\":2}}},\"title\":{\"font\":{\"color\":\"#4D5663\"}},\"xaxis\":{\"gridcolor\":\"#E1E5ED\",\"showgrid\":true,\"tickfont\":{\"color\":\"#4D5663\"},\"title\":{\"font\":{\"color\":\"#4D5663\"},\"text\":\"\"},\"zerolinecolor\":\"#E1E5ED\"},\"yaxis\":{\"gridcolor\":\"#E1E5ED\",\"showgrid\":true,\"tickfont\":{\"color\":\"#4D5663\"},\"title\":{\"font\":{\"color\":\"#4D5663\"},\"text\":\"\"},\"zerolinecolor\":\"#E1E5ED\"}},                        {\"showLink\": true, \"linkText\": \"Export to plot.ly\", \"plotlyServerURL\": \"https://plot.ly\", \"responsive\": true}                    ).then(function(){\n",
       "                            \n",
       "var gd = document.getElementById('7093bd05-5f9c-4364-a58d-8bb5d73719b6');\n",
       "var x = new MutationObserver(function (mutations, observer) {{\n",
       "        var display = window.getComputedStyle(gd).display;\n",
       "        if (!display || display === 'none') {{\n",
       "            console.log([gd, 'removed!']);\n",
       "            Plotly.purge(gd);\n",
       "            observer.disconnect();\n",
       "        }}\n",
       "}});\n",
       "\n",
       "// Listen for the removal of the full notebook cells\n",
       "var notebookContainer = gd.closest('#notebook-container');\n",
       "if (notebookContainer) {{\n",
       "    x.observe(notebookContainer, {childList: true});\n",
       "}}\n",
       "\n",
       "// Listen for the clearing of the current output cell\n",
       "var outputEl = gd.closest('.output');\n",
       "if (outputEl) {{\n",
       "    x.observe(outputEl, {childList: true});\n",
       "}}\n",
       "\n",
       "                        })                };                });            </script>        </div>"
      ]
     },
     "metadata": {},
     "output_type": "display_data"
    }
   ],
   "source": [
    "df['A'].iplot(kind='hist',bins=30)"
   ]
  },
  {
   "cell_type": "code",
   "execution_count": 42,
   "id": "32cbff1f",
   "metadata": {},
   "outputs": [
    {
     "data": {
      "application/vnd.plotly.v1+json": {
       "config": {
        "linkText": "Export to plot.ly",
        "plotlyServerURL": "https://plot.ly",
        "showLink": true
       },
       "data": [
        {
         "histfunc": "count",
         "histnorm": "",
         "marker": {
          "color": "rgba(255, 153, 51, 1.0)",
          "line": {
           "color": "#4D5663",
           "width": 1.3
          }
         },
         "name": "A",
         "opacity": 0.8,
         "orientation": "v",
         "type": "histogram",
         "x": [
          -0.574793679676617,
          0.2235288385812236,
          -0.1416022574544621,
          1.1830002741236476,
          -0.8040111862595727,
          0.5603981980480017,
          1.0802000604334197,
          0.03958333136709857,
          -0.3365396825358062,
          0.2832793352592316,
          0.05165284183696506,
          -1.5912603445652507,
          -0.4027067517849839,
          -0.8441710552955158,
          -1.5018814837552625,
          1.0623705523783178,
          -0.6269685582361755,
          -1.0877374783470943,
          -0.04920277457916217,
          -0.49476631278334876,
          -1.102273038947587,
          -0.3613339588765766,
          0.3029725474183342,
          -0.09750304564376079,
          0.5675651772580712,
          -0.20703757151798488,
          -0.38179254271357244,
          -0.011627047618306317,
          -0.033123321889765134,
          -0.2184206692864132,
          1.1088956825411647,
          0.7847064418904279,
          1.154230440045405,
          -0.18556857223927084,
          -0.12891590454086874,
          0.18790915439432815,
          0.36290388657239836,
          -1.1000323979187554,
          -1.0644192730628328,
          -0.6689050042491553,
          -1.0017148503324511,
          -0.7147505434964523,
          0.5793842268683049,
          -1.4795338070213433,
          -0.03839282830179687,
          0.6997666972174688,
          -1.2835392333483941,
          0.16475761642484815,
          1.6889573202477632,
          -1.592941071461217,
          -0.7387106985235867,
          0.39701245028797894,
          1.1840215900235371,
          0.20939687790234918,
          -2.310159082515787,
          1.2943143805175952,
          -0.2945990330477354,
          2.015857216673764,
          -0.36968920526721943,
          -0.06482501623263177,
          0.4902842916770235,
          0.08187970865813975,
          0.3201306863347647,
          -1.6580600975761564,
          -1.2041955464842804,
          0.38152574274387535,
          -0.9331789825369936,
          0.2483112308845951,
          -0.3513764390898863,
          -0.8734172442961183,
          -0.3895631575428738,
          -0.2931594876428916,
          0.25127681287774367,
          1.987790683269706,
          0.18787640248927523,
          0.7319941857482984,
          0.996051203371639,
          0.8023664354900774,
          0.37326917205338095,
          0.8082704119906713,
          -0.5670128605070655,
          1.2604557560821879,
          0.9295006804240427,
          -0.07436204245143835,
          -0.4698506128050334,
          0.5747740770991207,
          -1.015928906236001,
          -0.5064827491974023,
          0.42557873681748015,
          -0.15760594251567855,
          0.4924666238139324,
          0.8094009000999365,
          -0.1978814224350476,
          -0.9850274970501465,
          -0.5429440339023727,
          -0.8677581004904326,
          -1.62694506157608,
          -0.8824812217412265,
          2.9646802953652753,
          -0.696782614544617
         ]
        },
        {
         "histfunc": "count",
         "histnorm": "",
         "marker": {
          "color": "rgba(55, 128, 191, 1.0)",
          "line": {
           "color": "#4D5663",
           "width": 1.3
          }
         },
         "name": "B",
         "opacity": 0.8,
         "orientation": "v",
         "type": "histogram",
         "x": [
          -0.41915746807640575,
          0.21930284828863833,
          -0.7610786434798053,
          -0.6918857200279099,
          -0.23559520316772184,
          -1.2675224451030764,
          -0.22288244488492134,
          0.17429733433401837,
          0.0762757519961098,
          -0.3669689691943707,
          1.0792882971785136,
          0.316899074242141,
          -0.04825893187424639,
          -0.5031500680545504,
          0.5846281200331179,
          -1.4076111659646628,
          0.5581580114679637,
          1.2342661817807972,
          -0.5801147930644517,
          0.5143095543016232,
          -0.27470375167671157,
          -0.1249604554829138,
          2.3015801416719883,
          -0.535673037666255,
          -0.9488349123871038,
          0.1184136493800736,
          -2.244461938831052,
          0.9570427917571265,
          -0.18916260601522641,
          -1.0530967941715776,
          0.22265169983192862,
          -0.34870062182493944,
          0.6016738643875863,
          0.562336915782038,
          -1.100990900729741,
          -1.5283468920818604,
          -1.7668647881221484,
          2.8053527903280013,
          -0.1168796213679174,
          -0.7618809661819511,
          -0.9924293911398685,
          -1.7543917460481346,
          -1.048507764949999,
          -0.6041298392882526,
          0.3801558907719418,
          0.4987419230265229,
          0.49810135830298774,
          0.8992442763001017,
          -0.7948584682214112,
          -0.9693612383002331,
          -0.7683440322511006,
          -1.1567649588940925,
          -0.13581935921923502,
          -0.4927083253539496,
          2.149222707304997,
          0.6275181422432665,
          -1.6651445093832844,
          -1.3104279518077564,
          1.520364724213475,
          -0.12263253089711454,
          0.6572572845188864,
          0.299844523824874,
          -0.07969916291529638,
          -2.948310749926441,
          1.0787648942634418,
          1.7309641277355667,
          -1.5483492384865831,
          -0.499821151016283,
          -1.6012102957857004,
          2.5136712612056855,
          0.6952546373626506,
          0.08481218221600291,
          0.46490293792485105,
          0.3675165437441855,
          -0.28065282385165585,
          0.4154825216383825,
          -1.5945417410773326,
          0.5759472764756738,
          1.2635498556299758,
          1.0352587860163123,
          0.962991845155968,
          -1.707832481488226,
          0.17583501851322028,
          1.1730434958755838,
          -0.0678384623372376,
          -0.5034339124885754,
          -0.8815189873404996,
          0.8761013064586037,
          -1.084830865142056,
          -1.497082382471439,
          -0.3569731365498273,
          1.1628995081849474,
          -0.9601044911548299,
          0.012437650238996368,
          -0.4577740907173309,
          -1.662251490679833,
          -1.4490992602462307,
          -0.006264011864668245,
          0.5454332382613313,
          -0.17002321014787986
         ]
        },
        {
         "histfunc": "count",
         "histnorm": "",
         "marker": {
          "color": "rgba(50, 171, 96, 1.0)",
          "line": {
           "color": "#4D5663",
           "width": 1.3
          }
         },
         "name": "C",
         "opacity": 0.8,
         "orientation": "v",
         "type": "histogram",
         "x": [
          -0.48016284539502374,
          1.1941605361276901,
          -1.3380686110014535,
          0.8496861440859929,
          0.10334025222810121,
          0.7790112926214989,
          -0.25519496667126196,
          0.7448633294729624,
          -0.9389275694022537,
          0.2764703818344103,
          1.5713410191540675,
          0.3587339287842905,
          1.8116652673425804,
          1.4610153237282706,
          -0.9234220929229902,
          -0.2795245320327592,
          0.7362839857792025,
          1.0845506658755941,
          -0.7906309801555522,
          0.4468688107353693,
          -0.8400481673749199,
          0.04730791167675447,
          1.0396829715764322,
          -0.38223015348999884,
          1.9329538808246907,
          0.027406820560686565,
          -0.9542493897915989,
          0.717558215382116,
          1.9341434756361537,
          0.43887850959477054,
          0.07574701766796874,
          0.9679467756373532,
          0.9689157316846471,
          0.09040407397946856,
          0.4045345471689706,
          0.044547063139071336,
          -0.33444597184645375,
          -0.4419718157832957,
          0.3312939420688317,
          -0.1524025207787877,
          -0.19648525315850116,
          -0.5071523525857391,
          0.8618592610172023,
          0.21474845376831098,
          2.935932373444087,
          1.1211018040818186,
          0.6675576999264661,
          0.830331411868125,
          0.240287564604421,
          0.5782227959390825,
          0.16610348327036337,
          -0.26067373918919545,
          0.6165706632965757,
          0.0493626176748902,
          -1.2454061538687209,
          -0.1806332881845276,
          -1.6521010995404608,
          -0.2896078963510364,
          -1.9432936991169414,
          -0.6329370516468182,
          1.0105085267150509,
          -0.881714693906353,
          -0.9127704462300918,
          0.9856352429468458,
          -1.3029147076374328,
          1.3936741696904487,
          0.3126403417594799,
          -0.7623593645280816,
          0.25128509196769805,
          1.9888169863810583,
          0.31160465621257316,
          0.8479283170183334,
          1.2577969625203822,
          -1.0065286821284707,
          -0.4114585098505856,
          2.038553967065002,
          -0.936034670530762,
          -0.9908496290461823,
          0.297913075307045,
          -0.37315866074811077,
          -0.01557169709267786,
          0.27526345665672447,
          0.6967772652465146,
          1.2695054487265522,
          -0.007433950506855492,
          0.5722235809228652,
          0.22726668691856367,
          -0.779330186388833,
          -0.8819788804909642,
          -0.5674558131847244,
          -0.24063577925786742,
          1.5682549612766834,
          -0.4805470717554532,
          -1.1617799681168157,
          1.0015601020611766,
          0.111234494442405,
          0.9165336920023927,
          0.2495057250384035,
          -0.7404737672600636,
          -0.5081339496921857
         ]
        },
        {
         "histfunc": "count",
         "histnorm": "",
         "marker": {
          "color": "rgba(128, 0, 128, 1.0)",
          "line": {
           "color": "#4D5663",
           "width": 1.3
          }
         },
         "name": "D",
         "opacity": 0.8,
         "orientation": "v",
         "type": "histogram",
         "x": [
          -1.1337989406811757,
          -1.9037877897374023,
          0.30232715095296525,
          -0.40746226064004226,
          -1.5843154622723592,
          0.0800001859112766,
          -1.0829534344624214,
          0.008929249820520537,
          0.17634301380882428,
          0.445923832278604,
          -0.5823559308867564,
          1.6787505305326424,
          1.5340576963578176,
          -0.4491259385069614,
          1.307584154739609,
          0.2802398428430633,
          0.8474559671923972,
          0.7243209501100196,
          0.852764174731704,
          0.7226099468487862,
          0.5073516462575364,
          0.31106025362326667,
          -0.7129766442167984,
          -1.8069662076212525,
          0.3899853755554775,
          1.1660113027000951,
          0.45780343027982806,
          -0.3850328593614212,
          -0.0584470187637657,
          -0.13063147921756002,
          0.2664076117902947,
          0.20129707681783135,
          0.26737710495402645,
          -0.00959464933565873,
          0.12086419327473921,
          0.36881552072922735,
          0.10435898893488083,
          1.399413241303069,
          -0.22554807536656415,
          -0.8068825210323299,
          -0.9216778635808496,
          0.010503303933990954,
          0.6520392127941269,
          1.2512419640101824,
          -0.5478703373479984,
          -0.3698831497368436,
          -0.794536878636538,
          1.569258025214523,
          0.07069802261660471,
          -0.984745870976086,
          0.04351361870881149,
          -0.9704163251529452,
          -0.9526280363084101,
          -0.7655813354099952,
          -0.7997514856589535,
          1.3939297951590652,
          1.5047267482345097,
          -0.05164022122595844,
          0.06079243380350069,
          -0.47960299877331186,
          0.4697426372510259,
          0.9664432216423561,
          -0.046938559627280725,
          1.5112235714071913,
          0.122122238044967,
          0.20198921099504166,
          -0.934288188251349,
          1.3808375368889114,
          -1.1660744319754683,
          0.5115255528576121,
          -0.7520042291245231,
          0.9328845756711185,
          -0.8861392243088931,
          -0.9014566300826681,
          0.7114607304778792,
          -0.31588421404758654,
          0.25778259899410694,
          -0.5176775437125997,
          2.5696830566488185,
          -0.6449836664633718,
          1.125122036774418,
          0.7893768671719273,
          0.7981961199353671,
          -0.6820999132258828,
          -1.740245288265015,
          0.07782938388943877,
          0.5936274472034748,
          -0.38884924439066243,
          -1.6531802539316356,
          -2.2206605114972278,
          -0.7734133828296601,
          0.2314445578782591,
          -1.6288222633053324,
          -0.3711326459237821,
          0.20195348087364953,
          -0.5302803833887427,
          1.803247830270659,
          -0.3235850641740168,
          0.5483828304193087,
          -0.14187033097751506
         ]
        }
       ],
       "layout": {
        "barmode": "overlay",
        "legend": {
         "bgcolor": "#F5F6F9",
         "font": {
          "color": "#4D5663"
         }
        },
        "paper_bgcolor": "#F5F6F9",
        "plot_bgcolor": "#F5F6F9",
        "template": {
         "data": {
          "bar": [
           {
            "error_x": {
             "color": "#2a3f5f"
            },
            "error_y": {
             "color": "#2a3f5f"
            },
            "marker": {
             "line": {
              "color": "#E5ECF6",
              "width": 0.5
             },
             "pattern": {
              "fillmode": "overlay",
              "size": 10,
              "solidity": 0.2
             }
            },
            "type": "bar"
           }
          ],
          "barpolar": [
           {
            "marker": {
             "line": {
              "color": "#E5ECF6",
              "width": 0.5
             },
             "pattern": {
              "fillmode": "overlay",
              "size": 10,
              "solidity": 0.2
             }
            },
            "type": "barpolar"
           }
          ],
          "carpet": [
           {
            "aaxis": {
             "endlinecolor": "#2a3f5f",
             "gridcolor": "white",
             "linecolor": "white",
             "minorgridcolor": "white",
             "startlinecolor": "#2a3f5f"
            },
            "baxis": {
             "endlinecolor": "#2a3f5f",
             "gridcolor": "white",
             "linecolor": "white",
             "minorgridcolor": "white",
             "startlinecolor": "#2a3f5f"
            },
            "type": "carpet"
           }
          ],
          "choropleth": [
           {
            "colorbar": {
             "outlinewidth": 0,
             "ticks": ""
            },
            "type": "choropleth"
           }
          ],
          "contour": [
           {
            "colorbar": {
             "outlinewidth": 0,
             "ticks": ""
            },
            "colorscale": [
             [
              0,
              "#0d0887"
             ],
             [
              0.1111111111111111,
              "#46039f"
             ],
             [
              0.2222222222222222,
              "#7201a8"
             ],
             [
              0.3333333333333333,
              "#9c179e"
             ],
             [
              0.4444444444444444,
              "#bd3786"
             ],
             [
              0.5555555555555556,
              "#d8576b"
             ],
             [
              0.6666666666666666,
              "#ed7953"
             ],
             [
              0.7777777777777778,
              "#fb9f3a"
             ],
             [
              0.8888888888888888,
              "#fdca26"
             ],
             [
              1,
              "#f0f921"
             ]
            ],
            "type": "contour"
           }
          ],
          "contourcarpet": [
           {
            "colorbar": {
             "outlinewidth": 0,
             "ticks": ""
            },
            "type": "contourcarpet"
           }
          ],
          "heatmap": [
           {
            "colorbar": {
             "outlinewidth": 0,
             "ticks": ""
            },
            "colorscale": [
             [
              0,
              "#0d0887"
             ],
             [
              0.1111111111111111,
              "#46039f"
             ],
             [
              0.2222222222222222,
              "#7201a8"
             ],
             [
              0.3333333333333333,
              "#9c179e"
             ],
             [
              0.4444444444444444,
              "#bd3786"
             ],
             [
              0.5555555555555556,
              "#d8576b"
             ],
             [
              0.6666666666666666,
              "#ed7953"
             ],
             [
              0.7777777777777778,
              "#fb9f3a"
             ],
             [
              0.8888888888888888,
              "#fdca26"
             ],
             [
              1,
              "#f0f921"
             ]
            ],
            "type": "heatmap"
           }
          ],
          "heatmapgl": [
           {
            "colorbar": {
             "outlinewidth": 0,
             "ticks": ""
            },
            "colorscale": [
             [
              0,
              "#0d0887"
             ],
             [
              0.1111111111111111,
              "#46039f"
             ],
             [
              0.2222222222222222,
              "#7201a8"
             ],
             [
              0.3333333333333333,
              "#9c179e"
             ],
             [
              0.4444444444444444,
              "#bd3786"
             ],
             [
              0.5555555555555556,
              "#d8576b"
             ],
             [
              0.6666666666666666,
              "#ed7953"
             ],
             [
              0.7777777777777778,
              "#fb9f3a"
             ],
             [
              0.8888888888888888,
              "#fdca26"
             ],
             [
              1,
              "#f0f921"
             ]
            ],
            "type": "heatmapgl"
           }
          ],
          "histogram": [
           {
            "marker": {
             "pattern": {
              "fillmode": "overlay",
              "size": 10,
              "solidity": 0.2
             }
            },
            "type": "histogram"
           }
          ],
          "histogram2d": [
           {
            "colorbar": {
             "outlinewidth": 0,
             "ticks": ""
            },
            "colorscale": [
             [
              0,
              "#0d0887"
             ],
             [
              0.1111111111111111,
              "#46039f"
             ],
             [
              0.2222222222222222,
              "#7201a8"
             ],
             [
              0.3333333333333333,
              "#9c179e"
             ],
             [
              0.4444444444444444,
              "#bd3786"
             ],
             [
              0.5555555555555556,
              "#d8576b"
             ],
             [
              0.6666666666666666,
              "#ed7953"
             ],
             [
              0.7777777777777778,
              "#fb9f3a"
             ],
             [
              0.8888888888888888,
              "#fdca26"
             ],
             [
              1,
              "#f0f921"
             ]
            ],
            "type": "histogram2d"
           }
          ],
          "histogram2dcontour": [
           {
            "colorbar": {
             "outlinewidth": 0,
             "ticks": ""
            },
            "colorscale": [
             [
              0,
              "#0d0887"
             ],
             [
              0.1111111111111111,
              "#46039f"
             ],
             [
              0.2222222222222222,
              "#7201a8"
             ],
             [
              0.3333333333333333,
              "#9c179e"
             ],
             [
              0.4444444444444444,
              "#bd3786"
             ],
             [
              0.5555555555555556,
              "#d8576b"
             ],
             [
              0.6666666666666666,
              "#ed7953"
             ],
             [
              0.7777777777777778,
              "#fb9f3a"
             ],
             [
              0.8888888888888888,
              "#fdca26"
             ],
             [
              1,
              "#f0f921"
             ]
            ],
            "type": "histogram2dcontour"
           }
          ],
          "mesh3d": [
           {
            "colorbar": {
             "outlinewidth": 0,
             "ticks": ""
            },
            "type": "mesh3d"
           }
          ],
          "parcoords": [
           {
            "line": {
             "colorbar": {
              "outlinewidth": 0,
              "ticks": ""
             }
            },
            "type": "parcoords"
           }
          ],
          "pie": [
           {
            "automargin": true,
            "type": "pie"
           }
          ],
          "scatter": [
           {
            "fillpattern": {
             "fillmode": "overlay",
             "size": 10,
             "solidity": 0.2
            },
            "type": "scatter"
           }
          ],
          "scatter3d": [
           {
            "line": {
             "colorbar": {
              "outlinewidth": 0,
              "ticks": ""
             }
            },
            "marker": {
             "colorbar": {
              "outlinewidth": 0,
              "ticks": ""
             }
            },
            "type": "scatter3d"
           }
          ],
          "scattercarpet": [
           {
            "marker": {
             "colorbar": {
              "outlinewidth": 0,
              "ticks": ""
             }
            },
            "type": "scattercarpet"
           }
          ],
          "scattergeo": [
           {
            "marker": {
             "colorbar": {
              "outlinewidth": 0,
              "ticks": ""
             }
            },
            "type": "scattergeo"
           }
          ],
          "scattergl": [
           {
            "marker": {
             "colorbar": {
              "outlinewidth": 0,
              "ticks": ""
             }
            },
            "type": "scattergl"
           }
          ],
          "scattermapbox": [
           {
            "marker": {
             "colorbar": {
              "outlinewidth": 0,
              "ticks": ""
             }
            },
            "type": "scattermapbox"
           }
          ],
          "scatterpolar": [
           {
            "marker": {
             "colorbar": {
              "outlinewidth": 0,
              "ticks": ""
             }
            },
            "type": "scatterpolar"
           }
          ],
          "scatterpolargl": [
           {
            "marker": {
             "colorbar": {
              "outlinewidth": 0,
              "ticks": ""
             }
            },
            "type": "scatterpolargl"
           }
          ],
          "scatterternary": [
           {
            "marker": {
             "colorbar": {
              "outlinewidth": 0,
              "ticks": ""
             }
            },
            "type": "scatterternary"
           }
          ],
          "surface": [
           {
            "colorbar": {
             "outlinewidth": 0,
             "ticks": ""
            },
            "colorscale": [
             [
              0,
              "#0d0887"
             ],
             [
              0.1111111111111111,
              "#46039f"
             ],
             [
              0.2222222222222222,
              "#7201a8"
             ],
             [
              0.3333333333333333,
              "#9c179e"
             ],
             [
              0.4444444444444444,
              "#bd3786"
             ],
             [
              0.5555555555555556,
              "#d8576b"
             ],
             [
              0.6666666666666666,
              "#ed7953"
             ],
             [
              0.7777777777777778,
              "#fb9f3a"
             ],
             [
              0.8888888888888888,
              "#fdca26"
             ],
             [
              1,
              "#f0f921"
             ]
            ],
            "type": "surface"
           }
          ],
          "table": [
           {
            "cells": {
             "fill": {
              "color": "#EBF0F8"
             },
             "line": {
              "color": "white"
             }
            },
            "header": {
             "fill": {
              "color": "#C8D4E3"
             },
             "line": {
              "color": "white"
             }
            },
            "type": "table"
           }
          ]
         },
         "layout": {
          "annotationdefaults": {
           "arrowcolor": "#2a3f5f",
           "arrowhead": 0,
           "arrowwidth": 1
          },
          "autotypenumbers": "strict",
          "coloraxis": {
           "colorbar": {
            "outlinewidth": 0,
            "ticks": ""
           }
          },
          "colorscale": {
           "diverging": [
            [
             0,
             "#8e0152"
            ],
            [
             0.1,
             "#c51b7d"
            ],
            [
             0.2,
             "#de77ae"
            ],
            [
             0.3,
             "#f1b6da"
            ],
            [
             0.4,
             "#fde0ef"
            ],
            [
             0.5,
             "#f7f7f7"
            ],
            [
             0.6,
             "#e6f5d0"
            ],
            [
             0.7,
             "#b8e186"
            ],
            [
             0.8,
             "#7fbc41"
            ],
            [
             0.9,
             "#4d9221"
            ],
            [
             1,
             "#276419"
            ]
           ],
           "sequential": [
            [
             0,
             "#0d0887"
            ],
            [
             0.1111111111111111,
             "#46039f"
            ],
            [
             0.2222222222222222,
             "#7201a8"
            ],
            [
             0.3333333333333333,
             "#9c179e"
            ],
            [
             0.4444444444444444,
             "#bd3786"
            ],
            [
             0.5555555555555556,
             "#d8576b"
            ],
            [
             0.6666666666666666,
             "#ed7953"
            ],
            [
             0.7777777777777778,
             "#fb9f3a"
            ],
            [
             0.8888888888888888,
             "#fdca26"
            ],
            [
             1,
             "#f0f921"
            ]
           ],
           "sequentialminus": [
            [
             0,
             "#0d0887"
            ],
            [
             0.1111111111111111,
             "#46039f"
            ],
            [
             0.2222222222222222,
             "#7201a8"
            ],
            [
             0.3333333333333333,
             "#9c179e"
            ],
            [
             0.4444444444444444,
             "#bd3786"
            ],
            [
             0.5555555555555556,
             "#d8576b"
            ],
            [
             0.6666666666666666,
             "#ed7953"
            ],
            [
             0.7777777777777778,
             "#fb9f3a"
            ],
            [
             0.8888888888888888,
             "#fdca26"
            ],
            [
             1,
             "#f0f921"
            ]
           ]
          },
          "colorway": [
           "#636efa",
           "#EF553B",
           "#00cc96",
           "#ab63fa",
           "#FFA15A",
           "#19d3f3",
           "#FF6692",
           "#B6E880",
           "#FF97FF",
           "#FECB52"
          ],
          "font": {
           "color": "#2a3f5f"
          },
          "geo": {
           "bgcolor": "white",
           "lakecolor": "white",
           "landcolor": "#E5ECF6",
           "showlakes": true,
           "showland": true,
           "subunitcolor": "white"
          },
          "hoverlabel": {
           "align": "left"
          },
          "hovermode": "closest",
          "mapbox": {
           "style": "light"
          },
          "paper_bgcolor": "white",
          "plot_bgcolor": "#E5ECF6",
          "polar": {
           "angularaxis": {
            "gridcolor": "white",
            "linecolor": "white",
            "ticks": ""
           },
           "bgcolor": "#E5ECF6",
           "radialaxis": {
            "gridcolor": "white",
            "linecolor": "white",
            "ticks": ""
           }
          },
          "scene": {
           "xaxis": {
            "backgroundcolor": "#E5ECF6",
            "gridcolor": "white",
            "gridwidth": 2,
            "linecolor": "white",
            "showbackground": true,
            "ticks": "",
            "zerolinecolor": "white"
           },
           "yaxis": {
            "backgroundcolor": "#E5ECF6",
            "gridcolor": "white",
            "gridwidth": 2,
            "linecolor": "white",
            "showbackground": true,
            "ticks": "",
            "zerolinecolor": "white"
           },
           "zaxis": {
            "backgroundcolor": "#E5ECF6",
            "gridcolor": "white",
            "gridwidth": 2,
            "linecolor": "white",
            "showbackground": true,
            "ticks": "",
            "zerolinecolor": "white"
           }
          },
          "shapedefaults": {
           "line": {
            "color": "#2a3f5f"
           }
          },
          "ternary": {
           "aaxis": {
            "gridcolor": "white",
            "linecolor": "white",
            "ticks": ""
           },
           "baxis": {
            "gridcolor": "white",
            "linecolor": "white",
            "ticks": ""
           },
           "bgcolor": "#E5ECF6",
           "caxis": {
            "gridcolor": "white",
            "linecolor": "white",
            "ticks": ""
           }
          },
          "title": {
           "x": 0.05
          },
          "xaxis": {
           "automargin": true,
           "gridcolor": "white",
           "linecolor": "white",
           "ticks": "",
           "title": {
            "standoff": 15
           },
           "zerolinecolor": "white",
           "zerolinewidth": 2
          },
          "yaxis": {
           "automargin": true,
           "gridcolor": "white",
           "linecolor": "white",
           "ticks": "",
           "title": {
            "standoff": 15
           },
           "zerolinecolor": "white",
           "zerolinewidth": 2
          }
         }
        },
        "title": {
         "font": {
          "color": "#4D5663"
         }
        },
        "xaxis": {
         "gridcolor": "#E1E5ED",
         "showgrid": true,
         "tickfont": {
          "color": "#4D5663"
         },
         "title": {
          "font": {
           "color": "#4D5663"
          },
          "text": ""
         },
         "zerolinecolor": "#E1E5ED"
        },
        "yaxis": {
         "gridcolor": "#E1E5ED",
         "showgrid": true,
         "tickfont": {
          "color": "#4D5663"
         },
         "title": {
          "font": {
           "color": "#4D5663"
          },
          "text": ""
         },
         "zerolinecolor": "#E1E5ED"
        }
       }
      },
      "text/html": [
       "<div>                            <div id=\"f30abe92-a3c8-48b3-b0ba-accbe2469bfe\" class=\"plotly-graph-div\" style=\"height:525px; width:100%;\"></div>            <script type=\"text/javascript\">                require([\"plotly\"], function(Plotly) {                    window.PLOTLYENV=window.PLOTLYENV || {};\n",
       "                    window.PLOTLYENV.BASE_URL='https://plot.ly';                                    if (document.getElementById(\"f30abe92-a3c8-48b3-b0ba-accbe2469bfe\")) {                    Plotly.newPlot(                        \"f30abe92-a3c8-48b3-b0ba-accbe2469bfe\",                        [{\"histfunc\":\"count\",\"histnorm\":\"\",\"marker\":{\"color\":\"rgba(255, 153, 51, 1.0)\",\"line\":{\"color\":\"#4D5663\",\"width\":1.3}},\"name\":\"A\",\"opacity\":0.8,\"orientation\":\"v\",\"x\":[-0.574793679676617,0.2235288385812236,-0.1416022574544621,1.1830002741236476,-0.8040111862595727,0.5603981980480017,1.0802000604334197,0.03958333136709857,-0.3365396825358062,0.2832793352592316,0.05165284183696506,-1.5912603445652507,-0.4027067517849839,-0.8441710552955158,-1.5018814837552625,1.0623705523783178,-0.6269685582361755,-1.0877374783470943,-0.04920277457916217,-0.49476631278334876,-1.102273038947587,-0.3613339588765766,0.3029725474183342,-0.09750304564376079,0.5675651772580712,-0.20703757151798488,-0.38179254271357244,-0.011627047618306317,-0.033123321889765134,-0.2184206692864132,1.1088956825411647,0.7847064418904279,1.154230440045405,-0.18556857223927084,-0.12891590454086874,0.18790915439432815,0.36290388657239836,-1.1000323979187554,-1.0644192730628328,-0.6689050042491553,-1.0017148503324511,-0.7147505434964523,0.5793842268683049,-1.4795338070213433,-0.03839282830179687,0.6997666972174688,-1.2835392333483941,0.16475761642484815,1.6889573202477632,-1.592941071461217,-0.7387106985235867,0.39701245028797894,1.1840215900235371,0.20939687790234918,-2.310159082515787,1.2943143805175952,-0.2945990330477354,2.015857216673764,-0.36968920526721943,-0.06482501623263177,0.4902842916770235,0.08187970865813975,0.3201306863347647,-1.6580600975761564,-1.2041955464842804,0.38152574274387535,-0.9331789825369936,0.2483112308845951,-0.3513764390898863,-0.8734172442961183,-0.3895631575428738,-0.2931594876428916,0.25127681287774367,1.987790683269706,0.18787640248927523,0.7319941857482984,0.996051203371639,0.8023664354900774,0.37326917205338095,0.8082704119906713,-0.5670128605070655,1.2604557560821879,0.9295006804240427,-0.07436204245143835,-0.4698506128050334,0.5747740770991207,-1.015928906236001,-0.5064827491974023,0.42557873681748015,-0.15760594251567855,0.4924666238139324,0.8094009000999365,-0.1978814224350476,-0.9850274970501465,-0.5429440339023727,-0.8677581004904326,-1.62694506157608,-0.8824812217412265,2.9646802953652753,-0.696782614544617],\"type\":\"histogram\"},{\"histfunc\":\"count\",\"histnorm\":\"\",\"marker\":{\"color\":\"rgba(55, 128, 191, 1.0)\",\"line\":{\"color\":\"#4D5663\",\"width\":1.3}},\"name\":\"B\",\"opacity\":0.8,\"orientation\":\"v\",\"x\":[-0.41915746807640575,0.21930284828863833,-0.7610786434798053,-0.6918857200279099,-0.23559520316772184,-1.2675224451030764,-0.22288244488492134,0.17429733433401837,0.0762757519961098,-0.3669689691943707,1.0792882971785136,0.316899074242141,-0.04825893187424639,-0.5031500680545504,0.5846281200331179,-1.4076111659646628,0.5581580114679637,1.2342661817807972,-0.5801147930644517,0.5143095543016232,-0.27470375167671157,-0.1249604554829138,2.3015801416719883,-0.535673037666255,-0.9488349123871038,0.1184136493800736,-2.244461938831052,0.9570427917571265,-0.18916260601522641,-1.0530967941715776,0.22265169983192862,-0.34870062182493944,0.6016738643875863,0.562336915782038,-1.100990900729741,-1.5283468920818604,-1.7668647881221484,2.8053527903280013,-0.1168796213679174,-0.7618809661819511,-0.9924293911398685,-1.7543917460481346,-1.048507764949999,-0.6041298392882526,0.3801558907719418,0.4987419230265229,0.49810135830298774,0.8992442763001017,-0.7948584682214112,-0.9693612383002331,-0.7683440322511006,-1.1567649588940925,-0.13581935921923502,-0.4927083253539496,2.149222707304997,0.6275181422432665,-1.6651445093832844,-1.3104279518077564,1.520364724213475,-0.12263253089711454,0.6572572845188864,0.299844523824874,-0.07969916291529638,-2.948310749926441,1.0787648942634418,1.7309641277355667,-1.5483492384865831,-0.499821151016283,-1.6012102957857004,2.5136712612056855,0.6952546373626506,0.08481218221600291,0.46490293792485105,0.3675165437441855,-0.28065282385165585,0.4154825216383825,-1.5945417410773326,0.5759472764756738,1.2635498556299758,1.0352587860163123,0.962991845155968,-1.707832481488226,0.17583501851322028,1.1730434958755838,-0.0678384623372376,-0.5034339124885754,-0.8815189873404996,0.8761013064586037,-1.084830865142056,-1.497082382471439,-0.3569731365498273,1.1628995081849474,-0.9601044911548299,0.012437650238996368,-0.4577740907173309,-1.662251490679833,-1.4490992602462307,-0.006264011864668245,0.5454332382613313,-0.17002321014787986],\"type\":\"histogram\"},{\"histfunc\":\"count\",\"histnorm\":\"\",\"marker\":{\"color\":\"rgba(50, 171, 96, 1.0)\",\"line\":{\"color\":\"#4D5663\",\"width\":1.3}},\"name\":\"C\",\"opacity\":0.8,\"orientation\":\"v\",\"x\":[-0.48016284539502374,1.1941605361276901,-1.3380686110014535,0.8496861440859929,0.10334025222810121,0.7790112926214989,-0.25519496667126196,0.7448633294729624,-0.9389275694022537,0.2764703818344103,1.5713410191540675,0.3587339287842905,1.8116652673425804,1.4610153237282706,-0.9234220929229902,-0.2795245320327592,0.7362839857792025,1.0845506658755941,-0.7906309801555522,0.4468688107353693,-0.8400481673749199,0.04730791167675447,1.0396829715764322,-0.38223015348999884,1.9329538808246907,0.027406820560686565,-0.9542493897915989,0.717558215382116,1.9341434756361537,0.43887850959477054,0.07574701766796874,0.9679467756373532,0.9689157316846471,0.09040407397946856,0.4045345471689706,0.044547063139071336,-0.33444597184645375,-0.4419718157832957,0.3312939420688317,-0.1524025207787877,-0.19648525315850116,-0.5071523525857391,0.8618592610172023,0.21474845376831098,2.935932373444087,1.1211018040818186,0.6675576999264661,0.830331411868125,0.240287564604421,0.5782227959390825,0.16610348327036337,-0.26067373918919545,0.6165706632965757,0.0493626176748902,-1.2454061538687209,-0.1806332881845276,-1.6521010995404608,-0.2896078963510364,-1.9432936991169414,-0.6329370516468182,1.0105085267150509,-0.881714693906353,-0.9127704462300918,0.9856352429468458,-1.3029147076374328,1.3936741696904487,0.3126403417594799,-0.7623593645280816,0.25128509196769805,1.9888169863810583,0.31160465621257316,0.8479283170183334,1.2577969625203822,-1.0065286821284707,-0.4114585098505856,2.038553967065002,-0.936034670530762,-0.9908496290461823,0.297913075307045,-0.37315866074811077,-0.01557169709267786,0.27526345665672447,0.6967772652465146,1.2695054487265522,-0.007433950506855492,0.5722235809228652,0.22726668691856367,-0.779330186388833,-0.8819788804909642,-0.5674558131847244,-0.24063577925786742,1.5682549612766834,-0.4805470717554532,-1.1617799681168157,1.0015601020611766,0.111234494442405,0.9165336920023927,0.2495057250384035,-0.7404737672600636,-0.5081339496921857],\"type\":\"histogram\"},{\"histfunc\":\"count\",\"histnorm\":\"\",\"marker\":{\"color\":\"rgba(128, 0, 128, 1.0)\",\"line\":{\"color\":\"#4D5663\",\"width\":1.3}},\"name\":\"D\",\"opacity\":0.8,\"orientation\":\"v\",\"x\":[-1.1337989406811757,-1.9037877897374023,0.30232715095296525,-0.40746226064004226,-1.5843154622723592,0.0800001859112766,-1.0829534344624214,0.008929249820520537,0.17634301380882428,0.445923832278604,-0.5823559308867564,1.6787505305326424,1.5340576963578176,-0.4491259385069614,1.307584154739609,0.2802398428430633,0.8474559671923972,0.7243209501100196,0.852764174731704,0.7226099468487862,0.5073516462575364,0.31106025362326667,-0.7129766442167984,-1.8069662076212525,0.3899853755554775,1.1660113027000951,0.45780343027982806,-0.3850328593614212,-0.0584470187637657,-0.13063147921756002,0.2664076117902947,0.20129707681783135,0.26737710495402645,-0.00959464933565873,0.12086419327473921,0.36881552072922735,0.10435898893488083,1.399413241303069,-0.22554807536656415,-0.8068825210323299,-0.9216778635808496,0.010503303933990954,0.6520392127941269,1.2512419640101824,-0.5478703373479984,-0.3698831497368436,-0.794536878636538,1.569258025214523,0.07069802261660471,-0.984745870976086,0.04351361870881149,-0.9704163251529452,-0.9526280363084101,-0.7655813354099952,-0.7997514856589535,1.3939297951590652,1.5047267482345097,-0.05164022122595844,0.06079243380350069,-0.47960299877331186,0.4697426372510259,0.9664432216423561,-0.046938559627280725,1.5112235714071913,0.122122238044967,0.20198921099504166,-0.934288188251349,1.3808375368889114,-1.1660744319754683,0.5115255528576121,-0.7520042291245231,0.9328845756711185,-0.8861392243088931,-0.9014566300826681,0.7114607304778792,-0.31588421404758654,0.25778259899410694,-0.5176775437125997,2.5696830566488185,-0.6449836664633718,1.125122036774418,0.7893768671719273,0.7981961199353671,-0.6820999132258828,-1.740245288265015,0.07782938388943877,0.5936274472034748,-0.38884924439066243,-1.6531802539316356,-2.2206605114972278,-0.7734133828296601,0.2314445578782591,-1.6288222633053324,-0.3711326459237821,0.20195348087364953,-0.5302803833887427,1.803247830270659,-0.3235850641740168,0.5483828304193087,-0.14187033097751506],\"type\":\"histogram\"}],                        {\"barmode\":\"overlay\",\"legend\":{\"bgcolor\":\"#F5F6F9\",\"font\":{\"color\":\"#4D5663\"}},\"paper_bgcolor\":\"#F5F6F9\",\"plot_bgcolor\":\"#F5F6F9\",\"template\":{\"data\":{\"barpolar\":[{\"marker\":{\"line\":{\"color\":\"#E5ECF6\",\"width\":0.5},\"pattern\":{\"fillmode\":\"overlay\",\"size\":10,\"solidity\":0.2}},\"type\":\"barpolar\"}],\"bar\":[{\"error_x\":{\"color\":\"#2a3f5f\"},\"error_y\":{\"color\":\"#2a3f5f\"},\"marker\":{\"line\":{\"color\":\"#E5ECF6\",\"width\":0.5},\"pattern\":{\"fillmode\":\"overlay\",\"size\":10,\"solidity\":0.2}},\"type\":\"bar\"}],\"carpet\":[{\"aaxis\":{\"endlinecolor\":\"#2a3f5f\",\"gridcolor\":\"white\",\"linecolor\":\"white\",\"minorgridcolor\":\"white\",\"startlinecolor\":\"#2a3f5f\"},\"baxis\":{\"endlinecolor\":\"#2a3f5f\",\"gridcolor\":\"white\",\"linecolor\":\"white\",\"minorgridcolor\":\"white\",\"startlinecolor\":\"#2a3f5f\"},\"type\":\"carpet\"}],\"choropleth\":[{\"colorbar\":{\"outlinewidth\":0,\"ticks\":\"\"},\"type\":\"choropleth\"}],\"contourcarpet\":[{\"colorbar\":{\"outlinewidth\":0,\"ticks\":\"\"},\"type\":\"contourcarpet\"}],\"contour\":[{\"colorbar\":{\"outlinewidth\":0,\"ticks\":\"\"},\"colorscale\":[[0.0,\"#0d0887\"],[0.1111111111111111,\"#46039f\"],[0.2222222222222222,\"#7201a8\"],[0.3333333333333333,\"#9c179e\"],[0.4444444444444444,\"#bd3786\"],[0.5555555555555556,\"#d8576b\"],[0.6666666666666666,\"#ed7953\"],[0.7777777777777778,\"#fb9f3a\"],[0.8888888888888888,\"#fdca26\"],[1.0,\"#f0f921\"]],\"type\":\"contour\"}],\"heatmapgl\":[{\"colorbar\":{\"outlinewidth\":0,\"ticks\":\"\"},\"colorscale\":[[0.0,\"#0d0887\"],[0.1111111111111111,\"#46039f\"],[0.2222222222222222,\"#7201a8\"],[0.3333333333333333,\"#9c179e\"],[0.4444444444444444,\"#bd3786\"],[0.5555555555555556,\"#d8576b\"],[0.6666666666666666,\"#ed7953\"],[0.7777777777777778,\"#fb9f3a\"],[0.8888888888888888,\"#fdca26\"],[1.0,\"#f0f921\"]],\"type\":\"heatmapgl\"}],\"heatmap\":[{\"colorbar\":{\"outlinewidth\":0,\"ticks\":\"\"},\"colorscale\":[[0.0,\"#0d0887\"],[0.1111111111111111,\"#46039f\"],[0.2222222222222222,\"#7201a8\"],[0.3333333333333333,\"#9c179e\"],[0.4444444444444444,\"#bd3786\"],[0.5555555555555556,\"#d8576b\"],[0.6666666666666666,\"#ed7953\"],[0.7777777777777778,\"#fb9f3a\"],[0.8888888888888888,\"#fdca26\"],[1.0,\"#f0f921\"]],\"type\":\"heatmap\"}],\"histogram2dcontour\":[{\"colorbar\":{\"outlinewidth\":0,\"ticks\":\"\"},\"colorscale\":[[0.0,\"#0d0887\"],[0.1111111111111111,\"#46039f\"],[0.2222222222222222,\"#7201a8\"],[0.3333333333333333,\"#9c179e\"],[0.4444444444444444,\"#bd3786\"],[0.5555555555555556,\"#d8576b\"],[0.6666666666666666,\"#ed7953\"],[0.7777777777777778,\"#fb9f3a\"],[0.8888888888888888,\"#fdca26\"],[1.0,\"#f0f921\"]],\"type\":\"histogram2dcontour\"}],\"histogram2d\":[{\"colorbar\":{\"outlinewidth\":0,\"ticks\":\"\"},\"colorscale\":[[0.0,\"#0d0887\"],[0.1111111111111111,\"#46039f\"],[0.2222222222222222,\"#7201a8\"],[0.3333333333333333,\"#9c179e\"],[0.4444444444444444,\"#bd3786\"],[0.5555555555555556,\"#d8576b\"],[0.6666666666666666,\"#ed7953\"],[0.7777777777777778,\"#fb9f3a\"],[0.8888888888888888,\"#fdca26\"],[1.0,\"#f0f921\"]],\"type\":\"histogram2d\"}],\"histogram\":[{\"marker\":{\"pattern\":{\"fillmode\":\"overlay\",\"size\":10,\"solidity\":0.2}},\"type\":\"histogram\"}],\"mesh3d\":[{\"colorbar\":{\"outlinewidth\":0,\"ticks\":\"\"},\"type\":\"mesh3d\"}],\"parcoords\":[{\"line\":{\"colorbar\":{\"outlinewidth\":0,\"ticks\":\"\"}},\"type\":\"parcoords\"}],\"pie\":[{\"automargin\":true,\"type\":\"pie\"}],\"scatter3d\":[{\"line\":{\"colorbar\":{\"outlinewidth\":0,\"ticks\":\"\"}},\"marker\":{\"colorbar\":{\"outlinewidth\":0,\"ticks\":\"\"}},\"type\":\"scatter3d\"}],\"scattercarpet\":[{\"marker\":{\"colorbar\":{\"outlinewidth\":0,\"ticks\":\"\"}},\"type\":\"scattercarpet\"}],\"scattergeo\":[{\"marker\":{\"colorbar\":{\"outlinewidth\":0,\"ticks\":\"\"}},\"type\":\"scattergeo\"}],\"scattergl\":[{\"marker\":{\"colorbar\":{\"outlinewidth\":0,\"ticks\":\"\"}},\"type\":\"scattergl\"}],\"scattermapbox\":[{\"marker\":{\"colorbar\":{\"outlinewidth\":0,\"ticks\":\"\"}},\"type\":\"scattermapbox\"}],\"scatterpolargl\":[{\"marker\":{\"colorbar\":{\"outlinewidth\":0,\"ticks\":\"\"}},\"type\":\"scatterpolargl\"}],\"scatterpolar\":[{\"marker\":{\"colorbar\":{\"outlinewidth\":0,\"ticks\":\"\"}},\"type\":\"scatterpolar\"}],\"scatter\":[{\"fillpattern\":{\"fillmode\":\"overlay\",\"size\":10,\"solidity\":0.2},\"type\":\"scatter\"}],\"scatterternary\":[{\"marker\":{\"colorbar\":{\"outlinewidth\":0,\"ticks\":\"\"}},\"type\":\"scatterternary\"}],\"surface\":[{\"colorbar\":{\"outlinewidth\":0,\"ticks\":\"\"},\"colorscale\":[[0.0,\"#0d0887\"],[0.1111111111111111,\"#46039f\"],[0.2222222222222222,\"#7201a8\"],[0.3333333333333333,\"#9c179e\"],[0.4444444444444444,\"#bd3786\"],[0.5555555555555556,\"#d8576b\"],[0.6666666666666666,\"#ed7953\"],[0.7777777777777778,\"#fb9f3a\"],[0.8888888888888888,\"#fdca26\"],[1.0,\"#f0f921\"]],\"type\":\"surface\"}],\"table\":[{\"cells\":{\"fill\":{\"color\":\"#EBF0F8\"},\"line\":{\"color\":\"white\"}},\"header\":{\"fill\":{\"color\":\"#C8D4E3\"},\"line\":{\"color\":\"white\"}},\"type\":\"table\"}]},\"layout\":{\"annotationdefaults\":{\"arrowcolor\":\"#2a3f5f\",\"arrowhead\":0,\"arrowwidth\":1},\"autotypenumbers\":\"strict\",\"coloraxis\":{\"colorbar\":{\"outlinewidth\":0,\"ticks\":\"\"}},\"colorscale\":{\"diverging\":[[0,\"#8e0152\"],[0.1,\"#c51b7d\"],[0.2,\"#de77ae\"],[0.3,\"#f1b6da\"],[0.4,\"#fde0ef\"],[0.5,\"#f7f7f7\"],[0.6,\"#e6f5d0\"],[0.7,\"#b8e186\"],[0.8,\"#7fbc41\"],[0.9,\"#4d9221\"],[1,\"#276419\"]],\"sequential\":[[0.0,\"#0d0887\"],[0.1111111111111111,\"#46039f\"],[0.2222222222222222,\"#7201a8\"],[0.3333333333333333,\"#9c179e\"],[0.4444444444444444,\"#bd3786\"],[0.5555555555555556,\"#d8576b\"],[0.6666666666666666,\"#ed7953\"],[0.7777777777777778,\"#fb9f3a\"],[0.8888888888888888,\"#fdca26\"],[1.0,\"#f0f921\"]],\"sequentialminus\":[[0.0,\"#0d0887\"],[0.1111111111111111,\"#46039f\"],[0.2222222222222222,\"#7201a8\"],[0.3333333333333333,\"#9c179e\"],[0.4444444444444444,\"#bd3786\"],[0.5555555555555556,\"#d8576b\"],[0.6666666666666666,\"#ed7953\"],[0.7777777777777778,\"#fb9f3a\"],[0.8888888888888888,\"#fdca26\"],[1.0,\"#f0f921\"]]},\"colorway\":[\"#636efa\",\"#EF553B\",\"#00cc96\",\"#ab63fa\",\"#FFA15A\",\"#19d3f3\",\"#FF6692\",\"#B6E880\",\"#FF97FF\",\"#FECB52\"],\"font\":{\"color\":\"#2a3f5f\"},\"geo\":{\"bgcolor\":\"white\",\"lakecolor\":\"white\",\"landcolor\":\"#E5ECF6\",\"showlakes\":true,\"showland\":true,\"subunitcolor\":\"white\"},\"hoverlabel\":{\"align\":\"left\"},\"hovermode\":\"closest\",\"mapbox\":{\"style\":\"light\"},\"paper_bgcolor\":\"white\",\"plot_bgcolor\":\"#E5ECF6\",\"polar\":{\"angularaxis\":{\"gridcolor\":\"white\",\"linecolor\":\"white\",\"ticks\":\"\"},\"bgcolor\":\"#E5ECF6\",\"radialaxis\":{\"gridcolor\":\"white\",\"linecolor\":\"white\",\"ticks\":\"\"}},\"scene\":{\"xaxis\":{\"backgroundcolor\":\"#E5ECF6\",\"gridcolor\":\"white\",\"gridwidth\":2,\"linecolor\":\"white\",\"showbackground\":true,\"ticks\":\"\",\"zerolinecolor\":\"white\"},\"yaxis\":{\"backgroundcolor\":\"#E5ECF6\",\"gridcolor\":\"white\",\"gridwidth\":2,\"linecolor\":\"white\",\"showbackground\":true,\"ticks\":\"\",\"zerolinecolor\":\"white\"},\"zaxis\":{\"backgroundcolor\":\"#E5ECF6\",\"gridcolor\":\"white\",\"gridwidth\":2,\"linecolor\":\"white\",\"showbackground\":true,\"ticks\":\"\",\"zerolinecolor\":\"white\"}},\"shapedefaults\":{\"line\":{\"color\":\"#2a3f5f\"}},\"ternary\":{\"aaxis\":{\"gridcolor\":\"white\",\"linecolor\":\"white\",\"ticks\":\"\"},\"baxis\":{\"gridcolor\":\"white\",\"linecolor\":\"white\",\"ticks\":\"\"},\"bgcolor\":\"#E5ECF6\",\"caxis\":{\"gridcolor\":\"white\",\"linecolor\":\"white\",\"ticks\":\"\"}},\"title\":{\"x\":0.05},\"xaxis\":{\"automargin\":true,\"gridcolor\":\"white\",\"linecolor\":\"white\",\"ticks\":\"\",\"title\":{\"standoff\":15},\"zerolinecolor\":\"white\",\"zerolinewidth\":2},\"yaxis\":{\"automargin\":true,\"gridcolor\":\"white\",\"linecolor\":\"white\",\"ticks\":\"\",\"title\":{\"standoff\":15},\"zerolinecolor\":\"white\",\"zerolinewidth\":2}}},\"title\":{\"font\":{\"color\":\"#4D5663\"}},\"xaxis\":{\"gridcolor\":\"#E1E5ED\",\"showgrid\":true,\"tickfont\":{\"color\":\"#4D5663\"},\"title\":{\"font\":{\"color\":\"#4D5663\"},\"text\":\"\"},\"zerolinecolor\":\"#E1E5ED\"},\"yaxis\":{\"gridcolor\":\"#E1E5ED\",\"showgrid\":true,\"tickfont\":{\"color\":\"#4D5663\"},\"title\":{\"font\":{\"color\":\"#4D5663\"},\"text\":\"\"},\"zerolinecolor\":\"#E1E5ED\"}},                        {\"showLink\": true, \"linkText\": \"Export to plot.ly\", \"plotlyServerURL\": \"https://plot.ly\", \"responsive\": true}                    ).then(function(){\n",
       "                            \n",
       "var gd = document.getElementById('f30abe92-a3c8-48b3-b0ba-accbe2469bfe');\n",
       "var x = new MutationObserver(function (mutations, observer) {{\n",
       "        var display = window.getComputedStyle(gd).display;\n",
       "        if (!display || display === 'none') {{\n",
       "            console.log([gd, 'removed!']);\n",
       "            Plotly.purge(gd);\n",
       "            observer.disconnect();\n",
       "        }}\n",
       "}});\n",
       "\n",
       "// Listen for the removal of the full notebook cells\n",
       "var notebookContainer = gd.closest('#notebook-container');\n",
       "if (notebookContainer) {{\n",
       "    x.observe(notebookContainer, {childList: true});\n",
       "}}\n",
       "\n",
       "// Listen for the clearing of the current output cell\n",
       "var outputEl = gd.closest('.output');\n",
       "if (outputEl) {{\n",
       "    x.observe(outputEl, {childList: true});\n",
       "}}\n",
       "\n",
       "                        })                };                });            </script>        </div>"
      ]
     },
     "metadata": {},
     "output_type": "display_data"
    }
   ],
   "source": [
    "df.iplot(kind='hist')"
   ]
  },
  {
   "cell_type": "code",
   "execution_count": 44,
   "id": "e04a4754",
   "metadata": {},
   "outputs": [
    {
     "name": "stderr",
     "output_type": "stream",
     "text": [
      "C:\\Users\\hi\\anaconda3\\Lib\\site-packages\\cufflinks\\plotlytools.py:849: FutureWarning:\n",
      "\n",
      "The pandas.np module is deprecated and will be removed from pandas in a future version. Import numpy directly instead.\n",
      "\n",
      "C:\\Users\\hi\\anaconda3\\Lib\\site-packages\\cufflinks\\plotlytools.py:850: FutureWarning:\n",
      "\n",
      "The pandas.np module is deprecated and will be removed from pandas in a future version. Import numpy directly instead.\n",
      "\n"
     ]
    },
    {
     "data": {
      "application/vnd.plotly.v1+json": {
       "config": {
        "linkText": "Export to plot.ly",
        "plotlyServerURL": "https://plot.ly",
        "showLink": true
       },
       "data": [
        {
         "line": {
          "color": "rgba(255, 153, 51, 1.0)",
          "dash": "solid",
          "shape": "linear",
          "width": 1.3
         },
         "mode": "lines",
         "name": "A",
         "text": "",
         "type": "scatter",
         "x": [
          0,
          1,
          2,
          3,
          4,
          5,
          6,
          7,
          8,
          9,
          10,
          11,
          12,
          13,
          14,
          15,
          16,
          17,
          18,
          19,
          20,
          21,
          22,
          23,
          24,
          25,
          26,
          27,
          28,
          29,
          30,
          31,
          32,
          33,
          34,
          35,
          36,
          37,
          38,
          39,
          40,
          41,
          42,
          43,
          44,
          45,
          46,
          47,
          48,
          49,
          50,
          51,
          52,
          53,
          54,
          55,
          56,
          57,
          58,
          59,
          60,
          61,
          62,
          63,
          64,
          65,
          66,
          67,
          68,
          69,
          70,
          71,
          72,
          73,
          74,
          75,
          76,
          77,
          78,
          79,
          80,
          81,
          82,
          83,
          84,
          85,
          86,
          87,
          88,
          89,
          90,
          91,
          92,
          93,
          94,
          95,
          96,
          97,
          98,
          99
         ],
         "y": [
          -0.574793679676617,
          0.2235288385812236,
          -0.1416022574544621,
          1.1830002741236476,
          -0.8040111862595727,
          0.5603981980480017,
          1.0802000604334197,
          0.03958333136709857,
          -0.3365396825358062,
          0.2832793352592316,
          0.05165284183696506,
          -1.5912603445652507,
          -0.4027067517849839,
          -0.8441710552955158,
          -1.5018814837552625,
          1.0623705523783178,
          -0.6269685582361755,
          -1.0877374783470943,
          -0.04920277457916217,
          -0.49476631278334876,
          -1.102273038947587,
          -0.3613339588765766,
          0.3029725474183342,
          -0.09750304564376079,
          0.5675651772580712,
          -0.20703757151798488,
          -0.38179254271357244,
          -0.011627047618306317,
          -0.033123321889765134,
          -0.2184206692864132,
          1.1088956825411647,
          0.7847064418904279,
          1.154230440045405,
          -0.18556857223927084,
          -0.12891590454086874,
          0.18790915439432815,
          0.36290388657239836,
          -1.1000323979187554,
          -1.0644192730628328,
          -0.6689050042491553,
          -1.0017148503324511,
          -0.7147505434964523,
          0.5793842268683049,
          -1.4795338070213433,
          -0.03839282830179687,
          0.6997666972174688,
          -1.2835392333483941,
          0.16475761642484815,
          1.6889573202477632,
          -1.592941071461217,
          -0.7387106985235867,
          0.39701245028797894,
          1.1840215900235371,
          0.20939687790234918,
          -2.310159082515787,
          1.2943143805175952,
          -0.2945990330477354,
          2.015857216673764,
          -0.36968920526721943,
          -0.06482501623263177,
          0.4902842916770235,
          0.08187970865813975,
          0.3201306863347647,
          -1.6580600975761564,
          -1.2041955464842804,
          0.38152574274387535,
          -0.9331789825369936,
          0.2483112308845951,
          -0.3513764390898863,
          -0.8734172442961183,
          -0.3895631575428738,
          -0.2931594876428916,
          0.25127681287774367,
          1.987790683269706,
          0.18787640248927523,
          0.7319941857482984,
          0.996051203371639,
          0.8023664354900774,
          0.37326917205338095,
          0.8082704119906713,
          -0.5670128605070655,
          1.2604557560821879,
          0.9295006804240427,
          -0.07436204245143835,
          -0.4698506128050334,
          0.5747740770991207,
          -1.015928906236001,
          -0.5064827491974023,
          0.42557873681748015,
          -0.15760594251567855,
          0.4924666238139324,
          0.8094009000999365,
          -0.1978814224350476,
          -0.9850274970501465,
          -0.5429440339023727,
          -0.8677581004904326,
          -1.62694506157608,
          -0.8824812217412265,
          2.9646802953652753,
          -0.696782614544617
         ]
        },
        {
         "line": {
          "color": "rgba(55, 128, 191, 1.0)",
          "dash": "solid",
          "shape": "linear",
          "width": 1.3
         },
         "mode": "lines",
         "name": "B",
         "text": "",
         "type": "scatter",
         "x": [
          0,
          1,
          2,
          3,
          4,
          5,
          6,
          7,
          8,
          9,
          10,
          11,
          12,
          13,
          14,
          15,
          16,
          17,
          18,
          19,
          20,
          21,
          22,
          23,
          24,
          25,
          26,
          27,
          28,
          29,
          30,
          31,
          32,
          33,
          34,
          35,
          36,
          37,
          38,
          39,
          40,
          41,
          42,
          43,
          44,
          45,
          46,
          47,
          48,
          49,
          50,
          51,
          52,
          53,
          54,
          55,
          56,
          57,
          58,
          59,
          60,
          61,
          62,
          63,
          64,
          65,
          66,
          67,
          68,
          69,
          70,
          71,
          72,
          73,
          74,
          75,
          76,
          77,
          78,
          79,
          80,
          81,
          82,
          83,
          84,
          85,
          86,
          87,
          88,
          89,
          90,
          91,
          92,
          93,
          94,
          95,
          96,
          97,
          98,
          99
         ],
         "y": [
          -0.41915746807640575,
          0.21930284828863833,
          -0.7610786434798053,
          -0.6918857200279099,
          -0.23559520316772184,
          -1.2675224451030764,
          -0.22288244488492134,
          0.17429733433401837,
          0.0762757519961098,
          -0.3669689691943707,
          1.0792882971785136,
          0.316899074242141,
          -0.04825893187424639,
          -0.5031500680545504,
          0.5846281200331179,
          -1.4076111659646628,
          0.5581580114679637,
          1.2342661817807972,
          -0.5801147930644517,
          0.5143095543016232,
          -0.27470375167671157,
          -0.1249604554829138,
          2.3015801416719883,
          -0.535673037666255,
          -0.9488349123871038,
          0.1184136493800736,
          -2.244461938831052,
          0.9570427917571265,
          -0.18916260601522641,
          -1.0530967941715776,
          0.22265169983192862,
          -0.34870062182493944,
          0.6016738643875863,
          0.562336915782038,
          -1.100990900729741,
          -1.5283468920818604,
          -1.7668647881221484,
          2.8053527903280013,
          -0.1168796213679174,
          -0.7618809661819511,
          -0.9924293911398685,
          -1.7543917460481346,
          -1.048507764949999,
          -0.6041298392882526,
          0.3801558907719418,
          0.4987419230265229,
          0.49810135830298774,
          0.8992442763001017,
          -0.7948584682214112,
          -0.9693612383002331,
          -0.7683440322511006,
          -1.1567649588940925,
          -0.13581935921923502,
          -0.4927083253539496,
          2.149222707304997,
          0.6275181422432665,
          -1.6651445093832844,
          -1.3104279518077564,
          1.520364724213475,
          -0.12263253089711454,
          0.6572572845188864,
          0.299844523824874,
          -0.07969916291529638,
          -2.948310749926441,
          1.0787648942634418,
          1.7309641277355667,
          -1.5483492384865831,
          -0.499821151016283,
          -1.6012102957857004,
          2.5136712612056855,
          0.6952546373626506,
          0.08481218221600291,
          0.46490293792485105,
          0.3675165437441855,
          -0.28065282385165585,
          0.4154825216383825,
          -1.5945417410773326,
          0.5759472764756738,
          1.2635498556299758,
          1.0352587860163123,
          0.962991845155968,
          -1.707832481488226,
          0.17583501851322028,
          1.1730434958755838,
          -0.0678384623372376,
          -0.5034339124885754,
          -0.8815189873404996,
          0.8761013064586037,
          -1.084830865142056,
          -1.497082382471439,
          -0.3569731365498273,
          1.1628995081849474,
          -0.9601044911548299,
          0.012437650238996368,
          -0.4577740907173309,
          -1.662251490679833,
          -1.4490992602462307,
          -0.006264011864668245,
          0.5454332382613313,
          -0.17002321014787986
         ]
        },
        {
         "connectgaps": false,
         "fill": "tozeroy",
         "line": {
          "color": "green",
          "dash": "solid",
          "shape": "linear",
          "width": 0.5
         },
         "mode": "lines",
         "name": "Spread",
         "showlegend": false,
         "type": "scatter",
         "x": [
          0,
          1,
          2,
          3,
          4,
          5,
          6,
          7,
          8,
          9,
          10,
          11,
          12,
          13,
          14,
          15,
          16,
          17,
          18,
          19,
          20,
          21,
          22,
          23,
          24,
          25,
          26,
          27,
          28,
          29,
          30,
          31,
          32,
          33,
          34,
          35,
          36,
          37,
          38,
          39,
          40,
          41,
          42,
          43,
          44,
          45,
          46,
          47,
          48,
          49,
          50,
          51,
          52,
          53,
          54,
          55,
          56,
          57,
          58,
          59,
          60,
          61,
          62,
          63,
          64,
          65,
          66,
          67,
          68,
          69,
          70,
          71,
          72,
          73,
          74,
          75,
          76,
          77,
          78,
          79,
          80,
          81,
          82,
          83,
          84,
          85,
          86,
          87,
          88,
          89,
          90,
          91,
          92,
          93,
          94,
          95,
          96,
          97,
          98,
          99
         ],
         "xaxis": "x2",
         "y": [
          "",
          0.004225990292585274,
          0.6194763860253432,
          1.8748859941515574,
          "",
          1.8279206431510782,
          1.303082505318341,
          "",
          "",
          0.6502483044536023,
          "",
          "",
          "",
          "",
          "",
          2.4699817183429804,
          "",
          "",
          0.5309120184852896,
          "",
          "",
          "",
          "",
          0.4381699920224942,
          1.516400089645175,
          "",
          1.8626693961174794,
          "",
          0.15603928412546128,
          0.8346761248851644,
          0.8862439827092361,
          1.1334070637153673,
          0.5525565756578188,
          "",
          0.9720749961888722,
          1.7162560464761885,
          2.129768674694547,
          "",
          "",
          0.09297596193279578,
          "",
          1.0396412025516824,
          1.627891991818304,
          "",
          "",
          0.20102477419094583,
          "",
          "",
          2.4838157884691743,
          "",
          0.029633333727513866,
          1.5537774091820715,
          1.319840949242772,
          0.7021052032562988,
          "",
          0.6667962382743287,
          1.3705454763355491,
          3.3262851684815202,
          "",
          0.057807514664482765,
          "",
          "",
          0.3998298492500611,
          1.2902506523502848,
          "",
          "",
          0.6151702559495895,
          0.748132381900878,
          1.249833856695814,
          "",
          "",
          "",
          "",
          1.6202741395255207,
          0.4685292263409311,
          0.31651166410991594,
          2.5905929444489715,
          0.22641915901440357,
          "",
          "",
          "",
          2.968288237570414,
          0.7536656619108224,
          "",
          "",
          1.0782079895876961,
          "",
          "",
          1.510409601959536,
          1.3394764399557604,
          0.8494397603637598,
          "",
          0.7622230687197823,
          "",
          "",
          0.7944933901894004,
          "",
          "",
          2.419247057103944,
          ""
         ],
         "yaxis": "y2"
        },
        {
         "connectgaps": false,
         "fill": "tozeroy",
         "line": {
          "color": "red",
          "dash": "solid",
          "shape": "linear",
          "width": 0.5
         },
         "mode": "lines",
         "name": "Spread",
         "showlegend": false,
         "type": "scatter",
         "x": [
          0,
          1,
          2,
          3,
          4,
          5,
          6,
          7,
          8,
          9,
          10,
          11,
          12,
          13,
          14,
          15,
          16,
          17,
          18,
          19,
          20,
          21,
          22,
          23,
          24,
          25,
          26,
          27,
          28,
          29,
          30,
          31,
          32,
          33,
          34,
          35,
          36,
          37,
          38,
          39,
          40,
          41,
          42,
          43,
          44,
          45,
          46,
          47,
          48,
          49,
          50,
          51,
          52,
          53,
          54,
          55,
          56,
          57,
          58,
          59,
          60,
          61,
          62,
          63,
          64,
          65,
          66,
          67,
          68,
          69,
          70,
          71,
          72,
          73,
          74,
          75,
          76,
          77,
          78,
          79,
          80,
          81,
          82,
          83,
          84,
          85,
          86,
          87,
          88,
          89,
          90,
          91,
          92,
          93,
          94,
          95,
          96,
          97,
          98,
          99
         ],
         "xaxis": "x2",
         "y": [
          -0.15563621160021124,
          "",
          "",
          "",
          -0.5684159830918508,
          "",
          "",
          -0.1347140029669198,
          -0.412815434531916,
          "",
          -1.0276354553415485,
          -1.9081594188073916,
          -0.3544478199107375,
          -0.3410209872409654,
          -2.0865096037883806,
          "",
          -1.1851265697041393,
          -2.3220036601278915,
          "",
          -1.009075867084972,
          -0.8275692872708754,
          -0.2363735033936628,
          -1.998607594253654,
          "",
          "",
          -0.32545122089805845,
          "",
          -0.9686698393754328,
          "",
          "",
          "",
          "",
          "",
          -0.7479054880213089,
          "",
          "",
          "",
          -3.9053851882467567,
          -0.9475396516949154,
          "",
          -0.009285459192582612,
          "",
          "",
          -0.8754039677330907,
          -0.41854871907373864,
          "",
          -1.781640591651382,
          -0.7344866598752535,
          "",
          -0.623579833160984,
          "",
          "",
          "",
          "",
          -4.459381789820784,
          "",
          "",
          "",
          -1.8900539294806944,
          "",
          -0.16697299284186295,
          -0.21796481516673422,
          "",
          "",
          -2.282960440747722,
          -1.3494383849916913,
          "",
          "",
          "",
          -3.387088505501804,
          -1.0848177949055244,
          -0.3779716698588945,
          -0.21362612504710737,
          "",
          "",
          "",
          "",
          "",
          -0.8902806835765948,
          -0.22698837402564098,
          -1.5300047056630335,
          "",
          "",
          -1.2474055383270222,
          -0.40201215046779576,
          "",
          -0.13440991889550147,
          -1.382584055656006,
          "",
          "",
          "",
          -0.3534986080850109,
          "",
          -0.9974651472891428,
          -0.08516994318504179,
          "",
          -0.1778458013298494,
          -0.8762172098765582,
          "",
          -0.5267594043967372
         ],
         "yaxis": "y2"
        }
       ],
       "layout": {
        "hovermode": "x",
        "legend": {
         "bgcolor": "#F5F6F9",
         "font": {
          "color": "#4D5663"
         }
        },
        "paper_bgcolor": "#F5F6F9",
        "plot_bgcolor": "#F5F6F9",
        "template": {
         "data": {
          "bar": [
           {
            "error_x": {
             "color": "#2a3f5f"
            },
            "error_y": {
             "color": "#2a3f5f"
            },
            "marker": {
             "line": {
              "color": "#E5ECF6",
              "width": 0.5
             },
             "pattern": {
              "fillmode": "overlay",
              "size": 10,
              "solidity": 0.2
             }
            },
            "type": "bar"
           }
          ],
          "barpolar": [
           {
            "marker": {
             "line": {
              "color": "#E5ECF6",
              "width": 0.5
             },
             "pattern": {
              "fillmode": "overlay",
              "size": 10,
              "solidity": 0.2
             }
            },
            "type": "barpolar"
           }
          ],
          "carpet": [
           {
            "aaxis": {
             "endlinecolor": "#2a3f5f",
             "gridcolor": "white",
             "linecolor": "white",
             "minorgridcolor": "white",
             "startlinecolor": "#2a3f5f"
            },
            "baxis": {
             "endlinecolor": "#2a3f5f",
             "gridcolor": "white",
             "linecolor": "white",
             "minorgridcolor": "white",
             "startlinecolor": "#2a3f5f"
            },
            "type": "carpet"
           }
          ],
          "choropleth": [
           {
            "colorbar": {
             "outlinewidth": 0,
             "ticks": ""
            },
            "type": "choropleth"
           }
          ],
          "contour": [
           {
            "colorbar": {
             "outlinewidth": 0,
             "ticks": ""
            },
            "colorscale": [
             [
              0,
              "#0d0887"
             ],
             [
              0.1111111111111111,
              "#46039f"
             ],
             [
              0.2222222222222222,
              "#7201a8"
             ],
             [
              0.3333333333333333,
              "#9c179e"
             ],
             [
              0.4444444444444444,
              "#bd3786"
             ],
             [
              0.5555555555555556,
              "#d8576b"
             ],
             [
              0.6666666666666666,
              "#ed7953"
             ],
             [
              0.7777777777777778,
              "#fb9f3a"
             ],
             [
              0.8888888888888888,
              "#fdca26"
             ],
             [
              1,
              "#f0f921"
             ]
            ],
            "type": "contour"
           }
          ],
          "contourcarpet": [
           {
            "colorbar": {
             "outlinewidth": 0,
             "ticks": ""
            },
            "type": "contourcarpet"
           }
          ],
          "heatmap": [
           {
            "colorbar": {
             "outlinewidth": 0,
             "ticks": ""
            },
            "colorscale": [
             [
              0,
              "#0d0887"
             ],
             [
              0.1111111111111111,
              "#46039f"
             ],
             [
              0.2222222222222222,
              "#7201a8"
             ],
             [
              0.3333333333333333,
              "#9c179e"
             ],
             [
              0.4444444444444444,
              "#bd3786"
             ],
             [
              0.5555555555555556,
              "#d8576b"
             ],
             [
              0.6666666666666666,
              "#ed7953"
             ],
             [
              0.7777777777777778,
              "#fb9f3a"
             ],
             [
              0.8888888888888888,
              "#fdca26"
             ],
             [
              1,
              "#f0f921"
             ]
            ],
            "type": "heatmap"
           }
          ],
          "heatmapgl": [
           {
            "colorbar": {
             "outlinewidth": 0,
             "ticks": ""
            },
            "colorscale": [
             [
              0,
              "#0d0887"
             ],
             [
              0.1111111111111111,
              "#46039f"
             ],
             [
              0.2222222222222222,
              "#7201a8"
             ],
             [
              0.3333333333333333,
              "#9c179e"
             ],
             [
              0.4444444444444444,
              "#bd3786"
             ],
             [
              0.5555555555555556,
              "#d8576b"
             ],
             [
              0.6666666666666666,
              "#ed7953"
             ],
             [
              0.7777777777777778,
              "#fb9f3a"
             ],
             [
              0.8888888888888888,
              "#fdca26"
             ],
             [
              1,
              "#f0f921"
             ]
            ],
            "type": "heatmapgl"
           }
          ],
          "histogram": [
           {
            "marker": {
             "pattern": {
              "fillmode": "overlay",
              "size": 10,
              "solidity": 0.2
             }
            },
            "type": "histogram"
           }
          ],
          "histogram2d": [
           {
            "colorbar": {
             "outlinewidth": 0,
             "ticks": ""
            },
            "colorscale": [
             [
              0,
              "#0d0887"
             ],
             [
              0.1111111111111111,
              "#46039f"
             ],
             [
              0.2222222222222222,
              "#7201a8"
             ],
             [
              0.3333333333333333,
              "#9c179e"
             ],
             [
              0.4444444444444444,
              "#bd3786"
             ],
             [
              0.5555555555555556,
              "#d8576b"
             ],
             [
              0.6666666666666666,
              "#ed7953"
             ],
             [
              0.7777777777777778,
              "#fb9f3a"
             ],
             [
              0.8888888888888888,
              "#fdca26"
             ],
             [
              1,
              "#f0f921"
             ]
            ],
            "type": "histogram2d"
           }
          ],
          "histogram2dcontour": [
           {
            "colorbar": {
             "outlinewidth": 0,
             "ticks": ""
            },
            "colorscale": [
             [
              0,
              "#0d0887"
             ],
             [
              0.1111111111111111,
              "#46039f"
             ],
             [
              0.2222222222222222,
              "#7201a8"
             ],
             [
              0.3333333333333333,
              "#9c179e"
             ],
             [
              0.4444444444444444,
              "#bd3786"
             ],
             [
              0.5555555555555556,
              "#d8576b"
             ],
             [
              0.6666666666666666,
              "#ed7953"
             ],
             [
              0.7777777777777778,
              "#fb9f3a"
             ],
             [
              0.8888888888888888,
              "#fdca26"
             ],
             [
              1,
              "#f0f921"
             ]
            ],
            "type": "histogram2dcontour"
           }
          ],
          "mesh3d": [
           {
            "colorbar": {
             "outlinewidth": 0,
             "ticks": ""
            },
            "type": "mesh3d"
           }
          ],
          "parcoords": [
           {
            "line": {
             "colorbar": {
              "outlinewidth": 0,
              "ticks": ""
             }
            },
            "type": "parcoords"
           }
          ],
          "pie": [
           {
            "automargin": true,
            "type": "pie"
           }
          ],
          "scatter": [
           {
            "fillpattern": {
             "fillmode": "overlay",
             "size": 10,
             "solidity": 0.2
            },
            "type": "scatter"
           }
          ],
          "scatter3d": [
           {
            "line": {
             "colorbar": {
              "outlinewidth": 0,
              "ticks": ""
             }
            },
            "marker": {
             "colorbar": {
              "outlinewidth": 0,
              "ticks": ""
             }
            },
            "type": "scatter3d"
           }
          ],
          "scattercarpet": [
           {
            "marker": {
             "colorbar": {
              "outlinewidth": 0,
              "ticks": ""
             }
            },
            "type": "scattercarpet"
           }
          ],
          "scattergeo": [
           {
            "marker": {
             "colorbar": {
              "outlinewidth": 0,
              "ticks": ""
             }
            },
            "type": "scattergeo"
           }
          ],
          "scattergl": [
           {
            "marker": {
             "colorbar": {
              "outlinewidth": 0,
              "ticks": ""
             }
            },
            "type": "scattergl"
           }
          ],
          "scattermapbox": [
           {
            "marker": {
             "colorbar": {
              "outlinewidth": 0,
              "ticks": ""
             }
            },
            "type": "scattermapbox"
           }
          ],
          "scatterpolar": [
           {
            "marker": {
             "colorbar": {
              "outlinewidth": 0,
              "ticks": ""
             }
            },
            "type": "scatterpolar"
           }
          ],
          "scatterpolargl": [
           {
            "marker": {
             "colorbar": {
              "outlinewidth": 0,
              "ticks": ""
             }
            },
            "type": "scatterpolargl"
           }
          ],
          "scatterternary": [
           {
            "marker": {
             "colorbar": {
              "outlinewidth": 0,
              "ticks": ""
             }
            },
            "type": "scatterternary"
           }
          ],
          "surface": [
           {
            "colorbar": {
             "outlinewidth": 0,
             "ticks": ""
            },
            "colorscale": [
             [
              0,
              "#0d0887"
             ],
             [
              0.1111111111111111,
              "#46039f"
             ],
             [
              0.2222222222222222,
              "#7201a8"
             ],
             [
              0.3333333333333333,
              "#9c179e"
             ],
             [
              0.4444444444444444,
              "#bd3786"
             ],
             [
              0.5555555555555556,
              "#d8576b"
             ],
             [
              0.6666666666666666,
              "#ed7953"
             ],
             [
              0.7777777777777778,
              "#fb9f3a"
             ],
             [
              0.8888888888888888,
              "#fdca26"
             ],
             [
              1,
              "#f0f921"
             ]
            ],
            "type": "surface"
           }
          ],
          "table": [
           {
            "cells": {
             "fill": {
              "color": "#EBF0F8"
             },
             "line": {
              "color": "white"
             }
            },
            "header": {
             "fill": {
              "color": "#C8D4E3"
             },
             "line": {
              "color": "white"
             }
            },
            "type": "table"
           }
          ]
         },
         "layout": {
          "annotationdefaults": {
           "arrowcolor": "#2a3f5f",
           "arrowhead": 0,
           "arrowwidth": 1
          },
          "autotypenumbers": "strict",
          "coloraxis": {
           "colorbar": {
            "outlinewidth": 0,
            "ticks": ""
           }
          },
          "colorscale": {
           "diverging": [
            [
             0,
             "#8e0152"
            ],
            [
             0.1,
             "#c51b7d"
            ],
            [
             0.2,
             "#de77ae"
            ],
            [
             0.3,
             "#f1b6da"
            ],
            [
             0.4,
             "#fde0ef"
            ],
            [
             0.5,
             "#f7f7f7"
            ],
            [
             0.6,
             "#e6f5d0"
            ],
            [
             0.7,
             "#b8e186"
            ],
            [
             0.8,
             "#7fbc41"
            ],
            [
             0.9,
             "#4d9221"
            ],
            [
             1,
             "#276419"
            ]
           ],
           "sequential": [
            [
             0,
             "#0d0887"
            ],
            [
             0.1111111111111111,
             "#46039f"
            ],
            [
             0.2222222222222222,
             "#7201a8"
            ],
            [
             0.3333333333333333,
             "#9c179e"
            ],
            [
             0.4444444444444444,
             "#bd3786"
            ],
            [
             0.5555555555555556,
             "#d8576b"
            ],
            [
             0.6666666666666666,
             "#ed7953"
            ],
            [
             0.7777777777777778,
             "#fb9f3a"
            ],
            [
             0.8888888888888888,
             "#fdca26"
            ],
            [
             1,
             "#f0f921"
            ]
           ],
           "sequentialminus": [
            [
             0,
             "#0d0887"
            ],
            [
             0.1111111111111111,
             "#46039f"
            ],
            [
             0.2222222222222222,
             "#7201a8"
            ],
            [
             0.3333333333333333,
             "#9c179e"
            ],
            [
             0.4444444444444444,
             "#bd3786"
            ],
            [
             0.5555555555555556,
             "#d8576b"
            ],
            [
             0.6666666666666666,
             "#ed7953"
            ],
            [
             0.7777777777777778,
             "#fb9f3a"
            ],
            [
             0.8888888888888888,
             "#fdca26"
            ],
            [
             1,
             "#f0f921"
            ]
           ]
          },
          "colorway": [
           "#636efa",
           "#EF553B",
           "#00cc96",
           "#ab63fa",
           "#FFA15A",
           "#19d3f3",
           "#FF6692",
           "#B6E880",
           "#FF97FF",
           "#FECB52"
          ],
          "font": {
           "color": "#2a3f5f"
          },
          "geo": {
           "bgcolor": "white",
           "lakecolor": "white",
           "landcolor": "#E5ECF6",
           "showlakes": true,
           "showland": true,
           "subunitcolor": "white"
          },
          "hoverlabel": {
           "align": "left"
          },
          "hovermode": "closest",
          "mapbox": {
           "style": "light"
          },
          "paper_bgcolor": "white",
          "plot_bgcolor": "#E5ECF6",
          "polar": {
           "angularaxis": {
            "gridcolor": "white",
            "linecolor": "white",
            "ticks": ""
           },
           "bgcolor": "#E5ECF6",
           "radialaxis": {
            "gridcolor": "white",
            "linecolor": "white",
            "ticks": ""
           }
          },
          "scene": {
           "xaxis": {
            "backgroundcolor": "#E5ECF6",
            "gridcolor": "white",
            "gridwidth": 2,
            "linecolor": "white",
            "showbackground": true,
            "ticks": "",
            "zerolinecolor": "white"
           },
           "yaxis": {
            "backgroundcolor": "#E5ECF6",
            "gridcolor": "white",
            "gridwidth": 2,
            "linecolor": "white",
            "showbackground": true,
            "ticks": "",
            "zerolinecolor": "white"
           },
           "zaxis": {
            "backgroundcolor": "#E5ECF6",
            "gridcolor": "white",
            "gridwidth": 2,
            "linecolor": "white",
            "showbackground": true,
            "ticks": "",
            "zerolinecolor": "white"
           }
          },
          "shapedefaults": {
           "line": {
            "color": "#2a3f5f"
           }
          },
          "ternary": {
           "aaxis": {
            "gridcolor": "white",
            "linecolor": "white",
            "ticks": ""
           },
           "baxis": {
            "gridcolor": "white",
            "linecolor": "white",
            "ticks": ""
           },
           "bgcolor": "#E5ECF6",
           "caxis": {
            "gridcolor": "white",
            "linecolor": "white",
            "ticks": ""
           }
          },
          "title": {
           "x": 0.05
          },
          "xaxis": {
           "automargin": true,
           "gridcolor": "white",
           "linecolor": "white",
           "ticks": "",
           "title": {
            "standoff": 15
           },
           "zerolinecolor": "white",
           "zerolinewidth": 2
          },
          "yaxis": {
           "automargin": true,
           "gridcolor": "white",
           "linecolor": "white",
           "ticks": "",
           "title": {
            "standoff": 15
           },
           "zerolinecolor": "white",
           "zerolinewidth": 2
          }
         }
        },
        "title": {
         "font": {
          "color": "#4D5663"
         }
        },
        "xaxis": {
         "gridcolor": "#E1E5ED",
         "showgrid": true,
         "tickfont": {
          "color": "#4D5663"
         },
         "title": {
          "font": {
           "color": "#4D5663"
          },
          "text": ""
         },
         "zerolinecolor": "#E1E5ED"
        },
        "xaxis2": {
         "anchor": "y2",
         "gridcolor": "#E1E5ED",
         "showgrid": true,
         "showticklabels": false,
         "tickfont": {
          "color": "#4D5663"
         },
         "title": {
          "font": {
           "color": "#4D5663"
          },
          "text": ""
         },
         "zerolinecolor": "#E1E5ED"
        },
        "yaxis": {
         "domain": [
          0.3,
          1
         ],
         "gridcolor": "#E1E5ED",
         "showgrid": true,
         "tickfont": {
          "color": "#4D5663"
         },
         "title": {
          "font": {
           "color": "#4D5663"
          },
          "text": ""
         },
         "zerolinecolor": "#E1E5ED"
        },
        "yaxis2": {
         "domain": [
          0,
          0.25
         ],
         "gridcolor": "#E1E5ED",
         "showgrid": true,
         "tickfont": {
          "color": "#4D5663"
         },
         "title": {
          "font": {
           "color": "#4D5663"
          },
          "text": "Spread"
         },
         "zerolinecolor": "#E1E5ED"
        }
       }
      },
      "text/html": [
       "<div>                            <div id=\"8f000d54-9e86-4a46-b5b1-67aed1aad4d2\" class=\"plotly-graph-div\" style=\"height:525px; width:100%;\"></div>            <script type=\"text/javascript\">                require([\"plotly\"], function(Plotly) {                    window.PLOTLYENV=window.PLOTLYENV || {};\n",
       "                    window.PLOTLYENV.BASE_URL='https://plot.ly';                                    if (document.getElementById(\"8f000d54-9e86-4a46-b5b1-67aed1aad4d2\")) {                    Plotly.newPlot(                        \"8f000d54-9e86-4a46-b5b1-67aed1aad4d2\",                        [{\"line\":{\"color\":\"rgba(255, 153, 51, 1.0)\",\"dash\":\"solid\",\"shape\":\"linear\",\"width\":1.3},\"mode\":\"lines\",\"name\":\"A\",\"text\":\"\",\"x\":[0,1,2,3,4,5,6,7,8,9,10,11,12,13,14,15,16,17,18,19,20,21,22,23,24,25,26,27,28,29,30,31,32,33,34,35,36,37,38,39,40,41,42,43,44,45,46,47,48,49,50,51,52,53,54,55,56,57,58,59,60,61,62,63,64,65,66,67,68,69,70,71,72,73,74,75,76,77,78,79,80,81,82,83,84,85,86,87,88,89,90,91,92,93,94,95,96,97,98,99],\"y\":[-0.574793679676617,0.2235288385812236,-0.1416022574544621,1.1830002741236476,-0.8040111862595727,0.5603981980480017,1.0802000604334197,0.03958333136709857,-0.3365396825358062,0.2832793352592316,0.05165284183696506,-1.5912603445652507,-0.4027067517849839,-0.8441710552955158,-1.5018814837552625,1.0623705523783178,-0.6269685582361755,-1.0877374783470943,-0.04920277457916217,-0.49476631278334876,-1.102273038947587,-0.3613339588765766,0.3029725474183342,-0.09750304564376079,0.5675651772580712,-0.20703757151798488,-0.38179254271357244,-0.011627047618306317,-0.033123321889765134,-0.2184206692864132,1.1088956825411647,0.7847064418904279,1.154230440045405,-0.18556857223927084,-0.12891590454086874,0.18790915439432815,0.36290388657239836,-1.1000323979187554,-1.0644192730628328,-0.6689050042491553,-1.0017148503324511,-0.7147505434964523,0.5793842268683049,-1.4795338070213433,-0.03839282830179687,0.6997666972174688,-1.2835392333483941,0.16475761642484815,1.6889573202477632,-1.592941071461217,-0.7387106985235867,0.39701245028797894,1.1840215900235371,0.20939687790234918,-2.310159082515787,1.2943143805175952,-0.2945990330477354,2.015857216673764,-0.36968920526721943,-0.06482501623263177,0.4902842916770235,0.08187970865813975,0.3201306863347647,-1.6580600975761564,-1.2041955464842804,0.38152574274387535,-0.9331789825369936,0.2483112308845951,-0.3513764390898863,-0.8734172442961183,-0.3895631575428738,-0.2931594876428916,0.25127681287774367,1.987790683269706,0.18787640248927523,0.7319941857482984,0.996051203371639,0.8023664354900774,0.37326917205338095,0.8082704119906713,-0.5670128605070655,1.2604557560821879,0.9295006804240427,-0.07436204245143835,-0.4698506128050334,0.5747740770991207,-1.015928906236001,-0.5064827491974023,0.42557873681748015,-0.15760594251567855,0.4924666238139324,0.8094009000999365,-0.1978814224350476,-0.9850274970501465,-0.5429440339023727,-0.8677581004904326,-1.62694506157608,-0.8824812217412265,2.9646802953652753,-0.696782614544617],\"type\":\"scatter\"},{\"line\":{\"color\":\"rgba(55, 128, 191, 1.0)\",\"dash\":\"solid\",\"shape\":\"linear\",\"width\":1.3},\"mode\":\"lines\",\"name\":\"B\",\"text\":\"\",\"x\":[0,1,2,3,4,5,6,7,8,9,10,11,12,13,14,15,16,17,18,19,20,21,22,23,24,25,26,27,28,29,30,31,32,33,34,35,36,37,38,39,40,41,42,43,44,45,46,47,48,49,50,51,52,53,54,55,56,57,58,59,60,61,62,63,64,65,66,67,68,69,70,71,72,73,74,75,76,77,78,79,80,81,82,83,84,85,86,87,88,89,90,91,92,93,94,95,96,97,98,99],\"y\":[-0.41915746807640575,0.21930284828863833,-0.7610786434798053,-0.6918857200279099,-0.23559520316772184,-1.2675224451030764,-0.22288244488492134,0.17429733433401837,0.0762757519961098,-0.3669689691943707,1.0792882971785136,0.316899074242141,-0.04825893187424639,-0.5031500680545504,0.5846281200331179,-1.4076111659646628,0.5581580114679637,1.2342661817807972,-0.5801147930644517,0.5143095543016232,-0.27470375167671157,-0.1249604554829138,2.3015801416719883,-0.535673037666255,-0.9488349123871038,0.1184136493800736,-2.244461938831052,0.9570427917571265,-0.18916260601522641,-1.0530967941715776,0.22265169983192862,-0.34870062182493944,0.6016738643875863,0.562336915782038,-1.100990900729741,-1.5283468920818604,-1.7668647881221484,2.8053527903280013,-0.1168796213679174,-0.7618809661819511,-0.9924293911398685,-1.7543917460481346,-1.048507764949999,-0.6041298392882526,0.3801558907719418,0.4987419230265229,0.49810135830298774,0.8992442763001017,-0.7948584682214112,-0.9693612383002331,-0.7683440322511006,-1.1567649588940925,-0.13581935921923502,-0.4927083253539496,2.149222707304997,0.6275181422432665,-1.6651445093832844,-1.3104279518077564,1.520364724213475,-0.12263253089711454,0.6572572845188864,0.299844523824874,-0.07969916291529638,-2.948310749926441,1.0787648942634418,1.7309641277355667,-1.5483492384865831,-0.499821151016283,-1.6012102957857004,2.5136712612056855,0.6952546373626506,0.08481218221600291,0.46490293792485105,0.3675165437441855,-0.28065282385165585,0.4154825216383825,-1.5945417410773326,0.5759472764756738,1.2635498556299758,1.0352587860163123,0.962991845155968,-1.707832481488226,0.17583501851322028,1.1730434958755838,-0.0678384623372376,-0.5034339124885754,-0.8815189873404996,0.8761013064586037,-1.084830865142056,-1.497082382471439,-0.3569731365498273,1.1628995081849474,-0.9601044911548299,0.012437650238996368,-0.4577740907173309,-1.662251490679833,-1.4490992602462307,-0.006264011864668245,0.5454332382613313,-0.17002321014787986],\"type\":\"scatter\"},{\"connectgaps\":false,\"fill\":\"tozeroy\",\"line\":{\"color\":\"green\",\"dash\":\"solid\",\"shape\":\"linear\",\"width\":0.5},\"mode\":\"lines\",\"name\":\"Spread\",\"showlegend\":false,\"x\":[0,1,2,3,4,5,6,7,8,9,10,11,12,13,14,15,16,17,18,19,20,21,22,23,24,25,26,27,28,29,30,31,32,33,34,35,36,37,38,39,40,41,42,43,44,45,46,47,48,49,50,51,52,53,54,55,56,57,58,59,60,61,62,63,64,65,66,67,68,69,70,71,72,73,74,75,76,77,78,79,80,81,82,83,84,85,86,87,88,89,90,91,92,93,94,95,96,97,98,99],\"xaxis\":\"x2\",\"y\":[\"\",0.004225990292585274,0.6194763860253432,1.8748859941515574,\"\",1.8279206431510782,1.303082505318341,\"\",\"\",0.6502483044536023,\"\",\"\",\"\",\"\",\"\",2.4699817183429804,\"\",\"\",0.5309120184852896,\"\",\"\",\"\",\"\",0.4381699920224942,1.516400089645175,\"\",1.8626693961174794,\"\",0.15603928412546128,0.8346761248851644,0.8862439827092361,1.1334070637153673,0.5525565756578188,\"\",0.9720749961888722,1.7162560464761885,2.129768674694547,\"\",\"\",0.09297596193279578,\"\",1.0396412025516824,1.627891991818304,\"\",\"\",0.20102477419094583,\"\",\"\",2.4838157884691743,\"\",0.029633333727513866,1.5537774091820715,1.319840949242772,0.7021052032562988,\"\",0.6667962382743287,1.3705454763355491,3.3262851684815202,\"\",0.057807514664482765,\"\",\"\",0.3998298492500611,1.2902506523502848,\"\",\"\",0.6151702559495895,0.748132381900878,1.249833856695814,\"\",\"\",\"\",\"\",1.6202741395255207,0.4685292263409311,0.31651166410991594,2.5905929444489715,0.22641915901440357,\"\",\"\",\"\",2.968288237570414,0.7536656619108224,\"\",\"\",1.0782079895876961,\"\",\"\",1.510409601959536,1.3394764399557604,0.8494397603637598,\"\",0.7622230687197823,\"\",\"\",0.7944933901894004,\"\",\"\",2.419247057103944,\"\"],\"yaxis\":\"y2\",\"type\":\"scatter\"},{\"connectgaps\":false,\"fill\":\"tozeroy\",\"line\":{\"color\":\"red\",\"dash\":\"solid\",\"shape\":\"linear\",\"width\":0.5},\"mode\":\"lines\",\"name\":\"Spread\",\"showlegend\":false,\"x\":[0,1,2,3,4,5,6,7,8,9,10,11,12,13,14,15,16,17,18,19,20,21,22,23,24,25,26,27,28,29,30,31,32,33,34,35,36,37,38,39,40,41,42,43,44,45,46,47,48,49,50,51,52,53,54,55,56,57,58,59,60,61,62,63,64,65,66,67,68,69,70,71,72,73,74,75,76,77,78,79,80,81,82,83,84,85,86,87,88,89,90,91,92,93,94,95,96,97,98,99],\"xaxis\":\"x2\",\"y\":[-0.15563621160021124,\"\",\"\",\"\",-0.5684159830918508,\"\",\"\",-0.1347140029669198,-0.412815434531916,\"\",-1.0276354553415485,-1.9081594188073916,-0.3544478199107375,-0.3410209872409654,-2.0865096037883806,\"\",-1.1851265697041393,-2.3220036601278915,\"\",-1.009075867084972,-0.8275692872708754,-0.2363735033936628,-1.998607594253654,\"\",\"\",-0.32545122089805845,\"\",-0.9686698393754328,\"\",\"\",\"\",\"\",\"\",-0.7479054880213089,\"\",\"\",\"\",-3.9053851882467567,-0.9475396516949154,\"\",-0.009285459192582612,\"\",\"\",-0.8754039677330907,-0.41854871907373864,\"\",-1.781640591651382,-0.7344866598752535,\"\",-0.623579833160984,\"\",\"\",\"\",\"\",-4.459381789820784,\"\",\"\",\"\",-1.8900539294806944,\"\",-0.16697299284186295,-0.21796481516673422,\"\",\"\",-2.282960440747722,-1.3494383849916913,\"\",\"\",\"\",-3.387088505501804,-1.0848177949055244,-0.3779716698588945,-0.21362612504710737,\"\",\"\",\"\",\"\",\"\",-0.8902806835765948,-0.22698837402564098,-1.5300047056630335,\"\",\"\",-1.2474055383270222,-0.40201215046779576,\"\",-0.13440991889550147,-1.382584055656006,\"\",\"\",\"\",-0.3534986080850109,\"\",-0.9974651472891428,-0.08516994318504179,\"\",-0.1778458013298494,-0.8762172098765582,\"\",-0.5267594043967372],\"yaxis\":\"y2\",\"type\":\"scatter\"}],                        {\"hovermode\":\"x\",\"legend\":{\"bgcolor\":\"#F5F6F9\",\"font\":{\"color\":\"#4D5663\"}},\"paper_bgcolor\":\"#F5F6F9\",\"plot_bgcolor\":\"#F5F6F9\",\"template\":{\"data\":{\"barpolar\":[{\"marker\":{\"line\":{\"color\":\"#E5ECF6\",\"width\":0.5},\"pattern\":{\"fillmode\":\"overlay\",\"size\":10,\"solidity\":0.2}},\"type\":\"barpolar\"}],\"bar\":[{\"error_x\":{\"color\":\"#2a3f5f\"},\"error_y\":{\"color\":\"#2a3f5f\"},\"marker\":{\"line\":{\"color\":\"#E5ECF6\",\"width\":0.5},\"pattern\":{\"fillmode\":\"overlay\",\"size\":10,\"solidity\":0.2}},\"type\":\"bar\"}],\"carpet\":[{\"aaxis\":{\"endlinecolor\":\"#2a3f5f\",\"gridcolor\":\"white\",\"linecolor\":\"white\",\"minorgridcolor\":\"white\",\"startlinecolor\":\"#2a3f5f\"},\"baxis\":{\"endlinecolor\":\"#2a3f5f\",\"gridcolor\":\"white\",\"linecolor\":\"white\",\"minorgridcolor\":\"white\",\"startlinecolor\":\"#2a3f5f\"},\"type\":\"carpet\"}],\"choropleth\":[{\"colorbar\":{\"outlinewidth\":0,\"ticks\":\"\"},\"type\":\"choropleth\"}],\"contourcarpet\":[{\"colorbar\":{\"outlinewidth\":0,\"ticks\":\"\"},\"type\":\"contourcarpet\"}],\"contour\":[{\"colorbar\":{\"outlinewidth\":0,\"ticks\":\"\"},\"colorscale\":[[0.0,\"#0d0887\"],[0.1111111111111111,\"#46039f\"],[0.2222222222222222,\"#7201a8\"],[0.3333333333333333,\"#9c179e\"],[0.4444444444444444,\"#bd3786\"],[0.5555555555555556,\"#d8576b\"],[0.6666666666666666,\"#ed7953\"],[0.7777777777777778,\"#fb9f3a\"],[0.8888888888888888,\"#fdca26\"],[1.0,\"#f0f921\"]],\"type\":\"contour\"}],\"heatmapgl\":[{\"colorbar\":{\"outlinewidth\":0,\"ticks\":\"\"},\"colorscale\":[[0.0,\"#0d0887\"],[0.1111111111111111,\"#46039f\"],[0.2222222222222222,\"#7201a8\"],[0.3333333333333333,\"#9c179e\"],[0.4444444444444444,\"#bd3786\"],[0.5555555555555556,\"#d8576b\"],[0.6666666666666666,\"#ed7953\"],[0.7777777777777778,\"#fb9f3a\"],[0.8888888888888888,\"#fdca26\"],[1.0,\"#f0f921\"]],\"type\":\"heatmapgl\"}],\"heatmap\":[{\"colorbar\":{\"outlinewidth\":0,\"ticks\":\"\"},\"colorscale\":[[0.0,\"#0d0887\"],[0.1111111111111111,\"#46039f\"],[0.2222222222222222,\"#7201a8\"],[0.3333333333333333,\"#9c179e\"],[0.4444444444444444,\"#bd3786\"],[0.5555555555555556,\"#d8576b\"],[0.6666666666666666,\"#ed7953\"],[0.7777777777777778,\"#fb9f3a\"],[0.8888888888888888,\"#fdca26\"],[1.0,\"#f0f921\"]],\"type\":\"heatmap\"}],\"histogram2dcontour\":[{\"colorbar\":{\"outlinewidth\":0,\"ticks\":\"\"},\"colorscale\":[[0.0,\"#0d0887\"],[0.1111111111111111,\"#46039f\"],[0.2222222222222222,\"#7201a8\"],[0.3333333333333333,\"#9c179e\"],[0.4444444444444444,\"#bd3786\"],[0.5555555555555556,\"#d8576b\"],[0.6666666666666666,\"#ed7953\"],[0.7777777777777778,\"#fb9f3a\"],[0.8888888888888888,\"#fdca26\"],[1.0,\"#f0f921\"]],\"type\":\"histogram2dcontour\"}],\"histogram2d\":[{\"colorbar\":{\"outlinewidth\":0,\"ticks\":\"\"},\"colorscale\":[[0.0,\"#0d0887\"],[0.1111111111111111,\"#46039f\"],[0.2222222222222222,\"#7201a8\"],[0.3333333333333333,\"#9c179e\"],[0.4444444444444444,\"#bd3786\"],[0.5555555555555556,\"#d8576b\"],[0.6666666666666666,\"#ed7953\"],[0.7777777777777778,\"#fb9f3a\"],[0.8888888888888888,\"#fdca26\"],[1.0,\"#f0f921\"]],\"type\":\"histogram2d\"}],\"histogram\":[{\"marker\":{\"pattern\":{\"fillmode\":\"overlay\",\"size\":10,\"solidity\":0.2}},\"type\":\"histogram\"}],\"mesh3d\":[{\"colorbar\":{\"outlinewidth\":0,\"ticks\":\"\"},\"type\":\"mesh3d\"}],\"parcoords\":[{\"line\":{\"colorbar\":{\"outlinewidth\":0,\"ticks\":\"\"}},\"type\":\"parcoords\"}],\"pie\":[{\"automargin\":true,\"type\":\"pie\"}],\"scatter3d\":[{\"line\":{\"colorbar\":{\"outlinewidth\":0,\"ticks\":\"\"}},\"marker\":{\"colorbar\":{\"outlinewidth\":0,\"ticks\":\"\"}},\"type\":\"scatter3d\"}],\"scattercarpet\":[{\"marker\":{\"colorbar\":{\"outlinewidth\":0,\"ticks\":\"\"}},\"type\":\"scattercarpet\"}],\"scattergeo\":[{\"marker\":{\"colorbar\":{\"outlinewidth\":0,\"ticks\":\"\"}},\"type\":\"scattergeo\"}],\"scattergl\":[{\"marker\":{\"colorbar\":{\"outlinewidth\":0,\"ticks\":\"\"}},\"type\":\"scattergl\"}],\"scattermapbox\":[{\"marker\":{\"colorbar\":{\"outlinewidth\":0,\"ticks\":\"\"}},\"type\":\"scattermapbox\"}],\"scatterpolargl\":[{\"marker\":{\"colorbar\":{\"outlinewidth\":0,\"ticks\":\"\"}},\"type\":\"scatterpolargl\"}],\"scatterpolar\":[{\"marker\":{\"colorbar\":{\"outlinewidth\":0,\"ticks\":\"\"}},\"type\":\"scatterpolar\"}],\"scatter\":[{\"fillpattern\":{\"fillmode\":\"overlay\",\"size\":10,\"solidity\":0.2},\"type\":\"scatter\"}],\"scatterternary\":[{\"marker\":{\"colorbar\":{\"outlinewidth\":0,\"ticks\":\"\"}},\"type\":\"scatterternary\"}],\"surface\":[{\"colorbar\":{\"outlinewidth\":0,\"ticks\":\"\"},\"colorscale\":[[0.0,\"#0d0887\"],[0.1111111111111111,\"#46039f\"],[0.2222222222222222,\"#7201a8\"],[0.3333333333333333,\"#9c179e\"],[0.4444444444444444,\"#bd3786\"],[0.5555555555555556,\"#d8576b\"],[0.6666666666666666,\"#ed7953\"],[0.7777777777777778,\"#fb9f3a\"],[0.8888888888888888,\"#fdca26\"],[1.0,\"#f0f921\"]],\"type\":\"surface\"}],\"table\":[{\"cells\":{\"fill\":{\"color\":\"#EBF0F8\"},\"line\":{\"color\":\"white\"}},\"header\":{\"fill\":{\"color\":\"#C8D4E3\"},\"line\":{\"color\":\"white\"}},\"type\":\"table\"}]},\"layout\":{\"annotationdefaults\":{\"arrowcolor\":\"#2a3f5f\",\"arrowhead\":0,\"arrowwidth\":1},\"autotypenumbers\":\"strict\",\"coloraxis\":{\"colorbar\":{\"outlinewidth\":0,\"ticks\":\"\"}},\"colorscale\":{\"diverging\":[[0,\"#8e0152\"],[0.1,\"#c51b7d\"],[0.2,\"#de77ae\"],[0.3,\"#f1b6da\"],[0.4,\"#fde0ef\"],[0.5,\"#f7f7f7\"],[0.6,\"#e6f5d0\"],[0.7,\"#b8e186\"],[0.8,\"#7fbc41\"],[0.9,\"#4d9221\"],[1,\"#276419\"]],\"sequential\":[[0.0,\"#0d0887\"],[0.1111111111111111,\"#46039f\"],[0.2222222222222222,\"#7201a8\"],[0.3333333333333333,\"#9c179e\"],[0.4444444444444444,\"#bd3786\"],[0.5555555555555556,\"#d8576b\"],[0.6666666666666666,\"#ed7953\"],[0.7777777777777778,\"#fb9f3a\"],[0.8888888888888888,\"#fdca26\"],[1.0,\"#f0f921\"]],\"sequentialminus\":[[0.0,\"#0d0887\"],[0.1111111111111111,\"#46039f\"],[0.2222222222222222,\"#7201a8\"],[0.3333333333333333,\"#9c179e\"],[0.4444444444444444,\"#bd3786\"],[0.5555555555555556,\"#d8576b\"],[0.6666666666666666,\"#ed7953\"],[0.7777777777777778,\"#fb9f3a\"],[0.8888888888888888,\"#fdca26\"],[1.0,\"#f0f921\"]]},\"colorway\":[\"#636efa\",\"#EF553B\",\"#00cc96\",\"#ab63fa\",\"#FFA15A\",\"#19d3f3\",\"#FF6692\",\"#B6E880\",\"#FF97FF\",\"#FECB52\"],\"font\":{\"color\":\"#2a3f5f\"},\"geo\":{\"bgcolor\":\"white\",\"lakecolor\":\"white\",\"landcolor\":\"#E5ECF6\",\"showlakes\":true,\"showland\":true,\"subunitcolor\":\"white\"},\"hoverlabel\":{\"align\":\"left\"},\"hovermode\":\"closest\",\"mapbox\":{\"style\":\"light\"},\"paper_bgcolor\":\"white\",\"plot_bgcolor\":\"#E5ECF6\",\"polar\":{\"angularaxis\":{\"gridcolor\":\"white\",\"linecolor\":\"white\",\"ticks\":\"\"},\"bgcolor\":\"#E5ECF6\",\"radialaxis\":{\"gridcolor\":\"white\",\"linecolor\":\"white\",\"ticks\":\"\"}},\"scene\":{\"xaxis\":{\"backgroundcolor\":\"#E5ECF6\",\"gridcolor\":\"white\",\"gridwidth\":2,\"linecolor\":\"white\",\"showbackground\":true,\"ticks\":\"\",\"zerolinecolor\":\"white\"},\"yaxis\":{\"backgroundcolor\":\"#E5ECF6\",\"gridcolor\":\"white\",\"gridwidth\":2,\"linecolor\":\"white\",\"showbackground\":true,\"ticks\":\"\",\"zerolinecolor\":\"white\"},\"zaxis\":{\"backgroundcolor\":\"#E5ECF6\",\"gridcolor\":\"white\",\"gridwidth\":2,\"linecolor\":\"white\",\"showbackground\":true,\"ticks\":\"\",\"zerolinecolor\":\"white\"}},\"shapedefaults\":{\"line\":{\"color\":\"#2a3f5f\"}},\"ternary\":{\"aaxis\":{\"gridcolor\":\"white\",\"linecolor\":\"white\",\"ticks\":\"\"},\"baxis\":{\"gridcolor\":\"white\",\"linecolor\":\"white\",\"ticks\":\"\"},\"bgcolor\":\"#E5ECF6\",\"caxis\":{\"gridcolor\":\"white\",\"linecolor\":\"white\",\"ticks\":\"\"}},\"title\":{\"x\":0.05},\"xaxis\":{\"automargin\":true,\"gridcolor\":\"white\",\"linecolor\":\"white\",\"ticks\":\"\",\"title\":{\"standoff\":15},\"zerolinecolor\":\"white\",\"zerolinewidth\":2},\"yaxis\":{\"automargin\":true,\"gridcolor\":\"white\",\"linecolor\":\"white\",\"ticks\":\"\",\"title\":{\"standoff\":15},\"zerolinecolor\":\"white\",\"zerolinewidth\":2}}},\"title\":{\"font\":{\"color\":\"#4D5663\"}},\"xaxis\":{\"gridcolor\":\"#E1E5ED\",\"showgrid\":true,\"tickfont\":{\"color\":\"#4D5663\"},\"title\":{\"font\":{\"color\":\"#4D5663\"},\"text\":\"\"},\"zerolinecolor\":\"#E1E5ED\"},\"yaxis\":{\"domain\":[0.3,1],\"gridcolor\":\"#E1E5ED\",\"showgrid\":true,\"tickfont\":{\"color\":\"#4D5663\"},\"title\":{\"font\":{\"color\":\"#4D5663\"},\"text\":\"\"},\"zerolinecolor\":\"#E1E5ED\"},\"yaxis2\":{\"domain\":[0,0.25],\"gridcolor\":\"#E1E5ED\",\"showgrid\":true,\"tickfont\":{\"color\":\"#4D5663\"},\"title\":{\"font\":{\"color\":\"#4D5663\"},\"text\":\"Spread\"},\"zerolinecolor\":\"#E1E5ED\"},\"xaxis2\":{\"anchor\":\"y2\",\"gridcolor\":\"#E1E5ED\",\"showgrid\":true,\"showticklabels\":false,\"tickfont\":{\"color\":\"#4D5663\"},\"title\":{\"font\":{\"color\":\"#4D5663\"},\"text\":\"\"},\"zerolinecolor\":\"#E1E5ED\"}},                        {\"showLink\": true, \"linkText\": \"Export to plot.ly\", \"plotlyServerURL\": \"https://plot.ly\", \"responsive\": true}                    ).then(function(){\n",
       "                            \n",
       "var gd = document.getElementById('8f000d54-9e86-4a46-b5b1-67aed1aad4d2');\n",
       "var x = new MutationObserver(function (mutations, observer) {{\n",
       "        var display = window.getComputedStyle(gd).display;\n",
       "        if (!display || display === 'none') {{\n",
       "            console.log([gd, 'removed!']);\n",
       "            Plotly.purge(gd);\n",
       "            observer.disconnect();\n",
       "        }}\n",
       "}});\n",
       "\n",
       "// Listen for the removal of the full notebook cells\n",
       "var notebookContainer = gd.closest('#notebook-container');\n",
       "if (notebookContainer) {{\n",
       "    x.observe(notebookContainer, {childList: true});\n",
       "}}\n",
       "\n",
       "// Listen for the clearing of the current output cell\n",
       "var outputEl = gd.closest('.output');\n",
       "if (outputEl) {{\n",
       "    x.observe(outputEl, {childList: true});\n",
       "}}\n",
       "\n",
       "                        })                };                });            </script>        </div>"
      ]
     },
     "metadata": {},
     "output_type": "display_data"
    }
   ],
   "source": [
    "df[['A','B']].iplot(kind='spread')"
   ]
  },
  {
   "cell_type": "code",
   "execution_count": 46,
   "id": "e76f418f",
   "metadata": {},
   "outputs": [
    {
     "data": {
      "application/vnd.plotly.v1+json": {
       "config": {
        "linkText": "Export to plot.ly",
        "plotlyServerURL": "https://plot.ly",
        "showLink": true
       },
       "data": [
        {
         "marker": {
          "color": [
           "rgb(255, 153, 51)",
           "rgb(55, 128, 191)",
           "rgb(50, 171, 96)",
           "rgb(128, 0, 128)",
           "rgb(219, 64, 82)",
           "rgb(0, 128, 128)",
           "rgb(255, 255, 51)",
           "rgb(128, 128, 0)",
           "rgb(251, 128, 114)",
           "rgb(128, 177, 211)"
          ],
          "line": {
           "width": 1.3
          },
          "size": [
           41,
           76,
           24,
           69,
           53,
           67,
           46,
           67,
           32,
           57,
           84,
           59,
           88,
           81,
           32,
           46,
           66,
           74,
           35,
           60,
           34,
           52,
           73,
           43,
           91,
           52,
           32,
           66,
           91,
           60,
           53,
           71,
           71,
           53,
           60,
           52,
           44,
           42,
           58,
           48,
           47,
           41,
           69,
           56,
           112,
           74,
           65,
           68,
           56,
           63,
           55,
           46,
           64,
           52,
           26,
           48,
           17,
           45,
           12,
           38,
           72,
           33,
           33,
           72,
           25,
           80,
           58,
           36,
           56,
           92,
           58,
           69,
           77,
           31,
           43,
           93,
           32,
           31,
           57,
           44,
           51,
           57,
           66,
           77,
           51,
           63,
           56,
           35,
           33,
           40,
           46,
           83,
           41,
           28,
           72,
           54,
           70,
           56,
           36,
           41
          ],
          "symbol": "circle"
         },
         "mode": "markers",
         "text": "",
         "type": "scatter",
         "x": [
          -0.574793679676617,
          0.2235288385812236,
          -0.1416022574544621,
          1.1830002741236476,
          -0.8040111862595727,
          0.5603981980480017,
          1.0802000604334197,
          0.03958333136709857,
          -0.3365396825358062,
          0.2832793352592316,
          0.05165284183696506,
          -1.5912603445652507,
          -0.4027067517849839,
          -0.8441710552955158,
          -1.5018814837552625,
          1.0623705523783178,
          -0.6269685582361755,
          -1.0877374783470943,
          -0.04920277457916217,
          -0.49476631278334876,
          -1.102273038947587,
          -0.3613339588765766,
          0.3029725474183342,
          -0.09750304564376079,
          0.5675651772580712,
          -0.20703757151798488,
          -0.38179254271357244,
          -0.011627047618306317,
          -0.033123321889765134,
          -0.2184206692864132,
          1.1088956825411647,
          0.7847064418904279,
          1.154230440045405,
          -0.18556857223927084,
          -0.12891590454086874,
          0.18790915439432815,
          0.36290388657239836,
          -1.1000323979187554,
          -1.0644192730628328,
          -0.6689050042491553,
          -1.0017148503324511,
          -0.7147505434964523,
          0.5793842268683049,
          -1.4795338070213433,
          -0.03839282830179687,
          0.6997666972174688,
          -1.2835392333483941,
          0.16475761642484815,
          1.6889573202477632,
          -1.592941071461217,
          -0.7387106985235867,
          0.39701245028797894,
          1.1840215900235371,
          0.20939687790234918,
          -2.310159082515787,
          1.2943143805175952,
          -0.2945990330477354,
          2.015857216673764,
          -0.36968920526721943,
          -0.06482501623263177,
          0.4902842916770235,
          0.08187970865813975,
          0.3201306863347647,
          -1.6580600975761564,
          -1.2041955464842804,
          0.38152574274387535,
          -0.9331789825369936,
          0.2483112308845951,
          -0.3513764390898863,
          -0.8734172442961183,
          -0.3895631575428738,
          -0.2931594876428916,
          0.25127681287774367,
          1.987790683269706,
          0.18787640248927523,
          0.7319941857482984,
          0.996051203371639,
          0.8023664354900774,
          0.37326917205338095,
          0.8082704119906713,
          -0.5670128605070655,
          1.2604557560821879,
          0.9295006804240427,
          -0.07436204245143835,
          -0.4698506128050334,
          0.5747740770991207,
          -1.015928906236001,
          -0.5064827491974023,
          0.42557873681748015,
          -0.15760594251567855,
          0.4924666238139324,
          0.8094009000999365,
          -0.1978814224350476,
          -0.9850274970501465,
          -0.5429440339023727,
          -0.8677581004904326,
          -1.62694506157608,
          -0.8824812217412265,
          2.9646802953652753,
          -0.696782614544617
         ],
         "y": [
          -0.41915746807640575,
          0.21930284828863833,
          -0.7610786434798053,
          -0.6918857200279099,
          -0.23559520316772184,
          -1.2675224451030764,
          -0.22288244488492134,
          0.17429733433401837,
          0.0762757519961098,
          -0.3669689691943707,
          1.0792882971785136,
          0.316899074242141,
          -0.04825893187424639,
          -0.5031500680545504,
          0.5846281200331179,
          -1.4076111659646628,
          0.5581580114679637,
          1.2342661817807972,
          -0.5801147930644517,
          0.5143095543016232,
          -0.27470375167671157,
          -0.1249604554829138,
          2.3015801416719883,
          -0.535673037666255,
          -0.9488349123871038,
          0.1184136493800736,
          -2.244461938831052,
          0.9570427917571265,
          -0.18916260601522641,
          -1.0530967941715776,
          0.22265169983192862,
          -0.34870062182493944,
          0.6016738643875863,
          0.562336915782038,
          -1.100990900729741,
          -1.5283468920818604,
          -1.7668647881221484,
          2.8053527903280013,
          -0.1168796213679174,
          -0.7618809661819511,
          -0.9924293911398685,
          -1.7543917460481346,
          -1.048507764949999,
          -0.6041298392882526,
          0.3801558907719418,
          0.4987419230265229,
          0.49810135830298774,
          0.8992442763001017,
          -0.7948584682214112,
          -0.9693612383002331,
          -0.7683440322511006,
          -1.1567649588940925,
          -0.13581935921923502,
          -0.4927083253539496,
          2.149222707304997,
          0.6275181422432665,
          -1.6651445093832844,
          -1.3104279518077564,
          1.520364724213475,
          -0.12263253089711454,
          0.6572572845188864,
          0.299844523824874,
          -0.07969916291529638,
          -2.948310749926441,
          1.0787648942634418,
          1.7309641277355667,
          -1.5483492384865831,
          -0.499821151016283,
          -1.6012102957857004,
          2.5136712612056855,
          0.6952546373626506,
          0.08481218221600291,
          0.46490293792485105,
          0.3675165437441855,
          -0.28065282385165585,
          0.4154825216383825,
          -1.5945417410773326,
          0.5759472764756738,
          1.2635498556299758,
          1.0352587860163123,
          0.962991845155968,
          -1.707832481488226,
          0.17583501851322028,
          1.1730434958755838,
          -0.0678384623372376,
          -0.5034339124885754,
          -0.8815189873404996,
          0.8761013064586037,
          -1.084830865142056,
          -1.497082382471439,
          -0.3569731365498273,
          1.1628995081849474,
          -0.9601044911548299,
          0.012437650238996368,
          -0.4577740907173309,
          -1.662251490679833,
          -1.4490992602462307,
          -0.006264011864668245,
          0.5454332382613313,
          -0.17002321014787986
         ]
        }
       ],
       "layout": {
        "legend": {
         "bgcolor": "#F5F6F9",
         "font": {
          "color": "#4D5663"
         }
        },
        "paper_bgcolor": "#F5F6F9",
        "plot_bgcolor": "#F5F6F9",
        "template": {
         "data": {
          "bar": [
           {
            "error_x": {
             "color": "#2a3f5f"
            },
            "error_y": {
             "color": "#2a3f5f"
            },
            "marker": {
             "line": {
              "color": "#E5ECF6",
              "width": 0.5
             },
             "pattern": {
              "fillmode": "overlay",
              "size": 10,
              "solidity": 0.2
             }
            },
            "type": "bar"
           }
          ],
          "barpolar": [
           {
            "marker": {
             "line": {
              "color": "#E5ECF6",
              "width": 0.5
             },
             "pattern": {
              "fillmode": "overlay",
              "size": 10,
              "solidity": 0.2
             }
            },
            "type": "barpolar"
           }
          ],
          "carpet": [
           {
            "aaxis": {
             "endlinecolor": "#2a3f5f",
             "gridcolor": "white",
             "linecolor": "white",
             "minorgridcolor": "white",
             "startlinecolor": "#2a3f5f"
            },
            "baxis": {
             "endlinecolor": "#2a3f5f",
             "gridcolor": "white",
             "linecolor": "white",
             "minorgridcolor": "white",
             "startlinecolor": "#2a3f5f"
            },
            "type": "carpet"
           }
          ],
          "choropleth": [
           {
            "colorbar": {
             "outlinewidth": 0,
             "ticks": ""
            },
            "type": "choropleth"
           }
          ],
          "contour": [
           {
            "colorbar": {
             "outlinewidth": 0,
             "ticks": ""
            },
            "colorscale": [
             [
              0,
              "#0d0887"
             ],
             [
              0.1111111111111111,
              "#46039f"
             ],
             [
              0.2222222222222222,
              "#7201a8"
             ],
             [
              0.3333333333333333,
              "#9c179e"
             ],
             [
              0.4444444444444444,
              "#bd3786"
             ],
             [
              0.5555555555555556,
              "#d8576b"
             ],
             [
              0.6666666666666666,
              "#ed7953"
             ],
             [
              0.7777777777777778,
              "#fb9f3a"
             ],
             [
              0.8888888888888888,
              "#fdca26"
             ],
             [
              1,
              "#f0f921"
             ]
            ],
            "type": "contour"
           }
          ],
          "contourcarpet": [
           {
            "colorbar": {
             "outlinewidth": 0,
             "ticks": ""
            },
            "type": "contourcarpet"
           }
          ],
          "heatmap": [
           {
            "colorbar": {
             "outlinewidth": 0,
             "ticks": ""
            },
            "colorscale": [
             [
              0,
              "#0d0887"
             ],
             [
              0.1111111111111111,
              "#46039f"
             ],
             [
              0.2222222222222222,
              "#7201a8"
             ],
             [
              0.3333333333333333,
              "#9c179e"
             ],
             [
              0.4444444444444444,
              "#bd3786"
             ],
             [
              0.5555555555555556,
              "#d8576b"
             ],
             [
              0.6666666666666666,
              "#ed7953"
             ],
             [
              0.7777777777777778,
              "#fb9f3a"
             ],
             [
              0.8888888888888888,
              "#fdca26"
             ],
             [
              1,
              "#f0f921"
             ]
            ],
            "type": "heatmap"
           }
          ],
          "heatmapgl": [
           {
            "colorbar": {
             "outlinewidth": 0,
             "ticks": ""
            },
            "colorscale": [
             [
              0,
              "#0d0887"
             ],
             [
              0.1111111111111111,
              "#46039f"
             ],
             [
              0.2222222222222222,
              "#7201a8"
             ],
             [
              0.3333333333333333,
              "#9c179e"
             ],
             [
              0.4444444444444444,
              "#bd3786"
             ],
             [
              0.5555555555555556,
              "#d8576b"
             ],
             [
              0.6666666666666666,
              "#ed7953"
             ],
             [
              0.7777777777777778,
              "#fb9f3a"
             ],
             [
              0.8888888888888888,
              "#fdca26"
             ],
             [
              1,
              "#f0f921"
             ]
            ],
            "type": "heatmapgl"
           }
          ],
          "histogram": [
           {
            "marker": {
             "pattern": {
              "fillmode": "overlay",
              "size": 10,
              "solidity": 0.2
             }
            },
            "type": "histogram"
           }
          ],
          "histogram2d": [
           {
            "colorbar": {
             "outlinewidth": 0,
             "ticks": ""
            },
            "colorscale": [
             [
              0,
              "#0d0887"
             ],
             [
              0.1111111111111111,
              "#46039f"
             ],
             [
              0.2222222222222222,
              "#7201a8"
             ],
             [
              0.3333333333333333,
              "#9c179e"
             ],
             [
              0.4444444444444444,
              "#bd3786"
             ],
             [
              0.5555555555555556,
              "#d8576b"
             ],
             [
              0.6666666666666666,
              "#ed7953"
             ],
             [
              0.7777777777777778,
              "#fb9f3a"
             ],
             [
              0.8888888888888888,
              "#fdca26"
             ],
             [
              1,
              "#f0f921"
             ]
            ],
            "type": "histogram2d"
           }
          ],
          "histogram2dcontour": [
           {
            "colorbar": {
             "outlinewidth": 0,
             "ticks": ""
            },
            "colorscale": [
             [
              0,
              "#0d0887"
             ],
             [
              0.1111111111111111,
              "#46039f"
             ],
             [
              0.2222222222222222,
              "#7201a8"
             ],
             [
              0.3333333333333333,
              "#9c179e"
             ],
             [
              0.4444444444444444,
              "#bd3786"
             ],
             [
              0.5555555555555556,
              "#d8576b"
             ],
             [
              0.6666666666666666,
              "#ed7953"
             ],
             [
              0.7777777777777778,
              "#fb9f3a"
             ],
             [
              0.8888888888888888,
              "#fdca26"
             ],
             [
              1,
              "#f0f921"
             ]
            ],
            "type": "histogram2dcontour"
           }
          ],
          "mesh3d": [
           {
            "colorbar": {
             "outlinewidth": 0,
             "ticks": ""
            },
            "type": "mesh3d"
           }
          ],
          "parcoords": [
           {
            "line": {
             "colorbar": {
              "outlinewidth": 0,
              "ticks": ""
             }
            },
            "type": "parcoords"
           }
          ],
          "pie": [
           {
            "automargin": true,
            "type": "pie"
           }
          ],
          "scatter": [
           {
            "fillpattern": {
             "fillmode": "overlay",
             "size": 10,
             "solidity": 0.2
            },
            "type": "scatter"
           }
          ],
          "scatter3d": [
           {
            "line": {
             "colorbar": {
              "outlinewidth": 0,
              "ticks": ""
             }
            },
            "marker": {
             "colorbar": {
              "outlinewidth": 0,
              "ticks": ""
             }
            },
            "type": "scatter3d"
           }
          ],
          "scattercarpet": [
           {
            "marker": {
             "colorbar": {
              "outlinewidth": 0,
              "ticks": ""
             }
            },
            "type": "scattercarpet"
           }
          ],
          "scattergeo": [
           {
            "marker": {
             "colorbar": {
              "outlinewidth": 0,
              "ticks": ""
             }
            },
            "type": "scattergeo"
           }
          ],
          "scattergl": [
           {
            "marker": {
             "colorbar": {
              "outlinewidth": 0,
              "ticks": ""
             }
            },
            "type": "scattergl"
           }
          ],
          "scattermapbox": [
           {
            "marker": {
             "colorbar": {
              "outlinewidth": 0,
              "ticks": ""
             }
            },
            "type": "scattermapbox"
           }
          ],
          "scatterpolar": [
           {
            "marker": {
             "colorbar": {
              "outlinewidth": 0,
              "ticks": ""
             }
            },
            "type": "scatterpolar"
           }
          ],
          "scatterpolargl": [
           {
            "marker": {
             "colorbar": {
              "outlinewidth": 0,
              "ticks": ""
             }
            },
            "type": "scatterpolargl"
           }
          ],
          "scatterternary": [
           {
            "marker": {
             "colorbar": {
              "outlinewidth": 0,
              "ticks": ""
             }
            },
            "type": "scatterternary"
           }
          ],
          "surface": [
           {
            "colorbar": {
             "outlinewidth": 0,
             "ticks": ""
            },
            "colorscale": [
             [
              0,
              "#0d0887"
             ],
             [
              0.1111111111111111,
              "#46039f"
             ],
             [
              0.2222222222222222,
              "#7201a8"
             ],
             [
              0.3333333333333333,
              "#9c179e"
             ],
             [
              0.4444444444444444,
              "#bd3786"
             ],
             [
              0.5555555555555556,
              "#d8576b"
             ],
             [
              0.6666666666666666,
              "#ed7953"
             ],
             [
              0.7777777777777778,
              "#fb9f3a"
             ],
             [
              0.8888888888888888,
              "#fdca26"
             ],
             [
              1,
              "#f0f921"
             ]
            ],
            "type": "surface"
           }
          ],
          "table": [
           {
            "cells": {
             "fill": {
              "color": "#EBF0F8"
             },
             "line": {
              "color": "white"
             }
            },
            "header": {
             "fill": {
              "color": "#C8D4E3"
             },
             "line": {
              "color": "white"
             }
            },
            "type": "table"
           }
          ]
         },
         "layout": {
          "annotationdefaults": {
           "arrowcolor": "#2a3f5f",
           "arrowhead": 0,
           "arrowwidth": 1
          },
          "autotypenumbers": "strict",
          "coloraxis": {
           "colorbar": {
            "outlinewidth": 0,
            "ticks": ""
           }
          },
          "colorscale": {
           "diverging": [
            [
             0,
             "#8e0152"
            ],
            [
             0.1,
             "#c51b7d"
            ],
            [
             0.2,
             "#de77ae"
            ],
            [
             0.3,
             "#f1b6da"
            ],
            [
             0.4,
             "#fde0ef"
            ],
            [
             0.5,
             "#f7f7f7"
            ],
            [
             0.6,
             "#e6f5d0"
            ],
            [
             0.7,
             "#b8e186"
            ],
            [
             0.8,
             "#7fbc41"
            ],
            [
             0.9,
             "#4d9221"
            ],
            [
             1,
             "#276419"
            ]
           ],
           "sequential": [
            [
             0,
             "#0d0887"
            ],
            [
             0.1111111111111111,
             "#46039f"
            ],
            [
             0.2222222222222222,
             "#7201a8"
            ],
            [
             0.3333333333333333,
             "#9c179e"
            ],
            [
             0.4444444444444444,
             "#bd3786"
            ],
            [
             0.5555555555555556,
             "#d8576b"
            ],
            [
             0.6666666666666666,
             "#ed7953"
            ],
            [
             0.7777777777777778,
             "#fb9f3a"
            ],
            [
             0.8888888888888888,
             "#fdca26"
            ],
            [
             1,
             "#f0f921"
            ]
           ],
           "sequentialminus": [
            [
             0,
             "#0d0887"
            ],
            [
             0.1111111111111111,
             "#46039f"
            ],
            [
             0.2222222222222222,
             "#7201a8"
            ],
            [
             0.3333333333333333,
             "#9c179e"
            ],
            [
             0.4444444444444444,
             "#bd3786"
            ],
            [
             0.5555555555555556,
             "#d8576b"
            ],
            [
             0.6666666666666666,
             "#ed7953"
            ],
            [
             0.7777777777777778,
             "#fb9f3a"
            ],
            [
             0.8888888888888888,
             "#fdca26"
            ],
            [
             1,
             "#f0f921"
            ]
           ]
          },
          "colorway": [
           "#636efa",
           "#EF553B",
           "#00cc96",
           "#ab63fa",
           "#FFA15A",
           "#19d3f3",
           "#FF6692",
           "#B6E880",
           "#FF97FF",
           "#FECB52"
          ],
          "font": {
           "color": "#2a3f5f"
          },
          "geo": {
           "bgcolor": "white",
           "lakecolor": "white",
           "landcolor": "#E5ECF6",
           "showlakes": true,
           "showland": true,
           "subunitcolor": "white"
          },
          "hoverlabel": {
           "align": "left"
          },
          "hovermode": "closest",
          "mapbox": {
           "style": "light"
          },
          "paper_bgcolor": "white",
          "plot_bgcolor": "#E5ECF6",
          "polar": {
           "angularaxis": {
            "gridcolor": "white",
            "linecolor": "white",
            "ticks": ""
           },
           "bgcolor": "#E5ECF6",
           "radialaxis": {
            "gridcolor": "white",
            "linecolor": "white",
            "ticks": ""
           }
          },
          "scene": {
           "xaxis": {
            "backgroundcolor": "#E5ECF6",
            "gridcolor": "white",
            "gridwidth": 2,
            "linecolor": "white",
            "showbackground": true,
            "ticks": "",
            "zerolinecolor": "white"
           },
           "yaxis": {
            "backgroundcolor": "#E5ECF6",
            "gridcolor": "white",
            "gridwidth": 2,
            "linecolor": "white",
            "showbackground": true,
            "ticks": "",
            "zerolinecolor": "white"
           },
           "zaxis": {
            "backgroundcolor": "#E5ECF6",
            "gridcolor": "white",
            "gridwidth": 2,
            "linecolor": "white",
            "showbackground": true,
            "ticks": "",
            "zerolinecolor": "white"
           }
          },
          "shapedefaults": {
           "line": {
            "color": "#2a3f5f"
           }
          },
          "ternary": {
           "aaxis": {
            "gridcolor": "white",
            "linecolor": "white",
            "ticks": ""
           },
           "baxis": {
            "gridcolor": "white",
            "linecolor": "white",
            "ticks": ""
           },
           "bgcolor": "#E5ECF6",
           "caxis": {
            "gridcolor": "white",
            "linecolor": "white",
            "ticks": ""
           }
          },
          "title": {
           "x": 0.05
          },
          "xaxis": {
           "automargin": true,
           "gridcolor": "white",
           "linecolor": "white",
           "ticks": "",
           "title": {
            "standoff": 15
           },
           "zerolinecolor": "white",
           "zerolinewidth": 2
          },
          "yaxis": {
           "automargin": true,
           "gridcolor": "white",
           "linecolor": "white",
           "ticks": "",
           "title": {
            "standoff": 15
           },
           "zerolinecolor": "white",
           "zerolinewidth": 2
          }
         }
        },
        "title": {
         "font": {
          "color": "#4D5663"
         }
        },
        "xaxis": {
         "gridcolor": "#E1E5ED",
         "showgrid": true,
         "tickfont": {
          "color": "#4D5663"
         },
         "title": {
          "font": {
           "color": "#4D5663"
          },
          "text": ""
         },
         "zerolinecolor": "#E1E5ED"
        },
        "yaxis": {
         "gridcolor": "#E1E5ED",
         "showgrid": true,
         "tickfont": {
          "color": "#4D5663"
         },
         "title": {
          "font": {
           "color": "#4D5663"
          },
          "text": ""
         },
         "zerolinecolor": "#E1E5ED"
        }
       }
      },
      "text/html": [
       "<div>                            <div id=\"fa50bc4d-57cb-4e3d-bbeb-67d889cd0ee0\" class=\"plotly-graph-div\" style=\"height:525px; width:100%;\"></div>            <script type=\"text/javascript\">                require([\"plotly\"], function(Plotly) {                    window.PLOTLYENV=window.PLOTLYENV || {};\n",
       "                    window.PLOTLYENV.BASE_URL='https://plot.ly';                                    if (document.getElementById(\"fa50bc4d-57cb-4e3d-bbeb-67d889cd0ee0\")) {                    Plotly.newPlot(                        \"fa50bc4d-57cb-4e3d-bbeb-67d889cd0ee0\",                        [{\"marker\":{\"color\":[\"rgb(255, 153, 51)\",\"rgb(55, 128, 191)\",\"rgb(50, 171, 96)\",\"rgb(128, 0, 128)\",\"rgb(219, 64, 82)\",\"rgb(0, 128, 128)\",\"rgb(255, 255, 51)\",\"rgb(128, 128, 0)\",\"rgb(251, 128, 114)\",\"rgb(128, 177, 211)\"],\"line\":{\"width\":1.3},\"size\":[41,76,24,69,53,67,46,67,32,57,84,59,88,81,32,46,66,74,35,60,34,52,73,43,91,52,32,66,91,60,53,71,71,53,60,52,44,42,58,48,47,41,69,56,112,74,65,68,56,63,55,46,64,52,26,48,17,45,12,38,72,33,33,72,25,80,58,36,56,92,58,69,77,31,43,93,32,31,57,44,51,57,66,77,51,63,56,35,33,40,46,83,41,28,72,54,70,56,36,41],\"symbol\":\"circle\"},\"mode\":\"markers\",\"text\":\"\",\"x\":[-0.574793679676617,0.2235288385812236,-0.1416022574544621,1.1830002741236476,-0.8040111862595727,0.5603981980480017,1.0802000604334197,0.03958333136709857,-0.3365396825358062,0.2832793352592316,0.05165284183696506,-1.5912603445652507,-0.4027067517849839,-0.8441710552955158,-1.5018814837552625,1.0623705523783178,-0.6269685582361755,-1.0877374783470943,-0.04920277457916217,-0.49476631278334876,-1.102273038947587,-0.3613339588765766,0.3029725474183342,-0.09750304564376079,0.5675651772580712,-0.20703757151798488,-0.38179254271357244,-0.011627047618306317,-0.033123321889765134,-0.2184206692864132,1.1088956825411647,0.7847064418904279,1.154230440045405,-0.18556857223927084,-0.12891590454086874,0.18790915439432815,0.36290388657239836,-1.1000323979187554,-1.0644192730628328,-0.6689050042491553,-1.0017148503324511,-0.7147505434964523,0.5793842268683049,-1.4795338070213433,-0.03839282830179687,0.6997666972174688,-1.2835392333483941,0.16475761642484815,1.6889573202477632,-1.592941071461217,-0.7387106985235867,0.39701245028797894,1.1840215900235371,0.20939687790234918,-2.310159082515787,1.2943143805175952,-0.2945990330477354,2.015857216673764,-0.36968920526721943,-0.06482501623263177,0.4902842916770235,0.08187970865813975,0.3201306863347647,-1.6580600975761564,-1.2041955464842804,0.38152574274387535,-0.9331789825369936,0.2483112308845951,-0.3513764390898863,-0.8734172442961183,-0.3895631575428738,-0.2931594876428916,0.25127681287774367,1.987790683269706,0.18787640248927523,0.7319941857482984,0.996051203371639,0.8023664354900774,0.37326917205338095,0.8082704119906713,-0.5670128605070655,1.2604557560821879,0.9295006804240427,-0.07436204245143835,-0.4698506128050334,0.5747740770991207,-1.015928906236001,-0.5064827491974023,0.42557873681748015,-0.15760594251567855,0.4924666238139324,0.8094009000999365,-0.1978814224350476,-0.9850274970501465,-0.5429440339023727,-0.8677581004904326,-1.62694506157608,-0.8824812217412265,2.9646802953652753,-0.696782614544617],\"y\":[-0.41915746807640575,0.21930284828863833,-0.7610786434798053,-0.6918857200279099,-0.23559520316772184,-1.2675224451030764,-0.22288244488492134,0.17429733433401837,0.0762757519961098,-0.3669689691943707,1.0792882971785136,0.316899074242141,-0.04825893187424639,-0.5031500680545504,0.5846281200331179,-1.4076111659646628,0.5581580114679637,1.2342661817807972,-0.5801147930644517,0.5143095543016232,-0.27470375167671157,-0.1249604554829138,2.3015801416719883,-0.535673037666255,-0.9488349123871038,0.1184136493800736,-2.244461938831052,0.9570427917571265,-0.18916260601522641,-1.0530967941715776,0.22265169983192862,-0.34870062182493944,0.6016738643875863,0.562336915782038,-1.100990900729741,-1.5283468920818604,-1.7668647881221484,2.8053527903280013,-0.1168796213679174,-0.7618809661819511,-0.9924293911398685,-1.7543917460481346,-1.048507764949999,-0.6041298392882526,0.3801558907719418,0.4987419230265229,0.49810135830298774,0.8992442763001017,-0.7948584682214112,-0.9693612383002331,-0.7683440322511006,-1.1567649588940925,-0.13581935921923502,-0.4927083253539496,2.149222707304997,0.6275181422432665,-1.6651445093832844,-1.3104279518077564,1.520364724213475,-0.12263253089711454,0.6572572845188864,0.299844523824874,-0.07969916291529638,-2.948310749926441,1.0787648942634418,1.7309641277355667,-1.5483492384865831,-0.499821151016283,-1.6012102957857004,2.5136712612056855,0.6952546373626506,0.08481218221600291,0.46490293792485105,0.3675165437441855,-0.28065282385165585,0.4154825216383825,-1.5945417410773326,0.5759472764756738,1.2635498556299758,1.0352587860163123,0.962991845155968,-1.707832481488226,0.17583501851322028,1.1730434958755838,-0.0678384623372376,-0.5034339124885754,-0.8815189873404996,0.8761013064586037,-1.084830865142056,-1.497082382471439,-0.3569731365498273,1.1628995081849474,-0.9601044911548299,0.012437650238996368,-0.4577740907173309,-1.662251490679833,-1.4490992602462307,-0.006264011864668245,0.5454332382613313,-0.17002321014787986],\"type\":\"scatter\"}],                        {\"legend\":{\"bgcolor\":\"#F5F6F9\",\"font\":{\"color\":\"#4D5663\"}},\"paper_bgcolor\":\"#F5F6F9\",\"plot_bgcolor\":\"#F5F6F9\",\"template\":{\"data\":{\"barpolar\":[{\"marker\":{\"line\":{\"color\":\"#E5ECF6\",\"width\":0.5},\"pattern\":{\"fillmode\":\"overlay\",\"size\":10,\"solidity\":0.2}},\"type\":\"barpolar\"}],\"bar\":[{\"error_x\":{\"color\":\"#2a3f5f\"},\"error_y\":{\"color\":\"#2a3f5f\"},\"marker\":{\"line\":{\"color\":\"#E5ECF6\",\"width\":0.5},\"pattern\":{\"fillmode\":\"overlay\",\"size\":10,\"solidity\":0.2}},\"type\":\"bar\"}],\"carpet\":[{\"aaxis\":{\"endlinecolor\":\"#2a3f5f\",\"gridcolor\":\"white\",\"linecolor\":\"white\",\"minorgridcolor\":\"white\",\"startlinecolor\":\"#2a3f5f\"},\"baxis\":{\"endlinecolor\":\"#2a3f5f\",\"gridcolor\":\"white\",\"linecolor\":\"white\",\"minorgridcolor\":\"white\",\"startlinecolor\":\"#2a3f5f\"},\"type\":\"carpet\"}],\"choropleth\":[{\"colorbar\":{\"outlinewidth\":0,\"ticks\":\"\"},\"type\":\"choropleth\"}],\"contourcarpet\":[{\"colorbar\":{\"outlinewidth\":0,\"ticks\":\"\"},\"type\":\"contourcarpet\"}],\"contour\":[{\"colorbar\":{\"outlinewidth\":0,\"ticks\":\"\"},\"colorscale\":[[0.0,\"#0d0887\"],[0.1111111111111111,\"#46039f\"],[0.2222222222222222,\"#7201a8\"],[0.3333333333333333,\"#9c179e\"],[0.4444444444444444,\"#bd3786\"],[0.5555555555555556,\"#d8576b\"],[0.6666666666666666,\"#ed7953\"],[0.7777777777777778,\"#fb9f3a\"],[0.8888888888888888,\"#fdca26\"],[1.0,\"#f0f921\"]],\"type\":\"contour\"}],\"heatmapgl\":[{\"colorbar\":{\"outlinewidth\":0,\"ticks\":\"\"},\"colorscale\":[[0.0,\"#0d0887\"],[0.1111111111111111,\"#46039f\"],[0.2222222222222222,\"#7201a8\"],[0.3333333333333333,\"#9c179e\"],[0.4444444444444444,\"#bd3786\"],[0.5555555555555556,\"#d8576b\"],[0.6666666666666666,\"#ed7953\"],[0.7777777777777778,\"#fb9f3a\"],[0.8888888888888888,\"#fdca26\"],[1.0,\"#f0f921\"]],\"type\":\"heatmapgl\"}],\"heatmap\":[{\"colorbar\":{\"outlinewidth\":0,\"ticks\":\"\"},\"colorscale\":[[0.0,\"#0d0887\"],[0.1111111111111111,\"#46039f\"],[0.2222222222222222,\"#7201a8\"],[0.3333333333333333,\"#9c179e\"],[0.4444444444444444,\"#bd3786\"],[0.5555555555555556,\"#d8576b\"],[0.6666666666666666,\"#ed7953\"],[0.7777777777777778,\"#fb9f3a\"],[0.8888888888888888,\"#fdca26\"],[1.0,\"#f0f921\"]],\"type\":\"heatmap\"}],\"histogram2dcontour\":[{\"colorbar\":{\"outlinewidth\":0,\"ticks\":\"\"},\"colorscale\":[[0.0,\"#0d0887\"],[0.1111111111111111,\"#46039f\"],[0.2222222222222222,\"#7201a8\"],[0.3333333333333333,\"#9c179e\"],[0.4444444444444444,\"#bd3786\"],[0.5555555555555556,\"#d8576b\"],[0.6666666666666666,\"#ed7953\"],[0.7777777777777778,\"#fb9f3a\"],[0.8888888888888888,\"#fdca26\"],[1.0,\"#f0f921\"]],\"type\":\"histogram2dcontour\"}],\"histogram2d\":[{\"colorbar\":{\"outlinewidth\":0,\"ticks\":\"\"},\"colorscale\":[[0.0,\"#0d0887\"],[0.1111111111111111,\"#46039f\"],[0.2222222222222222,\"#7201a8\"],[0.3333333333333333,\"#9c179e\"],[0.4444444444444444,\"#bd3786\"],[0.5555555555555556,\"#d8576b\"],[0.6666666666666666,\"#ed7953\"],[0.7777777777777778,\"#fb9f3a\"],[0.8888888888888888,\"#fdca26\"],[1.0,\"#f0f921\"]],\"type\":\"histogram2d\"}],\"histogram\":[{\"marker\":{\"pattern\":{\"fillmode\":\"overlay\",\"size\":10,\"solidity\":0.2}},\"type\":\"histogram\"}],\"mesh3d\":[{\"colorbar\":{\"outlinewidth\":0,\"ticks\":\"\"},\"type\":\"mesh3d\"}],\"parcoords\":[{\"line\":{\"colorbar\":{\"outlinewidth\":0,\"ticks\":\"\"}},\"type\":\"parcoords\"}],\"pie\":[{\"automargin\":true,\"type\":\"pie\"}],\"scatter3d\":[{\"line\":{\"colorbar\":{\"outlinewidth\":0,\"ticks\":\"\"}},\"marker\":{\"colorbar\":{\"outlinewidth\":0,\"ticks\":\"\"}},\"type\":\"scatter3d\"}],\"scattercarpet\":[{\"marker\":{\"colorbar\":{\"outlinewidth\":0,\"ticks\":\"\"}},\"type\":\"scattercarpet\"}],\"scattergeo\":[{\"marker\":{\"colorbar\":{\"outlinewidth\":0,\"ticks\":\"\"}},\"type\":\"scattergeo\"}],\"scattergl\":[{\"marker\":{\"colorbar\":{\"outlinewidth\":0,\"ticks\":\"\"}},\"type\":\"scattergl\"}],\"scattermapbox\":[{\"marker\":{\"colorbar\":{\"outlinewidth\":0,\"ticks\":\"\"}},\"type\":\"scattermapbox\"}],\"scatterpolargl\":[{\"marker\":{\"colorbar\":{\"outlinewidth\":0,\"ticks\":\"\"}},\"type\":\"scatterpolargl\"}],\"scatterpolar\":[{\"marker\":{\"colorbar\":{\"outlinewidth\":0,\"ticks\":\"\"}},\"type\":\"scatterpolar\"}],\"scatter\":[{\"fillpattern\":{\"fillmode\":\"overlay\",\"size\":10,\"solidity\":0.2},\"type\":\"scatter\"}],\"scatterternary\":[{\"marker\":{\"colorbar\":{\"outlinewidth\":0,\"ticks\":\"\"}},\"type\":\"scatterternary\"}],\"surface\":[{\"colorbar\":{\"outlinewidth\":0,\"ticks\":\"\"},\"colorscale\":[[0.0,\"#0d0887\"],[0.1111111111111111,\"#46039f\"],[0.2222222222222222,\"#7201a8\"],[0.3333333333333333,\"#9c179e\"],[0.4444444444444444,\"#bd3786\"],[0.5555555555555556,\"#d8576b\"],[0.6666666666666666,\"#ed7953\"],[0.7777777777777778,\"#fb9f3a\"],[0.8888888888888888,\"#fdca26\"],[1.0,\"#f0f921\"]],\"type\":\"surface\"}],\"table\":[{\"cells\":{\"fill\":{\"color\":\"#EBF0F8\"},\"line\":{\"color\":\"white\"}},\"header\":{\"fill\":{\"color\":\"#C8D4E3\"},\"line\":{\"color\":\"white\"}},\"type\":\"table\"}]},\"layout\":{\"annotationdefaults\":{\"arrowcolor\":\"#2a3f5f\",\"arrowhead\":0,\"arrowwidth\":1},\"autotypenumbers\":\"strict\",\"coloraxis\":{\"colorbar\":{\"outlinewidth\":0,\"ticks\":\"\"}},\"colorscale\":{\"diverging\":[[0,\"#8e0152\"],[0.1,\"#c51b7d\"],[0.2,\"#de77ae\"],[0.3,\"#f1b6da\"],[0.4,\"#fde0ef\"],[0.5,\"#f7f7f7\"],[0.6,\"#e6f5d0\"],[0.7,\"#b8e186\"],[0.8,\"#7fbc41\"],[0.9,\"#4d9221\"],[1,\"#276419\"]],\"sequential\":[[0.0,\"#0d0887\"],[0.1111111111111111,\"#46039f\"],[0.2222222222222222,\"#7201a8\"],[0.3333333333333333,\"#9c179e\"],[0.4444444444444444,\"#bd3786\"],[0.5555555555555556,\"#d8576b\"],[0.6666666666666666,\"#ed7953\"],[0.7777777777777778,\"#fb9f3a\"],[0.8888888888888888,\"#fdca26\"],[1.0,\"#f0f921\"]],\"sequentialminus\":[[0.0,\"#0d0887\"],[0.1111111111111111,\"#46039f\"],[0.2222222222222222,\"#7201a8\"],[0.3333333333333333,\"#9c179e\"],[0.4444444444444444,\"#bd3786\"],[0.5555555555555556,\"#d8576b\"],[0.6666666666666666,\"#ed7953\"],[0.7777777777777778,\"#fb9f3a\"],[0.8888888888888888,\"#fdca26\"],[1.0,\"#f0f921\"]]},\"colorway\":[\"#636efa\",\"#EF553B\",\"#00cc96\",\"#ab63fa\",\"#FFA15A\",\"#19d3f3\",\"#FF6692\",\"#B6E880\",\"#FF97FF\",\"#FECB52\"],\"font\":{\"color\":\"#2a3f5f\"},\"geo\":{\"bgcolor\":\"white\",\"lakecolor\":\"white\",\"landcolor\":\"#E5ECF6\",\"showlakes\":true,\"showland\":true,\"subunitcolor\":\"white\"},\"hoverlabel\":{\"align\":\"left\"},\"hovermode\":\"closest\",\"mapbox\":{\"style\":\"light\"},\"paper_bgcolor\":\"white\",\"plot_bgcolor\":\"#E5ECF6\",\"polar\":{\"angularaxis\":{\"gridcolor\":\"white\",\"linecolor\":\"white\",\"ticks\":\"\"},\"bgcolor\":\"#E5ECF6\",\"radialaxis\":{\"gridcolor\":\"white\",\"linecolor\":\"white\",\"ticks\":\"\"}},\"scene\":{\"xaxis\":{\"backgroundcolor\":\"#E5ECF6\",\"gridcolor\":\"white\",\"gridwidth\":2,\"linecolor\":\"white\",\"showbackground\":true,\"ticks\":\"\",\"zerolinecolor\":\"white\"},\"yaxis\":{\"backgroundcolor\":\"#E5ECF6\",\"gridcolor\":\"white\",\"gridwidth\":2,\"linecolor\":\"white\",\"showbackground\":true,\"ticks\":\"\",\"zerolinecolor\":\"white\"},\"zaxis\":{\"backgroundcolor\":\"#E5ECF6\",\"gridcolor\":\"white\",\"gridwidth\":2,\"linecolor\":\"white\",\"showbackground\":true,\"ticks\":\"\",\"zerolinecolor\":\"white\"}},\"shapedefaults\":{\"line\":{\"color\":\"#2a3f5f\"}},\"ternary\":{\"aaxis\":{\"gridcolor\":\"white\",\"linecolor\":\"white\",\"ticks\":\"\"},\"baxis\":{\"gridcolor\":\"white\",\"linecolor\":\"white\",\"ticks\":\"\"},\"bgcolor\":\"#E5ECF6\",\"caxis\":{\"gridcolor\":\"white\",\"linecolor\":\"white\",\"ticks\":\"\"}},\"title\":{\"x\":0.05},\"xaxis\":{\"automargin\":true,\"gridcolor\":\"white\",\"linecolor\":\"white\",\"ticks\":\"\",\"title\":{\"standoff\":15},\"zerolinecolor\":\"white\",\"zerolinewidth\":2},\"yaxis\":{\"automargin\":true,\"gridcolor\":\"white\",\"linecolor\":\"white\",\"ticks\":\"\",\"title\":{\"standoff\":15},\"zerolinecolor\":\"white\",\"zerolinewidth\":2}}},\"title\":{\"font\":{\"color\":\"#4D5663\"}},\"xaxis\":{\"gridcolor\":\"#E1E5ED\",\"showgrid\":true,\"tickfont\":{\"color\":\"#4D5663\"},\"title\":{\"font\":{\"color\":\"#4D5663\"},\"text\":\"\"},\"zerolinecolor\":\"#E1E5ED\"},\"yaxis\":{\"gridcolor\":\"#E1E5ED\",\"showgrid\":true,\"tickfont\":{\"color\":\"#4D5663\"},\"title\":{\"font\":{\"color\":\"#4D5663\"},\"text\":\"\"},\"zerolinecolor\":\"#E1E5ED\"}},                        {\"showLink\": true, \"linkText\": \"Export to plot.ly\", \"plotlyServerURL\": \"https://plot.ly\", \"responsive\": true}                    ).then(function(){\n",
       "                            \n",
       "var gd = document.getElementById('fa50bc4d-57cb-4e3d-bbeb-67d889cd0ee0');\n",
       "var x = new MutationObserver(function (mutations, observer) {{\n",
       "        var display = window.getComputedStyle(gd).display;\n",
       "        if (!display || display === 'none') {{\n",
       "            console.log([gd, 'removed!']);\n",
       "            Plotly.purge(gd);\n",
       "            observer.disconnect();\n",
       "        }}\n",
       "}});\n",
       "\n",
       "// Listen for the removal of the full notebook cells\n",
       "var notebookContainer = gd.closest('#notebook-container');\n",
       "if (notebookContainer) {{\n",
       "    x.observe(notebookContainer, {childList: true});\n",
       "}}\n",
       "\n",
       "// Listen for the clearing of the current output cell\n",
       "var outputEl = gd.closest('.output');\n",
       "if (outputEl) {{\n",
       "    x.observe(outputEl, {childList: true});\n",
       "}}\n",
       "\n",
       "                        })                };                });            </script>        </div>"
      ]
     },
     "metadata": {},
     "output_type": "display_data"
    }
   ],
   "source": [
    "df.iplot(kind='bubble',x='A',y='B',size='C')"
   ]
  },
  {
   "cell_type": "code",
   "execution_count": 47,
   "id": "5518d13c",
   "metadata": {},
   "outputs": [
    {
     "data": {
      "application/vnd.plotly.v1+json": {
       "config": {
        "linkText": "Export to plot.ly",
        "plotlyServerURL": "https://plot.ly",
        "showLink": true
       },
       "data": [
        {
         "histfunc": "count",
         "histnorm": "",
         "marker": {
          "color": "rgba(255, 153, 51, 1.0)",
          "line": {
           "color": "#4D5663",
           "width": 1.3
          }
         },
         "name": "A",
         "nbinsx": 10,
         "opacity": 0.8,
         "orientation": "v",
         "type": "histogram",
         "x": [
          -0.574793679676617,
          0.2235288385812236,
          -0.1416022574544621,
          1.1830002741236476,
          -0.8040111862595727,
          0.5603981980480017,
          1.0802000604334197,
          0.03958333136709857,
          -0.3365396825358062,
          0.2832793352592316,
          0.05165284183696506,
          -1.5912603445652507,
          -0.4027067517849839,
          -0.8441710552955158,
          -1.5018814837552625,
          1.0623705523783178,
          -0.6269685582361755,
          -1.0877374783470943,
          -0.04920277457916217,
          -0.49476631278334876,
          -1.102273038947587,
          -0.3613339588765766,
          0.3029725474183342,
          -0.09750304564376079,
          0.5675651772580712,
          -0.20703757151798488,
          -0.38179254271357244,
          -0.011627047618306317,
          -0.033123321889765134,
          -0.2184206692864132,
          1.1088956825411647,
          0.7847064418904279,
          1.154230440045405,
          -0.18556857223927084,
          -0.12891590454086874,
          0.18790915439432815,
          0.36290388657239836,
          -1.1000323979187554,
          -1.0644192730628328,
          -0.6689050042491553,
          -1.0017148503324511,
          -0.7147505434964523,
          0.5793842268683049,
          -1.4795338070213433,
          -0.03839282830179687,
          0.6997666972174688,
          -1.2835392333483941,
          0.16475761642484815,
          1.6889573202477632,
          -1.592941071461217,
          -0.7387106985235867,
          0.39701245028797894,
          1.1840215900235371,
          0.20939687790234918,
          -2.310159082515787,
          1.2943143805175952,
          -0.2945990330477354,
          2.015857216673764,
          -0.36968920526721943,
          -0.06482501623263177,
          0.4902842916770235,
          0.08187970865813975,
          0.3201306863347647,
          -1.6580600975761564,
          -1.2041955464842804,
          0.38152574274387535,
          -0.9331789825369936,
          0.2483112308845951,
          -0.3513764390898863,
          -0.8734172442961183,
          -0.3895631575428738,
          -0.2931594876428916,
          0.25127681287774367,
          1.987790683269706,
          0.18787640248927523,
          0.7319941857482984,
          0.996051203371639,
          0.8023664354900774,
          0.37326917205338095,
          0.8082704119906713,
          -0.5670128605070655,
          1.2604557560821879,
          0.9295006804240427,
          -0.07436204245143835,
          -0.4698506128050334,
          0.5747740770991207,
          -1.015928906236001,
          -0.5064827491974023,
          0.42557873681748015,
          -0.15760594251567855,
          0.4924666238139324,
          0.8094009000999365,
          -0.1978814224350476,
          -0.9850274970501465,
          -0.5429440339023727,
          -0.8677581004904326,
          -1.62694506157608,
          -0.8824812217412265,
          2.9646802953652753,
          -0.696782614544617
         ],
         "xaxis": "x",
         "yaxis": "y"
        },
        {
         "line": {
          "color": "rgba(128, 128, 128, 1.0)",
          "dash": "solid",
          "shape": "linear",
          "width": 1.3
         },
         "marker": {
          "size": 2,
          "symbol": "circle"
         },
         "mode": "markers",
         "name": "A",
         "text": "",
         "type": "scatter",
         "x": [
          -0.41915746807640575,
          0.21930284828863833,
          -0.7610786434798053,
          -0.6918857200279099,
          -0.23559520316772184,
          -1.2675224451030764,
          -0.22288244488492134,
          0.17429733433401837,
          0.0762757519961098,
          -0.3669689691943707,
          1.0792882971785136,
          0.316899074242141,
          -0.04825893187424639,
          -0.5031500680545504,
          0.5846281200331179,
          -1.4076111659646628,
          0.5581580114679637,
          1.2342661817807972,
          -0.5801147930644517,
          0.5143095543016232,
          -0.27470375167671157,
          -0.1249604554829138,
          2.3015801416719883,
          -0.535673037666255,
          -0.9488349123871038,
          0.1184136493800736,
          -2.244461938831052,
          0.9570427917571265,
          -0.18916260601522641,
          -1.0530967941715776,
          0.22265169983192862,
          -0.34870062182493944,
          0.6016738643875863,
          0.562336915782038,
          -1.100990900729741,
          -1.5283468920818604,
          -1.7668647881221484,
          2.8053527903280013,
          -0.1168796213679174,
          -0.7618809661819511,
          -0.9924293911398685,
          -1.7543917460481346,
          -1.048507764949999,
          -0.6041298392882526,
          0.3801558907719418,
          0.4987419230265229,
          0.49810135830298774,
          0.8992442763001017,
          -0.7948584682214112,
          -0.9693612383002331,
          -0.7683440322511006,
          -1.1567649588940925,
          -0.13581935921923502,
          -0.4927083253539496,
          2.149222707304997,
          0.6275181422432665,
          -1.6651445093832844,
          -1.3104279518077564,
          1.520364724213475,
          -0.12263253089711454,
          0.6572572845188864,
          0.299844523824874,
          -0.07969916291529638,
          -2.948310749926441,
          1.0787648942634418,
          1.7309641277355667,
          -1.5483492384865831,
          -0.499821151016283,
          -1.6012102957857004,
          2.5136712612056855,
          0.6952546373626506,
          0.08481218221600291,
          0.46490293792485105,
          0.3675165437441855,
          -0.28065282385165585,
          0.4154825216383825,
          -1.5945417410773326,
          0.5759472764756738,
          1.2635498556299758,
          1.0352587860163123,
          0.962991845155968,
          -1.707832481488226,
          0.17583501851322028,
          1.1730434958755838,
          -0.0678384623372376,
          -0.5034339124885754,
          -0.8815189873404996,
          0.8761013064586037,
          -1.084830865142056,
          -1.497082382471439,
          -0.3569731365498273,
          1.1628995081849474,
          -0.9601044911548299,
          0.012437650238996368,
          -0.4577740907173309,
          -1.662251490679833,
          -1.4490992602462307,
          -0.006264011864668245,
          0.5454332382613313,
          -0.17002321014787986
         ],
         "xaxis": "x2",
         "y": [
          -0.574793679676617,
          0.2235288385812236,
          -0.1416022574544621,
          1.1830002741236476,
          -0.8040111862595727,
          0.5603981980480017,
          1.0802000604334197,
          0.03958333136709857,
          -0.3365396825358062,
          0.2832793352592316,
          0.05165284183696506,
          -1.5912603445652507,
          -0.4027067517849839,
          -0.8441710552955158,
          -1.5018814837552625,
          1.0623705523783178,
          -0.6269685582361755,
          -1.0877374783470943,
          -0.04920277457916217,
          -0.49476631278334876,
          -1.102273038947587,
          -0.3613339588765766,
          0.3029725474183342,
          -0.09750304564376079,
          0.5675651772580712,
          -0.20703757151798488,
          -0.38179254271357244,
          -0.011627047618306317,
          -0.033123321889765134,
          -0.2184206692864132,
          1.1088956825411647,
          0.7847064418904279,
          1.154230440045405,
          -0.18556857223927084,
          -0.12891590454086874,
          0.18790915439432815,
          0.36290388657239836,
          -1.1000323979187554,
          -1.0644192730628328,
          -0.6689050042491553,
          -1.0017148503324511,
          -0.7147505434964523,
          0.5793842268683049,
          -1.4795338070213433,
          -0.03839282830179687,
          0.6997666972174688,
          -1.2835392333483941,
          0.16475761642484815,
          1.6889573202477632,
          -1.592941071461217,
          -0.7387106985235867,
          0.39701245028797894,
          1.1840215900235371,
          0.20939687790234918,
          -2.310159082515787,
          1.2943143805175952,
          -0.2945990330477354,
          2.015857216673764,
          -0.36968920526721943,
          -0.06482501623263177,
          0.4902842916770235,
          0.08187970865813975,
          0.3201306863347647,
          -1.6580600975761564,
          -1.2041955464842804,
          0.38152574274387535,
          -0.9331789825369936,
          0.2483112308845951,
          -0.3513764390898863,
          -0.8734172442961183,
          -0.3895631575428738,
          -0.2931594876428916,
          0.25127681287774367,
          1.987790683269706,
          0.18787640248927523,
          0.7319941857482984,
          0.996051203371639,
          0.8023664354900774,
          0.37326917205338095,
          0.8082704119906713,
          -0.5670128605070655,
          1.2604557560821879,
          0.9295006804240427,
          -0.07436204245143835,
          -0.4698506128050334,
          0.5747740770991207,
          -1.015928906236001,
          -0.5064827491974023,
          0.42557873681748015,
          -0.15760594251567855,
          0.4924666238139324,
          0.8094009000999365,
          -0.1978814224350476,
          -0.9850274970501465,
          -0.5429440339023727,
          -0.8677581004904326,
          -1.62694506157608,
          -0.8824812217412265,
          2.9646802953652753,
          -0.696782614544617
         ],
         "yaxis": "y2"
        },
        {
         "line": {
          "color": "rgba(128, 128, 128, 1.0)",
          "dash": "solid",
          "shape": "linear",
          "width": 1.3
         },
         "marker": {
          "size": 2,
          "symbol": "circle"
         },
         "mode": "markers",
         "name": "A",
         "text": "",
         "type": "scatter",
         "x": [
          -0.48016284539502374,
          1.1941605361276901,
          -1.3380686110014535,
          0.8496861440859929,
          0.10334025222810121,
          0.7790112926214989,
          -0.25519496667126196,
          0.7448633294729624,
          -0.9389275694022537,
          0.2764703818344103,
          1.5713410191540675,
          0.3587339287842905,
          1.8116652673425804,
          1.4610153237282706,
          -0.9234220929229902,
          -0.2795245320327592,
          0.7362839857792025,
          1.0845506658755941,
          -0.7906309801555522,
          0.4468688107353693,
          -0.8400481673749199,
          0.04730791167675447,
          1.0396829715764322,
          -0.38223015348999884,
          1.9329538808246907,
          0.027406820560686565,
          -0.9542493897915989,
          0.717558215382116,
          1.9341434756361537,
          0.43887850959477054,
          0.07574701766796874,
          0.9679467756373532,
          0.9689157316846471,
          0.09040407397946856,
          0.4045345471689706,
          0.044547063139071336,
          -0.33444597184645375,
          -0.4419718157832957,
          0.3312939420688317,
          -0.1524025207787877,
          -0.19648525315850116,
          -0.5071523525857391,
          0.8618592610172023,
          0.21474845376831098,
          2.935932373444087,
          1.1211018040818186,
          0.6675576999264661,
          0.830331411868125,
          0.240287564604421,
          0.5782227959390825,
          0.16610348327036337,
          -0.26067373918919545,
          0.6165706632965757,
          0.0493626176748902,
          -1.2454061538687209,
          -0.1806332881845276,
          -1.6521010995404608,
          -0.2896078963510364,
          -1.9432936991169414,
          -0.6329370516468182,
          1.0105085267150509,
          -0.881714693906353,
          -0.9127704462300918,
          0.9856352429468458,
          -1.3029147076374328,
          1.3936741696904487,
          0.3126403417594799,
          -0.7623593645280816,
          0.25128509196769805,
          1.9888169863810583,
          0.31160465621257316,
          0.8479283170183334,
          1.2577969625203822,
          -1.0065286821284707,
          -0.4114585098505856,
          2.038553967065002,
          -0.936034670530762,
          -0.9908496290461823,
          0.297913075307045,
          -0.37315866074811077,
          -0.01557169709267786,
          0.27526345665672447,
          0.6967772652465146,
          1.2695054487265522,
          -0.007433950506855492,
          0.5722235809228652,
          0.22726668691856367,
          -0.779330186388833,
          -0.8819788804909642,
          -0.5674558131847244,
          -0.24063577925786742,
          1.5682549612766834,
          -0.4805470717554532,
          -1.1617799681168157,
          1.0015601020611766,
          0.111234494442405,
          0.9165336920023927,
          0.2495057250384035,
          -0.7404737672600636,
          -0.5081339496921857
         ],
         "xaxis": "x3",
         "y": [
          -0.574793679676617,
          0.2235288385812236,
          -0.1416022574544621,
          1.1830002741236476,
          -0.8040111862595727,
          0.5603981980480017,
          1.0802000604334197,
          0.03958333136709857,
          -0.3365396825358062,
          0.2832793352592316,
          0.05165284183696506,
          -1.5912603445652507,
          -0.4027067517849839,
          -0.8441710552955158,
          -1.5018814837552625,
          1.0623705523783178,
          -0.6269685582361755,
          -1.0877374783470943,
          -0.04920277457916217,
          -0.49476631278334876,
          -1.102273038947587,
          -0.3613339588765766,
          0.3029725474183342,
          -0.09750304564376079,
          0.5675651772580712,
          -0.20703757151798488,
          -0.38179254271357244,
          -0.011627047618306317,
          -0.033123321889765134,
          -0.2184206692864132,
          1.1088956825411647,
          0.7847064418904279,
          1.154230440045405,
          -0.18556857223927084,
          -0.12891590454086874,
          0.18790915439432815,
          0.36290388657239836,
          -1.1000323979187554,
          -1.0644192730628328,
          -0.6689050042491553,
          -1.0017148503324511,
          -0.7147505434964523,
          0.5793842268683049,
          -1.4795338070213433,
          -0.03839282830179687,
          0.6997666972174688,
          -1.2835392333483941,
          0.16475761642484815,
          1.6889573202477632,
          -1.592941071461217,
          -0.7387106985235867,
          0.39701245028797894,
          1.1840215900235371,
          0.20939687790234918,
          -2.310159082515787,
          1.2943143805175952,
          -0.2945990330477354,
          2.015857216673764,
          -0.36968920526721943,
          -0.06482501623263177,
          0.4902842916770235,
          0.08187970865813975,
          0.3201306863347647,
          -1.6580600975761564,
          -1.2041955464842804,
          0.38152574274387535,
          -0.9331789825369936,
          0.2483112308845951,
          -0.3513764390898863,
          -0.8734172442961183,
          -0.3895631575428738,
          -0.2931594876428916,
          0.25127681287774367,
          1.987790683269706,
          0.18787640248927523,
          0.7319941857482984,
          0.996051203371639,
          0.8023664354900774,
          0.37326917205338095,
          0.8082704119906713,
          -0.5670128605070655,
          1.2604557560821879,
          0.9295006804240427,
          -0.07436204245143835,
          -0.4698506128050334,
          0.5747740770991207,
          -1.015928906236001,
          -0.5064827491974023,
          0.42557873681748015,
          -0.15760594251567855,
          0.4924666238139324,
          0.8094009000999365,
          -0.1978814224350476,
          -0.9850274970501465,
          -0.5429440339023727,
          -0.8677581004904326,
          -1.62694506157608,
          -0.8824812217412265,
          2.9646802953652753,
          -0.696782614544617
         ],
         "yaxis": "y3"
        },
        {
         "line": {
          "color": "rgba(128, 128, 128, 1.0)",
          "dash": "solid",
          "shape": "linear",
          "width": 1.3
         },
         "marker": {
          "size": 2,
          "symbol": "circle"
         },
         "mode": "markers",
         "name": "A",
         "text": "",
         "type": "scatter",
         "x": [
          -1.1337989406811757,
          -1.9037877897374023,
          0.30232715095296525,
          -0.40746226064004226,
          -1.5843154622723592,
          0.0800001859112766,
          -1.0829534344624214,
          0.008929249820520537,
          0.17634301380882428,
          0.445923832278604,
          -0.5823559308867564,
          1.6787505305326424,
          1.5340576963578176,
          -0.4491259385069614,
          1.307584154739609,
          0.2802398428430633,
          0.8474559671923972,
          0.7243209501100196,
          0.852764174731704,
          0.7226099468487862,
          0.5073516462575364,
          0.31106025362326667,
          -0.7129766442167984,
          -1.8069662076212525,
          0.3899853755554775,
          1.1660113027000951,
          0.45780343027982806,
          -0.3850328593614212,
          -0.0584470187637657,
          -0.13063147921756002,
          0.2664076117902947,
          0.20129707681783135,
          0.26737710495402645,
          -0.00959464933565873,
          0.12086419327473921,
          0.36881552072922735,
          0.10435898893488083,
          1.399413241303069,
          -0.22554807536656415,
          -0.8068825210323299,
          -0.9216778635808496,
          0.010503303933990954,
          0.6520392127941269,
          1.2512419640101824,
          -0.5478703373479984,
          -0.3698831497368436,
          -0.794536878636538,
          1.569258025214523,
          0.07069802261660471,
          -0.984745870976086,
          0.04351361870881149,
          -0.9704163251529452,
          -0.9526280363084101,
          -0.7655813354099952,
          -0.7997514856589535,
          1.3939297951590652,
          1.5047267482345097,
          -0.05164022122595844,
          0.06079243380350069,
          -0.47960299877331186,
          0.4697426372510259,
          0.9664432216423561,
          -0.046938559627280725,
          1.5112235714071913,
          0.122122238044967,
          0.20198921099504166,
          -0.934288188251349,
          1.3808375368889114,
          -1.1660744319754683,
          0.5115255528576121,
          -0.7520042291245231,
          0.9328845756711185,
          -0.8861392243088931,
          -0.9014566300826681,
          0.7114607304778792,
          -0.31588421404758654,
          0.25778259899410694,
          -0.5176775437125997,
          2.5696830566488185,
          -0.6449836664633718,
          1.125122036774418,
          0.7893768671719273,
          0.7981961199353671,
          -0.6820999132258828,
          -1.740245288265015,
          0.07782938388943877,
          0.5936274472034748,
          -0.38884924439066243,
          -1.6531802539316356,
          -2.2206605114972278,
          -0.7734133828296601,
          0.2314445578782591,
          -1.6288222633053324,
          -0.3711326459237821,
          0.20195348087364953,
          -0.5302803833887427,
          1.803247830270659,
          -0.3235850641740168,
          0.5483828304193087,
          -0.14187033097751506
         ],
         "xaxis": "x4",
         "y": [
          -0.574793679676617,
          0.2235288385812236,
          -0.1416022574544621,
          1.1830002741236476,
          -0.8040111862595727,
          0.5603981980480017,
          1.0802000604334197,
          0.03958333136709857,
          -0.3365396825358062,
          0.2832793352592316,
          0.05165284183696506,
          -1.5912603445652507,
          -0.4027067517849839,
          -0.8441710552955158,
          -1.5018814837552625,
          1.0623705523783178,
          -0.6269685582361755,
          -1.0877374783470943,
          -0.04920277457916217,
          -0.49476631278334876,
          -1.102273038947587,
          -0.3613339588765766,
          0.3029725474183342,
          -0.09750304564376079,
          0.5675651772580712,
          -0.20703757151798488,
          -0.38179254271357244,
          -0.011627047618306317,
          -0.033123321889765134,
          -0.2184206692864132,
          1.1088956825411647,
          0.7847064418904279,
          1.154230440045405,
          -0.18556857223927084,
          -0.12891590454086874,
          0.18790915439432815,
          0.36290388657239836,
          -1.1000323979187554,
          -1.0644192730628328,
          -0.6689050042491553,
          -1.0017148503324511,
          -0.7147505434964523,
          0.5793842268683049,
          -1.4795338070213433,
          -0.03839282830179687,
          0.6997666972174688,
          -1.2835392333483941,
          0.16475761642484815,
          1.6889573202477632,
          -1.592941071461217,
          -0.7387106985235867,
          0.39701245028797894,
          1.1840215900235371,
          0.20939687790234918,
          -2.310159082515787,
          1.2943143805175952,
          -0.2945990330477354,
          2.015857216673764,
          -0.36968920526721943,
          -0.06482501623263177,
          0.4902842916770235,
          0.08187970865813975,
          0.3201306863347647,
          -1.6580600975761564,
          -1.2041955464842804,
          0.38152574274387535,
          -0.9331789825369936,
          0.2483112308845951,
          -0.3513764390898863,
          -0.8734172442961183,
          -0.3895631575428738,
          -0.2931594876428916,
          0.25127681287774367,
          1.987790683269706,
          0.18787640248927523,
          0.7319941857482984,
          0.996051203371639,
          0.8023664354900774,
          0.37326917205338095,
          0.8082704119906713,
          -0.5670128605070655,
          1.2604557560821879,
          0.9295006804240427,
          -0.07436204245143835,
          -0.4698506128050334,
          0.5747740770991207,
          -1.015928906236001,
          -0.5064827491974023,
          0.42557873681748015,
          -0.15760594251567855,
          0.4924666238139324,
          0.8094009000999365,
          -0.1978814224350476,
          -0.9850274970501465,
          -0.5429440339023727,
          -0.8677581004904326,
          -1.62694506157608,
          -0.8824812217412265,
          2.9646802953652753,
          -0.696782614544617
         ],
         "yaxis": "y4"
        },
        {
         "line": {
          "color": "rgba(128, 128, 128, 1.0)",
          "dash": "solid",
          "shape": "linear",
          "width": 1.3
         },
         "marker": {
          "size": 2,
          "symbol": "circle"
         },
         "mode": "markers",
         "name": "B",
         "text": "",
         "type": "scatter",
         "x": [
          -0.574793679676617,
          0.2235288385812236,
          -0.1416022574544621,
          1.1830002741236476,
          -0.8040111862595727,
          0.5603981980480017,
          1.0802000604334197,
          0.03958333136709857,
          -0.3365396825358062,
          0.2832793352592316,
          0.05165284183696506,
          -1.5912603445652507,
          -0.4027067517849839,
          -0.8441710552955158,
          -1.5018814837552625,
          1.0623705523783178,
          -0.6269685582361755,
          -1.0877374783470943,
          -0.04920277457916217,
          -0.49476631278334876,
          -1.102273038947587,
          -0.3613339588765766,
          0.3029725474183342,
          -0.09750304564376079,
          0.5675651772580712,
          -0.20703757151798488,
          -0.38179254271357244,
          -0.011627047618306317,
          -0.033123321889765134,
          -0.2184206692864132,
          1.1088956825411647,
          0.7847064418904279,
          1.154230440045405,
          -0.18556857223927084,
          -0.12891590454086874,
          0.18790915439432815,
          0.36290388657239836,
          -1.1000323979187554,
          -1.0644192730628328,
          -0.6689050042491553,
          -1.0017148503324511,
          -0.7147505434964523,
          0.5793842268683049,
          -1.4795338070213433,
          -0.03839282830179687,
          0.6997666972174688,
          -1.2835392333483941,
          0.16475761642484815,
          1.6889573202477632,
          -1.592941071461217,
          -0.7387106985235867,
          0.39701245028797894,
          1.1840215900235371,
          0.20939687790234918,
          -2.310159082515787,
          1.2943143805175952,
          -0.2945990330477354,
          2.015857216673764,
          -0.36968920526721943,
          -0.06482501623263177,
          0.4902842916770235,
          0.08187970865813975,
          0.3201306863347647,
          -1.6580600975761564,
          -1.2041955464842804,
          0.38152574274387535,
          -0.9331789825369936,
          0.2483112308845951,
          -0.3513764390898863,
          -0.8734172442961183,
          -0.3895631575428738,
          -0.2931594876428916,
          0.25127681287774367,
          1.987790683269706,
          0.18787640248927523,
          0.7319941857482984,
          0.996051203371639,
          0.8023664354900774,
          0.37326917205338095,
          0.8082704119906713,
          -0.5670128605070655,
          1.2604557560821879,
          0.9295006804240427,
          -0.07436204245143835,
          -0.4698506128050334,
          0.5747740770991207,
          -1.015928906236001,
          -0.5064827491974023,
          0.42557873681748015,
          -0.15760594251567855,
          0.4924666238139324,
          0.8094009000999365,
          -0.1978814224350476,
          -0.9850274970501465,
          -0.5429440339023727,
          -0.8677581004904326,
          -1.62694506157608,
          -0.8824812217412265,
          2.9646802953652753,
          -0.696782614544617
         ],
         "xaxis": "x5",
         "y": [
          -0.41915746807640575,
          0.21930284828863833,
          -0.7610786434798053,
          -0.6918857200279099,
          -0.23559520316772184,
          -1.2675224451030764,
          -0.22288244488492134,
          0.17429733433401837,
          0.0762757519961098,
          -0.3669689691943707,
          1.0792882971785136,
          0.316899074242141,
          -0.04825893187424639,
          -0.5031500680545504,
          0.5846281200331179,
          -1.4076111659646628,
          0.5581580114679637,
          1.2342661817807972,
          -0.5801147930644517,
          0.5143095543016232,
          -0.27470375167671157,
          -0.1249604554829138,
          2.3015801416719883,
          -0.535673037666255,
          -0.9488349123871038,
          0.1184136493800736,
          -2.244461938831052,
          0.9570427917571265,
          -0.18916260601522641,
          -1.0530967941715776,
          0.22265169983192862,
          -0.34870062182493944,
          0.6016738643875863,
          0.562336915782038,
          -1.100990900729741,
          -1.5283468920818604,
          -1.7668647881221484,
          2.8053527903280013,
          -0.1168796213679174,
          -0.7618809661819511,
          -0.9924293911398685,
          -1.7543917460481346,
          -1.048507764949999,
          -0.6041298392882526,
          0.3801558907719418,
          0.4987419230265229,
          0.49810135830298774,
          0.8992442763001017,
          -0.7948584682214112,
          -0.9693612383002331,
          -0.7683440322511006,
          -1.1567649588940925,
          -0.13581935921923502,
          -0.4927083253539496,
          2.149222707304997,
          0.6275181422432665,
          -1.6651445093832844,
          -1.3104279518077564,
          1.520364724213475,
          -0.12263253089711454,
          0.6572572845188864,
          0.299844523824874,
          -0.07969916291529638,
          -2.948310749926441,
          1.0787648942634418,
          1.7309641277355667,
          -1.5483492384865831,
          -0.499821151016283,
          -1.6012102957857004,
          2.5136712612056855,
          0.6952546373626506,
          0.08481218221600291,
          0.46490293792485105,
          0.3675165437441855,
          -0.28065282385165585,
          0.4154825216383825,
          -1.5945417410773326,
          0.5759472764756738,
          1.2635498556299758,
          1.0352587860163123,
          0.962991845155968,
          -1.707832481488226,
          0.17583501851322028,
          1.1730434958755838,
          -0.0678384623372376,
          -0.5034339124885754,
          -0.8815189873404996,
          0.8761013064586037,
          -1.084830865142056,
          -1.497082382471439,
          -0.3569731365498273,
          1.1628995081849474,
          -0.9601044911548299,
          0.012437650238996368,
          -0.4577740907173309,
          -1.662251490679833,
          -1.4490992602462307,
          -0.006264011864668245,
          0.5454332382613313,
          -0.17002321014787986
         ],
         "yaxis": "y5"
        },
        {
         "histfunc": "count",
         "histnorm": "",
         "marker": {
          "color": "rgba(55, 128, 191, 1.0)",
          "line": {
           "color": "#4D5663",
           "width": 1.3
          }
         },
         "name": "B",
         "nbinsx": 10,
         "opacity": 0.8,
         "orientation": "v",
         "type": "histogram",
         "x": [
          -0.41915746807640575,
          0.21930284828863833,
          -0.7610786434798053,
          -0.6918857200279099,
          -0.23559520316772184,
          -1.2675224451030764,
          -0.22288244488492134,
          0.17429733433401837,
          0.0762757519961098,
          -0.3669689691943707,
          1.0792882971785136,
          0.316899074242141,
          -0.04825893187424639,
          -0.5031500680545504,
          0.5846281200331179,
          -1.4076111659646628,
          0.5581580114679637,
          1.2342661817807972,
          -0.5801147930644517,
          0.5143095543016232,
          -0.27470375167671157,
          -0.1249604554829138,
          2.3015801416719883,
          -0.535673037666255,
          -0.9488349123871038,
          0.1184136493800736,
          -2.244461938831052,
          0.9570427917571265,
          -0.18916260601522641,
          -1.0530967941715776,
          0.22265169983192862,
          -0.34870062182493944,
          0.6016738643875863,
          0.562336915782038,
          -1.100990900729741,
          -1.5283468920818604,
          -1.7668647881221484,
          2.8053527903280013,
          -0.1168796213679174,
          -0.7618809661819511,
          -0.9924293911398685,
          -1.7543917460481346,
          -1.048507764949999,
          -0.6041298392882526,
          0.3801558907719418,
          0.4987419230265229,
          0.49810135830298774,
          0.8992442763001017,
          -0.7948584682214112,
          -0.9693612383002331,
          -0.7683440322511006,
          -1.1567649588940925,
          -0.13581935921923502,
          -0.4927083253539496,
          2.149222707304997,
          0.6275181422432665,
          -1.6651445093832844,
          -1.3104279518077564,
          1.520364724213475,
          -0.12263253089711454,
          0.6572572845188864,
          0.299844523824874,
          -0.07969916291529638,
          -2.948310749926441,
          1.0787648942634418,
          1.7309641277355667,
          -1.5483492384865831,
          -0.499821151016283,
          -1.6012102957857004,
          2.5136712612056855,
          0.6952546373626506,
          0.08481218221600291,
          0.46490293792485105,
          0.3675165437441855,
          -0.28065282385165585,
          0.4154825216383825,
          -1.5945417410773326,
          0.5759472764756738,
          1.2635498556299758,
          1.0352587860163123,
          0.962991845155968,
          -1.707832481488226,
          0.17583501851322028,
          1.1730434958755838,
          -0.0678384623372376,
          -0.5034339124885754,
          -0.8815189873404996,
          0.8761013064586037,
          -1.084830865142056,
          -1.497082382471439,
          -0.3569731365498273,
          1.1628995081849474,
          -0.9601044911548299,
          0.012437650238996368,
          -0.4577740907173309,
          -1.662251490679833,
          -1.4490992602462307,
          -0.006264011864668245,
          0.5454332382613313,
          -0.17002321014787986
         ],
         "xaxis": "x6",
         "yaxis": "y6"
        },
        {
         "line": {
          "color": "rgba(128, 128, 128, 1.0)",
          "dash": "solid",
          "shape": "linear",
          "width": 1.3
         },
         "marker": {
          "size": 2,
          "symbol": "circle"
         },
         "mode": "markers",
         "name": "B",
         "text": "",
         "type": "scatter",
         "x": [
          -0.48016284539502374,
          1.1941605361276901,
          -1.3380686110014535,
          0.8496861440859929,
          0.10334025222810121,
          0.7790112926214989,
          -0.25519496667126196,
          0.7448633294729624,
          -0.9389275694022537,
          0.2764703818344103,
          1.5713410191540675,
          0.3587339287842905,
          1.8116652673425804,
          1.4610153237282706,
          -0.9234220929229902,
          -0.2795245320327592,
          0.7362839857792025,
          1.0845506658755941,
          -0.7906309801555522,
          0.4468688107353693,
          -0.8400481673749199,
          0.04730791167675447,
          1.0396829715764322,
          -0.38223015348999884,
          1.9329538808246907,
          0.027406820560686565,
          -0.9542493897915989,
          0.717558215382116,
          1.9341434756361537,
          0.43887850959477054,
          0.07574701766796874,
          0.9679467756373532,
          0.9689157316846471,
          0.09040407397946856,
          0.4045345471689706,
          0.044547063139071336,
          -0.33444597184645375,
          -0.4419718157832957,
          0.3312939420688317,
          -0.1524025207787877,
          -0.19648525315850116,
          -0.5071523525857391,
          0.8618592610172023,
          0.21474845376831098,
          2.935932373444087,
          1.1211018040818186,
          0.6675576999264661,
          0.830331411868125,
          0.240287564604421,
          0.5782227959390825,
          0.16610348327036337,
          -0.26067373918919545,
          0.6165706632965757,
          0.0493626176748902,
          -1.2454061538687209,
          -0.1806332881845276,
          -1.6521010995404608,
          -0.2896078963510364,
          -1.9432936991169414,
          -0.6329370516468182,
          1.0105085267150509,
          -0.881714693906353,
          -0.9127704462300918,
          0.9856352429468458,
          -1.3029147076374328,
          1.3936741696904487,
          0.3126403417594799,
          -0.7623593645280816,
          0.25128509196769805,
          1.9888169863810583,
          0.31160465621257316,
          0.8479283170183334,
          1.2577969625203822,
          -1.0065286821284707,
          -0.4114585098505856,
          2.038553967065002,
          -0.936034670530762,
          -0.9908496290461823,
          0.297913075307045,
          -0.37315866074811077,
          -0.01557169709267786,
          0.27526345665672447,
          0.6967772652465146,
          1.2695054487265522,
          -0.007433950506855492,
          0.5722235809228652,
          0.22726668691856367,
          -0.779330186388833,
          -0.8819788804909642,
          -0.5674558131847244,
          -0.24063577925786742,
          1.5682549612766834,
          -0.4805470717554532,
          -1.1617799681168157,
          1.0015601020611766,
          0.111234494442405,
          0.9165336920023927,
          0.2495057250384035,
          -0.7404737672600636,
          -0.5081339496921857
         ],
         "xaxis": "x7",
         "y": [
          -0.41915746807640575,
          0.21930284828863833,
          -0.7610786434798053,
          -0.6918857200279099,
          -0.23559520316772184,
          -1.2675224451030764,
          -0.22288244488492134,
          0.17429733433401837,
          0.0762757519961098,
          -0.3669689691943707,
          1.0792882971785136,
          0.316899074242141,
          -0.04825893187424639,
          -0.5031500680545504,
          0.5846281200331179,
          -1.4076111659646628,
          0.5581580114679637,
          1.2342661817807972,
          -0.5801147930644517,
          0.5143095543016232,
          -0.27470375167671157,
          -0.1249604554829138,
          2.3015801416719883,
          -0.535673037666255,
          -0.9488349123871038,
          0.1184136493800736,
          -2.244461938831052,
          0.9570427917571265,
          -0.18916260601522641,
          -1.0530967941715776,
          0.22265169983192862,
          -0.34870062182493944,
          0.6016738643875863,
          0.562336915782038,
          -1.100990900729741,
          -1.5283468920818604,
          -1.7668647881221484,
          2.8053527903280013,
          -0.1168796213679174,
          -0.7618809661819511,
          -0.9924293911398685,
          -1.7543917460481346,
          -1.048507764949999,
          -0.6041298392882526,
          0.3801558907719418,
          0.4987419230265229,
          0.49810135830298774,
          0.8992442763001017,
          -0.7948584682214112,
          -0.9693612383002331,
          -0.7683440322511006,
          -1.1567649588940925,
          -0.13581935921923502,
          -0.4927083253539496,
          2.149222707304997,
          0.6275181422432665,
          -1.6651445093832844,
          -1.3104279518077564,
          1.520364724213475,
          -0.12263253089711454,
          0.6572572845188864,
          0.299844523824874,
          -0.07969916291529638,
          -2.948310749926441,
          1.0787648942634418,
          1.7309641277355667,
          -1.5483492384865831,
          -0.499821151016283,
          -1.6012102957857004,
          2.5136712612056855,
          0.6952546373626506,
          0.08481218221600291,
          0.46490293792485105,
          0.3675165437441855,
          -0.28065282385165585,
          0.4154825216383825,
          -1.5945417410773326,
          0.5759472764756738,
          1.2635498556299758,
          1.0352587860163123,
          0.962991845155968,
          -1.707832481488226,
          0.17583501851322028,
          1.1730434958755838,
          -0.0678384623372376,
          -0.5034339124885754,
          -0.8815189873404996,
          0.8761013064586037,
          -1.084830865142056,
          -1.497082382471439,
          -0.3569731365498273,
          1.1628995081849474,
          -0.9601044911548299,
          0.012437650238996368,
          -0.4577740907173309,
          -1.662251490679833,
          -1.4490992602462307,
          -0.006264011864668245,
          0.5454332382613313,
          -0.17002321014787986
         ],
         "yaxis": "y7"
        },
        {
         "line": {
          "color": "rgba(128, 128, 128, 1.0)",
          "dash": "solid",
          "shape": "linear",
          "width": 1.3
         },
         "marker": {
          "size": 2,
          "symbol": "circle"
         },
         "mode": "markers",
         "name": "B",
         "text": "",
         "type": "scatter",
         "x": [
          -1.1337989406811757,
          -1.9037877897374023,
          0.30232715095296525,
          -0.40746226064004226,
          -1.5843154622723592,
          0.0800001859112766,
          -1.0829534344624214,
          0.008929249820520537,
          0.17634301380882428,
          0.445923832278604,
          -0.5823559308867564,
          1.6787505305326424,
          1.5340576963578176,
          -0.4491259385069614,
          1.307584154739609,
          0.2802398428430633,
          0.8474559671923972,
          0.7243209501100196,
          0.852764174731704,
          0.7226099468487862,
          0.5073516462575364,
          0.31106025362326667,
          -0.7129766442167984,
          -1.8069662076212525,
          0.3899853755554775,
          1.1660113027000951,
          0.45780343027982806,
          -0.3850328593614212,
          -0.0584470187637657,
          -0.13063147921756002,
          0.2664076117902947,
          0.20129707681783135,
          0.26737710495402645,
          -0.00959464933565873,
          0.12086419327473921,
          0.36881552072922735,
          0.10435898893488083,
          1.399413241303069,
          -0.22554807536656415,
          -0.8068825210323299,
          -0.9216778635808496,
          0.010503303933990954,
          0.6520392127941269,
          1.2512419640101824,
          -0.5478703373479984,
          -0.3698831497368436,
          -0.794536878636538,
          1.569258025214523,
          0.07069802261660471,
          -0.984745870976086,
          0.04351361870881149,
          -0.9704163251529452,
          -0.9526280363084101,
          -0.7655813354099952,
          -0.7997514856589535,
          1.3939297951590652,
          1.5047267482345097,
          -0.05164022122595844,
          0.06079243380350069,
          -0.47960299877331186,
          0.4697426372510259,
          0.9664432216423561,
          -0.046938559627280725,
          1.5112235714071913,
          0.122122238044967,
          0.20198921099504166,
          -0.934288188251349,
          1.3808375368889114,
          -1.1660744319754683,
          0.5115255528576121,
          -0.7520042291245231,
          0.9328845756711185,
          -0.8861392243088931,
          -0.9014566300826681,
          0.7114607304778792,
          -0.31588421404758654,
          0.25778259899410694,
          -0.5176775437125997,
          2.5696830566488185,
          -0.6449836664633718,
          1.125122036774418,
          0.7893768671719273,
          0.7981961199353671,
          -0.6820999132258828,
          -1.740245288265015,
          0.07782938388943877,
          0.5936274472034748,
          -0.38884924439066243,
          -1.6531802539316356,
          -2.2206605114972278,
          -0.7734133828296601,
          0.2314445578782591,
          -1.6288222633053324,
          -0.3711326459237821,
          0.20195348087364953,
          -0.5302803833887427,
          1.803247830270659,
          -0.3235850641740168,
          0.5483828304193087,
          -0.14187033097751506
         ],
         "xaxis": "x8",
         "y": [
          -0.41915746807640575,
          0.21930284828863833,
          -0.7610786434798053,
          -0.6918857200279099,
          -0.23559520316772184,
          -1.2675224451030764,
          -0.22288244488492134,
          0.17429733433401837,
          0.0762757519961098,
          -0.3669689691943707,
          1.0792882971785136,
          0.316899074242141,
          -0.04825893187424639,
          -0.5031500680545504,
          0.5846281200331179,
          -1.4076111659646628,
          0.5581580114679637,
          1.2342661817807972,
          -0.5801147930644517,
          0.5143095543016232,
          -0.27470375167671157,
          -0.1249604554829138,
          2.3015801416719883,
          -0.535673037666255,
          -0.9488349123871038,
          0.1184136493800736,
          -2.244461938831052,
          0.9570427917571265,
          -0.18916260601522641,
          -1.0530967941715776,
          0.22265169983192862,
          -0.34870062182493944,
          0.6016738643875863,
          0.562336915782038,
          -1.100990900729741,
          -1.5283468920818604,
          -1.7668647881221484,
          2.8053527903280013,
          -0.1168796213679174,
          -0.7618809661819511,
          -0.9924293911398685,
          -1.7543917460481346,
          -1.048507764949999,
          -0.6041298392882526,
          0.3801558907719418,
          0.4987419230265229,
          0.49810135830298774,
          0.8992442763001017,
          -0.7948584682214112,
          -0.9693612383002331,
          -0.7683440322511006,
          -1.1567649588940925,
          -0.13581935921923502,
          -0.4927083253539496,
          2.149222707304997,
          0.6275181422432665,
          -1.6651445093832844,
          -1.3104279518077564,
          1.520364724213475,
          -0.12263253089711454,
          0.6572572845188864,
          0.299844523824874,
          -0.07969916291529638,
          -2.948310749926441,
          1.0787648942634418,
          1.7309641277355667,
          -1.5483492384865831,
          -0.499821151016283,
          -1.6012102957857004,
          2.5136712612056855,
          0.6952546373626506,
          0.08481218221600291,
          0.46490293792485105,
          0.3675165437441855,
          -0.28065282385165585,
          0.4154825216383825,
          -1.5945417410773326,
          0.5759472764756738,
          1.2635498556299758,
          1.0352587860163123,
          0.962991845155968,
          -1.707832481488226,
          0.17583501851322028,
          1.1730434958755838,
          -0.0678384623372376,
          -0.5034339124885754,
          -0.8815189873404996,
          0.8761013064586037,
          -1.084830865142056,
          -1.497082382471439,
          -0.3569731365498273,
          1.1628995081849474,
          -0.9601044911548299,
          0.012437650238996368,
          -0.4577740907173309,
          -1.662251490679833,
          -1.4490992602462307,
          -0.006264011864668245,
          0.5454332382613313,
          -0.17002321014787986
         ],
         "yaxis": "y8"
        },
        {
         "line": {
          "color": "rgba(128, 128, 128, 1.0)",
          "dash": "solid",
          "shape": "linear",
          "width": 1.3
         },
         "marker": {
          "size": 2,
          "symbol": "circle"
         },
         "mode": "markers",
         "name": "C",
         "text": "",
         "type": "scatter",
         "x": [
          -0.574793679676617,
          0.2235288385812236,
          -0.1416022574544621,
          1.1830002741236476,
          -0.8040111862595727,
          0.5603981980480017,
          1.0802000604334197,
          0.03958333136709857,
          -0.3365396825358062,
          0.2832793352592316,
          0.05165284183696506,
          -1.5912603445652507,
          -0.4027067517849839,
          -0.8441710552955158,
          -1.5018814837552625,
          1.0623705523783178,
          -0.6269685582361755,
          -1.0877374783470943,
          -0.04920277457916217,
          -0.49476631278334876,
          -1.102273038947587,
          -0.3613339588765766,
          0.3029725474183342,
          -0.09750304564376079,
          0.5675651772580712,
          -0.20703757151798488,
          -0.38179254271357244,
          -0.011627047618306317,
          -0.033123321889765134,
          -0.2184206692864132,
          1.1088956825411647,
          0.7847064418904279,
          1.154230440045405,
          -0.18556857223927084,
          -0.12891590454086874,
          0.18790915439432815,
          0.36290388657239836,
          -1.1000323979187554,
          -1.0644192730628328,
          -0.6689050042491553,
          -1.0017148503324511,
          -0.7147505434964523,
          0.5793842268683049,
          -1.4795338070213433,
          -0.03839282830179687,
          0.6997666972174688,
          -1.2835392333483941,
          0.16475761642484815,
          1.6889573202477632,
          -1.592941071461217,
          -0.7387106985235867,
          0.39701245028797894,
          1.1840215900235371,
          0.20939687790234918,
          -2.310159082515787,
          1.2943143805175952,
          -0.2945990330477354,
          2.015857216673764,
          -0.36968920526721943,
          -0.06482501623263177,
          0.4902842916770235,
          0.08187970865813975,
          0.3201306863347647,
          -1.6580600975761564,
          -1.2041955464842804,
          0.38152574274387535,
          -0.9331789825369936,
          0.2483112308845951,
          -0.3513764390898863,
          -0.8734172442961183,
          -0.3895631575428738,
          -0.2931594876428916,
          0.25127681287774367,
          1.987790683269706,
          0.18787640248927523,
          0.7319941857482984,
          0.996051203371639,
          0.8023664354900774,
          0.37326917205338095,
          0.8082704119906713,
          -0.5670128605070655,
          1.2604557560821879,
          0.9295006804240427,
          -0.07436204245143835,
          -0.4698506128050334,
          0.5747740770991207,
          -1.015928906236001,
          -0.5064827491974023,
          0.42557873681748015,
          -0.15760594251567855,
          0.4924666238139324,
          0.8094009000999365,
          -0.1978814224350476,
          -0.9850274970501465,
          -0.5429440339023727,
          -0.8677581004904326,
          -1.62694506157608,
          -0.8824812217412265,
          2.9646802953652753,
          -0.696782614544617
         ],
         "xaxis": "x9",
         "y": [
          -0.48016284539502374,
          1.1941605361276901,
          -1.3380686110014535,
          0.8496861440859929,
          0.10334025222810121,
          0.7790112926214989,
          -0.25519496667126196,
          0.7448633294729624,
          -0.9389275694022537,
          0.2764703818344103,
          1.5713410191540675,
          0.3587339287842905,
          1.8116652673425804,
          1.4610153237282706,
          -0.9234220929229902,
          -0.2795245320327592,
          0.7362839857792025,
          1.0845506658755941,
          -0.7906309801555522,
          0.4468688107353693,
          -0.8400481673749199,
          0.04730791167675447,
          1.0396829715764322,
          -0.38223015348999884,
          1.9329538808246907,
          0.027406820560686565,
          -0.9542493897915989,
          0.717558215382116,
          1.9341434756361537,
          0.43887850959477054,
          0.07574701766796874,
          0.9679467756373532,
          0.9689157316846471,
          0.09040407397946856,
          0.4045345471689706,
          0.044547063139071336,
          -0.33444597184645375,
          -0.4419718157832957,
          0.3312939420688317,
          -0.1524025207787877,
          -0.19648525315850116,
          -0.5071523525857391,
          0.8618592610172023,
          0.21474845376831098,
          2.935932373444087,
          1.1211018040818186,
          0.6675576999264661,
          0.830331411868125,
          0.240287564604421,
          0.5782227959390825,
          0.16610348327036337,
          -0.26067373918919545,
          0.6165706632965757,
          0.0493626176748902,
          -1.2454061538687209,
          -0.1806332881845276,
          -1.6521010995404608,
          -0.2896078963510364,
          -1.9432936991169414,
          -0.6329370516468182,
          1.0105085267150509,
          -0.881714693906353,
          -0.9127704462300918,
          0.9856352429468458,
          -1.3029147076374328,
          1.3936741696904487,
          0.3126403417594799,
          -0.7623593645280816,
          0.25128509196769805,
          1.9888169863810583,
          0.31160465621257316,
          0.8479283170183334,
          1.2577969625203822,
          -1.0065286821284707,
          -0.4114585098505856,
          2.038553967065002,
          -0.936034670530762,
          -0.9908496290461823,
          0.297913075307045,
          -0.37315866074811077,
          -0.01557169709267786,
          0.27526345665672447,
          0.6967772652465146,
          1.2695054487265522,
          -0.007433950506855492,
          0.5722235809228652,
          0.22726668691856367,
          -0.779330186388833,
          -0.8819788804909642,
          -0.5674558131847244,
          -0.24063577925786742,
          1.5682549612766834,
          -0.4805470717554532,
          -1.1617799681168157,
          1.0015601020611766,
          0.111234494442405,
          0.9165336920023927,
          0.2495057250384035,
          -0.7404737672600636,
          -0.5081339496921857
         ],
         "yaxis": "y9"
        },
        {
         "line": {
          "color": "rgba(128, 128, 128, 1.0)",
          "dash": "solid",
          "shape": "linear",
          "width": 1.3
         },
         "marker": {
          "size": 2,
          "symbol": "circle"
         },
         "mode": "markers",
         "name": "C",
         "text": "",
         "type": "scatter",
         "x": [
          -0.41915746807640575,
          0.21930284828863833,
          -0.7610786434798053,
          -0.6918857200279099,
          -0.23559520316772184,
          -1.2675224451030764,
          -0.22288244488492134,
          0.17429733433401837,
          0.0762757519961098,
          -0.3669689691943707,
          1.0792882971785136,
          0.316899074242141,
          -0.04825893187424639,
          -0.5031500680545504,
          0.5846281200331179,
          -1.4076111659646628,
          0.5581580114679637,
          1.2342661817807972,
          -0.5801147930644517,
          0.5143095543016232,
          -0.27470375167671157,
          -0.1249604554829138,
          2.3015801416719883,
          -0.535673037666255,
          -0.9488349123871038,
          0.1184136493800736,
          -2.244461938831052,
          0.9570427917571265,
          -0.18916260601522641,
          -1.0530967941715776,
          0.22265169983192862,
          -0.34870062182493944,
          0.6016738643875863,
          0.562336915782038,
          -1.100990900729741,
          -1.5283468920818604,
          -1.7668647881221484,
          2.8053527903280013,
          -0.1168796213679174,
          -0.7618809661819511,
          -0.9924293911398685,
          -1.7543917460481346,
          -1.048507764949999,
          -0.6041298392882526,
          0.3801558907719418,
          0.4987419230265229,
          0.49810135830298774,
          0.8992442763001017,
          -0.7948584682214112,
          -0.9693612383002331,
          -0.7683440322511006,
          -1.1567649588940925,
          -0.13581935921923502,
          -0.4927083253539496,
          2.149222707304997,
          0.6275181422432665,
          -1.6651445093832844,
          -1.3104279518077564,
          1.520364724213475,
          -0.12263253089711454,
          0.6572572845188864,
          0.299844523824874,
          -0.07969916291529638,
          -2.948310749926441,
          1.0787648942634418,
          1.7309641277355667,
          -1.5483492384865831,
          -0.499821151016283,
          -1.6012102957857004,
          2.5136712612056855,
          0.6952546373626506,
          0.08481218221600291,
          0.46490293792485105,
          0.3675165437441855,
          -0.28065282385165585,
          0.4154825216383825,
          -1.5945417410773326,
          0.5759472764756738,
          1.2635498556299758,
          1.0352587860163123,
          0.962991845155968,
          -1.707832481488226,
          0.17583501851322028,
          1.1730434958755838,
          -0.0678384623372376,
          -0.5034339124885754,
          -0.8815189873404996,
          0.8761013064586037,
          -1.084830865142056,
          -1.497082382471439,
          -0.3569731365498273,
          1.1628995081849474,
          -0.9601044911548299,
          0.012437650238996368,
          -0.4577740907173309,
          -1.662251490679833,
          -1.4490992602462307,
          -0.006264011864668245,
          0.5454332382613313,
          -0.17002321014787986
         ],
         "xaxis": "x10",
         "y": [
          -0.48016284539502374,
          1.1941605361276901,
          -1.3380686110014535,
          0.8496861440859929,
          0.10334025222810121,
          0.7790112926214989,
          -0.25519496667126196,
          0.7448633294729624,
          -0.9389275694022537,
          0.2764703818344103,
          1.5713410191540675,
          0.3587339287842905,
          1.8116652673425804,
          1.4610153237282706,
          -0.9234220929229902,
          -0.2795245320327592,
          0.7362839857792025,
          1.0845506658755941,
          -0.7906309801555522,
          0.4468688107353693,
          -0.8400481673749199,
          0.04730791167675447,
          1.0396829715764322,
          -0.38223015348999884,
          1.9329538808246907,
          0.027406820560686565,
          -0.9542493897915989,
          0.717558215382116,
          1.9341434756361537,
          0.43887850959477054,
          0.07574701766796874,
          0.9679467756373532,
          0.9689157316846471,
          0.09040407397946856,
          0.4045345471689706,
          0.044547063139071336,
          -0.33444597184645375,
          -0.4419718157832957,
          0.3312939420688317,
          -0.1524025207787877,
          -0.19648525315850116,
          -0.5071523525857391,
          0.8618592610172023,
          0.21474845376831098,
          2.935932373444087,
          1.1211018040818186,
          0.6675576999264661,
          0.830331411868125,
          0.240287564604421,
          0.5782227959390825,
          0.16610348327036337,
          -0.26067373918919545,
          0.6165706632965757,
          0.0493626176748902,
          -1.2454061538687209,
          -0.1806332881845276,
          -1.6521010995404608,
          -0.2896078963510364,
          -1.9432936991169414,
          -0.6329370516468182,
          1.0105085267150509,
          -0.881714693906353,
          -0.9127704462300918,
          0.9856352429468458,
          -1.3029147076374328,
          1.3936741696904487,
          0.3126403417594799,
          -0.7623593645280816,
          0.25128509196769805,
          1.9888169863810583,
          0.31160465621257316,
          0.8479283170183334,
          1.2577969625203822,
          -1.0065286821284707,
          -0.4114585098505856,
          2.038553967065002,
          -0.936034670530762,
          -0.9908496290461823,
          0.297913075307045,
          -0.37315866074811077,
          -0.01557169709267786,
          0.27526345665672447,
          0.6967772652465146,
          1.2695054487265522,
          -0.007433950506855492,
          0.5722235809228652,
          0.22726668691856367,
          -0.779330186388833,
          -0.8819788804909642,
          -0.5674558131847244,
          -0.24063577925786742,
          1.5682549612766834,
          -0.4805470717554532,
          -1.1617799681168157,
          1.0015601020611766,
          0.111234494442405,
          0.9165336920023927,
          0.2495057250384035,
          -0.7404737672600636,
          -0.5081339496921857
         ],
         "yaxis": "y10"
        },
        {
         "histfunc": "count",
         "histnorm": "",
         "marker": {
          "color": "rgba(50, 171, 96, 1.0)",
          "line": {
           "color": "#4D5663",
           "width": 1.3
          }
         },
         "name": "C",
         "nbinsx": 10,
         "opacity": 0.8,
         "orientation": "v",
         "type": "histogram",
         "x": [
          -0.48016284539502374,
          1.1941605361276901,
          -1.3380686110014535,
          0.8496861440859929,
          0.10334025222810121,
          0.7790112926214989,
          -0.25519496667126196,
          0.7448633294729624,
          -0.9389275694022537,
          0.2764703818344103,
          1.5713410191540675,
          0.3587339287842905,
          1.8116652673425804,
          1.4610153237282706,
          -0.9234220929229902,
          -0.2795245320327592,
          0.7362839857792025,
          1.0845506658755941,
          -0.7906309801555522,
          0.4468688107353693,
          -0.8400481673749199,
          0.04730791167675447,
          1.0396829715764322,
          -0.38223015348999884,
          1.9329538808246907,
          0.027406820560686565,
          -0.9542493897915989,
          0.717558215382116,
          1.9341434756361537,
          0.43887850959477054,
          0.07574701766796874,
          0.9679467756373532,
          0.9689157316846471,
          0.09040407397946856,
          0.4045345471689706,
          0.044547063139071336,
          -0.33444597184645375,
          -0.4419718157832957,
          0.3312939420688317,
          -0.1524025207787877,
          -0.19648525315850116,
          -0.5071523525857391,
          0.8618592610172023,
          0.21474845376831098,
          2.935932373444087,
          1.1211018040818186,
          0.6675576999264661,
          0.830331411868125,
          0.240287564604421,
          0.5782227959390825,
          0.16610348327036337,
          -0.26067373918919545,
          0.6165706632965757,
          0.0493626176748902,
          -1.2454061538687209,
          -0.1806332881845276,
          -1.6521010995404608,
          -0.2896078963510364,
          -1.9432936991169414,
          -0.6329370516468182,
          1.0105085267150509,
          -0.881714693906353,
          -0.9127704462300918,
          0.9856352429468458,
          -1.3029147076374328,
          1.3936741696904487,
          0.3126403417594799,
          -0.7623593645280816,
          0.25128509196769805,
          1.9888169863810583,
          0.31160465621257316,
          0.8479283170183334,
          1.2577969625203822,
          -1.0065286821284707,
          -0.4114585098505856,
          2.038553967065002,
          -0.936034670530762,
          -0.9908496290461823,
          0.297913075307045,
          -0.37315866074811077,
          -0.01557169709267786,
          0.27526345665672447,
          0.6967772652465146,
          1.2695054487265522,
          -0.007433950506855492,
          0.5722235809228652,
          0.22726668691856367,
          -0.779330186388833,
          -0.8819788804909642,
          -0.5674558131847244,
          -0.24063577925786742,
          1.5682549612766834,
          -0.4805470717554532,
          -1.1617799681168157,
          1.0015601020611766,
          0.111234494442405,
          0.9165336920023927,
          0.2495057250384035,
          -0.7404737672600636,
          -0.5081339496921857
         ],
         "xaxis": "x11",
         "yaxis": "y11"
        },
        {
         "line": {
          "color": "rgba(128, 128, 128, 1.0)",
          "dash": "solid",
          "shape": "linear",
          "width": 1.3
         },
         "marker": {
          "size": 2,
          "symbol": "circle"
         },
         "mode": "markers",
         "name": "C",
         "text": "",
         "type": "scatter",
         "x": [
          -1.1337989406811757,
          -1.9037877897374023,
          0.30232715095296525,
          -0.40746226064004226,
          -1.5843154622723592,
          0.0800001859112766,
          -1.0829534344624214,
          0.008929249820520537,
          0.17634301380882428,
          0.445923832278604,
          -0.5823559308867564,
          1.6787505305326424,
          1.5340576963578176,
          -0.4491259385069614,
          1.307584154739609,
          0.2802398428430633,
          0.8474559671923972,
          0.7243209501100196,
          0.852764174731704,
          0.7226099468487862,
          0.5073516462575364,
          0.31106025362326667,
          -0.7129766442167984,
          -1.8069662076212525,
          0.3899853755554775,
          1.1660113027000951,
          0.45780343027982806,
          -0.3850328593614212,
          -0.0584470187637657,
          -0.13063147921756002,
          0.2664076117902947,
          0.20129707681783135,
          0.26737710495402645,
          -0.00959464933565873,
          0.12086419327473921,
          0.36881552072922735,
          0.10435898893488083,
          1.399413241303069,
          -0.22554807536656415,
          -0.8068825210323299,
          -0.9216778635808496,
          0.010503303933990954,
          0.6520392127941269,
          1.2512419640101824,
          -0.5478703373479984,
          -0.3698831497368436,
          -0.794536878636538,
          1.569258025214523,
          0.07069802261660471,
          -0.984745870976086,
          0.04351361870881149,
          -0.9704163251529452,
          -0.9526280363084101,
          -0.7655813354099952,
          -0.7997514856589535,
          1.3939297951590652,
          1.5047267482345097,
          -0.05164022122595844,
          0.06079243380350069,
          -0.47960299877331186,
          0.4697426372510259,
          0.9664432216423561,
          -0.046938559627280725,
          1.5112235714071913,
          0.122122238044967,
          0.20198921099504166,
          -0.934288188251349,
          1.3808375368889114,
          -1.1660744319754683,
          0.5115255528576121,
          -0.7520042291245231,
          0.9328845756711185,
          -0.8861392243088931,
          -0.9014566300826681,
          0.7114607304778792,
          -0.31588421404758654,
          0.25778259899410694,
          -0.5176775437125997,
          2.5696830566488185,
          -0.6449836664633718,
          1.125122036774418,
          0.7893768671719273,
          0.7981961199353671,
          -0.6820999132258828,
          -1.740245288265015,
          0.07782938388943877,
          0.5936274472034748,
          -0.38884924439066243,
          -1.6531802539316356,
          -2.2206605114972278,
          -0.7734133828296601,
          0.2314445578782591,
          -1.6288222633053324,
          -0.3711326459237821,
          0.20195348087364953,
          -0.5302803833887427,
          1.803247830270659,
          -0.3235850641740168,
          0.5483828304193087,
          -0.14187033097751506
         ],
         "xaxis": "x12",
         "y": [
          -0.48016284539502374,
          1.1941605361276901,
          -1.3380686110014535,
          0.8496861440859929,
          0.10334025222810121,
          0.7790112926214989,
          -0.25519496667126196,
          0.7448633294729624,
          -0.9389275694022537,
          0.2764703818344103,
          1.5713410191540675,
          0.3587339287842905,
          1.8116652673425804,
          1.4610153237282706,
          -0.9234220929229902,
          -0.2795245320327592,
          0.7362839857792025,
          1.0845506658755941,
          -0.7906309801555522,
          0.4468688107353693,
          -0.8400481673749199,
          0.04730791167675447,
          1.0396829715764322,
          -0.38223015348999884,
          1.9329538808246907,
          0.027406820560686565,
          -0.9542493897915989,
          0.717558215382116,
          1.9341434756361537,
          0.43887850959477054,
          0.07574701766796874,
          0.9679467756373532,
          0.9689157316846471,
          0.09040407397946856,
          0.4045345471689706,
          0.044547063139071336,
          -0.33444597184645375,
          -0.4419718157832957,
          0.3312939420688317,
          -0.1524025207787877,
          -0.19648525315850116,
          -0.5071523525857391,
          0.8618592610172023,
          0.21474845376831098,
          2.935932373444087,
          1.1211018040818186,
          0.6675576999264661,
          0.830331411868125,
          0.240287564604421,
          0.5782227959390825,
          0.16610348327036337,
          -0.26067373918919545,
          0.6165706632965757,
          0.0493626176748902,
          -1.2454061538687209,
          -0.1806332881845276,
          -1.6521010995404608,
          -0.2896078963510364,
          -1.9432936991169414,
          -0.6329370516468182,
          1.0105085267150509,
          -0.881714693906353,
          -0.9127704462300918,
          0.9856352429468458,
          -1.3029147076374328,
          1.3936741696904487,
          0.3126403417594799,
          -0.7623593645280816,
          0.25128509196769805,
          1.9888169863810583,
          0.31160465621257316,
          0.8479283170183334,
          1.2577969625203822,
          -1.0065286821284707,
          -0.4114585098505856,
          2.038553967065002,
          -0.936034670530762,
          -0.9908496290461823,
          0.297913075307045,
          -0.37315866074811077,
          -0.01557169709267786,
          0.27526345665672447,
          0.6967772652465146,
          1.2695054487265522,
          -0.007433950506855492,
          0.5722235809228652,
          0.22726668691856367,
          -0.779330186388833,
          -0.8819788804909642,
          -0.5674558131847244,
          -0.24063577925786742,
          1.5682549612766834,
          -0.4805470717554532,
          -1.1617799681168157,
          1.0015601020611766,
          0.111234494442405,
          0.9165336920023927,
          0.2495057250384035,
          -0.7404737672600636,
          -0.5081339496921857
         ],
         "yaxis": "y12"
        },
        {
         "line": {
          "color": "rgba(128, 128, 128, 1.0)",
          "dash": "solid",
          "shape": "linear",
          "width": 1.3
         },
         "marker": {
          "size": 2,
          "symbol": "circle"
         },
         "mode": "markers",
         "name": "D",
         "text": "",
         "type": "scatter",
         "x": [
          -0.574793679676617,
          0.2235288385812236,
          -0.1416022574544621,
          1.1830002741236476,
          -0.8040111862595727,
          0.5603981980480017,
          1.0802000604334197,
          0.03958333136709857,
          -0.3365396825358062,
          0.2832793352592316,
          0.05165284183696506,
          -1.5912603445652507,
          -0.4027067517849839,
          -0.8441710552955158,
          -1.5018814837552625,
          1.0623705523783178,
          -0.6269685582361755,
          -1.0877374783470943,
          -0.04920277457916217,
          -0.49476631278334876,
          -1.102273038947587,
          -0.3613339588765766,
          0.3029725474183342,
          -0.09750304564376079,
          0.5675651772580712,
          -0.20703757151798488,
          -0.38179254271357244,
          -0.011627047618306317,
          -0.033123321889765134,
          -0.2184206692864132,
          1.1088956825411647,
          0.7847064418904279,
          1.154230440045405,
          -0.18556857223927084,
          -0.12891590454086874,
          0.18790915439432815,
          0.36290388657239836,
          -1.1000323979187554,
          -1.0644192730628328,
          -0.6689050042491553,
          -1.0017148503324511,
          -0.7147505434964523,
          0.5793842268683049,
          -1.4795338070213433,
          -0.03839282830179687,
          0.6997666972174688,
          -1.2835392333483941,
          0.16475761642484815,
          1.6889573202477632,
          -1.592941071461217,
          -0.7387106985235867,
          0.39701245028797894,
          1.1840215900235371,
          0.20939687790234918,
          -2.310159082515787,
          1.2943143805175952,
          -0.2945990330477354,
          2.015857216673764,
          -0.36968920526721943,
          -0.06482501623263177,
          0.4902842916770235,
          0.08187970865813975,
          0.3201306863347647,
          -1.6580600975761564,
          -1.2041955464842804,
          0.38152574274387535,
          -0.9331789825369936,
          0.2483112308845951,
          -0.3513764390898863,
          -0.8734172442961183,
          -0.3895631575428738,
          -0.2931594876428916,
          0.25127681287774367,
          1.987790683269706,
          0.18787640248927523,
          0.7319941857482984,
          0.996051203371639,
          0.8023664354900774,
          0.37326917205338095,
          0.8082704119906713,
          -0.5670128605070655,
          1.2604557560821879,
          0.9295006804240427,
          -0.07436204245143835,
          -0.4698506128050334,
          0.5747740770991207,
          -1.015928906236001,
          -0.5064827491974023,
          0.42557873681748015,
          -0.15760594251567855,
          0.4924666238139324,
          0.8094009000999365,
          -0.1978814224350476,
          -0.9850274970501465,
          -0.5429440339023727,
          -0.8677581004904326,
          -1.62694506157608,
          -0.8824812217412265,
          2.9646802953652753,
          -0.696782614544617
         ],
         "xaxis": "x13",
         "y": [
          -1.1337989406811757,
          -1.9037877897374023,
          0.30232715095296525,
          -0.40746226064004226,
          -1.5843154622723592,
          0.0800001859112766,
          -1.0829534344624214,
          0.008929249820520537,
          0.17634301380882428,
          0.445923832278604,
          -0.5823559308867564,
          1.6787505305326424,
          1.5340576963578176,
          -0.4491259385069614,
          1.307584154739609,
          0.2802398428430633,
          0.8474559671923972,
          0.7243209501100196,
          0.852764174731704,
          0.7226099468487862,
          0.5073516462575364,
          0.31106025362326667,
          -0.7129766442167984,
          -1.8069662076212525,
          0.3899853755554775,
          1.1660113027000951,
          0.45780343027982806,
          -0.3850328593614212,
          -0.0584470187637657,
          -0.13063147921756002,
          0.2664076117902947,
          0.20129707681783135,
          0.26737710495402645,
          -0.00959464933565873,
          0.12086419327473921,
          0.36881552072922735,
          0.10435898893488083,
          1.399413241303069,
          -0.22554807536656415,
          -0.8068825210323299,
          -0.9216778635808496,
          0.010503303933990954,
          0.6520392127941269,
          1.2512419640101824,
          -0.5478703373479984,
          -0.3698831497368436,
          -0.794536878636538,
          1.569258025214523,
          0.07069802261660471,
          -0.984745870976086,
          0.04351361870881149,
          -0.9704163251529452,
          -0.9526280363084101,
          -0.7655813354099952,
          -0.7997514856589535,
          1.3939297951590652,
          1.5047267482345097,
          -0.05164022122595844,
          0.06079243380350069,
          -0.47960299877331186,
          0.4697426372510259,
          0.9664432216423561,
          -0.046938559627280725,
          1.5112235714071913,
          0.122122238044967,
          0.20198921099504166,
          -0.934288188251349,
          1.3808375368889114,
          -1.1660744319754683,
          0.5115255528576121,
          -0.7520042291245231,
          0.9328845756711185,
          -0.8861392243088931,
          -0.9014566300826681,
          0.7114607304778792,
          -0.31588421404758654,
          0.25778259899410694,
          -0.5176775437125997,
          2.5696830566488185,
          -0.6449836664633718,
          1.125122036774418,
          0.7893768671719273,
          0.7981961199353671,
          -0.6820999132258828,
          -1.740245288265015,
          0.07782938388943877,
          0.5936274472034748,
          -0.38884924439066243,
          -1.6531802539316356,
          -2.2206605114972278,
          -0.7734133828296601,
          0.2314445578782591,
          -1.6288222633053324,
          -0.3711326459237821,
          0.20195348087364953,
          -0.5302803833887427,
          1.803247830270659,
          -0.3235850641740168,
          0.5483828304193087,
          -0.14187033097751506
         ],
         "yaxis": "y13"
        },
        {
         "line": {
          "color": "rgba(128, 128, 128, 1.0)",
          "dash": "solid",
          "shape": "linear",
          "width": 1.3
         },
         "marker": {
          "size": 2,
          "symbol": "circle"
         },
         "mode": "markers",
         "name": "D",
         "text": "",
         "type": "scatter",
         "x": [
          -0.41915746807640575,
          0.21930284828863833,
          -0.7610786434798053,
          -0.6918857200279099,
          -0.23559520316772184,
          -1.2675224451030764,
          -0.22288244488492134,
          0.17429733433401837,
          0.0762757519961098,
          -0.3669689691943707,
          1.0792882971785136,
          0.316899074242141,
          -0.04825893187424639,
          -0.5031500680545504,
          0.5846281200331179,
          -1.4076111659646628,
          0.5581580114679637,
          1.2342661817807972,
          -0.5801147930644517,
          0.5143095543016232,
          -0.27470375167671157,
          -0.1249604554829138,
          2.3015801416719883,
          -0.535673037666255,
          -0.9488349123871038,
          0.1184136493800736,
          -2.244461938831052,
          0.9570427917571265,
          -0.18916260601522641,
          -1.0530967941715776,
          0.22265169983192862,
          -0.34870062182493944,
          0.6016738643875863,
          0.562336915782038,
          -1.100990900729741,
          -1.5283468920818604,
          -1.7668647881221484,
          2.8053527903280013,
          -0.1168796213679174,
          -0.7618809661819511,
          -0.9924293911398685,
          -1.7543917460481346,
          -1.048507764949999,
          -0.6041298392882526,
          0.3801558907719418,
          0.4987419230265229,
          0.49810135830298774,
          0.8992442763001017,
          -0.7948584682214112,
          -0.9693612383002331,
          -0.7683440322511006,
          -1.1567649588940925,
          -0.13581935921923502,
          -0.4927083253539496,
          2.149222707304997,
          0.6275181422432665,
          -1.6651445093832844,
          -1.3104279518077564,
          1.520364724213475,
          -0.12263253089711454,
          0.6572572845188864,
          0.299844523824874,
          -0.07969916291529638,
          -2.948310749926441,
          1.0787648942634418,
          1.7309641277355667,
          -1.5483492384865831,
          -0.499821151016283,
          -1.6012102957857004,
          2.5136712612056855,
          0.6952546373626506,
          0.08481218221600291,
          0.46490293792485105,
          0.3675165437441855,
          -0.28065282385165585,
          0.4154825216383825,
          -1.5945417410773326,
          0.5759472764756738,
          1.2635498556299758,
          1.0352587860163123,
          0.962991845155968,
          -1.707832481488226,
          0.17583501851322028,
          1.1730434958755838,
          -0.0678384623372376,
          -0.5034339124885754,
          -0.8815189873404996,
          0.8761013064586037,
          -1.084830865142056,
          -1.497082382471439,
          -0.3569731365498273,
          1.1628995081849474,
          -0.9601044911548299,
          0.012437650238996368,
          -0.4577740907173309,
          -1.662251490679833,
          -1.4490992602462307,
          -0.006264011864668245,
          0.5454332382613313,
          -0.17002321014787986
         ],
         "xaxis": "x14",
         "y": [
          -1.1337989406811757,
          -1.9037877897374023,
          0.30232715095296525,
          -0.40746226064004226,
          -1.5843154622723592,
          0.0800001859112766,
          -1.0829534344624214,
          0.008929249820520537,
          0.17634301380882428,
          0.445923832278604,
          -0.5823559308867564,
          1.6787505305326424,
          1.5340576963578176,
          -0.4491259385069614,
          1.307584154739609,
          0.2802398428430633,
          0.8474559671923972,
          0.7243209501100196,
          0.852764174731704,
          0.7226099468487862,
          0.5073516462575364,
          0.31106025362326667,
          -0.7129766442167984,
          -1.8069662076212525,
          0.3899853755554775,
          1.1660113027000951,
          0.45780343027982806,
          -0.3850328593614212,
          -0.0584470187637657,
          -0.13063147921756002,
          0.2664076117902947,
          0.20129707681783135,
          0.26737710495402645,
          -0.00959464933565873,
          0.12086419327473921,
          0.36881552072922735,
          0.10435898893488083,
          1.399413241303069,
          -0.22554807536656415,
          -0.8068825210323299,
          -0.9216778635808496,
          0.010503303933990954,
          0.6520392127941269,
          1.2512419640101824,
          -0.5478703373479984,
          -0.3698831497368436,
          -0.794536878636538,
          1.569258025214523,
          0.07069802261660471,
          -0.984745870976086,
          0.04351361870881149,
          -0.9704163251529452,
          -0.9526280363084101,
          -0.7655813354099952,
          -0.7997514856589535,
          1.3939297951590652,
          1.5047267482345097,
          -0.05164022122595844,
          0.06079243380350069,
          -0.47960299877331186,
          0.4697426372510259,
          0.9664432216423561,
          -0.046938559627280725,
          1.5112235714071913,
          0.122122238044967,
          0.20198921099504166,
          -0.934288188251349,
          1.3808375368889114,
          -1.1660744319754683,
          0.5115255528576121,
          -0.7520042291245231,
          0.9328845756711185,
          -0.8861392243088931,
          -0.9014566300826681,
          0.7114607304778792,
          -0.31588421404758654,
          0.25778259899410694,
          -0.5176775437125997,
          2.5696830566488185,
          -0.6449836664633718,
          1.125122036774418,
          0.7893768671719273,
          0.7981961199353671,
          -0.6820999132258828,
          -1.740245288265015,
          0.07782938388943877,
          0.5936274472034748,
          -0.38884924439066243,
          -1.6531802539316356,
          -2.2206605114972278,
          -0.7734133828296601,
          0.2314445578782591,
          -1.6288222633053324,
          -0.3711326459237821,
          0.20195348087364953,
          -0.5302803833887427,
          1.803247830270659,
          -0.3235850641740168,
          0.5483828304193087,
          -0.14187033097751506
         ],
         "yaxis": "y14"
        },
        {
         "line": {
          "color": "rgba(128, 128, 128, 1.0)",
          "dash": "solid",
          "shape": "linear",
          "width": 1.3
         },
         "marker": {
          "size": 2,
          "symbol": "circle"
         },
         "mode": "markers",
         "name": "D",
         "text": "",
         "type": "scatter",
         "x": [
          -0.48016284539502374,
          1.1941605361276901,
          -1.3380686110014535,
          0.8496861440859929,
          0.10334025222810121,
          0.7790112926214989,
          -0.25519496667126196,
          0.7448633294729624,
          -0.9389275694022537,
          0.2764703818344103,
          1.5713410191540675,
          0.3587339287842905,
          1.8116652673425804,
          1.4610153237282706,
          -0.9234220929229902,
          -0.2795245320327592,
          0.7362839857792025,
          1.0845506658755941,
          -0.7906309801555522,
          0.4468688107353693,
          -0.8400481673749199,
          0.04730791167675447,
          1.0396829715764322,
          -0.38223015348999884,
          1.9329538808246907,
          0.027406820560686565,
          -0.9542493897915989,
          0.717558215382116,
          1.9341434756361537,
          0.43887850959477054,
          0.07574701766796874,
          0.9679467756373532,
          0.9689157316846471,
          0.09040407397946856,
          0.4045345471689706,
          0.044547063139071336,
          -0.33444597184645375,
          -0.4419718157832957,
          0.3312939420688317,
          -0.1524025207787877,
          -0.19648525315850116,
          -0.5071523525857391,
          0.8618592610172023,
          0.21474845376831098,
          2.935932373444087,
          1.1211018040818186,
          0.6675576999264661,
          0.830331411868125,
          0.240287564604421,
          0.5782227959390825,
          0.16610348327036337,
          -0.26067373918919545,
          0.6165706632965757,
          0.0493626176748902,
          -1.2454061538687209,
          -0.1806332881845276,
          -1.6521010995404608,
          -0.2896078963510364,
          -1.9432936991169414,
          -0.6329370516468182,
          1.0105085267150509,
          -0.881714693906353,
          -0.9127704462300918,
          0.9856352429468458,
          -1.3029147076374328,
          1.3936741696904487,
          0.3126403417594799,
          -0.7623593645280816,
          0.25128509196769805,
          1.9888169863810583,
          0.31160465621257316,
          0.8479283170183334,
          1.2577969625203822,
          -1.0065286821284707,
          -0.4114585098505856,
          2.038553967065002,
          -0.936034670530762,
          -0.9908496290461823,
          0.297913075307045,
          -0.37315866074811077,
          -0.01557169709267786,
          0.27526345665672447,
          0.6967772652465146,
          1.2695054487265522,
          -0.007433950506855492,
          0.5722235809228652,
          0.22726668691856367,
          -0.779330186388833,
          -0.8819788804909642,
          -0.5674558131847244,
          -0.24063577925786742,
          1.5682549612766834,
          -0.4805470717554532,
          -1.1617799681168157,
          1.0015601020611766,
          0.111234494442405,
          0.9165336920023927,
          0.2495057250384035,
          -0.7404737672600636,
          -0.5081339496921857
         ],
         "xaxis": "x15",
         "y": [
          -1.1337989406811757,
          -1.9037877897374023,
          0.30232715095296525,
          -0.40746226064004226,
          -1.5843154622723592,
          0.0800001859112766,
          -1.0829534344624214,
          0.008929249820520537,
          0.17634301380882428,
          0.445923832278604,
          -0.5823559308867564,
          1.6787505305326424,
          1.5340576963578176,
          -0.4491259385069614,
          1.307584154739609,
          0.2802398428430633,
          0.8474559671923972,
          0.7243209501100196,
          0.852764174731704,
          0.7226099468487862,
          0.5073516462575364,
          0.31106025362326667,
          -0.7129766442167984,
          -1.8069662076212525,
          0.3899853755554775,
          1.1660113027000951,
          0.45780343027982806,
          -0.3850328593614212,
          -0.0584470187637657,
          -0.13063147921756002,
          0.2664076117902947,
          0.20129707681783135,
          0.26737710495402645,
          -0.00959464933565873,
          0.12086419327473921,
          0.36881552072922735,
          0.10435898893488083,
          1.399413241303069,
          -0.22554807536656415,
          -0.8068825210323299,
          -0.9216778635808496,
          0.010503303933990954,
          0.6520392127941269,
          1.2512419640101824,
          -0.5478703373479984,
          -0.3698831497368436,
          -0.794536878636538,
          1.569258025214523,
          0.07069802261660471,
          -0.984745870976086,
          0.04351361870881149,
          -0.9704163251529452,
          -0.9526280363084101,
          -0.7655813354099952,
          -0.7997514856589535,
          1.3939297951590652,
          1.5047267482345097,
          -0.05164022122595844,
          0.06079243380350069,
          -0.47960299877331186,
          0.4697426372510259,
          0.9664432216423561,
          -0.046938559627280725,
          1.5112235714071913,
          0.122122238044967,
          0.20198921099504166,
          -0.934288188251349,
          1.3808375368889114,
          -1.1660744319754683,
          0.5115255528576121,
          -0.7520042291245231,
          0.9328845756711185,
          -0.8861392243088931,
          -0.9014566300826681,
          0.7114607304778792,
          -0.31588421404758654,
          0.25778259899410694,
          -0.5176775437125997,
          2.5696830566488185,
          -0.6449836664633718,
          1.125122036774418,
          0.7893768671719273,
          0.7981961199353671,
          -0.6820999132258828,
          -1.740245288265015,
          0.07782938388943877,
          0.5936274472034748,
          -0.38884924439066243,
          -1.6531802539316356,
          -2.2206605114972278,
          -0.7734133828296601,
          0.2314445578782591,
          -1.6288222633053324,
          -0.3711326459237821,
          0.20195348087364953,
          -0.5302803833887427,
          1.803247830270659,
          -0.3235850641740168,
          0.5483828304193087,
          -0.14187033097751506
         ],
         "yaxis": "y15"
        },
        {
         "histfunc": "count",
         "histnorm": "",
         "marker": {
          "color": "rgba(128, 0, 128, 1.0)",
          "line": {
           "color": "#4D5663",
           "width": 1.3
          }
         },
         "name": "D",
         "nbinsx": 10,
         "opacity": 0.8,
         "orientation": "v",
         "type": "histogram",
         "x": [
          -1.1337989406811757,
          -1.9037877897374023,
          0.30232715095296525,
          -0.40746226064004226,
          -1.5843154622723592,
          0.0800001859112766,
          -1.0829534344624214,
          0.008929249820520537,
          0.17634301380882428,
          0.445923832278604,
          -0.5823559308867564,
          1.6787505305326424,
          1.5340576963578176,
          -0.4491259385069614,
          1.307584154739609,
          0.2802398428430633,
          0.8474559671923972,
          0.7243209501100196,
          0.852764174731704,
          0.7226099468487862,
          0.5073516462575364,
          0.31106025362326667,
          -0.7129766442167984,
          -1.8069662076212525,
          0.3899853755554775,
          1.1660113027000951,
          0.45780343027982806,
          -0.3850328593614212,
          -0.0584470187637657,
          -0.13063147921756002,
          0.2664076117902947,
          0.20129707681783135,
          0.26737710495402645,
          -0.00959464933565873,
          0.12086419327473921,
          0.36881552072922735,
          0.10435898893488083,
          1.399413241303069,
          -0.22554807536656415,
          -0.8068825210323299,
          -0.9216778635808496,
          0.010503303933990954,
          0.6520392127941269,
          1.2512419640101824,
          -0.5478703373479984,
          -0.3698831497368436,
          -0.794536878636538,
          1.569258025214523,
          0.07069802261660471,
          -0.984745870976086,
          0.04351361870881149,
          -0.9704163251529452,
          -0.9526280363084101,
          -0.7655813354099952,
          -0.7997514856589535,
          1.3939297951590652,
          1.5047267482345097,
          -0.05164022122595844,
          0.06079243380350069,
          -0.47960299877331186,
          0.4697426372510259,
          0.9664432216423561,
          -0.046938559627280725,
          1.5112235714071913,
          0.122122238044967,
          0.20198921099504166,
          -0.934288188251349,
          1.3808375368889114,
          -1.1660744319754683,
          0.5115255528576121,
          -0.7520042291245231,
          0.9328845756711185,
          -0.8861392243088931,
          -0.9014566300826681,
          0.7114607304778792,
          -0.31588421404758654,
          0.25778259899410694,
          -0.5176775437125997,
          2.5696830566488185,
          -0.6449836664633718,
          1.125122036774418,
          0.7893768671719273,
          0.7981961199353671,
          -0.6820999132258828,
          -1.740245288265015,
          0.07782938388943877,
          0.5936274472034748,
          -0.38884924439066243,
          -1.6531802539316356,
          -2.2206605114972278,
          -0.7734133828296601,
          0.2314445578782591,
          -1.6288222633053324,
          -0.3711326459237821,
          0.20195348087364953,
          -0.5302803833887427,
          1.803247830270659,
          -0.3235850641740168,
          0.5483828304193087,
          -0.14187033097751506
         ],
         "xaxis": "x16",
         "yaxis": "y16"
        }
       ],
       "layout": {
        "bargap": 0.02,
        "legend": {
         "bgcolor": "#F5F6F9",
         "font": {
          "color": "#4D5663"
         }
        },
        "paper_bgcolor": "#F5F6F9",
        "plot_bgcolor": "#F5F6F9",
        "showlegend": false,
        "template": {
         "data": {
          "bar": [
           {
            "error_x": {
             "color": "#2a3f5f"
            },
            "error_y": {
             "color": "#2a3f5f"
            },
            "marker": {
             "line": {
              "color": "#E5ECF6",
              "width": 0.5
             },
             "pattern": {
              "fillmode": "overlay",
              "size": 10,
              "solidity": 0.2
             }
            },
            "type": "bar"
           }
          ],
          "barpolar": [
           {
            "marker": {
             "line": {
              "color": "#E5ECF6",
              "width": 0.5
             },
             "pattern": {
              "fillmode": "overlay",
              "size": 10,
              "solidity": 0.2
             }
            },
            "type": "barpolar"
           }
          ],
          "carpet": [
           {
            "aaxis": {
             "endlinecolor": "#2a3f5f",
             "gridcolor": "white",
             "linecolor": "white",
             "minorgridcolor": "white",
             "startlinecolor": "#2a3f5f"
            },
            "baxis": {
             "endlinecolor": "#2a3f5f",
             "gridcolor": "white",
             "linecolor": "white",
             "minorgridcolor": "white",
             "startlinecolor": "#2a3f5f"
            },
            "type": "carpet"
           }
          ],
          "choropleth": [
           {
            "colorbar": {
             "outlinewidth": 0,
             "ticks": ""
            },
            "type": "choropleth"
           }
          ],
          "contour": [
           {
            "colorbar": {
             "outlinewidth": 0,
             "ticks": ""
            },
            "colorscale": [
             [
              0,
              "#0d0887"
             ],
             [
              0.1111111111111111,
              "#46039f"
             ],
             [
              0.2222222222222222,
              "#7201a8"
             ],
             [
              0.3333333333333333,
              "#9c179e"
             ],
             [
              0.4444444444444444,
              "#bd3786"
             ],
             [
              0.5555555555555556,
              "#d8576b"
             ],
             [
              0.6666666666666666,
              "#ed7953"
             ],
             [
              0.7777777777777778,
              "#fb9f3a"
             ],
             [
              0.8888888888888888,
              "#fdca26"
             ],
             [
              1,
              "#f0f921"
             ]
            ],
            "type": "contour"
           }
          ],
          "contourcarpet": [
           {
            "colorbar": {
             "outlinewidth": 0,
             "ticks": ""
            },
            "type": "contourcarpet"
           }
          ],
          "heatmap": [
           {
            "colorbar": {
             "outlinewidth": 0,
             "ticks": ""
            },
            "colorscale": [
             [
              0,
              "#0d0887"
             ],
             [
              0.1111111111111111,
              "#46039f"
             ],
             [
              0.2222222222222222,
              "#7201a8"
             ],
             [
              0.3333333333333333,
              "#9c179e"
             ],
             [
              0.4444444444444444,
              "#bd3786"
             ],
             [
              0.5555555555555556,
              "#d8576b"
             ],
             [
              0.6666666666666666,
              "#ed7953"
             ],
             [
              0.7777777777777778,
              "#fb9f3a"
             ],
             [
              0.8888888888888888,
              "#fdca26"
             ],
             [
              1,
              "#f0f921"
             ]
            ],
            "type": "heatmap"
           }
          ],
          "heatmapgl": [
           {
            "colorbar": {
             "outlinewidth": 0,
             "ticks": ""
            },
            "colorscale": [
             [
              0,
              "#0d0887"
             ],
             [
              0.1111111111111111,
              "#46039f"
             ],
             [
              0.2222222222222222,
              "#7201a8"
             ],
             [
              0.3333333333333333,
              "#9c179e"
             ],
             [
              0.4444444444444444,
              "#bd3786"
             ],
             [
              0.5555555555555556,
              "#d8576b"
             ],
             [
              0.6666666666666666,
              "#ed7953"
             ],
             [
              0.7777777777777778,
              "#fb9f3a"
             ],
             [
              0.8888888888888888,
              "#fdca26"
             ],
             [
              1,
              "#f0f921"
             ]
            ],
            "type": "heatmapgl"
           }
          ],
          "histogram": [
           {
            "marker": {
             "pattern": {
              "fillmode": "overlay",
              "size": 10,
              "solidity": 0.2
             }
            },
            "type": "histogram"
           }
          ],
          "histogram2d": [
           {
            "colorbar": {
             "outlinewidth": 0,
             "ticks": ""
            },
            "colorscale": [
             [
              0,
              "#0d0887"
             ],
             [
              0.1111111111111111,
              "#46039f"
             ],
             [
              0.2222222222222222,
              "#7201a8"
             ],
             [
              0.3333333333333333,
              "#9c179e"
             ],
             [
              0.4444444444444444,
              "#bd3786"
             ],
             [
              0.5555555555555556,
              "#d8576b"
             ],
             [
              0.6666666666666666,
              "#ed7953"
             ],
             [
              0.7777777777777778,
              "#fb9f3a"
             ],
             [
              0.8888888888888888,
              "#fdca26"
             ],
             [
              1,
              "#f0f921"
             ]
            ],
            "type": "histogram2d"
           }
          ],
          "histogram2dcontour": [
           {
            "colorbar": {
             "outlinewidth": 0,
             "ticks": ""
            },
            "colorscale": [
             [
              0,
              "#0d0887"
             ],
             [
              0.1111111111111111,
              "#46039f"
             ],
             [
              0.2222222222222222,
              "#7201a8"
             ],
             [
              0.3333333333333333,
              "#9c179e"
             ],
             [
              0.4444444444444444,
              "#bd3786"
             ],
             [
              0.5555555555555556,
              "#d8576b"
             ],
             [
              0.6666666666666666,
              "#ed7953"
             ],
             [
              0.7777777777777778,
              "#fb9f3a"
             ],
             [
              0.8888888888888888,
              "#fdca26"
             ],
             [
              1,
              "#f0f921"
             ]
            ],
            "type": "histogram2dcontour"
           }
          ],
          "mesh3d": [
           {
            "colorbar": {
             "outlinewidth": 0,
             "ticks": ""
            },
            "type": "mesh3d"
           }
          ],
          "parcoords": [
           {
            "line": {
             "colorbar": {
              "outlinewidth": 0,
              "ticks": ""
             }
            },
            "type": "parcoords"
           }
          ],
          "pie": [
           {
            "automargin": true,
            "type": "pie"
           }
          ],
          "scatter": [
           {
            "fillpattern": {
             "fillmode": "overlay",
             "size": 10,
             "solidity": 0.2
            },
            "type": "scatter"
           }
          ],
          "scatter3d": [
           {
            "line": {
             "colorbar": {
              "outlinewidth": 0,
              "ticks": ""
             }
            },
            "marker": {
             "colorbar": {
              "outlinewidth": 0,
              "ticks": ""
             }
            },
            "type": "scatter3d"
           }
          ],
          "scattercarpet": [
           {
            "marker": {
             "colorbar": {
              "outlinewidth": 0,
              "ticks": ""
             }
            },
            "type": "scattercarpet"
           }
          ],
          "scattergeo": [
           {
            "marker": {
             "colorbar": {
              "outlinewidth": 0,
              "ticks": ""
             }
            },
            "type": "scattergeo"
           }
          ],
          "scattergl": [
           {
            "marker": {
             "colorbar": {
              "outlinewidth": 0,
              "ticks": ""
             }
            },
            "type": "scattergl"
           }
          ],
          "scattermapbox": [
           {
            "marker": {
             "colorbar": {
              "outlinewidth": 0,
              "ticks": ""
             }
            },
            "type": "scattermapbox"
           }
          ],
          "scatterpolar": [
           {
            "marker": {
             "colorbar": {
              "outlinewidth": 0,
              "ticks": ""
             }
            },
            "type": "scatterpolar"
           }
          ],
          "scatterpolargl": [
           {
            "marker": {
             "colorbar": {
              "outlinewidth": 0,
              "ticks": ""
             }
            },
            "type": "scatterpolargl"
           }
          ],
          "scatterternary": [
           {
            "marker": {
             "colorbar": {
              "outlinewidth": 0,
              "ticks": ""
             }
            },
            "type": "scatterternary"
           }
          ],
          "surface": [
           {
            "colorbar": {
             "outlinewidth": 0,
             "ticks": ""
            },
            "colorscale": [
             [
              0,
              "#0d0887"
             ],
             [
              0.1111111111111111,
              "#46039f"
             ],
             [
              0.2222222222222222,
              "#7201a8"
             ],
             [
              0.3333333333333333,
              "#9c179e"
             ],
             [
              0.4444444444444444,
              "#bd3786"
             ],
             [
              0.5555555555555556,
              "#d8576b"
             ],
             [
              0.6666666666666666,
              "#ed7953"
             ],
             [
              0.7777777777777778,
              "#fb9f3a"
             ],
             [
              0.8888888888888888,
              "#fdca26"
             ],
             [
              1,
              "#f0f921"
             ]
            ],
            "type": "surface"
           }
          ],
          "table": [
           {
            "cells": {
             "fill": {
              "color": "#EBF0F8"
             },
             "line": {
              "color": "white"
             }
            },
            "header": {
             "fill": {
              "color": "#C8D4E3"
             },
             "line": {
              "color": "white"
             }
            },
            "type": "table"
           }
          ]
         },
         "layout": {
          "annotationdefaults": {
           "arrowcolor": "#2a3f5f",
           "arrowhead": 0,
           "arrowwidth": 1
          },
          "autotypenumbers": "strict",
          "coloraxis": {
           "colorbar": {
            "outlinewidth": 0,
            "ticks": ""
           }
          },
          "colorscale": {
           "diverging": [
            [
             0,
             "#8e0152"
            ],
            [
             0.1,
             "#c51b7d"
            ],
            [
             0.2,
             "#de77ae"
            ],
            [
             0.3,
             "#f1b6da"
            ],
            [
             0.4,
             "#fde0ef"
            ],
            [
             0.5,
             "#f7f7f7"
            ],
            [
             0.6,
             "#e6f5d0"
            ],
            [
             0.7,
             "#b8e186"
            ],
            [
             0.8,
             "#7fbc41"
            ],
            [
             0.9,
             "#4d9221"
            ],
            [
             1,
             "#276419"
            ]
           ],
           "sequential": [
            [
             0,
             "#0d0887"
            ],
            [
             0.1111111111111111,
             "#46039f"
            ],
            [
             0.2222222222222222,
             "#7201a8"
            ],
            [
             0.3333333333333333,
             "#9c179e"
            ],
            [
             0.4444444444444444,
             "#bd3786"
            ],
            [
             0.5555555555555556,
             "#d8576b"
            ],
            [
             0.6666666666666666,
             "#ed7953"
            ],
            [
             0.7777777777777778,
             "#fb9f3a"
            ],
            [
             0.8888888888888888,
             "#fdca26"
            ],
            [
             1,
             "#f0f921"
            ]
           ],
           "sequentialminus": [
            [
             0,
             "#0d0887"
            ],
            [
             0.1111111111111111,
             "#46039f"
            ],
            [
             0.2222222222222222,
             "#7201a8"
            ],
            [
             0.3333333333333333,
             "#9c179e"
            ],
            [
             0.4444444444444444,
             "#bd3786"
            ],
            [
             0.5555555555555556,
             "#d8576b"
            ],
            [
             0.6666666666666666,
             "#ed7953"
            ],
            [
             0.7777777777777778,
             "#fb9f3a"
            ],
            [
             0.8888888888888888,
             "#fdca26"
            ],
            [
             1,
             "#f0f921"
            ]
           ]
          },
          "colorway": [
           "#636efa",
           "#EF553B",
           "#00cc96",
           "#ab63fa",
           "#FFA15A",
           "#19d3f3",
           "#FF6692",
           "#B6E880",
           "#FF97FF",
           "#FECB52"
          ],
          "font": {
           "color": "#2a3f5f"
          },
          "geo": {
           "bgcolor": "white",
           "lakecolor": "white",
           "landcolor": "#E5ECF6",
           "showlakes": true,
           "showland": true,
           "subunitcolor": "white"
          },
          "hoverlabel": {
           "align": "left"
          },
          "hovermode": "closest",
          "mapbox": {
           "style": "light"
          },
          "paper_bgcolor": "white",
          "plot_bgcolor": "#E5ECF6",
          "polar": {
           "angularaxis": {
            "gridcolor": "white",
            "linecolor": "white",
            "ticks": ""
           },
           "bgcolor": "#E5ECF6",
           "radialaxis": {
            "gridcolor": "white",
            "linecolor": "white",
            "ticks": ""
           }
          },
          "scene": {
           "xaxis": {
            "backgroundcolor": "#E5ECF6",
            "gridcolor": "white",
            "gridwidth": 2,
            "linecolor": "white",
            "showbackground": true,
            "ticks": "",
            "zerolinecolor": "white"
           },
           "yaxis": {
            "backgroundcolor": "#E5ECF6",
            "gridcolor": "white",
            "gridwidth": 2,
            "linecolor": "white",
            "showbackground": true,
            "ticks": "",
            "zerolinecolor": "white"
           },
           "zaxis": {
            "backgroundcolor": "#E5ECF6",
            "gridcolor": "white",
            "gridwidth": 2,
            "linecolor": "white",
            "showbackground": true,
            "ticks": "",
            "zerolinecolor": "white"
           }
          },
          "shapedefaults": {
           "line": {
            "color": "#2a3f5f"
           }
          },
          "ternary": {
           "aaxis": {
            "gridcolor": "white",
            "linecolor": "white",
            "ticks": ""
           },
           "baxis": {
            "gridcolor": "white",
            "linecolor": "white",
            "ticks": ""
           },
           "bgcolor": "#E5ECF6",
           "caxis": {
            "gridcolor": "white",
            "linecolor": "white",
            "ticks": ""
           }
          },
          "title": {
           "x": 0.05
          },
          "xaxis": {
           "automargin": true,
           "gridcolor": "white",
           "linecolor": "white",
           "ticks": "",
           "title": {
            "standoff": 15
           },
           "zerolinecolor": "white",
           "zerolinewidth": 2
          },
          "yaxis": {
           "automargin": true,
           "gridcolor": "white",
           "linecolor": "white",
           "ticks": "",
           "title": {
            "standoff": 15
           },
           "zerolinecolor": "white",
           "zerolinewidth": 2
          }
         }
        },
        "title": {
         "font": {
          "color": "#4D5663"
         }
        },
        "xaxis": {
         "anchor": "y",
         "domain": [
          0,
          0.2125
         ],
         "gridcolor": "#E1E5ED",
         "showgrid": false,
         "tickfont": {
          "color": "#4D5663"
         },
         "title": {
          "font": {
           "color": "#4D5663"
          },
          "text": ""
         },
         "zerolinecolor": "#E1E5ED"
        },
        "xaxis10": {
         "anchor": "y10",
         "domain": [
          0.2625,
          0.475
         ],
         "gridcolor": "#E1E5ED",
         "showgrid": false,
         "tickfont": {
          "color": "#4D5663"
         },
         "title": {
          "font": {
           "color": "#4D5663"
          },
          "text": ""
         },
         "zerolinecolor": "#E1E5ED"
        },
        "xaxis11": {
         "anchor": "y11",
         "domain": [
          0.525,
          0.7375
         ],
         "gridcolor": "#E1E5ED",
         "showgrid": false,
         "tickfont": {
          "color": "#4D5663"
         },
         "title": {
          "font": {
           "color": "#4D5663"
          },
          "text": ""
         },
         "zerolinecolor": "#E1E5ED"
        },
        "xaxis12": {
         "anchor": "y12",
         "domain": [
          0.7875,
          1
         ],
         "gridcolor": "#E1E5ED",
         "showgrid": false,
         "tickfont": {
          "color": "#4D5663"
         },
         "title": {
          "font": {
           "color": "#4D5663"
          },
          "text": ""
         },
         "zerolinecolor": "#E1E5ED"
        },
        "xaxis13": {
         "anchor": "y13",
         "domain": [
          0,
          0.2125
         ],
         "gridcolor": "#E1E5ED",
         "showgrid": false,
         "tickfont": {
          "color": "#4D5663"
         },
         "title": {
          "font": {
           "color": "#4D5663"
          },
          "text": ""
         },
         "zerolinecolor": "#E1E5ED"
        },
        "xaxis14": {
         "anchor": "y14",
         "domain": [
          0.2625,
          0.475
         ],
         "gridcolor": "#E1E5ED",
         "showgrid": false,
         "tickfont": {
          "color": "#4D5663"
         },
         "title": {
          "font": {
           "color": "#4D5663"
          },
          "text": ""
         },
         "zerolinecolor": "#E1E5ED"
        },
        "xaxis15": {
         "anchor": "y15",
         "domain": [
          0.525,
          0.7375
         ],
         "gridcolor": "#E1E5ED",
         "showgrid": false,
         "tickfont": {
          "color": "#4D5663"
         },
         "title": {
          "font": {
           "color": "#4D5663"
          },
          "text": ""
         },
         "zerolinecolor": "#E1E5ED"
        },
        "xaxis16": {
         "anchor": "y16",
         "domain": [
          0.7875,
          1
         ],
         "gridcolor": "#E1E5ED",
         "showgrid": false,
         "tickfont": {
          "color": "#4D5663"
         },
         "title": {
          "font": {
           "color": "#4D5663"
          },
          "text": ""
         },
         "zerolinecolor": "#E1E5ED"
        },
        "xaxis2": {
         "anchor": "y2",
         "domain": [
          0.2625,
          0.475
         ],
         "gridcolor": "#E1E5ED",
         "showgrid": false,
         "tickfont": {
          "color": "#4D5663"
         },
         "title": {
          "font": {
           "color": "#4D5663"
          },
          "text": ""
         },
         "zerolinecolor": "#E1E5ED"
        },
        "xaxis3": {
         "anchor": "y3",
         "domain": [
          0.525,
          0.7375
         ],
         "gridcolor": "#E1E5ED",
         "showgrid": false,
         "tickfont": {
          "color": "#4D5663"
         },
         "title": {
          "font": {
           "color": "#4D5663"
          },
          "text": ""
         },
         "zerolinecolor": "#E1E5ED"
        },
        "xaxis4": {
         "anchor": "y4",
         "domain": [
          0.7875,
          1
         ],
         "gridcolor": "#E1E5ED",
         "showgrid": false,
         "tickfont": {
          "color": "#4D5663"
         },
         "title": {
          "font": {
           "color": "#4D5663"
          },
          "text": ""
         },
         "zerolinecolor": "#E1E5ED"
        },
        "xaxis5": {
         "anchor": "y5",
         "domain": [
          0,
          0.2125
         ],
         "gridcolor": "#E1E5ED",
         "showgrid": false,
         "tickfont": {
          "color": "#4D5663"
         },
         "title": {
          "font": {
           "color": "#4D5663"
          },
          "text": ""
         },
         "zerolinecolor": "#E1E5ED"
        },
        "xaxis6": {
         "anchor": "y6",
         "domain": [
          0.2625,
          0.475
         ],
         "gridcolor": "#E1E5ED",
         "showgrid": false,
         "tickfont": {
          "color": "#4D5663"
         },
         "title": {
          "font": {
           "color": "#4D5663"
          },
          "text": ""
         },
         "zerolinecolor": "#E1E5ED"
        },
        "xaxis7": {
         "anchor": "y7",
         "domain": [
          0.525,
          0.7375
         ],
         "gridcolor": "#E1E5ED",
         "showgrid": false,
         "tickfont": {
          "color": "#4D5663"
         },
         "title": {
          "font": {
           "color": "#4D5663"
          },
          "text": ""
         },
         "zerolinecolor": "#E1E5ED"
        },
        "xaxis8": {
         "anchor": "y8",
         "domain": [
          0.7875,
          1
         ],
         "gridcolor": "#E1E5ED",
         "showgrid": false,
         "tickfont": {
          "color": "#4D5663"
         },
         "title": {
          "font": {
           "color": "#4D5663"
          },
          "text": ""
         },
         "zerolinecolor": "#E1E5ED"
        },
        "xaxis9": {
         "anchor": "y9",
         "domain": [
          0,
          0.2125
         ],
         "gridcolor": "#E1E5ED",
         "showgrid": false,
         "tickfont": {
          "color": "#4D5663"
         },
         "title": {
          "font": {
           "color": "#4D5663"
          },
          "text": ""
         },
         "zerolinecolor": "#E1E5ED"
        },
        "yaxis": {
         "anchor": "x",
         "domain": [
          0.8025,
          1
         ],
         "gridcolor": "#E1E5ED",
         "showgrid": false,
         "tickfont": {
          "color": "#4D5663"
         },
         "title": {
          "font": {
           "color": "#4D5663"
          },
          "text": ""
         },
         "zerolinecolor": "#E1E5ED"
        },
        "yaxis10": {
         "anchor": "x10",
         "domain": [
          0.2675,
          0.465
         ],
         "gridcolor": "#E1E5ED",
         "showgrid": false,
         "tickfont": {
          "color": "#4D5663"
         },
         "title": {
          "font": {
           "color": "#4D5663"
          },
          "text": ""
         },
         "zerolinecolor": "#E1E5ED"
        },
        "yaxis11": {
         "anchor": "x11",
         "domain": [
          0.2675,
          0.465
         ],
         "gridcolor": "#E1E5ED",
         "showgrid": false,
         "tickfont": {
          "color": "#4D5663"
         },
         "title": {
          "font": {
           "color": "#4D5663"
          },
          "text": ""
         },
         "zerolinecolor": "#E1E5ED"
        },
        "yaxis12": {
         "anchor": "x12",
         "domain": [
          0.2675,
          0.465
         ],
         "gridcolor": "#E1E5ED",
         "showgrid": false,
         "tickfont": {
          "color": "#4D5663"
         },
         "title": {
          "font": {
           "color": "#4D5663"
          },
          "text": ""
         },
         "zerolinecolor": "#E1E5ED"
        },
        "yaxis13": {
         "anchor": "x13",
         "domain": [
          0,
          0.1975
         ],
         "gridcolor": "#E1E5ED",
         "showgrid": false,
         "tickfont": {
          "color": "#4D5663"
         },
         "title": {
          "font": {
           "color": "#4D5663"
          },
          "text": ""
         },
         "zerolinecolor": "#E1E5ED"
        },
        "yaxis14": {
         "anchor": "x14",
         "domain": [
          0,
          0.1975
         ],
         "gridcolor": "#E1E5ED",
         "showgrid": false,
         "tickfont": {
          "color": "#4D5663"
         },
         "title": {
          "font": {
           "color": "#4D5663"
          },
          "text": ""
         },
         "zerolinecolor": "#E1E5ED"
        },
        "yaxis15": {
         "anchor": "x15",
         "domain": [
          0,
          0.1975
         ],
         "gridcolor": "#E1E5ED",
         "showgrid": false,
         "tickfont": {
          "color": "#4D5663"
         },
         "title": {
          "font": {
           "color": "#4D5663"
          },
          "text": ""
         },
         "zerolinecolor": "#E1E5ED"
        },
        "yaxis16": {
         "anchor": "x16",
         "domain": [
          0,
          0.1975
         ],
         "gridcolor": "#E1E5ED",
         "showgrid": false,
         "tickfont": {
          "color": "#4D5663"
         },
         "title": {
          "font": {
           "color": "#4D5663"
          },
          "text": ""
         },
         "zerolinecolor": "#E1E5ED"
        },
        "yaxis2": {
         "anchor": "x2",
         "domain": [
          0.8025,
          1
         ],
         "gridcolor": "#E1E5ED",
         "showgrid": false,
         "tickfont": {
          "color": "#4D5663"
         },
         "title": {
          "font": {
           "color": "#4D5663"
          },
          "text": ""
         },
         "zerolinecolor": "#E1E5ED"
        },
        "yaxis3": {
         "anchor": "x3",
         "domain": [
          0.8025,
          1
         ],
         "gridcolor": "#E1E5ED",
         "showgrid": false,
         "tickfont": {
          "color": "#4D5663"
         },
         "title": {
          "font": {
           "color": "#4D5663"
          },
          "text": ""
         },
         "zerolinecolor": "#E1E5ED"
        },
        "yaxis4": {
         "anchor": "x4",
         "domain": [
          0.8025,
          1
         ],
         "gridcolor": "#E1E5ED",
         "showgrid": false,
         "tickfont": {
          "color": "#4D5663"
         },
         "title": {
          "font": {
           "color": "#4D5663"
          },
          "text": ""
         },
         "zerolinecolor": "#E1E5ED"
        },
        "yaxis5": {
         "anchor": "x5",
         "domain": [
          0.535,
          0.7325
         ],
         "gridcolor": "#E1E5ED",
         "showgrid": false,
         "tickfont": {
          "color": "#4D5663"
         },
         "title": {
          "font": {
           "color": "#4D5663"
          },
          "text": ""
         },
         "zerolinecolor": "#E1E5ED"
        },
        "yaxis6": {
         "anchor": "x6",
         "domain": [
          0.535,
          0.7325
         ],
         "gridcolor": "#E1E5ED",
         "showgrid": false,
         "tickfont": {
          "color": "#4D5663"
         },
         "title": {
          "font": {
           "color": "#4D5663"
          },
          "text": ""
         },
         "zerolinecolor": "#E1E5ED"
        },
        "yaxis7": {
         "anchor": "x7",
         "domain": [
          0.535,
          0.7325
         ],
         "gridcolor": "#E1E5ED",
         "showgrid": false,
         "tickfont": {
          "color": "#4D5663"
         },
         "title": {
          "font": {
           "color": "#4D5663"
          },
          "text": ""
         },
         "zerolinecolor": "#E1E5ED"
        },
        "yaxis8": {
         "anchor": "x8",
         "domain": [
          0.535,
          0.7325
         ],
         "gridcolor": "#E1E5ED",
         "showgrid": false,
         "tickfont": {
          "color": "#4D5663"
         },
         "title": {
          "font": {
           "color": "#4D5663"
          },
          "text": ""
         },
         "zerolinecolor": "#E1E5ED"
        },
        "yaxis9": {
         "anchor": "x9",
         "domain": [
          0.2675,
          0.465
         ],
         "gridcolor": "#E1E5ED",
         "showgrid": false,
         "tickfont": {
          "color": "#4D5663"
         },
         "title": {
          "font": {
           "color": "#4D5663"
          },
          "text": ""
         },
         "zerolinecolor": "#E1E5ED"
        }
       }
      },
      "text/html": [
       "<div>                            <div id=\"19d7d39c-c7be-4073-9229-c674ca69c010\" class=\"plotly-graph-div\" style=\"height:525px; width:100%;\"></div>            <script type=\"text/javascript\">                require([\"plotly\"], function(Plotly) {                    window.PLOTLYENV=window.PLOTLYENV || {};\n",
       "                    window.PLOTLYENV.BASE_URL='https://plot.ly';                                    if (document.getElementById(\"19d7d39c-c7be-4073-9229-c674ca69c010\")) {                    Plotly.newPlot(                        \"19d7d39c-c7be-4073-9229-c674ca69c010\",                        [{\"histfunc\":\"count\",\"histnorm\":\"\",\"marker\":{\"color\":\"rgba(255, 153, 51, 1.0)\",\"line\":{\"color\":\"#4D5663\",\"width\":1.3}},\"name\":\"A\",\"nbinsx\":10,\"opacity\":0.8,\"orientation\":\"v\",\"x\":[-0.574793679676617,0.2235288385812236,-0.1416022574544621,1.1830002741236476,-0.8040111862595727,0.5603981980480017,1.0802000604334197,0.03958333136709857,-0.3365396825358062,0.2832793352592316,0.05165284183696506,-1.5912603445652507,-0.4027067517849839,-0.8441710552955158,-1.5018814837552625,1.0623705523783178,-0.6269685582361755,-1.0877374783470943,-0.04920277457916217,-0.49476631278334876,-1.102273038947587,-0.3613339588765766,0.3029725474183342,-0.09750304564376079,0.5675651772580712,-0.20703757151798488,-0.38179254271357244,-0.011627047618306317,-0.033123321889765134,-0.2184206692864132,1.1088956825411647,0.7847064418904279,1.154230440045405,-0.18556857223927084,-0.12891590454086874,0.18790915439432815,0.36290388657239836,-1.1000323979187554,-1.0644192730628328,-0.6689050042491553,-1.0017148503324511,-0.7147505434964523,0.5793842268683049,-1.4795338070213433,-0.03839282830179687,0.6997666972174688,-1.2835392333483941,0.16475761642484815,1.6889573202477632,-1.592941071461217,-0.7387106985235867,0.39701245028797894,1.1840215900235371,0.20939687790234918,-2.310159082515787,1.2943143805175952,-0.2945990330477354,2.015857216673764,-0.36968920526721943,-0.06482501623263177,0.4902842916770235,0.08187970865813975,0.3201306863347647,-1.6580600975761564,-1.2041955464842804,0.38152574274387535,-0.9331789825369936,0.2483112308845951,-0.3513764390898863,-0.8734172442961183,-0.3895631575428738,-0.2931594876428916,0.25127681287774367,1.987790683269706,0.18787640248927523,0.7319941857482984,0.996051203371639,0.8023664354900774,0.37326917205338095,0.8082704119906713,-0.5670128605070655,1.2604557560821879,0.9295006804240427,-0.07436204245143835,-0.4698506128050334,0.5747740770991207,-1.015928906236001,-0.5064827491974023,0.42557873681748015,-0.15760594251567855,0.4924666238139324,0.8094009000999365,-0.1978814224350476,-0.9850274970501465,-0.5429440339023727,-0.8677581004904326,-1.62694506157608,-0.8824812217412265,2.9646802953652753,-0.696782614544617],\"xaxis\":\"x\",\"yaxis\":\"y\",\"type\":\"histogram\"},{\"line\":{\"color\":\"rgba(128, 128, 128, 1.0)\",\"dash\":\"solid\",\"shape\":\"linear\",\"width\":1.3},\"marker\":{\"size\":2,\"symbol\":\"circle\"},\"mode\":\"markers\",\"name\":\"A\",\"text\":\"\",\"x\":[-0.41915746807640575,0.21930284828863833,-0.7610786434798053,-0.6918857200279099,-0.23559520316772184,-1.2675224451030764,-0.22288244488492134,0.17429733433401837,0.0762757519961098,-0.3669689691943707,1.0792882971785136,0.316899074242141,-0.04825893187424639,-0.5031500680545504,0.5846281200331179,-1.4076111659646628,0.5581580114679637,1.2342661817807972,-0.5801147930644517,0.5143095543016232,-0.27470375167671157,-0.1249604554829138,2.3015801416719883,-0.535673037666255,-0.9488349123871038,0.1184136493800736,-2.244461938831052,0.9570427917571265,-0.18916260601522641,-1.0530967941715776,0.22265169983192862,-0.34870062182493944,0.6016738643875863,0.562336915782038,-1.100990900729741,-1.5283468920818604,-1.7668647881221484,2.8053527903280013,-0.1168796213679174,-0.7618809661819511,-0.9924293911398685,-1.7543917460481346,-1.048507764949999,-0.6041298392882526,0.3801558907719418,0.4987419230265229,0.49810135830298774,0.8992442763001017,-0.7948584682214112,-0.9693612383002331,-0.7683440322511006,-1.1567649588940925,-0.13581935921923502,-0.4927083253539496,2.149222707304997,0.6275181422432665,-1.6651445093832844,-1.3104279518077564,1.520364724213475,-0.12263253089711454,0.6572572845188864,0.299844523824874,-0.07969916291529638,-2.948310749926441,1.0787648942634418,1.7309641277355667,-1.5483492384865831,-0.499821151016283,-1.6012102957857004,2.5136712612056855,0.6952546373626506,0.08481218221600291,0.46490293792485105,0.3675165437441855,-0.28065282385165585,0.4154825216383825,-1.5945417410773326,0.5759472764756738,1.2635498556299758,1.0352587860163123,0.962991845155968,-1.707832481488226,0.17583501851322028,1.1730434958755838,-0.0678384623372376,-0.5034339124885754,-0.8815189873404996,0.8761013064586037,-1.084830865142056,-1.497082382471439,-0.3569731365498273,1.1628995081849474,-0.9601044911548299,0.012437650238996368,-0.4577740907173309,-1.662251490679833,-1.4490992602462307,-0.006264011864668245,0.5454332382613313,-0.17002321014787986],\"xaxis\":\"x2\",\"y\":[-0.574793679676617,0.2235288385812236,-0.1416022574544621,1.1830002741236476,-0.8040111862595727,0.5603981980480017,1.0802000604334197,0.03958333136709857,-0.3365396825358062,0.2832793352592316,0.05165284183696506,-1.5912603445652507,-0.4027067517849839,-0.8441710552955158,-1.5018814837552625,1.0623705523783178,-0.6269685582361755,-1.0877374783470943,-0.04920277457916217,-0.49476631278334876,-1.102273038947587,-0.3613339588765766,0.3029725474183342,-0.09750304564376079,0.5675651772580712,-0.20703757151798488,-0.38179254271357244,-0.011627047618306317,-0.033123321889765134,-0.2184206692864132,1.1088956825411647,0.7847064418904279,1.154230440045405,-0.18556857223927084,-0.12891590454086874,0.18790915439432815,0.36290388657239836,-1.1000323979187554,-1.0644192730628328,-0.6689050042491553,-1.0017148503324511,-0.7147505434964523,0.5793842268683049,-1.4795338070213433,-0.03839282830179687,0.6997666972174688,-1.2835392333483941,0.16475761642484815,1.6889573202477632,-1.592941071461217,-0.7387106985235867,0.39701245028797894,1.1840215900235371,0.20939687790234918,-2.310159082515787,1.2943143805175952,-0.2945990330477354,2.015857216673764,-0.36968920526721943,-0.06482501623263177,0.4902842916770235,0.08187970865813975,0.3201306863347647,-1.6580600975761564,-1.2041955464842804,0.38152574274387535,-0.9331789825369936,0.2483112308845951,-0.3513764390898863,-0.8734172442961183,-0.3895631575428738,-0.2931594876428916,0.25127681287774367,1.987790683269706,0.18787640248927523,0.7319941857482984,0.996051203371639,0.8023664354900774,0.37326917205338095,0.8082704119906713,-0.5670128605070655,1.2604557560821879,0.9295006804240427,-0.07436204245143835,-0.4698506128050334,0.5747740770991207,-1.015928906236001,-0.5064827491974023,0.42557873681748015,-0.15760594251567855,0.4924666238139324,0.8094009000999365,-0.1978814224350476,-0.9850274970501465,-0.5429440339023727,-0.8677581004904326,-1.62694506157608,-0.8824812217412265,2.9646802953652753,-0.696782614544617],\"yaxis\":\"y2\",\"type\":\"scatter\"},{\"line\":{\"color\":\"rgba(128, 128, 128, 1.0)\",\"dash\":\"solid\",\"shape\":\"linear\",\"width\":1.3},\"marker\":{\"size\":2,\"symbol\":\"circle\"},\"mode\":\"markers\",\"name\":\"A\",\"text\":\"\",\"x\":[-0.48016284539502374,1.1941605361276901,-1.3380686110014535,0.8496861440859929,0.10334025222810121,0.7790112926214989,-0.25519496667126196,0.7448633294729624,-0.9389275694022537,0.2764703818344103,1.5713410191540675,0.3587339287842905,1.8116652673425804,1.4610153237282706,-0.9234220929229902,-0.2795245320327592,0.7362839857792025,1.0845506658755941,-0.7906309801555522,0.4468688107353693,-0.8400481673749199,0.04730791167675447,1.0396829715764322,-0.38223015348999884,1.9329538808246907,0.027406820560686565,-0.9542493897915989,0.717558215382116,1.9341434756361537,0.43887850959477054,0.07574701766796874,0.9679467756373532,0.9689157316846471,0.09040407397946856,0.4045345471689706,0.044547063139071336,-0.33444597184645375,-0.4419718157832957,0.3312939420688317,-0.1524025207787877,-0.19648525315850116,-0.5071523525857391,0.8618592610172023,0.21474845376831098,2.935932373444087,1.1211018040818186,0.6675576999264661,0.830331411868125,0.240287564604421,0.5782227959390825,0.16610348327036337,-0.26067373918919545,0.6165706632965757,0.0493626176748902,-1.2454061538687209,-0.1806332881845276,-1.6521010995404608,-0.2896078963510364,-1.9432936991169414,-0.6329370516468182,1.0105085267150509,-0.881714693906353,-0.9127704462300918,0.9856352429468458,-1.3029147076374328,1.3936741696904487,0.3126403417594799,-0.7623593645280816,0.25128509196769805,1.9888169863810583,0.31160465621257316,0.8479283170183334,1.2577969625203822,-1.0065286821284707,-0.4114585098505856,2.038553967065002,-0.936034670530762,-0.9908496290461823,0.297913075307045,-0.37315866074811077,-0.01557169709267786,0.27526345665672447,0.6967772652465146,1.2695054487265522,-0.007433950506855492,0.5722235809228652,0.22726668691856367,-0.779330186388833,-0.8819788804909642,-0.5674558131847244,-0.24063577925786742,1.5682549612766834,-0.4805470717554532,-1.1617799681168157,1.0015601020611766,0.111234494442405,0.9165336920023927,0.2495057250384035,-0.7404737672600636,-0.5081339496921857],\"xaxis\":\"x3\",\"y\":[-0.574793679676617,0.2235288385812236,-0.1416022574544621,1.1830002741236476,-0.8040111862595727,0.5603981980480017,1.0802000604334197,0.03958333136709857,-0.3365396825358062,0.2832793352592316,0.05165284183696506,-1.5912603445652507,-0.4027067517849839,-0.8441710552955158,-1.5018814837552625,1.0623705523783178,-0.6269685582361755,-1.0877374783470943,-0.04920277457916217,-0.49476631278334876,-1.102273038947587,-0.3613339588765766,0.3029725474183342,-0.09750304564376079,0.5675651772580712,-0.20703757151798488,-0.38179254271357244,-0.011627047618306317,-0.033123321889765134,-0.2184206692864132,1.1088956825411647,0.7847064418904279,1.154230440045405,-0.18556857223927084,-0.12891590454086874,0.18790915439432815,0.36290388657239836,-1.1000323979187554,-1.0644192730628328,-0.6689050042491553,-1.0017148503324511,-0.7147505434964523,0.5793842268683049,-1.4795338070213433,-0.03839282830179687,0.6997666972174688,-1.2835392333483941,0.16475761642484815,1.6889573202477632,-1.592941071461217,-0.7387106985235867,0.39701245028797894,1.1840215900235371,0.20939687790234918,-2.310159082515787,1.2943143805175952,-0.2945990330477354,2.015857216673764,-0.36968920526721943,-0.06482501623263177,0.4902842916770235,0.08187970865813975,0.3201306863347647,-1.6580600975761564,-1.2041955464842804,0.38152574274387535,-0.9331789825369936,0.2483112308845951,-0.3513764390898863,-0.8734172442961183,-0.3895631575428738,-0.2931594876428916,0.25127681287774367,1.987790683269706,0.18787640248927523,0.7319941857482984,0.996051203371639,0.8023664354900774,0.37326917205338095,0.8082704119906713,-0.5670128605070655,1.2604557560821879,0.9295006804240427,-0.07436204245143835,-0.4698506128050334,0.5747740770991207,-1.015928906236001,-0.5064827491974023,0.42557873681748015,-0.15760594251567855,0.4924666238139324,0.8094009000999365,-0.1978814224350476,-0.9850274970501465,-0.5429440339023727,-0.8677581004904326,-1.62694506157608,-0.8824812217412265,2.9646802953652753,-0.696782614544617],\"yaxis\":\"y3\",\"type\":\"scatter\"},{\"line\":{\"color\":\"rgba(128, 128, 128, 1.0)\",\"dash\":\"solid\",\"shape\":\"linear\",\"width\":1.3},\"marker\":{\"size\":2,\"symbol\":\"circle\"},\"mode\":\"markers\",\"name\":\"A\",\"text\":\"\",\"x\":[-1.1337989406811757,-1.9037877897374023,0.30232715095296525,-0.40746226064004226,-1.5843154622723592,0.0800001859112766,-1.0829534344624214,0.008929249820520537,0.17634301380882428,0.445923832278604,-0.5823559308867564,1.6787505305326424,1.5340576963578176,-0.4491259385069614,1.307584154739609,0.2802398428430633,0.8474559671923972,0.7243209501100196,0.852764174731704,0.7226099468487862,0.5073516462575364,0.31106025362326667,-0.7129766442167984,-1.8069662076212525,0.3899853755554775,1.1660113027000951,0.45780343027982806,-0.3850328593614212,-0.0584470187637657,-0.13063147921756002,0.2664076117902947,0.20129707681783135,0.26737710495402645,-0.00959464933565873,0.12086419327473921,0.36881552072922735,0.10435898893488083,1.399413241303069,-0.22554807536656415,-0.8068825210323299,-0.9216778635808496,0.010503303933990954,0.6520392127941269,1.2512419640101824,-0.5478703373479984,-0.3698831497368436,-0.794536878636538,1.569258025214523,0.07069802261660471,-0.984745870976086,0.04351361870881149,-0.9704163251529452,-0.9526280363084101,-0.7655813354099952,-0.7997514856589535,1.3939297951590652,1.5047267482345097,-0.05164022122595844,0.06079243380350069,-0.47960299877331186,0.4697426372510259,0.9664432216423561,-0.046938559627280725,1.5112235714071913,0.122122238044967,0.20198921099504166,-0.934288188251349,1.3808375368889114,-1.1660744319754683,0.5115255528576121,-0.7520042291245231,0.9328845756711185,-0.8861392243088931,-0.9014566300826681,0.7114607304778792,-0.31588421404758654,0.25778259899410694,-0.5176775437125997,2.5696830566488185,-0.6449836664633718,1.125122036774418,0.7893768671719273,0.7981961199353671,-0.6820999132258828,-1.740245288265015,0.07782938388943877,0.5936274472034748,-0.38884924439066243,-1.6531802539316356,-2.2206605114972278,-0.7734133828296601,0.2314445578782591,-1.6288222633053324,-0.3711326459237821,0.20195348087364953,-0.5302803833887427,1.803247830270659,-0.3235850641740168,0.5483828304193087,-0.14187033097751506],\"xaxis\":\"x4\",\"y\":[-0.574793679676617,0.2235288385812236,-0.1416022574544621,1.1830002741236476,-0.8040111862595727,0.5603981980480017,1.0802000604334197,0.03958333136709857,-0.3365396825358062,0.2832793352592316,0.05165284183696506,-1.5912603445652507,-0.4027067517849839,-0.8441710552955158,-1.5018814837552625,1.0623705523783178,-0.6269685582361755,-1.0877374783470943,-0.04920277457916217,-0.49476631278334876,-1.102273038947587,-0.3613339588765766,0.3029725474183342,-0.09750304564376079,0.5675651772580712,-0.20703757151798488,-0.38179254271357244,-0.011627047618306317,-0.033123321889765134,-0.2184206692864132,1.1088956825411647,0.7847064418904279,1.154230440045405,-0.18556857223927084,-0.12891590454086874,0.18790915439432815,0.36290388657239836,-1.1000323979187554,-1.0644192730628328,-0.6689050042491553,-1.0017148503324511,-0.7147505434964523,0.5793842268683049,-1.4795338070213433,-0.03839282830179687,0.6997666972174688,-1.2835392333483941,0.16475761642484815,1.6889573202477632,-1.592941071461217,-0.7387106985235867,0.39701245028797894,1.1840215900235371,0.20939687790234918,-2.310159082515787,1.2943143805175952,-0.2945990330477354,2.015857216673764,-0.36968920526721943,-0.06482501623263177,0.4902842916770235,0.08187970865813975,0.3201306863347647,-1.6580600975761564,-1.2041955464842804,0.38152574274387535,-0.9331789825369936,0.2483112308845951,-0.3513764390898863,-0.8734172442961183,-0.3895631575428738,-0.2931594876428916,0.25127681287774367,1.987790683269706,0.18787640248927523,0.7319941857482984,0.996051203371639,0.8023664354900774,0.37326917205338095,0.8082704119906713,-0.5670128605070655,1.2604557560821879,0.9295006804240427,-0.07436204245143835,-0.4698506128050334,0.5747740770991207,-1.015928906236001,-0.5064827491974023,0.42557873681748015,-0.15760594251567855,0.4924666238139324,0.8094009000999365,-0.1978814224350476,-0.9850274970501465,-0.5429440339023727,-0.8677581004904326,-1.62694506157608,-0.8824812217412265,2.9646802953652753,-0.696782614544617],\"yaxis\":\"y4\",\"type\":\"scatter\"},{\"line\":{\"color\":\"rgba(128, 128, 128, 1.0)\",\"dash\":\"solid\",\"shape\":\"linear\",\"width\":1.3},\"marker\":{\"size\":2,\"symbol\":\"circle\"},\"mode\":\"markers\",\"name\":\"B\",\"text\":\"\",\"x\":[-0.574793679676617,0.2235288385812236,-0.1416022574544621,1.1830002741236476,-0.8040111862595727,0.5603981980480017,1.0802000604334197,0.03958333136709857,-0.3365396825358062,0.2832793352592316,0.05165284183696506,-1.5912603445652507,-0.4027067517849839,-0.8441710552955158,-1.5018814837552625,1.0623705523783178,-0.6269685582361755,-1.0877374783470943,-0.04920277457916217,-0.49476631278334876,-1.102273038947587,-0.3613339588765766,0.3029725474183342,-0.09750304564376079,0.5675651772580712,-0.20703757151798488,-0.38179254271357244,-0.011627047618306317,-0.033123321889765134,-0.2184206692864132,1.1088956825411647,0.7847064418904279,1.154230440045405,-0.18556857223927084,-0.12891590454086874,0.18790915439432815,0.36290388657239836,-1.1000323979187554,-1.0644192730628328,-0.6689050042491553,-1.0017148503324511,-0.7147505434964523,0.5793842268683049,-1.4795338070213433,-0.03839282830179687,0.6997666972174688,-1.2835392333483941,0.16475761642484815,1.6889573202477632,-1.592941071461217,-0.7387106985235867,0.39701245028797894,1.1840215900235371,0.20939687790234918,-2.310159082515787,1.2943143805175952,-0.2945990330477354,2.015857216673764,-0.36968920526721943,-0.06482501623263177,0.4902842916770235,0.08187970865813975,0.3201306863347647,-1.6580600975761564,-1.2041955464842804,0.38152574274387535,-0.9331789825369936,0.2483112308845951,-0.3513764390898863,-0.8734172442961183,-0.3895631575428738,-0.2931594876428916,0.25127681287774367,1.987790683269706,0.18787640248927523,0.7319941857482984,0.996051203371639,0.8023664354900774,0.37326917205338095,0.8082704119906713,-0.5670128605070655,1.2604557560821879,0.9295006804240427,-0.07436204245143835,-0.4698506128050334,0.5747740770991207,-1.015928906236001,-0.5064827491974023,0.42557873681748015,-0.15760594251567855,0.4924666238139324,0.8094009000999365,-0.1978814224350476,-0.9850274970501465,-0.5429440339023727,-0.8677581004904326,-1.62694506157608,-0.8824812217412265,2.9646802953652753,-0.696782614544617],\"xaxis\":\"x5\",\"y\":[-0.41915746807640575,0.21930284828863833,-0.7610786434798053,-0.6918857200279099,-0.23559520316772184,-1.2675224451030764,-0.22288244488492134,0.17429733433401837,0.0762757519961098,-0.3669689691943707,1.0792882971785136,0.316899074242141,-0.04825893187424639,-0.5031500680545504,0.5846281200331179,-1.4076111659646628,0.5581580114679637,1.2342661817807972,-0.5801147930644517,0.5143095543016232,-0.27470375167671157,-0.1249604554829138,2.3015801416719883,-0.535673037666255,-0.9488349123871038,0.1184136493800736,-2.244461938831052,0.9570427917571265,-0.18916260601522641,-1.0530967941715776,0.22265169983192862,-0.34870062182493944,0.6016738643875863,0.562336915782038,-1.100990900729741,-1.5283468920818604,-1.7668647881221484,2.8053527903280013,-0.1168796213679174,-0.7618809661819511,-0.9924293911398685,-1.7543917460481346,-1.048507764949999,-0.6041298392882526,0.3801558907719418,0.4987419230265229,0.49810135830298774,0.8992442763001017,-0.7948584682214112,-0.9693612383002331,-0.7683440322511006,-1.1567649588940925,-0.13581935921923502,-0.4927083253539496,2.149222707304997,0.6275181422432665,-1.6651445093832844,-1.3104279518077564,1.520364724213475,-0.12263253089711454,0.6572572845188864,0.299844523824874,-0.07969916291529638,-2.948310749926441,1.0787648942634418,1.7309641277355667,-1.5483492384865831,-0.499821151016283,-1.6012102957857004,2.5136712612056855,0.6952546373626506,0.08481218221600291,0.46490293792485105,0.3675165437441855,-0.28065282385165585,0.4154825216383825,-1.5945417410773326,0.5759472764756738,1.2635498556299758,1.0352587860163123,0.962991845155968,-1.707832481488226,0.17583501851322028,1.1730434958755838,-0.0678384623372376,-0.5034339124885754,-0.8815189873404996,0.8761013064586037,-1.084830865142056,-1.497082382471439,-0.3569731365498273,1.1628995081849474,-0.9601044911548299,0.012437650238996368,-0.4577740907173309,-1.662251490679833,-1.4490992602462307,-0.006264011864668245,0.5454332382613313,-0.17002321014787986],\"yaxis\":\"y5\",\"type\":\"scatter\"},{\"histfunc\":\"count\",\"histnorm\":\"\",\"marker\":{\"color\":\"rgba(55, 128, 191, 1.0)\",\"line\":{\"color\":\"#4D5663\",\"width\":1.3}},\"name\":\"B\",\"nbinsx\":10,\"opacity\":0.8,\"orientation\":\"v\",\"x\":[-0.41915746807640575,0.21930284828863833,-0.7610786434798053,-0.6918857200279099,-0.23559520316772184,-1.2675224451030764,-0.22288244488492134,0.17429733433401837,0.0762757519961098,-0.3669689691943707,1.0792882971785136,0.316899074242141,-0.04825893187424639,-0.5031500680545504,0.5846281200331179,-1.4076111659646628,0.5581580114679637,1.2342661817807972,-0.5801147930644517,0.5143095543016232,-0.27470375167671157,-0.1249604554829138,2.3015801416719883,-0.535673037666255,-0.9488349123871038,0.1184136493800736,-2.244461938831052,0.9570427917571265,-0.18916260601522641,-1.0530967941715776,0.22265169983192862,-0.34870062182493944,0.6016738643875863,0.562336915782038,-1.100990900729741,-1.5283468920818604,-1.7668647881221484,2.8053527903280013,-0.1168796213679174,-0.7618809661819511,-0.9924293911398685,-1.7543917460481346,-1.048507764949999,-0.6041298392882526,0.3801558907719418,0.4987419230265229,0.49810135830298774,0.8992442763001017,-0.7948584682214112,-0.9693612383002331,-0.7683440322511006,-1.1567649588940925,-0.13581935921923502,-0.4927083253539496,2.149222707304997,0.6275181422432665,-1.6651445093832844,-1.3104279518077564,1.520364724213475,-0.12263253089711454,0.6572572845188864,0.299844523824874,-0.07969916291529638,-2.948310749926441,1.0787648942634418,1.7309641277355667,-1.5483492384865831,-0.499821151016283,-1.6012102957857004,2.5136712612056855,0.6952546373626506,0.08481218221600291,0.46490293792485105,0.3675165437441855,-0.28065282385165585,0.4154825216383825,-1.5945417410773326,0.5759472764756738,1.2635498556299758,1.0352587860163123,0.962991845155968,-1.707832481488226,0.17583501851322028,1.1730434958755838,-0.0678384623372376,-0.5034339124885754,-0.8815189873404996,0.8761013064586037,-1.084830865142056,-1.497082382471439,-0.3569731365498273,1.1628995081849474,-0.9601044911548299,0.012437650238996368,-0.4577740907173309,-1.662251490679833,-1.4490992602462307,-0.006264011864668245,0.5454332382613313,-0.17002321014787986],\"xaxis\":\"x6\",\"yaxis\":\"y6\",\"type\":\"histogram\"},{\"line\":{\"color\":\"rgba(128, 128, 128, 1.0)\",\"dash\":\"solid\",\"shape\":\"linear\",\"width\":1.3},\"marker\":{\"size\":2,\"symbol\":\"circle\"},\"mode\":\"markers\",\"name\":\"B\",\"text\":\"\",\"x\":[-0.48016284539502374,1.1941605361276901,-1.3380686110014535,0.8496861440859929,0.10334025222810121,0.7790112926214989,-0.25519496667126196,0.7448633294729624,-0.9389275694022537,0.2764703818344103,1.5713410191540675,0.3587339287842905,1.8116652673425804,1.4610153237282706,-0.9234220929229902,-0.2795245320327592,0.7362839857792025,1.0845506658755941,-0.7906309801555522,0.4468688107353693,-0.8400481673749199,0.04730791167675447,1.0396829715764322,-0.38223015348999884,1.9329538808246907,0.027406820560686565,-0.9542493897915989,0.717558215382116,1.9341434756361537,0.43887850959477054,0.07574701766796874,0.9679467756373532,0.9689157316846471,0.09040407397946856,0.4045345471689706,0.044547063139071336,-0.33444597184645375,-0.4419718157832957,0.3312939420688317,-0.1524025207787877,-0.19648525315850116,-0.5071523525857391,0.8618592610172023,0.21474845376831098,2.935932373444087,1.1211018040818186,0.6675576999264661,0.830331411868125,0.240287564604421,0.5782227959390825,0.16610348327036337,-0.26067373918919545,0.6165706632965757,0.0493626176748902,-1.2454061538687209,-0.1806332881845276,-1.6521010995404608,-0.2896078963510364,-1.9432936991169414,-0.6329370516468182,1.0105085267150509,-0.881714693906353,-0.9127704462300918,0.9856352429468458,-1.3029147076374328,1.3936741696904487,0.3126403417594799,-0.7623593645280816,0.25128509196769805,1.9888169863810583,0.31160465621257316,0.8479283170183334,1.2577969625203822,-1.0065286821284707,-0.4114585098505856,2.038553967065002,-0.936034670530762,-0.9908496290461823,0.297913075307045,-0.37315866074811077,-0.01557169709267786,0.27526345665672447,0.6967772652465146,1.2695054487265522,-0.007433950506855492,0.5722235809228652,0.22726668691856367,-0.779330186388833,-0.8819788804909642,-0.5674558131847244,-0.24063577925786742,1.5682549612766834,-0.4805470717554532,-1.1617799681168157,1.0015601020611766,0.111234494442405,0.9165336920023927,0.2495057250384035,-0.7404737672600636,-0.5081339496921857],\"xaxis\":\"x7\",\"y\":[-0.41915746807640575,0.21930284828863833,-0.7610786434798053,-0.6918857200279099,-0.23559520316772184,-1.2675224451030764,-0.22288244488492134,0.17429733433401837,0.0762757519961098,-0.3669689691943707,1.0792882971785136,0.316899074242141,-0.04825893187424639,-0.5031500680545504,0.5846281200331179,-1.4076111659646628,0.5581580114679637,1.2342661817807972,-0.5801147930644517,0.5143095543016232,-0.27470375167671157,-0.1249604554829138,2.3015801416719883,-0.535673037666255,-0.9488349123871038,0.1184136493800736,-2.244461938831052,0.9570427917571265,-0.18916260601522641,-1.0530967941715776,0.22265169983192862,-0.34870062182493944,0.6016738643875863,0.562336915782038,-1.100990900729741,-1.5283468920818604,-1.7668647881221484,2.8053527903280013,-0.1168796213679174,-0.7618809661819511,-0.9924293911398685,-1.7543917460481346,-1.048507764949999,-0.6041298392882526,0.3801558907719418,0.4987419230265229,0.49810135830298774,0.8992442763001017,-0.7948584682214112,-0.9693612383002331,-0.7683440322511006,-1.1567649588940925,-0.13581935921923502,-0.4927083253539496,2.149222707304997,0.6275181422432665,-1.6651445093832844,-1.3104279518077564,1.520364724213475,-0.12263253089711454,0.6572572845188864,0.299844523824874,-0.07969916291529638,-2.948310749926441,1.0787648942634418,1.7309641277355667,-1.5483492384865831,-0.499821151016283,-1.6012102957857004,2.5136712612056855,0.6952546373626506,0.08481218221600291,0.46490293792485105,0.3675165437441855,-0.28065282385165585,0.4154825216383825,-1.5945417410773326,0.5759472764756738,1.2635498556299758,1.0352587860163123,0.962991845155968,-1.707832481488226,0.17583501851322028,1.1730434958755838,-0.0678384623372376,-0.5034339124885754,-0.8815189873404996,0.8761013064586037,-1.084830865142056,-1.497082382471439,-0.3569731365498273,1.1628995081849474,-0.9601044911548299,0.012437650238996368,-0.4577740907173309,-1.662251490679833,-1.4490992602462307,-0.006264011864668245,0.5454332382613313,-0.17002321014787986],\"yaxis\":\"y7\",\"type\":\"scatter\"},{\"line\":{\"color\":\"rgba(128, 128, 128, 1.0)\",\"dash\":\"solid\",\"shape\":\"linear\",\"width\":1.3},\"marker\":{\"size\":2,\"symbol\":\"circle\"},\"mode\":\"markers\",\"name\":\"B\",\"text\":\"\",\"x\":[-1.1337989406811757,-1.9037877897374023,0.30232715095296525,-0.40746226064004226,-1.5843154622723592,0.0800001859112766,-1.0829534344624214,0.008929249820520537,0.17634301380882428,0.445923832278604,-0.5823559308867564,1.6787505305326424,1.5340576963578176,-0.4491259385069614,1.307584154739609,0.2802398428430633,0.8474559671923972,0.7243209501100196,0.852764174731704,0.7226099468487862,0.5073516462575364,0.31106025362326667,-0.7129766442167984,-1.8069662076212525,0.3899853755554775,1.1660113027000951,0.45780343027982806,-0.3850328593614212,-0.0584470187637657,-0.13063147921756002,0.2664076117902947,0.20129707681783135,0.26737710495402645,-0.00959464933565873,0.12086419327473921,0.36881552072922735,0.10435898893488083,1.399413241303069,-0.22554807536656415,-0.8068825210323299,-0.9216778635808496,0.010503303933990954,0.6520392127941269,1.2512419640101824,-0.5478703373479984,-0.3698831497368436,-0.794536878636538,1.569258025214523,0.07069802261660471,-0.984745870976086,0.04351361870881149,-0.9704163251529452,-0.9526280363084101,-0.7655813354099952,-0.7997514856589535,1.3939297951590652,1.5047267482345097,-0.05164022122595844,0.06079243380350069,-0.47960299877331186,0.4697426372510259,0.9664432216423561,-0.046938559627280725,1.5112235714071913,0.122122238044967,0.20198921099504166,-0.934288188251349,1.3808375368889114,-1.1660744319754683,0.5115255528576121,-0.7520042291245231,0.9328845756711185,-0.8861392243088931,-0.9014566300826681,0.7114607304778792,-0.31588421404758654,0.25778259899410694,-0.5176775437125997,2.5696830566488185,-0.6449836664633718,1.125122036774418,0.7893768671719273,0.7981961199353671,-0.6820999132258828,-1.740245288265015,0.07782938388943877,0.5936274472034748,-0.38884924439066243,-1.6531802539316356,-2.2206605114972278,-0.7734133828296601,0.2314445578782591,-1.6288222633053324,-0.3711326459237821,0.20195348087364953,-0.5302803833887427,1.803247830270659,-0.3235850641740168,0.5483828304193087,-0.14187033097751506],\"xaxis\":\"x8\",\"y\":[-0.41915746807640575,0.21930284828863833,-0.7610786434798053,-0.6918857200279099,-0.23559520316772184,-1.2675224451030764,-0.22288244488492134,0.17429733433401837,0.0762757519961098,-0.3669689691943707,1.0792882971785136,0.316899074242141,-0.04825893187424639,-0.5031500680545504,0.5846281200331179,-1.4076111659646628,0.5581580114679637,1.2342661817807972,-0.5801147930644517,0.5143095543016232,-0.27470375167671157,-0.1249604554829138,2.3015801416719883,-0.535673037666255,-0.9488349123871038,0.1184136493800736,-2.244461938831052,0.9570427917571265,-0.18916260601522641,-1.0530967941715776,0.22265169983192862,-0.34870062182493944,0.6016738643875863,0.562336915782038,-1.100990900729741,-1.5283468920818604,-1.7668647881221484,2.8053527903280013,-0.1168796213679174,-0.7618809661819511,-0.9924293911398685,-1.7543917460481346,-1.048507764949999,-0.6041298392882526,0.3801558907719418,0.4987419230265229,0.49810135830298774,0.8992442763001017,-0.7948584682214112,-0.9693612383002331,-0.7683440322511006,-1.1567649588940925,-0.13581935921923502,-0.4927083253539496,2.149222707304997,0.6275181422432665,-1.6651445093832844,-1.3104279518077564,1.520364724213475,-0.12263253089711454,0.6572572845188864,0.299844523824874,-0.07969916291529638,-2.948310749926441,1.0787648942634418,1.7309641277355667,-1.5483492384865831,-0.499821151016283,-1.6012102957857004,2.5136712612056855,0.6952546373626506,0.08481218221600291,0.46490293792485105,0.3675165437441855,-0.28065282385165585,0.4154825216383825,-1.5945417410773326,0.5759472764756738,1.2635498556299758,1.0352587860163123,0.962991845155968,-1.707832481488226,0.17583501851322028,1.1730434958755838,-0.0678384623372376,-0.5034339124885754,-0.8815189873404996,0.8761013064586037,-1.084830865142056,-1.497082382471439,-0.3569731365498273,1.1628995081849474,-0.9601044911548299,0.012437650238996368,-0.4577740907173309,-1.662251490679833,-1.4490992602462307,-0.006264011864668245,0.5454332382613313,-0.17002321014787986],\"yaxis\":\"y8\",\"type\":\"scatter\"},{\"line\":{\"color\":\"rgba(128, 128, 128, 1.0)\",\"dash\":\"solid\",\"shape\":\"linear\",\"width\":1.3},\"marker\":{\"size\":2,\"symbol\":\"circle\"},\"mode\":\"markers\",\"name\":\"C\",\"text\":\"\",\"x\":[-0.574793679676617,0.2235288385812236,-0.1416022574544621,1.1830002741236476,-0.8040111862595727,0.5603981980480017,1.0802000604334197,0.03958333136709857,-0.3365396825358062,0.2832793352592316,0.05165284183696506,-1.5912603445652507,-0.4027067517849839,-0.8441710552955158,-1.5018814837552625,1.0623705523783178,-0.6269685582361755,-1.0877374783470943,-0.04920277457916217,-0.49476631278334876,-1.102273038947587,-0.3613339588765766,0.3029725474183342,-0.09750304564376079,0.5675651772580712,-0.20703757151798488,-0.38179254271357244,-0.011627047618306317,-0.033123321889765134,-0.2184206692864132,1.1088956825411647,0.7847064418904279,1.154230440045405,-0.18556857223927084,-0.12891590454086874,0.18790915439432815,0.36290388657239836,-1.1000323979187554,-1.0644192730628328,-0.6689050042491553,-1.0017148503324511,-0.7147505434964523,0.5793842268683049,-1.4795338070213433,-0.03839282830179687,0.6997666972174688,-1.2835392333483941,0.16475761642484815,1.6889573202477632,-1.592941071461217,-0.7387106985235867,0.39701245028797894,1.1840215900235371,0.20939687790234918,-2.310159082515787,1.2943143805175952,-0.2945990330477354,2.015857216673764,-0.36968920526721943,-0.06482501623263177,0.4902842916770235,0.08187970865813975,0.3201306863347647,-1.6580600975761564,-1.2041955464842804,0.38152574274387535,-0.9331789825369936,0.2483112308845951,-0.3513764390898863,-0.8734172442961183,-0.3895631575428738,-0.2931594876428916,0.25127681287774367,1.987790683269706,0.18787640248927523,0.7319941857482984,0.996051203371639,0.8023664354900774,0.37326917205338095,0.8082704119906713,-0.5670128605070655,1.2604557560821879,0.9295006804240427,-0.07436204245143835,-0.4698506128050334,0.5747740770991207,-1.015928906236001,-0.5064827491974023,0.42557873681748015,-0.15760594251567855,0.4924666238139324,0.8094009000999365,-0.1978814224350476,-0.9850274970501465,-0.5429440339023727,-0.8677581004904326,-1.62694506157608,-0.8824812217412265,2.9646802953652753,-0.696782614544617],\"xaxis\":\"x9\",\"y\":[-0.48016284539502374,1.1941605361276901,-1.3380686110014535,0.8496861440859929,0.10334025222810121,0.7790112926214989,-0.25519496667126196,0.7448633294729624,-0.9389275694022537,0.2764703818344103,1.5713410191540675,0.3587339287842905,1.8116652673425804,1.4610153237282706,-0.9234220929229902,-0.2795245320327592,0.7362839857792025,1.0845506658755941,-0.7906309801555522,0.4468688107353693,-0.8400481673749199,0.04730791167675447,1.0396829715764322,-0.38223015348999884,1.9329538808246907,0.027406820560686565,-0.9542493897915989,0.717558215382116,1.9341434756361537,0.43887850959477054,0.07574701766796874,0.9679467756373532,0.9689157316846471,0.09040407397946856,0.4045345471689706,0.044547063139071336,-0.33444597184645375,-0.4419718157832957,0.3312939420688317,-0.1524025207787877,-0.19648525315850116,-0.5071523525857391,0.8618592610172023,0.21474845376831098,2.935932373444087,1.1211018040818186,0.6675576999264661,0.830331411868125,0.240287564604421,0.5782227959390825,0.16610348327036337,-0.26067373918919545,0.6165706632965757,0.0493626176748902,-1.2454061538687209,-0.1806332881845276,-1.6521010995404608,-0.2896078963510364,-1.9432936991169414,-0.6329370516468182,1.0105085267150509,-0.881714693906353,-0.9127704462300918,0.9856352429468458,-1.3029147076374328,1.3936741696904487,0.3126403417594799,-0.7623593645280816,0.25128509196769805,1.9888169863810583,0.31160465621257316,0.8479283170183334,1.2577969625203822,-1.0065286821284707,-0.4114585098505856,2.038553967065002,-0.936034670530762,-0.9908496290461823,0.297913075307045,-0.37315866074811077,-0.01557169709267786,0.27526345665672447,0.6967772652465146,1.2695054487265522,-0.007433950506855492,0.5722235809228652,0.22726668691856367,-0.779330186388833,-0.8819788804909642,-0.5674558131847244,-0.24063577925786742,1.5682549612766834,-0.4805470717554532,-1.1617799681168157,1.0015601020611766,0.111234494442405,0.9165336920023927,0.2495057250384035,-0.7404737672600636,-0.5081339496921857],\"yaxis\":\"y9\",\"type\":\"scatter\"},{\"line\":{\"color\":\"rgba(128, 128, 128, 1.0)\",\"dash\":\"solid\",\"shape\":\"linear\",\"width\":1.3},\"marker\":{\"size\":2,\"symbol\":\"circle\"},\"mode\":\"markers\",\"name\":\"C\",\"text\":\"\",\"x\":[-0.41915746807640575,0.21930284828863833,-0.7610786434798053,-0.6918857200279099,-0.23559520316772184,-1.2675224451030764,-0.22288244488492134,0.17429733433401837,0.0762757519961098,-0.3669689691943707,1.0792882971785136,0.316899074242141,-0.04825893187424639,-0.5031500680545504,0.5846281200331179,-1.4076111659646628,0.5581580114679637,1.2342661817807972,-0.5801147930644517,0.5143095543016232,-0.27470375167671157,-0.1249604554829138,2.3015801416719883,-0.535673037666255,-0.9488349123871038,0.1184136493800736,-2.244461938831052,0.9570427917571265,-0.18916260601522641,-1.0530967941715776,0.22265169983192862,-0.34870062182493944,0.6016738643875863,0.562336915782038,-1.100990900729741,-1.5283468920818604,-1.7668647881221484,2.8053527903280013,-0.1168796213679174,-0.7618809661819511,-0.9924293911398685,-1.7543917460481346,-1.048507764949999,-0.6041298392882526,0.3801558907719418,0.4987419230265229,0.49810135830298774,0.8992442763001017,-0.7948584682214112,-0.9693612383002331,-0.7683440322511006,-1.1567649588940925,-0.13581935921923502,-0.4927083253539496,2.149222707304997,0.6275181422432665,-1.6651445093832844,-1.3104279518077564,1.520364724213475,-0.12263253089711454,0.6572572845188864,0.299844523824874,-0.07969916291529638,-2.948310749926441,1.0787648942634418,1.7309641277355667,-1.5483492384865831,-0.499821151016283,-1.6012102957857004,2.5136712612056855,0.6952546373626506,0.08481218221600291,0.46490293792485105,0.3675165437441855,-0.28065282385165585,0.4154825216383825,-1.5945417410773326,0.5759472764756738,1.2635498556299758,1.0352587860163123,0.962991845155968,-1.707832481488226,0.17583501851322028,1.1730434958755838,-0.0678384623372376,-0.5034339124885754,-0.8815189873404996,0.8761013064586037,-1.084830865142056,-1.497082382471439,-0.3569731365498273,1.1628995081849474,-0.9601044911548299,0.012437650238996368,-0.4577740907173309,-1.662251490679833,-1.4490992602462307,-0.006264011864668245,0.5454332382613313,-0.17002321014787986],\"xaxis\":\"x10\",\"y\":[-0.48016284539502374,1.1941605361276901,-1.3380686110014535,0.8496861440859929,0.10334025222810121,0.7790112926214989,-0.25519496667126196,0.7448633294729624,-0.9389275694022537,0.2764703818344103,1.5713410191540675,0.3587339287842905,1.8116652673425804,1.4610153237282706,-0.9234220929229902,-0.2795245320327592,0.7362839857792025,1.0845506658755941,-0.7906309801555522,0.4468688107353693,-0.8400481673749199,0.04730791167675447,1.0396829715764322,-0.38223015348999884,1.9329538808246907,0.027406820560686565,-0.9542493897915989,0.717558215382116,1.9341434756361537,0.43887850959477054,0.07574701766796874,0.9679467756373532,0.9689157316846471,0.09040407397946856,0.4045345471689706,0.044547063139071336,-0.33444597184645375,-0.4419718157832957,0.3312939420688317,-0.1524025207787877,-0.19648525315850116,-0.5071523525857391,0.8618592610172023,0.21474845376831098,2.935932373444087,1.1211018040818186,0.6675576999264661,0.830331411868125,0.240287564604421,0.5782227959390825,0.16610348327036337,-0.26067373918919545,0.6165706632965757,0.0493626176748902,-1.2454061538687209,-0.1806332881845276,-1.6521010995404608,-0.2896078963510364,-1.9432936991169414,-0.6329370516468182,1.0105085267150509,-0.881714693906353,-0.9127704462300918,0.9856352429468458,-1.3029147076374328,1.3936741696904487,0.3126403417594799,-0.7623593645280816,0.25128509196769805,1.9888169863810583,0.31160465621257316,0.8479283170183334,1.2577969625203822,-1.0065286821284707,-0.4114585098505856,2.038553967065002,-0.936034670530762,-0.9908496290461823,0.297913075307045,-0.37315866074811077,-0.01557169709267786,0.27526345665672447,0.6967772652465146,1.2695054487265522,-0.007433950506855492,0.5722235809228652,0.22726668691856367,-0.779330186388833,-0.8819788804909642,-0.5674558131847244,-0.24063577925786742,1.5682549612766834,-0.4805470717554532,-1.1617799681168157,1.0015601020611766,0.111234494442405,0.9165336920023927,0.2495057250384035,-0.7404737672600636,-0.5081339496921857],\"yaxis\":\"y10\",\"type\":\"scatter\"},{\"histfunc\":\"count\",\"histnorm\":\"\",\"marker\":{\"color\":\"rgba(50, 171, 96, 1.0)\",\"line\":{\"color\":\"#4D5663\",\"width\":1.3}},\"name\":\"C\",\"nbinsx\":10,\"opacity\":0.8,\"orientation\":\"v\",\"x\":[-0.48016284539502374,1.1941605361276901,-1.3380686110014535,0.8496861440859929,0.10334025222810121,0.7790112926214989,-0.25519496667126196,0.7448633294729624,-0.9389275694022537,0.2764703818344103,1.5713410191540675,0.3587339287842905,1.8116652673425804,1.4610153237282706,-0.9234220929229902,-0.2795245320327592,0.7362839857792025,1.0845506658755941,-0.7906309801555522,0.4468688107353693,-0.8400481673749199,0.04730791167675447,1.0396829715764322,-0.38223015348999884,1.9329538808246907,0.027406820560686565,-0.9542493897915989,0.717558215382116,1.9341434756361537,0.43887850959477054,0.07574701766796874,0.9679467756373532,0.9689157316846471,0.09040407397946856,0.4045345471689706,0.044547063139071336,-0.33444597184645375,-0.4419718157832957,0.3312939420688317,-0.1524025207787877,-0.19648525315850116,-0.5071523525857391,0.8618592610172023,0.21474845376831098,2.935932373444087,1.1211018040818186,0.6675576999264661,0.830331411868125,0.240287564604421,0.5782227959390825,0.16610348327036337,-0.26067373918919545,0.6165706632965757,0.0493626176748902,-1.2454061538687209,-0.1806332881845276,-1.6521010995404608,-0.2896078963510364,-1.9432936991169414,-0.6329370516468182,1.0105085267150509,-0.881714693906353,-0.9127704462300918,0.9856352429468458,-1.3029147076374328,1.3936741696904487,0.3126403417594799,-0.7623593645280816,0.25128509196769805,1.9888169863810583,0.31160465621257316,0.8479283170183334,1.2577969625203822,-1.0065286821284707,-0.4114585098505856,2.038553967065002,-0.936034670530762,-0.9908496290461823,0.297913075307045,-0.37315866074811077,-0.01557169709267786,0.27526345665672447,0.6967772652465146,1.2695054487265522,-0.007433950506855492,0.5722235809228652,0.22726668691856367,-0.779330186388833,-0.8819788804909642,-0.5674558131847244,-0.24063577925786742,1.5682549612766834,-0.4805470717554532,-1.1617799681168157,1.0015601020611766,0.111234494442405,0.9165336920023927,0.2495057250384035,-0.7404737672600636,-0.5081339496921857],\"xaxis\":\"x11\",\"yaxis\":\"y11\",\"type\":\"histogram\"},{\"line\":{\"color\":\"rgba(128, 128, 128, 1.0)\",\"dash\":\"solid\",\"shape\":\"linear\",\"width\":1.3},\"marker\":{\"size\":2,\"symbol\":\"circle\"},\"mode\":\"markers\",\"name\":\"C\",\"text\":\"\",\"x\":[-1.1337989406811757,-1.9037877897374023,0.30232715095296525,-0.40746226064004226,-1.5843154622723592,0.0800001859112766,-1.0829534344624214,0.008929249820520537,0.17634301380882428,0.445923832278604,-0.5823559308867564,1.6787505305326424,1.5340576963578176,-0.4491259385069614,1.307584154739609,0.2802398428430633,0.8474559671923972,0.7243209501100196,0.852764174731704,0.7226099468487862,0.5073516462575364,0.31106025362326667,-0.7129766442167984,-1.8069662076212525,0.3899853755554775,1.1660113027000951,0.45780343027982806,-0.3850328593614212,-0.0584470187637657,-0.13063147921756002,0.2664076117902947,0.20129707681783135,0.26737710495402645,-0.00959464933565873,0.12086419327473921,0.36881552072922735,0.10435898893488083,1.399413241303069,-0.22554807536656415,-0.8068825210323299,-0.9216778635808496,0.010503303933990954,0.6520392127941269,1.2512419640101824,-0.5478703373479984,-0.3698831497368436,-0.794536878636538,1.569258025214523,0.07069802261660471,-0.984745870976086,0.04351361870881149,-0.9704163251529452,-0.9526280363084101,-0.7655813354099952,-0.7997514856589535,1.3939297951590652,1.5047267482345097,-0.05164022122595844,0.06079243380350069,-0.47960299877331186,0.4697426372510259,0.9664432216423561,-0.046938559627280725,1.5112235714071913,0.122122238044967,0.20198921099504166,-0.934288188251349,1.3808375368889114,-1.1660744319754683,0.5115255528576121,-0.7520042291245231,0.9328845756711185,-0.8861392243088931,-0.9014566300826681,0.7114607304778792,-0.31588421404758654,0.25778259899410694,-0.5176775437125997,2.5696830566488185,-0.6449836664633718,1.125122036774418,0.7893768671719273,0.7981961199353671,-0.6820999132258828,-1.740245288265015,0.07782938388943877,0.5936274472034748,-0.38884924439066243,-1.6531802539316356,-2.2206605114972278,-0.7734133828296601,0.2314445578782591,-1.6288222633053324,-0.3711326459237821,0.20195348087364953,-0.5302803833887427,1.803247830270659,-0.3235850641740168,0.5483828304193087,-0.14187033097751506],\"xaxis\":\"x12\",\"y\":[-0.48016284539502374,1.1941605361276901,-1.3380686110014535,0.8496861440859929,0.10334025222810121,0.7790112926214989,-0.25519496667126196,0.7448633294729624,-0.9389275694022537,0.2764703818344103,1.5713410191540675,0.3587339287842905,1.8116652673425804,1.4610153237282706,-0.9234220929229902,-0.2795245320327592,0.7362839857792025,1.0845506658755941,-0.7906309801555522,0.4468688107353693,-0.8400481673749199,0.04730791167675447,1.0396829715764322,-0.38223015348999884,1.9329538808246907,0.027406820560686565,-0.9542493897915989,0.717558215382116,1.9341434756361537,0.43887850959477054,0.07574701766796874,0.9679467756373532,0.9689157316846471,0.09040407397946856,0.4045345471689706,0.044547063139071336,-0.33444597184645375,-0.4419718157832957,0.3312939420688317,-0.1524025207787877,-0.19648525315850116,-0.5071523525857391,0.8618592610172023,0.21474845376831098,2.935932373444087,1.1211018040818186,0.6675576999264661,0.830331411868125,0.240287564604421,0.5782227959390825,0.16610348327036337,-0.26067373918919545,0.6165706632965757,0.0493626176748902,-1.2454061538687209,-0.1806332881845276,-1.6521010995404608,-0.2896078963510364,-1.9432936991169414,-0.6329370516468182,1.0105085267150509,-0.881714693906353,-0.9127704462300918,0.9856352429468458,-1.3029147076374328,1.3936741696904487,0.3126403417594799,-0.7623593645280816,0.25128509196769805,1.9888169863810583,0.31160465621257316,0.8479283170183334,1.2577969625203822,-1.0065286821284707,-0.4114585098505856,2.038553967065002,-0.936034670530762,-0.9908496290461823,0.297913075307045,-0.37315866074811077,-0.01557169709267786,0.27526345665672447,0.6967772652465146,1.2695054487265522,-0.007433950506855492,0.5722235809228652,0.22726668691856367,-0.779330186388833,-0.8819788804909642,-0.5674558131847244,-0.24063577925786742,1.5682549612766834,-0.4805470717554532,-1.1617799681168157,1.0015601020611766,0.111234494442405,0.9165336920023927,0.2495057250384035,-0.7404737672600636,-0.5081339496921857],\"yaxis\":\"y12\",\"type\":\"scatter\"},{\"line\":{\"color\":\"rgba(128, 128, 128, 1.0)\",\"dash\":\"solid\",\"shape\":\"linear\",\"width\":1.3},\"marker\":{\"size\":2,\"symbol\":\"circle\"},\"mode\":\"markers\",\"name\":\"D\",\"text\":\"\",\"x\":[-0.574793679676617,0.2235288385812236,-0.1416022574544621,1.1830002741236476,-0.8040111862595727,0.5603981980480017,1.0802000604334197,0.03958333136709857,-0.3365396825358062,0.2832793352592316,0.05165284183696506,-1.5912603445652507,-0.4027067517849839,-0.8441710552955158,-1.5018814837552625,1.0623705523783178,-0.6269685582361755,-1.0877374783470943,-0.04920277457916217,-0.49476631278334876,-1.102273038947587,-0.3613339588765766,0.3029725474183342,-0.09750304564376079,0.5675651772580712,-0.20703757151798488,-0.38179254271357244,-0.011627047618306317,-0.033123321889765134,-0.2184206692864132,1.1088956825411647,0.7847064418904279,1.154230440045405,-0.18556857223927084,-0.12891590454086874,0.18790915439432815,0.36290388657239836,-1.1000323979187554,-1.0644192730628328,-0.6689050042491553,-1.0017148503324511,-0.7147505434964523,0.5793842268683049,-1.4795338070213433,-0.03839282830179687,0.6997666972174688,-1.2835392333483941,0.16475761642484815,1.6889573202477632,-1.592941071461217,-0.7387106985235867,0.39701245028797894,1.1840215900235371,0.20939687790234918,-2.310159082515787,1.2943143805175952,-0.2945990330477354,2.015857216673764,-0.36968920526721943,-0.06482501623263177,0.4902842916770235,0.08187970865813975,0.3201306863347647,-1.6580600975761564,-1.2041955464842804,0.38152574274387535,-0.9331789825369936,0.2483112308845951,-0.3513764390898863,-0.8734172442961183,-0.3895631575428738,-0.2931594876428916,0.25127681287774367,1.987790683269706,0.18787640248927523,0.7319941857482984,0.996051203371639,0.8023664354900774,0.37326917205338095,0.8082704119906713,-0.5670128605070655,1.2604557560821879,0.9295006804240427,-0.07436204245143835,-0.4698506128050334,0.5747740770991207,-1.015928906236001,-0.5064827491974023,0.42557873681748015,-0.15760594251567855,0.4924666238139324,0.8094009000999365,-0.1978814224350476,-0.9850274970501465,-0.5429440339023727,-0.8677581004904326,-1.62694506157608,-0.8824812217412265,2.9646802953652753,-0.696782614544617],\"xaxis\":\"x13\",\"y\":[-1.1337989406811757,-1.9037877897374023,0.30232715095296525,-0.40746226064004226,-1.5843154622723592,0.0800001859112766,-1.0829534344624214,0.008929249820520537,0.17634301380882428,0.445923832278604,-0.5823559308867564,1.6787505305326424,1.5340576963578176,-0.4491259385069614,1.307584154739609,0.2802398428430633,0.8474559671923972,0.7243209501100196,0.852764174731704,0.7226099468487862,0.5073516462575364,0.31106025362326667,-0.7129766442167984,-1.8069662076212525,0.3899853755554775,1.1660113027000951,0.45780343027982806,-0.3850328593614212,-0.0584470187637657,-0.13063147921756002,0.2664076117902947,0.20129707681783135,0.26737710495402645,-0.00959464933565873,0.12086419327473921,0.36881552072922735,0.10435898893488083,1.399413241303069,-0.22554807536656415,-0.8068825210323299,-0.9216778635808496,0.010503303933990954,0.6520392127941269,1.2512419640101824,-0.5478703373479984,-0.3698831497368436,-0.794536878636538,1.569258025214523,0.07069802261660471,-0.984745870976086,0.04351361870881149,-0.9704163251529452,-0.9526280363084101,-0.7655813354099952,-0.7997514856589535,1.3939297951590652,1.5047267482345097,-0.05164022122595844,0.06079243380350069,-0.47960299877331186,0.4697426372510259,0.9664432216423561,-0.046938559627280725,1.5112235714071913,0.122122238044967,0.20198921099504166,-0.934288188251349,1.3808375368889114,-1.1660744319754683,0.5115255528576121,-0.7520042291245231,0.9328845756711185,-0.8861392243088931,-0.9014566300826681,0.7114607304778792,-0.31588421404758654,0.25778259899410694,-0.5176775437125997,2.5696830566488185,-0.6449836664633718,1.125122036774418,0.7893768671719273,0.7981961199353671,-0.6820999132258828,-1.740245288265015,0.07782938388943877,0.5936274472034748,-0.38884924439066243,-1.6531802539316356,-2.2206605114972278,-0.7734133828296601,0.2314445578782591,-1.6288222633053324,-0.3711326459237821,0.20195348087364953,-0.5302803833887427,1.803247830270659,-0.3235850641740168,0.5483828304193087,-0.14187033097751506],\"yaxis\":\"y13\",\"type\":\"scatter\"},{\"line\":{\"color\":\"rgba(128, 128, 128, 1.0)\",\"dash\":\"solid\",\"shape\":\"linear\",\"width\":1.3},\"marker\":{\"size\":2,\"symbol\":\"circle\"},\"mode\":\"markers\",\"name\":\"D\",\"text\":\"\",\"x\":[-0.41915746807640575,0.21930284828863833,-0.7610786434798053,-0.6918857200279099,-0.23559520316772184,-1.2675224451030764,-0.22288244488492134,0.17429733433401837,0.0762757519961098,-0.3669689691943707,1.0792882971785136,0.316899074242141,-0.04825893187424639,-0.5031500680545504,0.5846281200331179,-1.4076111659646628,0.5581580114679637,1.2342661817807972,-0.5801147930644517,0.5143095543016232,-0.27470375167671157,-0.1249604554829138,2.3015801416719883,-0.535673037666255,-0.9488349123871038,0.1184136493800736,-2.244461938831052,0.9570427917571265,-0.18916260601522641,-1.0530967941715776,0.22265169983192862,-0.34870062182493944,0.6016738643875863,0.562336915782038,-1.100990900729741,-1.5283468920818604,-1.7668647881221484,2.8053527903280013,-0.1168796213679174,-0.7618809661819511,-0.9924293911398685,-1.7543917460481346,-1.048507764949999,-0.6041298392882526,0.3801558907719418,0.4987419230265229,0.49810135830298774,0.8992442763001017,-0.7948584682214112,-0.9693612383002331,-0.7683440322511006,-1.1567649588940925,-0.13581935921923502,-0.4927083253539496,2.149222707304997,0.6275181422432665,-1.6651445093832844,-1.3104279518077564,1.520364724213475,-0.12263253089711454,0.6572572845188864,0.299844523824874,-0.07969916291529638,-2.948310749926441,1.0787648942634418,1.7309641277355667,-1.5483492384865831,-0.499821151016283,-1.6012102957857004,2.5136712612056855,0.6952546373626506,0.08481218221600291,0.46490293792485105,0.3675165437441855,-0.28065282385165585,0.4154825216383825,-1.5945417410773326,0.5759472764756738,1.2635498556299758,1.0352587860163123,0.962991845155968,-1.707832481488226,0.17583501851322028,1.1730434958755838,-0.0678384623372376,-0.5034339124885754,-0.8815189873404996,0.8761013064586037,-1.084830865142056,-1.497082382471439,-0.3569731365498273,1.1628995081849474,-0.9601044911548299,0.012437650238996368,-0.4577740907173309,-1.662251490679833,-1.4490992602462307,-0.006264011864668245,0.5454332382613313,-0.17002321014787986],\"xaxis\":\"x14\",\"y\":[-1.1337989406811757,-1.9037877897374023,0.30232715095296525,-0.40746226064004226,-1.5843154622723592,0.0800001859112766,-1.0829534344624214,0.008929249820520537,0.17634301380882428,0.445923832278604,-0.5823559308867564,1.6787505305326424,1.5340576963578176,-0.4491259385069614,1.307584154739609,0.2802398428430633,0.8474559671923972,0.7243209501100196,0.852764174731704,0.7226099468487862,0.5073516462575364,0.31106025362326667,-0.7129766442167984,-1.8069662076212525,0.3899853755554775,1.1660113027000951,0.45780343027982806,-0.3850328593614212,-0.0584470187637657,-0.13063147921756002,0.2664076117902947,0.20129707681783135,0.26737710495402645,-0.00959464933565873,0.12086419327473921,0.36881552072922735,0.10435898893488083,1.399413241303069,-0.22554807536656415,-0.8068825210323299,-0.9216778635808496,0.010503303933990954,0.6520392127941269,1.2512419640101824,-0.5478703373479984,-0.3698831497368436,-0.794536878636538,1.569258025214523,0.07069802261660471,-0.984745870976086,0.04351361870881149,-0.9704163251529452,-0.9526280363084101,-0.7655813354099952,-0.7997514856589535,1.3939297951590652,1.5047267482345097,-0.05164022122595844,0.06079243380350069,-0.47960299877331186,0.4697426372510259,0.9664432216423561,-0.046938559627280725,1.5112235714071913,0.122122238044967,0.20198921099504166,-0.934288188251349,1.3808375368889114,-1.1660744319754683,0.5115255528576121,-0.7520042291245231,0.9328845756711185,-0.8861392243088931,-0.9014566300826681,0.7114607304778792,-0.31588421404758654,0.25778259899410694,-0.5176775437125997,2.5696830566488185,-0.6449836664633718,1.125122036774418,0.7893768671719273,0.7981961199353671,-0.6820999132258828,-1.740245288265015,0.07782938388943877,0.5936274472034748,-0.38884924439066243,-1.6531802539316356,-2.2206605114972278,-0.7734133828296601,0.2314445578782591,-1.6288222633053324,-0.3711326459237821,0.20195348087364953,-0.5302803833887427,1.803247830270659,-0.3235850641740168,0.5483828304193087,-0.14187033097751506],\"yaxis\":\"y14\",\"type\":\"scatter\"},{\"line\":{\"color\":\"rgba(128, 128, 128, 1.0)\",\"dash\":\"solid\",\"shape\":\"linear\",\"width\":1.3},\"marker\":{\"size\":2,\"symbol\":\"circle\"},\"mode\":\"markers\",\"name\":\"D\",\"text\":\"\",\"x\":[-0.48016284539502374,1.1941605361276901,-1.3380686110014535,0.8496861440859929,0.10334025222810121,0.7790112926214989,-0.25519496667126196,0.7448633294729624,-0.9389275694022537,0.2764703818344103,1.5713410191540675,0.3587339287842905,1.8116652673425804,1.4610153237282706,-0.9234220929229902,-0.2795245320327592,0.7362839857792025,1.0845506658755941,-0.7906309801555522,0.4468688107353693,-0.8400481673749199,0.04730791167675447,1.0396829715764322,-0.38223015348999884,1.9329538808246907,0.027406820560686565,-0.9542493897915989,0.717558215382116,1.9341434756361537,0.43887850959477054,0.07574701766796874,0.9679467756373532,0.9689157316846471,0.09040407397946856,0.4045345471689706,0.044547063139071336,-0.33444597184645375,-0.4419718157832957,0.3312939420688317,-0.1524025207787877,-0.19648525315850116,-0.5071523525857391,0.8618592610172023,0.21474845376831098,2.935932373444087,1.1211018040818186,0.6675576999264661,0.830331411868125,0.240287564604421,0.5782227959390825,0.16610348327036337,-0.26067373918919545,0.6165706632965757,0.0493626176748902,-1.2454061538687209,-0.1806332881845276,-1.6521010995404608,-0.2896078963510364,-1.9432936991169414,-0.6329370516468182,1.0105085267150509,-0.881714693906353,-0.9127704462300918,0.9856352429468458,-1.3029147076374328,1.3936741696904487,0.3126403417594799,-0.7623593645280816,0.25128509196769805,1.9888169863810583,0.31160465621257316,0.8479283170183334,1.2577969625203822,-1.0065286821284707,-0.4114585098505856,2.038553967065002,-0.936034670530762,-0.9908496290461823,0.297913075307045,-0.37315866074811077,-0.01557169709267786,0.27526345665672447,0.6967772652465146,1.2695054487265522,-0.007433950506855492,0.5722235809228652,0.22726668691856367,-0.779330186388833,-0.8819788804909642,-0.5674558131847244,-0.24063577925786742,1.5682549612766834,-0.4805470717554532,-1.1617799681168157,1.0015601020611766,0.111234494442405,0.9165336920023927,0.2495057250384035,-0.7404737672600636,-0.5081339496921857],\"xaxis\":\"x15\",\"y\":[-1.1337989406811757,-1.9037877897374023,0.30232715095296525,-0.40746226064004226,-1.5843154622723592,0.0800001859112766,-1.0829534344624214,0.008929249820520537,0.17634301380882428,0.445923832278604,-0.5823559308867564,1.6787505305326424,1.5340576963578176,-0.4491259385069614,1.307584154739609,0.2802398428430633,0.8474559671923972,0.7243209501100196,0.852764174731704,0.7226099468487862,0.5073516462575364,0.31106025362326667,-0.7129766442167984,-1.8069662076212525,0.3899853755554775,1.1660113027000951,0.45780343027982806,-0.3850328593614212,-0.0584470187637657,-0.13063147921756002,0.2664076117902947,0.20129707681783135,0.26737710495402645,-0.00959464933565873,0.12086419327473921,0.36881552072922735,0.10435898893488083,1.399413241303069,-0.22554807536656415,-0.8068825210323299,-0.9216778635808496,0.010503303933990954,0.6520392127941269,1.2512419640101824,-0.5478703373479984,-0.3698831497368436,-0.794536878636538,1.569258025214523,0.07069802261660471,-0.984745870976086,0.04351361870881149,-0.9704163251529452,-0.9526280363084101,-0.7655813354099952,-0.7997514856589535,1.3939297951590652,1.5047267482345097,-0.05164022122595844,0.06079243380350069,-0.47960299877331186,0.4697426372510259,0.9664432216423561,-0.046938559627280725,1.5112235714071913,0.122122238044967,0.20198921099504166,-0.934288188251349,1.3808375368889114,-1.1660744319754683,0.5115255528576121,-0.7520042291245231,0.9328845756711185,-0.8861392243088931,-0.9014566300826681,0.7114607304778792,-0.31588421404758654,0.25778259899410694,-0.5176775437125997,2.5696830566488185,-0.6449836664633718,1.125122036774418,0.7893768671719273,0.7981961199353671,-0.6820999132258828,-1.740245288265015,0.07782938388943877,0.5936274472034748,-0.38884924439066243,-1.6531802539316356,-2.2206605114972278,-0.7734133828296601,0.2314445578782591,-1.6288222633053324,-0.3711326459237821,0.20195348087364953,-0.5302803833887427,1.803247830270659,-0.3235850641740168,0.5483828304193087,-0.14187033097751506],\"yaxis\":\"y15\",\"type\":\"scatter\"},{\"histfunc\":\"count\",\"histnorm\":\"\",\"marker\":{\"color\":\"rgba(128, 0, 128, 1.0)\",\"line\":{\"color\":\"#4D5663\",\"width\":1.3}},\"name\":\"D\",\"nbinsx\":10,\"opacity\":0.8,\"orientation\":\"v\",\"x\":[-1.1337989406811757,-1.9037877897374023,0.30232715095296525,-0.40746226064004226,-1.5843154622723592,0.0800001859112766,-1.0829534344624214,0.008929249820520537,0.17634301380882428,0.445923832278604,-0.5823559308867564,1.6787505305326424,1.5340576963578176,-0.4491259385069614,1.307584154739609,0.2802398428430633,0.8474559671923972,0.7243209501100196,0.852764174731704,0.7226099468487862,0.5073516462575364,0.31106025362326667,-0.7129766442167984,-1.8069662076212525,0.3899853755554775,1.1660113027000951,0.45780343027982806,-0.3850328593614212,-0.0584470187637657,-0.13063147921756002,0.2664076117902947,0.20129707681783135,0.26737710495402645,-0.00959464933565873,0.12086419327473921,0.36881552072922735,0.10435898893488083,1.399413241303069,-0.22554807536656415,-0.8068825210323299,-0.9216778635808496,0.010503303933990954,0.6520392127941269,1.2512419640101824,-0.5478703373479984,-0.3698831497368436,-0.794536878636538,1.569258025214523,0.07069802261660471,-0.984745870976086,0.04351361870881149,-0.9704163251529452,-0.9526280363084101,-0.7655813354099952,-0.7997514856589535,1.3939297951590652,1.5047267482345097,-0.05164022122595844,0.06079243380350069,-0.47960299877331186,0.4697426372510259,0.9664432216423561,-0.046938559627280725,1.5112235714071913,0.122122238044967,0.20198921099504166,-0.934288188251349,1.3808375368889114,-1.1660744319754683,0.5115255528576121,-0.7520042291245231,0.9328845756711185,-0.8861392243088931,-0.9014566300826681,0.7114607304778792,-0.31588421404758654,0.25778259899410694,-0.5176775437125997,2.5696830566488185,-0.6449836664633718,1.125122036774418,0.7893768671719273,0.7981961199353671,-0.6820999132258828,-1.740245288265015,0.07782938388943877,0.5936274472034748,-0.38884924439066243,-1.6531802539316356,-2.2206605114972278,-0.7734133828296601,0.2314445578782591,-1.6288222633053324,-0.3711326459237821,0.20195348087364953,-0.5302803833887427,1.803247830270659,-0.3235850641740168,0.5483828304193087,-0.14187033097751506],\"xaxis\":\"x16\",\"yaxis\":\"y16\",\"type\":\"histogram\"}],                        {\"bargap\":0.02,\"legend\":{\"bgcolor\":\"#F5F6F9\",\"font\":{\"color\":\"#4D5663\"}},\"paper_bgcolor\":\"#F5F6F9\",\"plot_bgcolor\":\"#F5F6F9\",\"showlegend\":false,\"template\":{\"data\":{\"barpolar\":[{\"marker\":{\"line\":{\"color\":\"#E5ECF6\",\"width\":0.5},\"pattern\":{\"fillmode\":\"overlay\",\"size\":10,\"solidity\":0.2}},\"type\":\"barpolar\"}],\"bar\":[{\"error_x\":{\"color\":\"#2a3f5f\"},\"error_y\":{\"color\":\"#2a3f5f\"},\"marker\":{\"line\":{\"color\":\"#E5ECF6\",\"width\":0.5},\"pattern\":{\"fillmode\":\"overlay\",\"size\":10,\"solidity\":0.2}},\"type\":\"bar\"}],\"carpet\":[{\"aaxis\":{\"endlinecolor\":\"#2a3f5f\",\"gridcolor\":\"white\",\"linecolor\":\"white\",\"minorgridcolor\":\"white\",\"startlinecolor\":\"#2a3f5f\"},\"baxis\":{\"endlinecolor\":\"#2a3f5f\",\"gridcolor\":\"white\",\"linecolor\":\"white\",\"minorgridcolor\":\"white\",\"startlinecolor\":\"#2a3f5f\"},\"type\":\"carpet\"}],\"choropleth\":[{\"colorbar\":{\"outlinewidth\":0,\"ticks\":\"\"},\"type\":\"choropleth\"}],\"contourcarpet\":[{\"colorbar\":{\"outlinewidth\":0,\"ticks\":\"\"},\"type\":\"contourcarpet\"}],\"contour\":[{\"colorbar\":{\"outlinewidth\":0,\"ticks\":\"\"},\"colorscale\":[[0.0,\"#0d0887\"],[0.1111111111111111,\"#46039f\"],[0.2222222222222222,\"#7201a8\"],[0.3333333333333333,\"#9c179e\"],[0.4444444444444444,\"#bd3786\"],[0.5555555555555556,\"#d8576b\"],[0.6666666666666666,\"#ed7953\"],[0.7777777777777778,\"#fb9f3a\"],[0.8888888888888888,\"#fdca26\"],[1.0,\"#f0f921\"]],\"type\":\"contour\"}],\"heatmapgl\":[{\"colorbar\":{\"outlinewidth\":0,\"ticks\":\"\"},\"colorscale\":[[0.0,\"#0d0887\"],[0.1111111111111111,\"#46039f\"],[0.2222222222222222,\"#7201a8\"],[0.3333333333333333,\"#9c179e\"],[0.4444444444444444,\"#bd3786\"],[0.5555555555555556,\"#d8576b\"],[0.6666666666666666,\"#ed7953\"],[0.7777777777777778,\"#fb9f3a\"],[0.8888888888888888,\"#fdca26\"],[1.0,\"#f0f921\"]],\"type\":\"heatmapgl\"}],\"heatmap\":[{\"colorbar\":{\"outlinewidth\":0,\"ticks\":\"\"},\"colorscale\":[[0.0,\"#0d0887\"],[0.1111111111111111,\"#46039f\"],[0.2222222222222222,\"#7201a8\"],[0.3333333333333333,\"#9c179e\"],[0.4444444444444444,\"#bd3786\"],[0.5555555555555556,\"#d8576b\"],[0.6666666666666666,\"#ed7953\"],[0.7777777777777778,\"#fb9f3a\"],[0.8888888888888888,\"#fdca26\"],[1.0,\"#f0f921\"]],\"type\":\"heatmap\"}],\"histogram2dcontour\":[{\"colorbar\":{\"outlinewidth\":0,\"ticks\":\"\"},\"colorscale\":[[0.0,\"#0d0887\"],[0.1111111111111111,\"#46039f\"],[0.2222222222222222,\"#7201a8\"],[0.3333333333333333,\"#9c179e\"],[0.4444444444444444,\"#bd3786\"],[0.5555555555555556,\"#d8576b\"],[0.6666666666666666,\"#ed7953\"],[0.7777777777777778,\"#fb9f3a\"],[0.8888888888888888,\"#fdca26\"],[1.0,\"#f0f921\"]],\"type\":\"histogram2dcontour\"}],\"histogram2d\":[{\"colorbar\":{\"outlinewidth\":0,\"ticks\":\"\"},\"colorscale\":[[0.0,\"#0d0887\"],[0.1111111111111111,\"#46039f\"],[0.2222222222222222,\"#7201a8\"],[0.3333333333333333,\"#9c179e\"],[0.4444444444444444,\"#bd3786\"],[0.5555555555555556,\"#d8576b\"],[0.6666666666666666,\"#ed7953\"],[0.7777777777777778,\"#fb9f3a\"],[0.8888888888888888,\"#fdca26\"],[1.0,\"#f0f921\"]],\"type\":\"histogram2d\"}],\"histogram\":[{\"marker\":{\"pattern\":{\"fillmode\":\"overlay\",\"size\":10,\"solidity\":0.2}},\"type\":\"histogram\"}],\"mesh3d\":[{\"colorbar\":{\"outlinewidth\":0,\"ticks\":\"\"},\"type\":\"mesh3d\"}],\"parcoords\":[{\"line\":{\"colorbar\":{\"outlinewidth\":0,\"ticks\":\"\"}},\"type\":\"parcoords\"}],\"pie\":[{\"automargin\":true,\"type\":\"pie\"}],\"scatter3d\":[{\"line\":{\"colorbar\":{\"outlinewidth\":0,\"ticks\":\"\"}},\"marker\":{\"colorbar\":{\"outlinewidth\":0,\"ticks\":\"\"}},\"type\":\"scatter3d\"}],\"scattercarpet\":[{\"marker\":{\"colorbar\":{\"outlinewidth\":0,\"ticks\":\"\"}},\"type\":\"scattercarpet\"}],\"scattergeo\":[{\"marker\":{\"colorbar\":{\"outlinewidth\":0,\"ticks\":\"\"}},\"type\":\"scattergeo\"}],\"scattergl\":[{\"marker\":{\"colorbar\":{\"outlinewidth\":0,\"ticks\":\"\"}},\"type\":\"scattergl\"}],\"scattermapbox\":[{\"marker\":{\"colorbar\":{\"outlinewidth\":0,\"ticks\":\"\"}},\"type\":\"scattermapbox\"}],\"scatterpolargl\":[{\"marker\":{\"colorbar\":{\"outlinewidth\":0,\"ticks\":\"\"}},\"type\":\"scatterpolargl\"}],\"scatterpolar\":[{\"marker\":{\"colorbar\":{\"outlinewidth\":0,\"ticks\":\"\"}},\"type\":\"scatterpolar\"}],\"scatter\":[{\"fillpattern\":{\"fillmode\":\"overlay\",\"size\":10,\"solidity\":0.2},\"type\":\"scatter\"}],\"scatterternary\":[{\"marker\":{\"colorbar\":{\"outlinewidth\":0,\"ticks\":\"\"}},\"type\":\"scatterternary\"}],\"surface\":[{\"colorbar\":{\"outlinewidth\":0,\"ticks\":\"\"},\"colorscale\":[[0.0,\"#0d0887\"],[0.1111111111111111,\"#46039f\"],[0.2222222222222222,\"#7201a8\"],[0.3333333333333333,\"#9c179e\"],[0.4444444444444444,\"#bd3786\"],[0.5555555555555556,\"#d8576b\"],[0.6666666666666666,\"#ed7953\"],[0.7777777777777778,\"#fb9f3a\"],[0.8888888888888888,\"#fdca26\"],[1.0,\"#f0f921\"]],\"type\":\"surface\"}],\"table\":[{\"cells\":{\"fill\":{\"color\":\"#EBF0F8\"},\"line\":{\"color\":\"white\"}},\"header\":{\"fill\":{\"color\":\"#C8D4E3\"},\"line\":{\"color\":\"white\"}},\"type\":\"table\"}]},\"layout\":{\"annotationdefaults\":{\"arrowcolor\":\"#2a3f5f\",\"arrowhead\":0,\"arrowwidth\":1},\"autotypenumbers\":\"strict\",\"coloraxis\":{\"colorbar\":{\"outlinewidth\":0,\"ticks\":\"\"}},\"colorscale\":{\"diverging\":[[0,\"#8e0152\"],[0.1,\"#c51b7d\"],[0.2,\"#de77ae\"],[0.3,\"#f1b6da\"],[0.4,\"#fde0ef\"],[0.5,\"#f7f7f7\"],[0.6,\"#e6f5d0\"],[0.7,\"#b8e186\"],[0.8,\"#7fbc41\"],[0.9,\"#4d9221\"],[1,\"#276419\"]],\"sequential\":[[0.0,\"#0d0887\"],[0.1111111111111111,\"#46039f\"],[0.2222222222222222,\"#7201a8\"],[0.3333333333333333,\"#9c179e\"],[0.4444444444444444,\"#bd3786\"],[0.5555555555555556,\"#d8576b\"],[0.6666666666666666,\"#ed7953\"],[0.7777777777777778,\"#fb9f3a\"],[0.8888888888888888,\"#fdca26\"],[1.0,\"#f0f921\"]],\"sequentialminus\":[[0.0,\"#0d0887\"],[0.1111111111111111,\"#46039f\"],[0.2222222222222222,\"#7201a8\"],[0.3333333333333333,\"#9c179e\"],[0.4444444444444444,\"#bd3786\"],[0.5555555555555556,\"#d8576b\"],[0.6666666666666666,\"#ed7953\"],[0.7777777777777778,\"#fb9f3a\"],[0.8888888888888888,\"#fdca26\"],[1.0,\"#f0f921\"]]},\"colorway\":[\"#636efa\",\"#EF553B\",\"#00cc96\",\"#ab63fa\",\"#FFA15A\",\"#19d3f3\",\"#FF6692\",\"#B6E880\",\"#FF97FF\",\"#FECB52\"],\"font\":{\"color\":\"#2a3f5f\"},\"geo\":{\"bgcolor\":\"white\",\"lakecolor\":\"white\",\"landcolor\":\"#E5ECF6\",\"showlakes\":true,\"showland\":true,\"subunitcolor\":\"white\"},\"hoverlabel\":{\"align\":\"left\"},\"hovermode\":\"closest\",\"mapbox\":{\"style\":\"light\"},\"paper_bgcolor\":\"white\",\"plot_bgcolor\":\"#E5ECF6\",\"polar\":{\"angularaxis\":{\"gridcolor\":\"white\",\"linecolor\":\"white\",\"ticks\":\"\"},\"bgcolor\":\"#E5ECF6\",\"radialaxis\":{\"gridcolor\":\"white\",\"linecolor\":\"white\",\"ticks\":\"\"}},\"scene\":{\"xaxis\":{\"backgroundcolor\":\"#E5ECF6\",\"gridcolor\":\"white\",\"gridwidth\":2,\"linecolor\":\"white\",\"showbackground\":true,\"ticks\":\"\",\"zerolinecolor\":\"white\"},\"yaxis\":{\"backgroundcolor\":\"#E5ECF6\",\"gridcolor\":\"white\",\"gridwidth\":2,\"linecolor\":\"white\",\"showbackground\":true,\"ticks\":\"\",\"zerolinecolor\":\"white\"},\"zaxis\":{\"backgroundcolor\":\"#E5ECF6\",\"gridcolor\":\"white\",\"gridwidth\":2,\"linecolor\":\"white\",\"showbackground\":true,\"ticks\":\"\",\"zerolinecolor\":\"white\"}},\"shapedefaults\":{\"line\":{\"color\":\"#2a3f5f\"}},\"ternary\":{\"aaxis\":{\"gridcolor\":\"white\",\"linecolor\":\"white\",\"ticks\":\"\"},\"baxis\":{\"gridcolor\":\"white\",\"linecolor\":\"white\",\"ticks\":\"\"},\"bgcolor\":\"#E5ECF6\",\"caxis\":{\"gridcolor\":\"white\",\"linecolor\":\"white\",\"ticks\":\"\"}},\"title\":{\"x\":0.05},\"xaxis\":{\"automargin\":true,\"gridcolor\":\"white\",\"linecolor\":\"white\",\"ticks\":\"\",\"title\":{\"standoff\":15},\"zerolinecolor\":\"white\",\"zerolinewidth\":2},\"yaxis\":{\"automargin\":true,\"gridcolor\":\"white\",\"linecolor\":\"white\",\"ticks\":\"\",\"title\":{\"standoff\":15},\"zerolinecolor\":\"white\",\"zerolinewidth\":2}}},\"title\":{\"font\":{\"color\":\"#4D5663\"}},\"xaxis\":{\"anchor\":\"y\",\"domain\":[0.0,0.2125],\"gridcolor\":\"#E1E5ED\",\"showgrid\":false,\"tickfont\":{\"color\":\"#4D5663\"},\"title\":{\"font\":{\"color\":\"#4D5663\"},\"text\":\"\"},\"zerolinecolor\":\"#E1E5ED\"},\"yaxis\":{\"anchor\":\"x\",\"domain\":[0.8025,1.0],\"gridcolor\":\"#E1E5ED\",\"showgrid\":false,\"tickfont\":{\"color\":\"#4D5663\"},\"title\":{\"font\":{\"color\":\"#4D5663\"},\"text\":\"\"},\"zerolinecolor\":\"#E1E5ED\"},\"xaxis2\":{\"anchor\":\"y2\",\"domain\":[0.2625,0.475],\"gridcolor\":\"#E1E5ED\",\"showgrid\":false,\"tickfont\":{\"color\":\"#4D5663\"},\"title\":{\"font\":{\"color\":\"#4D5663\"},\"text\":\"\"},\"zerolinecolor\":\"#E1E5ED\"},\"yaxis2\":{\"anchor\":\"x2\",\"domain\":[0.8025,1.0],\"gridcolor\":\"#E1E5ED\",\"showgrid\":false,\"tickfont\":{\"color\":\"#4D5663\"},\"title\":{\"font\":{\"color\":\"#4D5663\"},\"text\":\"\"},\"zerolinecolor\":\"#E1E5ED\"},\"xaxis3\":{\"anchor\":\"y3\",\"domain\":[0.525,0.7375],\"gridcolor\":\"#E1E5ED\",\"showgrid\":false,\"tickfont\":{\"color\":\"#4D5663\"},\"title\":{\"font\":{\"color\":\"#4D5663\"},\"text\":\"\"},\"zerolinecolor\":\"#E1E5ED\"},\"yaxis3\":{\"anchor\":\"x3\",\"domain\":[0.8025,1.0],\"gridcolor\":\"#E1E5ED\",\"showgrid\":false,\"tickfont\":{\"color\":\"#4D5663\"},\"title\":{\"font\":{\"color\":\"#4D5663\"},\"text\":\"\"},\"zerolinecolor\":\"#E1E5ED\"},\"xaxis4\":{\"anchor\":\"y4\",\"domain\":[0.7875,1.0],\"gridcolor\":\"#E1E5ED\",\"showgrid\":false,\"tickfont\":{\"color\":\"#4D5663\"},\"title\":{\"font\":{\"color\":\"#4D5663\"},\"text\":\"\"},\"zerolinecolor\":\"#E1E5ED\"},\"yaxis4\":{\"anchor\":\"x4\",\"domain\":[0.8025,1.0],\"gridcolor\":\"#E1E5ED\",\"showgrid\":false,\"tickfont\":{\"color\":\"#4D5663\"},\"title\":{\"font\":{\"color\":\"#4D5663\"},\"text\":\"\"},\"zerolinecolor\":\"#E1E5ED\"},\"xaxis5\":{\"anchor\":\"y5\",\"domain\":[0.0,0.2125],\"gridcolor\":\"#E1E5ED\",\"showgrid\":false,\"tickfont\":{\"color\":\"#4D5663\"},\"title\":{\"font\":{\"color\":\"#4D5663\"},\"text\":\"\"},\"zerolinecolor\":\"#E1E5ED\"},\"yaxis5\":{\"anchor\":\"x5\",\"domain\":[0.535,0.7325],\"gridcolor\":\"#E1E5ED\",\"showgrid\":false,\"tickfont\":{\"color\":\"#4D5663\"},\"title\":{\"font\":{\"color\":\"#4D5663\"},\"text\":\"\"},\"zerolinecolor\":\"#E1E5ED\"},\"xaxis6\":{\"anchor\":\"y6\",\"domain\":[0.2625,0.475],\"gridcolor\":\"#E1E5ED\",\"showgrid\":false,\"tickfont\":{\"color\":\"#4D5663\"},\"title\":{\"font\":{\"color\":\"#4D5663\"},\"text\":\"\"},\"zerolinecolor\":\"#E1E5ED\"},\"yaxis6\":{\"anchor\":\"x6\",\"domain\":[0.535,0.7325],\"gridcolor\":\"#E1E5ED\",\"showgrid\":false,\"tickfont\":{\"color\":\"#4D5663\"},\"title\":{\"font\":{\"color\":\"#4D5663\"},\"text\":\"\"},\"zerolinecolor\":\"#E1E5ED\"},\"xaxis7\":{\"anchor\":\"y7\",\"domain\":[0.525,0.7375],\"gridcolor\":\"#E1E5ED\",\"showgrid\":false,\"tickfont\":{\"color\":\"#4D5663\"},\"title\":{\"font\":{\"color\":\"#4D5663\"},\"text\":\"\"},\"zerolinecolor\":\"#E1E5ED\"},\"yaxis7\":{\"anchor\":\"x7\",\"domain\":[0.535,0.7325],\"gridcolor\":\"#E1E5ED\",\"showgrid\":false,\"tickfont\":{\"color\":\"#4D5663\"},\"title\":{\"font\":{\"color\":\"#4D5663\"},\"text\":\"\"},\"zerolinecolor\":\"#E1E5ED\"},\"xaxis8\":{\"anchor\":\"y8\",\"domain\":[0.7875,1.0],\"gridcolor\":\"#E1E5ED\",\"showgrid\":false,\"tickfont\":{\"color\":\"#4D5663\"},\"title\":{\"font\":{\"color\":\"#4D5663\"},\"text\":\"\"},\"zerolinecolor\":\"#E1E5ED\"},\"yaxis8\":{\"anchor\":\"x8\",\"domain\":[0.535,0.7325],\"gridcolor\":\"#E1E5ED\",\"showgrid\":false,\"tickfont\":{\"color\":\"#4D5663\"},\"title\":{\"font\":{\"color\":\"#4D5663\"},\"text\":\"\"},\"zerolinecolor\":\"#E1E5ED\"},\"xaxis9\":{\"anchor\":\"y9\",\"domain\":[0.0,0.2125],\"gridcolor\":\"#E1E5ED\",\"showgrid\":false,\"tickfont\":{\"color\":\"#4D5663\"},\"title\":{\"font\":{\"color\":\"#4D5663\"},\"text\":\"\"},\"zerolinecolor\":\"#E1E5ED\"},\"yaxis9\":{\"anchor\":\"x9\",\"domain\":[0.2675,0.465],\"gridcolor\":\"#E1E5ED\",\"showgrid\":false,\"tickfont\":{\"color\":\"#4D5663\"},\"title\":{\"font\":{\"color\":\"#4D5663\"},\"text\":\"\"},\"zerolinecolor\":\"#E1E5ED\"},\"xaxis10\":{\"anchor\":\"y10\",\"domain\":[0.2625,0.475],\"gridcolor\":\"#E1E5ED\",\"showgrid\":false,\"tickfont\":{\"color\":\"#4D5663\"},\"title\":{\"font\":{\"color\":\"#4D5663\"},\"text\":\"\"},\"zerolinecolor\":\"#E1E5ED\"},\"yaxis10\":{\"anchor\":\"x10\",\"domain\":[0.2675,0.465],\"gridcolor\":\"#E1E5ED\",\"showgrid\":false,\"tickfont\":{\"color\":\"#4D5663\"},\"title\":{\"font\":{\"color\":\"#4D5663\"},\"text\":\"\"},\"zerolinecolor\":\"#E1E5ED\"},\"xaxis11\":{\"anchor\":\"y11\",\"domain\":[0.525,0.7375],\"gridcolor\":\"#E1E5ED\",\"showgrid\":false,\"tickfont\":{\"color\":\"#4D5663\"},\"title\":{\"font\":{\"color\":\"#4D5663\"},\"text\":\"\"},\"zerolinecolor\":\"#E1E5ED\"},\"yaxis11\":{\"anchor\":\"x11\",\"domain\":[0.2675,0.465],\"gridcolor\":\"#E1E5ED\",\"showgrid\":false,\"tickfont\":{\"color\":\"#4D5663\"},\"title\":{\"font\":{\"color\":\"#4D5663\"},\"text\":\"\"},\"zerolinecolor\":\"#E1E5ED\"},\"xaxis12\":{\"anchor\":\"y12\",\"domain\":[0.7875,1.0],\"gridcolor\":\"#E1E5ED\",\"showgrid\":false,\"tickfont\":{\"color\":\"#4D5663\"},\"title\":{\"font\":{\"color\":\"#4D5663\"},\"text\":\"\"},\"zerolinecolor\":\"#E1E5ED\"},\"yaxis12\":{\"anchor\":\"x12\",\"domain\":[0.2675,0.465],\"gridcolor\":\"#E1E5ED\",\"showgrid\":false,\"tickfont\":{\"color\":\"#4D5663\"},\"title\":{\"font\":{\"color\":\"#4D5663\"},\"text\":\"\"},\"zerolinecolor\":\"#E1E5ED\"},\"xaxis13\":{\"anchor\":\"y13\",\"domain\":[0.0,0.2125],\"gridcolor\":\"#E1E5ED\",\"showgrid\":false,\"tickfont\":{\"color\":\"#4D5663\"},\"title\":{\"font\":{\"color\":\"#4D5663\"},\"text\":\"\"},\"zerolinecolor\":\"#E1E5ED\"},\"yaxis13\":{\"anchor\":\"x13\",\"domain\":[0.0,0.1975],\"gridcolor\":\"#E1E5ED\",\"showgrid\":false,\"tickfont\":{\"color\":\"#4D5663\"},\"title\":{\"font\":{\"color\":\"#4D5663\"},\"text\":\"\"},\"zerolinecolor\":\"#E1E5ED\"},\"xaxis14\":{\"anchor\":\"y14\",\"domain\":[0.2625,0.475],\"gridcolor\":\"#E1E5ED\",\"showgrid\":false,\"tickfont\":{\"color\":\"#4D5663\"},\"title\":{\"font\":{\"color\":\"#4D5663\"},\"text\":\"\"},\"zerolinecolor\":\"#E1E5ED\"},\"yaxis14\":{\"anchor\":\"x14\",\"domain\":[0.0,0.1975],\"gridcolor\":\"#E1E5ED\",\"showgrid\":false,\"tickfont\":{\"color\":\"#4D5663\"},\"title\":{\"font\":{\"color\":\"#4D5663\"},\"text\":\"\"},\"zerolinecolor\":\"#E1E5ED\"},\"xaxis15\":{\"anchor\":\"y15\",\"domain\":[0.525,0.7375],\"gridcolor\":\"#E1E5ED\",\"showgrid\":false,\"tickfont\":{\"color\":\"#4D5663\"},\"title\":{\"font\":{\"color\":\"#4D5663\"},\"text\":\"\"},\"zerolinecolor\":\"#E1E5ED\"},\"yaxis15\":{\"anchor\":\"x15\",\"domain\":[0.0,0.1975],\"gridcolor\":\"#E1E5ED\",\"showgrid\":false,\"tickfont\":{\"color\":\"#4D5663\"},\"title\":{\"font\":{\"color\":\"#4D5663\"},\"text\":\"\"},\"zerolinecolor\":\"#E1E5ED\"},\"xaxis16\":{\"anchor\":\"y16\",\"domain\":[0.7875,1.0],\"gridcolor\":\"#E1E5ED\",\"showgrid\":false,\"tickfont\":{\"color\":\"#4D5663\"},\"title\":{\"font\":{\"color\":\"#4D5663\"},\"text\":\"\"},\"zerolinecolor\":\"#E1E5ED\"},\"yaxis16\":{\"anchor\":\"x16\",\"domain\":[0.0,0.1975],\"gridcolor\":\"#E1E5ED\",\"showgrid\":false,\"tickfont\":{\"color\":\"#4D5663\"},\"title\":{\"font\":{\"color\":\"#4D5663\"},\"text\":\"\"},\"zerolinecolor\":\"#E1E5ED\"}},                        {\"showLink\": true, \"linkText\": \"Export to plot.ly\", \"plotlyServerURL\": \"https://plot.ly\", \"responsive\": true}                    ).then(function(){\n",
       "                            \n",
       "var gd = document.getElementById('19d7d39c-c7be-4073-9229-c674ca69c010');\n",
       "var x = new MutationObserver(function (mutations, observer) {{\n",
       "        var display = window.getComputedStyle(gd).display;\n",
       "        if (!display || display === 'none') {{\n",
       "            console.log([gd, 'removed!']);\n",
       "            Plotly.purge(gd);\n",
       "            observer.disconnect();\n",
       "        }}\n",
       "}});\n",
       "\n",
       "// Listen for the removal of the full notebook cells\n",
       "var notebookContainer = gd.closest('#notebook-container');\n",
       "if (notebookContainer) {{\n",
       "    x.observe(notebookContainer, {childList: true});\n",
       "}}\n",
       "\n",
       "// Listen for the clearing of the current output cell\n",
       "var outputEl = gd.closest('.output');\n",
       "if (outputEl) {{\n",
       "    x.observe(outputEl, {childList: true});\n",
       "}}\n",
       "\n",
       "                        })                };                });            </script>        </div>"
      ]
     },
     "metadata": {},
     "output_type": "display_data"
    }
   ],
   "source": [
    "df.scatter_matrix()"
   ]
  },
  {
   "cell_type": "code",
   "execution_count": null,
   "id": "08a82476",
   "metadata": {},
   "outputs": [],
   "source": []
  }
 ],
 "metadata": {
  "kernelspec": {
   "display_name": "Python 3 (ipykernel)",
   "language": "python",
   "name": "python3"
  },
  "language_info": {
   "codemirror_mode": {
    "name": "ipython",
    "version": 3
   },
   "file_extension": ".py",
   "mimetype": "text/x-python",
   "name": "python",
   "nbconvert_exporter": "python",
   "pygments_lexer": "ipython3",
   "version": "3.11.4"
  }
 },
 "nbformat": 4,
 "nbformat_minor": 5
}
